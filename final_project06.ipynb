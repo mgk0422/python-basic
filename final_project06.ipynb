{
  "nbformat": 4,
  "nbformat_minor": 0,
  "metadata": {
    "colab": {
      "name": "final_project06",
      "private_outputs": true,
      "provenance": [],
      "authorship_tag": "ABX9TyOd9upd8NNscZ1SC+Nlgkyu",
      "include_colab_link": true
    },
    "kernelspec": {
      "name": "python3",
      "display_name": "Python 3"
    }
  },
  "cells": [
    {
      "cell_type": "markdown",
      "metadata": {
        "id": "view-in-github",
        "colab_type": "text"
      },
      "source": [
        "<a href=\"https://colab.research.google.com/github/mgk0422/python-basic/blob/master/final_project06.ipynb\" target=\"_parent\"><img src=\"https://colab.research.google.com/assets/colab-badge.svg\" alt=\"Open In Colab\"/></a>"
      ]
    },
    {
      "cell_type": "code",
      "metadata": {
        "id": "gyi-_mXE1Yeg"
      },
      "source": [
        "import pandas as pd\n",
        "import numpy as np\n",
        "import glob\n",
        "import sys\n",
        "from openpyxl import load_workbook\n",
        "import matplotlib.pyplot as plt\n",
        "import seaborn as sns\n",
        "%matplotlib inline"
      ],
      "execution_count": null,
      "outputs": []
    },
    {
      "cell_type": "code",
      "metadata": {
        "id": "LpBhmSn-1ZxF"
      },
      "source": [
        "from google.colab import files\n",
        "uploaded=files.upload()"
      ],
      "execution_count": null,
      "outputs": []
    },
    {
      "cell_type": "code",
      "metadata": {
        "id": "6r8qhhd-2QQl"
      },
      "source": [
        "서울_전역=pd.read_excel('/content/서울_4년_평균.xlsx')\n",
        "서울_전역.head()"
      ],
      "execution_count": null,
      "outputs": []
    },
    {
      "cell_type": "code",
      "metadata": {
        "id": "cgbvX-e356eY"
      },
      "source": [
        "강남_양파_dt=서울_전역[(서울_전역['지역구']=='강남구')&(서울_전역['품목']=='양파')]\n",
        "강남_양파_dt.head()"
      ],
      "execution_count": null,
      "outputs": []
    },
    {
      "cell_type": "code",
      "metadata": {
        "id": "0skGEB148VW9"
      },
      "source": [
        "강남_양파_dt=강남_양파_dt[['조사일','시장']]"
      ],
      "execution_count": null,
      "outputs": []
    },
    {
      "cell_type": "code",
      "metadata": {
        "id": "eIqjc15S8i5R"
      },
      "source": [
        "강남_양파_dt.set_index('조사일')"
      ],
      "execution_count": null,
      "outputs": []
    },
    {
      "cell_type": "code",
      "metadata": {
        "id": "RAwX3ixW9mDU"
      },
      "source": [
        "강남_양파_dt.info()"
      ],
      "execution_count": null,
      "outputs": []
    },
    {
      "cell_type": "code",
      "metadata": {
        "id": "7Sr9Mkmp8mW1"
      },
      "source": [
        "from matplotlib import pyplot"
      ],
      "execution_count": null,
      "outputs": []
    },
    {
      "cell_type": "code",
      "metadata": {
        "id": "_sb8Me8o8z0S"
      },
      "source": [
        "강남_양파_dt.plot(x='조사일')\n",
        "plt.show()"
      ],
      "execution_count": null,
      "outputs": []
    },
    {
      "cell_type": "code",
      "metadata": {
        "id": "EVtALTsc-Dr3"
      },
      "source": [
        "# 컬럼명 변경\n",
        "강남_양파_dt.columns = ['ds', 'y']"
      ],
      "execution_count": null,
      "outputs": []
    },
    {
      "cell_type": "code",
      "metadata": {
        "id": "7lMW7o_O9GRJ"
      },
      "source": [
        "# 데이터 타입 변경\n",
        "강남_양파_dt['ds']= pd.to_datetime(강남_양파_dt['ds'])\n",
        "\n",
        "# 모델 생성\n",
        "from fbprophet import Prophet\n",
        "model = Prophet()\n",
        "\n",
        "# 모델 학습\n",
        "model.fit(강남_양파_dt)"
      ],
      "execution_count": null,
      "outputs": []
    },
    {
      "cell_type": "code",
      "metadata": {
        "id": "W2QcuWTs-UYO"
      },
      "source": [
        "# train set 마지막 1년 날짜 생성\n",
        "last_1year = list()\n",
        "for i in range(1, 10):\n",
        "    last_1year.append(['2020-%01d' % i])\n",
        "last_1year = pd.DataFrame(last_1year, columns = ['ds'])\n",
        "last_1year['ds']= pd.to_datetime(last_1year['ds'])"
      ],
      "execution_count": null,
      "outputs": []
    },
    {
      "cell_type": "code",
      "metadata": {
        "id": "Ax6XAj18_Dce"
      },
      "source": [
        "# 에측\n",
        "forecast = model.predict(last_1year)"
      ],
      "execution_count": null,
      "outputs": []
    },
    {
      "cell_type": "code",
      "metadata": {
        "id": "LDUUPEdO_E4F"
      },
      "source": [
        "forecast.columns"
      ],
      "execution_count": null,
      "outputs": []
    },
    {
      "cell_type": "code",
      "metadata": {
        "id": "L97X4zL1_HJ8"
      },
      "source": [
        "print(forecast[['ds', 'yhat', 'yhat_lower', 'yhat_upper']].head())"
      ],
      "execution_count": null,
      "outputs": []
    },
    {
      "cell_type": "code",
      "metadata": {
        "id": "6O5VO1W0_KAG"
      },
      "source": [
        "model.plot(forecast)\n",
        "pyplot.show()"
      ],
      "execution_count": null,
      "outputs": []
    },
    {
      "cell_type": "code",
      "metadata": {
        "id": "i3J9Tpc9_N1p"
      },
      "source": [
        "# train set 이후 10개월 날짜 생성\n",
        "last_1year = list()\n",
        "for i in range(1, 10):\n",
        "    last_1year.append(['2020-%01d' % i])\n",
        "last_1year = pd.DataFrame(last_1year, columns = ['ds'])\n",
        "last_1year['ds']= pd.to_datetime(last_1year['ds'])"
      ],
      "execution_count": null,
      "outputs": []
    },
    {
      "cell_type": "code",
      "metadata": {
        "id": "7oPxQJKC_aXd"
      },
      "source": [
        "forecast = model.predict(last_1year)\n",
        "model.plot(forecast)\n",
        "pyplot.show()"
      ],
      "execution_count": null,
      "outputs": []
    },
    {
      "cell_type": "code",
      "metadata": {
        "id": "YbcPng6y_bvF"
      },
      "source": [
        "# 마지막 12개월 제외시키기\n",
        "train = 강남_양파_dt.drop(강남_양파_dt.index[-9:])\n",
        "y_true = 강남_양파_dt['y'][-9:].values\n",
        "\n",
        "# 모델 생성 후 학습\n",
        "model = Prophet()\n",
        "model.fit(train)\n",
        "\n",
        "# train set 마지막 1년 날짜 생성\n",
        "last_1year = list()\n",
        "for i in range(1, 10):\n",
        "    last_1year.append(['2020-%01d' % i])\n",
        "last_1year = pd.DataFrame(last_1year, columns = ['ds'])\n",
        "last_1year['ds']= pd.to_datetime(last_1year['ds'])\n",
        "\n",
        "# 예측하고 비교하기\n",
        "# 여기에서는 MAE를 살펴본다.\n",
        "forecast = model.predict(last_1year)\n",
        "y_pred = forecast['yhat'].values\n",
        "from sklearn.metrics import mean_absolute_error\n",
        "mae = mean_absolute_error(y_true, y_pred)\n",
        "print('MAE: %.3f' % mae)"
      ],
      "execution_count": null,
      "outputs": []
    },
    {
      "cell_type": "code",
      "metadata": {
        "id": "MRhicCCiAWZ3"
      },
      "source": [
        "pyplot.plot(y_true, label='Actual')\n",
        "pyplot.plot(y_pred, label='Predicted')\n",
        "pyplot.legend()\n",
        "pyplot.show()"
      ],
      "execution_count": null,
      "outputs": []
    },
    {
      "cell_type": "code",
      "metadata": {
        "id": "Ph2Ju43QA82v"
      },
      "source": [
        ""
      ],
      "execution_count": null,
      "outputs": []
    }
  ]
}