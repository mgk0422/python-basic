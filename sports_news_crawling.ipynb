{
 "cells": [
  {
   "cell_type": "code",
   "execution_count": 3,
   "metadata": {},
   "outputs": [],
   "source": [
    "import requests\n",
    "from bs4 import BeautifulSoup\n",
    "\n",
    "URL = 'https://sports.news.naver.com/index.nhn'\n",
    "\n",
    "response=requests.get(URL)"
   ]
  },
  {
   "cell_type": "code",
   "execution_count": 4,
   "metadata": {},
   "outputs": [],
   "source": [
    "soup = BeautifulSoup(response.text, \"html.parser\")\n",
    "result = soup.select(\".today_item\")  # 연속성 있는 데이터(li) 가져옴(리스트 형식), 가져오려는 값이 여러개인 경우\n",
    "result2 = soup.select_one('.today_list')  # li모여있는 ul 가져옴"
   ]
  },
  {
   "cell_type": "code",
   "execution_count": 5,
   "metadata": {},
   "outputs": [
    {
     "name": "stdout",
     "output_type": "stream",
     "text": [
      "'한.만.두. Jr. 연타석포' SD, 홈런 5방 폭발 STL 제압…1승 1패 [NLWC2]\n",
      "link_today\n",
      "/news.nhn?oid=109&aid=0004283050\n",
      "https://dthumb-phinf.pstatic.net?src=http://imgnews.naver.net/image/109/2020/10/02/0004283050_001_20201002122923883.jpg&type=nf160_95&service=sports\n",
      "[사진] ⓒGettyimages(무단전재 및 재배포 금지)[OSEN=이종서 기자] 한.만.두(한 이닝 만루홈런 두 번)의 아들이 해냈다. 샌디에이고 파드리스...\n",
      "\n",
      "-------------------------------------------------\n",
      "[오피셜] 41억 드로그바 꿈꾼다…'비니시우스, 토트넘 임대 확정'\n",
      "link_today\n",
      "/news.nhn?oid=477&aid=0000265693\n",
      "https://dthumb-phinf.pstatic.net?src=http://imgnews.naver.net/image/477/2020/10/02/0000265693_001_20201002104254046.jpg&type=nf160_95&service=sports\n",
      "▲ 벤피카 스트라이커 비니시우스가 토트넘으로 임대됐다[스포티비뉴스=박대성 기자] 토트넘이 공격수 조각을 맞췄다. 카를로스 비니시우스(25, 벤피카) 임대를 ...\n",
      "\n",
      "-------------------------------------------------\n",
      "KIA전 앞둔 김태형 감독 \"여기서 처지면 반등하기 힘들다\" [MD토크]\n",
      "link_today\n",
      "/news.nhn?oid=117&aid=0003414136\n",
      "https://dthumb-phinf.pstatic.net?src=http://imgnews.naver.net/image/117/2020/10/02/202010021149881662_1_20201002121225140.jpg&type=nf160_95&service=sports\n",
      "[마이데일리 = 잠실 이후광 기자] 두산 김태형 감독이 5위 KIA와의 3연전을 향한 비장한 각오를 전했다. 디펜딩챔피언 두산의 기세가 이전만 못하다. 지난...\n",
      "\n",
      "-------------------------------------------------\n",
      "MLB 중부지구 몰락…양대리그 7개팀 PS 진출해 3팀만 생존\n",
      "link_today\n",
      "/news.nhn?oid=001&aid=0011917477\n",
      "https://dthumb-phinf.pstatic.net?src=http://imgnews.naver.net/image/001/2020/10/02/PGT20201002055001055_P4_20201002111509403.jpg&type=nf160_95&service=sports\n",
      "시카고 화이트삭스를 꺾고 디비전시리즈에 오른 오클랜드 선수단[게티이미지/AFP=연합뉴스](서울=연합뉴스) 장현구 기자 = 예년보다 확대된 올해 미국프로야구(...\n",
      "\n",
      "-------------------------------------------------\n",
      "아스널 큰일났다...공들인 아우아르 PSG에 넘겨줄 판\n",
      "link_today\n",
      "/news.nhn?oid=076&aid=0003637754\n",
      "https://dthumb-phinf.pstatic.net?src=http://imgnews.naver.net/image/076/2020/10/02/2020100301000032400002281_20201002110720677.jpg&type=nf160_95&service=sports\n",
      "사진=영국 언론 메트로 홈페이지 기사 캡처[스포츠조선 김 용 기자] 호셈 아우아르를 향해 거물이 움직인다!프랑스 매체 '레퀴프'는 프랑스 부자 구단 파리 생...\n",
      "\n",
      "-------------------------------------------------\n",
      "르브론 \"AD와 질투 안 해\"…노련한 변수 차단\n",
      "link_today\n",
      "/news.nhn?oid=477&aid=0000265692\n",
      "https://dthumb-phinf.pstatic.net?src=http://imgnews.naver.net/image/477/2020/10/02/0000265692_001_20201002101655179.jpg&type=nf160_95&service=sports\n",
      "▲ 르브론 제임스 '코트 밖'에서도 노련하다.[스포티비뉴스=박대현 기자] 르브론 제임스(35)가 앤서니 데이비스(27, 이상 LA 레이커스)와 돈독한 관계를...\n",
      "\n",
      "-------------------------------------------------\n"
     ]
    }
   ],
   "source": [
    "sportslist = []\n",
    " \n",
    "for r in result2.select('li'):\n",
    "    class1 = r.select_one('a')['class'][0].strip()\n",
    "    href1 = r.select_one('a')['href'].strip()\n",
    "    title = r.select_one('a')['title'].strip()\n",
    " \n",
    "    atag = r.select_one('a')\n",
    "    div1 = atag.select_one('div')\n",
    "    src = div1.select_one('img')['src'].strip()   # atag = r.select_one('a div img') 여러번 select_one실행안하는 방법\n",
    "\n",
    "    content = atag.select_one('.news').text.strip()\n",
    " \n",
    "    print('{0}\\n{1}\\n{2}\\n{3}\\n{4}\\n'.format(title, class1, href1, src, content))\n",
    "    print('-------------------------------------------------')"
   ]
  },
  {
   "cell_type": "code",
   "execution_count": null,
   "metadata": {},
   "outputs": [],
   "source": []
  }
 ],
 "metadata": {
  "kernelspec": {
   "display_name": "Python 3",
   "language": "python",
   "name": "python3"
  },
  "language_info": {
   "codemirror_mode": {
    "name": "ipython",
    "version": 3
   },
   "file_extension": ".py",
   "mimetype": "text/x-python",
   "name": "python",
   "nbconvert_exporter": "python",
   "pygments_lexer": "ipython3",
   "version": "3.6.5"
  }
 },
 "nbformat": 4,
 "nbformat_minor": 2
}
