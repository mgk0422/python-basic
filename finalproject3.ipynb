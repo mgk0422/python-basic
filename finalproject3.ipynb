{
  "nbformat": 4,
  "nbformat_minor": 0,
  "metadata": {
    "colab": {
      "name": "finalproject3",
      "private_outputs": true,
      "provenance": [],
      "collapsed_sections": [],
      "authorship_tag": "ABX9TyNN68dDwbXAst0/BHFYk+3C",
      "include_colab_link": true
    },
    "kernelspec": {
      "name": "python3",
      "display_name": "Python 3"
    }
  },
  "cells": [
    {
      "cell_type": "markdown",
      "metadata": {
        "id": "view-in-github",
        "colab_type": "text"
      },
      "source": [
        "<a href=\"https://colab.research.google.com/github/mgk0422/python-basic/blob/master/finalproject3.ipynb\" target=\"_parent\"><img src=\"https://colab.research.google.com/assets/colab-badge.svg\" alt=\"Open In Colab\"/></a>"
      ]
    },
    {
      "cell_type": "code",
      "metadata": {
        "id": "IXMCa-LFX4Gw"
      },
      "source": [
        "pip install xlsxwriter"
      ],
      "execution_count": null,
      "outputs": []
    },
    {
      "cell_type": "code",
      "metadata": {
        "id": "Zx8cs5UcaL41"
      },
      "source": [
        "import pandas as pd\n",
        "import numpy as np\n",
        "import glob\n",
        "import sys\n",
        "from openpyxl import load_workbook\n",
        "import xlsxwriter\n",
        "import matplotlib.pyplot as plt\n",
        "import seaborn as sns\n",
        "%matplotlib inline"
      ],
      "execution_count": null,
      "outputs": []
    },
    {
      "cell_type": "code",
      "metadata": {
        "id": "11J_L9i-eror"
      },
      "source": [
        "!sudo apt-get install -y fonts-nanum\n",
        "!sudo fc-cache -fv\n",
        "!rm ~/.cache/matplotlib -rf"
      ],
      "execution_count": null,
      "outputs": []
    },
    {
      "cell_type": "code",
      "metadata": {
        "id": "KPhuXXFIes5W"
      },
      "source": [
        "import matplotlib.pyplot as plt\n",
        "\n",
        "plt.rc('font', family='NanumBarunGothic') "
      ],
      "execution_count": null,
      "outputs": []
    },
    {
      "cell_type": "code",
      "metadata": {
        "id": "_lq4cdzg5zfb"
      },
      "source": [
        "from google.colab import files\n",
        "uploaded=files.upload()"
      ],
      "execution_count": null,
      "outputs": []
    },
    {
      "cell_type": "code",
      "metadata": {
        "id": "PNioy8Ph6MFQ"
      },
      "source": [
        "import matplotlib.font_manager as fm"
      ],
      "execution_count": null,
      "outputs": []
    },
    {
      "cell_type": "code",
      "metadata": {
        "id": "u2YsdYGx6C-n"
      },
      "source": [
        "#path='/content/NanumGothicExtraBold.ttf'\n",
        "#font_name=fm.FontProperties(fname=path,size=10).get_name()\n",
        "#print(font_name)\n",
        "#plt.rc('font',family=font_name)"
      ],
      "execution_count": null,
      "outputs": []
    },
    {
      "cell_type": "code",
      "metadata": {
        "id": "iCN4Y7fyaNHL"
      },
      "source": [
        "\n",
        "from google.colab import files\n",
        "uploaded=files.upload()"
      ],
      "execution_count": null,
      "outputs": []
    },
    {
      "cell_type": "code",
      "metadata": {
        "id": "zPb5JIT2aRXR"
      },
      "source": [
        "###################### 지도 시각화\n",
        "import json\n",
        "with open('/content/서울경계데이터.json','r') as f:\n",
        "    json_data=json.load(f)\n",
        "print(json.dumps(json_data))"
      ],
      "execution_count": null,
      "outputs": []
    },
    {
      "cell_type": "code",
      "metadata": {
        "id": "heMEssCxaakY"
      },
      "source": [
        "import folium\n",
        "m=folium.Map(location=[37.5838699,127.0565831],zoom_start=10)\n",
        "\n",
        "import json\n",
        "with open('/content/서울경계데이터.json','r') as f:\n",
        "    geo=json.loads(f.read())\n",
        "    f.close()\n",
        "\n",
        "folium.GeoJson(\n",
        "    geo,\n",
        "    name='seoul'\n",
        ").add_to(m)\n",
        "\n",
        "m.save('map.html')"
      ],
      "execution_count": null,
      "outputs": []
    },
    {
      "cell_type": "code",
      "metadata": {
        "id": "b7qWFFrEadY_"
      },
      "source": [
        "#html 코드 \n",
        "folium.Map().get_root().render()"
      ],
      "execution_count": null,
      "outputs": []
    },
    {
      "cell_type": "code",
      "metadata": {
        "id": "HbpWTHZ-afYn"
      },
      "source": [
        "from google.colab import files\n",
        "uploaded=files.upload()"
      ],
      "execution_count": null,
      "outputs": []
    },
    {
      "cell_type": "code",
      "metadata": {
        "id": "1lhIIfWQau7f"
      },
      "source": [
        "# 무만 !!!\n",
        "\n",
        "지도시각화_df=pd.read_excel('/content/지도 시각화_ 색깔별로 나눌거다 ㅡㅡ.xlsx')\n",
        "무지도시각화_df=지도시각화_df[지도시각화_df['품목']=='무']\n",
        "무지도시각화_df=무지도시각화_df[['구','가격']]\n",
        "무지도시각화_df.head()"
      ],
      "execution_count": null,
      "outputs": []
    },
    {
      "cell_type": "code",
      "metadata": {
        "id": "CW6e1gFmaiX6"
      },
      "source": [
        "# 서울시 중심부의 위도, 경도 입니다.\n",
        "center = [37.541, 126.986]\n",
        "\n",
        "# 맵이 center 에 위치하고, zoom 레벨은 11로 시작하는 맵 m을 만듭니다.\n",
        "m = folium.Map(location=center, zoom_start=10,tiles='Stamen Terrain')\n",
        "\n",
        "# Choropleth 레이어를 만들고, 맵 m에 추가합니다.\n",
        "Choropleth=folium.Choropleth(\n",
        "    geo_data=geo,\n",
        "    data=무지도시각화_df,\n",
        "    columns=(\"구\",\"가격\"),\n",
        "    key_on='feature.properties.name',\n",
        "    fill_color='YlGnBu',\n",
        "    highlight=True,\n",
        "    fill_opacity=0.7,\n",
        "    line_opacity=0.2,\n",
        ").add_to(m)\n",
        "\n",
        "# 맵 m을 출력합니다.\n",
        "m"
      ],
      "execution_count": null,
      "outputs": []
    },
    {
      "cell_type": "code",
      "metadata": {
        "id": "NK0iekkvybHP"
      },
      "source": [
        "from google.colab import files\n",
        "uploaded=files.upload()"
      ],
      "execution_count": null,
      "outputs": []
    },
    {
      "cell_type": "code",
      "metadata": {
        "id": "nCnuHqqTa2Ds"
      },
      "source": [
        "지도시각화_plz=pd.read_excel('/content/복사본 최종 진짜 최종 마지막이다...제발.....ㅠㅠㅠ 진짜 제발이요ㅕ......(마지막이길).xlsx')\n",
        "지도시각화_plz.head()"
      ],
      "execution_count": null,
      "outputs": []
    },
    {
      "cell_type": "code",
      "metadata": {
        "id": "u-2_7Maba7Yr"
      },
      "source": [
        "# 무 관련 한거임\n",
        "지도시각화_plz=pd.read_excel('/content/복사본 최종 진짜 최종 마지막이다...제발.....ㅠㅠㅠ 진짜 제발이요ㅕ......(마지막이길).xlsx')\n",
        "지도시각화_plz=지도시각화_plz[지도시각화_plz['품목']=='무']\n",
        "지도시각화_plz=지도시각화_plz[['지역구','평균 : 4년 평균 가격','비고','위도','경도']]\n",
        "지도시각화_plz.columns=['장소','평균가격','비고','위도','경도']\n",
        "지도시각화_plz.head()"
      ],
      "execution_count": null,
      "outputs": []
    },
    {
      "cell_type": "code",
      "metadata": {
        "id": "cH9vDCQ_JSJ1"
      },
      "source": [
        "import folium as g\n",
        "from folium.features import CustomIcon"
      ],
      "execution_count": null,
      "outputs": []
    },
    {
      "cell_type": "code",
      "metadata": {
        "id": "DFQpLOYRK9NG"
      },
      "source": [
        "pip install git+https://github.com/python-visualization/branca.git@master"
      ],
      "execution_count": null,
      "outputs": []
    },
    {
      "cell_type": "code",
      "metadata": {
        "id": "fO17k2DockXW"
      },
      "source": [
        "import folium\n",
        "from folium.features import DivIcon\n",
        "\n",
        "\n",
        "for name,info,lat,lon in zip(지도시각화_plz.장소,지도시각화_plz.비고,지도시각화_plz.위도, 지도시각화_plz.경도):\n",
        "    g.Marker([lat, lon], \n",
        "            popup = folium.Popup(info, max_width=1000),\n",
        "            icon=DivIcon(\n",
        "        icon_size=(150,36),\n",
        "        icon_anchor=(0,0),\n",
        "        html='<div style=\"font-size: 5pt\">%s</div><style>.normal { font-weight: normal; }.bold { font-weight: 8000; }.bolder { font-weight: bolder; }</style>' % name,\n",
        "        )).add_to(m)\n",
        "m"
      ],
      "execution_count": null,
      "outputs": []
    },
    {
      "cell_type": "code",
      "metadata": {
        "id": "ouxhwZcuhU3_"
      },
      "source": [
        "m.save('서울_무_map.html')"
      ],
      "execution_count": null,
      "outputs": []
    },
    {
      "cell_type": "code",
      "metadata": {
        "id": "2EetqcVMQwP2"
      },
      "source": [
        "#########상추#################################################"
      ],
      "execution_count": null,
      "outputs": []
    },
    {
      "cell_type": "code",
      "metadata": {
        "id": "vRjXR83SQ8L3"
      },
      "source": [
        "지도시각화_df=pd.read_excel('/content/지도 시각화_ 색깔별로 나눌거다 ㅡㅡ.xlsx')\n",
        "상추지도시각화_df=지도시각화_df[지도시각화_df['품목']=='상추']\n",
        "상추지도시각화_df=상추지도시각화_df[['구','가격']]\n",
        "상추지도시각화_df.head()"
      ],
      "execution_count": null,
      "outputs": []
    },
    {
      "cell_type": "code",
      "metadata": {
        "id": "rospxZ2XRDnA"
      },
      "source": [
        "# 서울시 중심부의 위도, 경도 입니다.\n",
        "center = [37.541, 126.986]\n",
        "\n",
        "# 맵이 center 에 위치하고, zoom 레벨은 11로 시작하는 맵 m을 만듭니다.\n",
        "m = folium.Map(location=center, zoom_start=10,tiles='Stamen Terrain')\n",
        "\n",
        "# Choropleth 레이어를 만들고, 맵 m에 추가합니다.\n",
        "Choropleth=folium.Choropleth(\n",
        "    geo_data=geo,\n",
        "    data=상추지도시각화_df,\n",
        "    columns=(\"구\",\"가격\"),\n",
        "    key_on='feature.properties.name',\n",
        "    fill_color='YlGnBu',\n",
        "    highlight=True,\n",
        "    fill_opacity=0.7,\n",
        "    line_opacity=0.2,\n",
        ").add_to(m)\n",
        "\n",
        "# 맵 m을 출력합니다.\n",
        "m"
      ],
      "execution_count": null,
      "outputs": []
    },
    {
      "cell_type": "code",
      "metadata": {
        "id": "9KjPrO4qRMb9"
      },
      "source": [
        "# 상추 관련 한거임\n",
        "지도시각화_plz=pd.read_excel('/content/복사본 최종 진짜 최종 마지막이다...제발.....ㅠㅠㅠ 진짜 제발이요ㅕ......(마지막이길).xlsx')\n",
        "지도시각화_plz=지도시각화_plz[지도시각화_plz['품목']=='상추']\n",
        "지도시각화_plz=지도시각화_plz[['지역구','평균 : 4년 평균 가격','비고','위도','경도']]\n",
        "지도시각화_plz.columns=['장소','평균가격','비고','위도','경도']\n",
        "지도시각화_plz.head()"
      ],
      "execution_count": null,
      "outputs": []
    },
    {
      "cell_type": "code",
      "metadata": {
        "id": "TfXH6TKaRq6z"
      },
      "source": [
        "import folium\n",
        "from folium.features import DivIcon\n",
        "\n",
        "\n",
        "for name,info,lat,lon in zip(지도시각화_plz.장소,지도시각화_plz.비고,지도시각화_plz.위도, 지도시각화_plz.경도):\n",
        "    g.Marker([lat, lon], \n",
        "            popup = folium.Popup(info, max_width=1000),\n",
        "            icon=DivIcon(\n",
        "        icon_size=(150,36),\n",
        "        icon_anchor=(0,0),\n",
        "        html='<div style=\"font-size: 5pt\">%s</div><style>.normal { font-weight: normal; }.bold { font-weight: 10000; }.bolder { font-weight: bolder; }</style>' % name,\n",
        "        )).add_to(m)\n",
        "m"
      ],
      "execution_count": null,
      "outputs": []
    },
    {
      "cell_type": "code",
      "metadata": {
        "id": "gthVWvlZRxjd"
      },
      "source": [
        "m.save('서울_상추_map.html')"
      ],
      "execution_count": null,
      "outputs": []
    },
    {
      "cell_type": "code",
      "metadata": {
        "id": "eArEFejGR94w"
      },
      "source": [
        "#################################오이$$##########"
      ],
      "execution_count": null,
      "outputs": []
    },
    {
      "cell_type": "code",
      "metadata": {
        "id": "hrFhNYW9SJq8"
      },
      "source": [
        "지도시각화_df=pd.read_excel('/content/지도 시각화_ 색깔별로 나눌거다 ㅡㅡ.xlsx')\n",
        "오이지도시각화_df=지도시각화_df[지도시각화_df['품목']=='오이']\n",
        "오이지도시각화_df=오이지도시각화_df[['구','가격']]\n",
        "오이지도시각화_df.head()"
      ],
      "execution_count": null,
      "outputs": []
    },
    {
      "cell_type": "code",
      "metadata": {
        "id": "0ysyaLzKSPV3"
      },
      "source": [
        "# 서울시 중심부의 위도, 경도 입니다.\n",
        "center = [37.541, 126.986]\n",
        "\n",
        "# 맵이 center 에 위치하고, zoom 레벨은 11로 시작하는 맵 m을 만듭니다.\n",
        "m = folium.Map(location=center, zoom_start=10,tiles='Stamen Terrain')\n",
        "\n",
        "# Choropleth 레이어를 만들고, 맵 m에 추가합니다.\n",
        "Choropleth=folium.Choropleth(\n",
        "    geo_data=geo,\n",
        "    data=오이지도시각화_df,\n",
        "    columns=(\"구\",\"가격\"),\n",
        "    key_on='feature.properties.name',\n",
        "    fill_color='YlGnBu',\n",
        "    highlight=True,\n",
        "    fill_opacity=0.7,\n",
        "    line_opacity=0.2,\n",
        ").add_to(m)\n",
        "\n",
        "# 맵 m을 출력합니다.\n",
        "m"
      ],
      "execution_count": null,
      "outputs": []
    },
    {
      "cell_type": "code",
      "metadata": {
        "id": "yvxrIMG9SY45"
      },
      "source": [
        "# 오이 관련 한거임\n",
        "지도시각화_plz=pd.read_excel('/content/복사본 최종 진짜 최종 마지막이다...제발.....ㅠㅠㅠ 진짜 제발이요ㅕ......(마지막이길).xlsx')\n",
        "지도시각화_plz=지도시각화_plz[지도시각화_plz['품목']=='오이']\n",
        "지도시각화_plz=지도시각화_plz[['지역구','평균 : 4년 평균 가격','비고','위도','경도']]\n",
        "지도시각화_plz.columns=['장소','평균가격','비고','위도','경도']\n",
        "지도시각화_plz.head()"
      ],
      "execution_count": null,
      "outputs": []
    },
    {
      "cell_type": "code",
      "metadata": {
        "id": "U4d4DUEUSmIy"
      },
      "source": [
        "import folium\n",
        "from folium.features import DivIcon\n",
        "\n",
        "\n",
        "for name,info,lat,lon in zip(지도시각화_plz.장소,지도시각화_plz.비고,지도시각화_plz.위도, 지도시각화_plz.경도):\n",
        "    g.Marker([lat, lon], \n",
        "            popup = folium.Popup(info, max_width=1000),\n",
        "            icon=DivIcon(\n",
        "        icon_size=(150,36),\n",
        "        icon_anchor=(0,0),\n",
        "        html='<div style=\"font-size: 5pt\">%s</div><style>.normal { font-weight: normal; }.bold { font-weight: 10000; }.bolder { font-weight: bolder; }</style>' % name,\n",
        "        )).add_to(m)\n",
        "m\n"
      ],
      "execution_count": null,
      "outputs": []
    },
    {
      "cell_type": "code",
      "metadata": {
        "id": "lmjqVhmBS2r7"
      },
      "source": [
        "m.save('서울_오이_map.html')"
      ],
      "execution_count": null,
      "outputs": []
    },
    {
      "cell_type": "code",
      "metadata": {
        "id": "Olm4jixsTGXk"
      },
      "source": [
        ""
      ],
      "execution_count": null,
      "outputs": []
    },
    {
      "cell_type": "code",
      "metadata": {
        "id": "be795wPBTHfp"
      },
      "source": [
        "####################양파"
      ],
      "execution_count": null,
      "outputs": []
    },
    {
      "cell_type": "code",
      "metadata": {
        "id": "ON-N7z4ZTUI_"
      },
      "source": [
        "지도시각화_df=pd.read_excel('/content/지도 시각화_ 색깔별로 나눌거다 ㅡㅡ.xlsx')\n",
        "양파지도시각화_df=지도시각화_df[지도시각화_df['품목']=='양파']\n",
        "양파지도시각화_df=양파지도시각화_df[['구','가격']]\n",
        "양파지도시각화_df.head()"
      ],
      "execution_count": null,
      "outputs": []
    },
    {
      "cell_type": "code",
      "metadata": {
        "id": "A5iXIzmwTbou"
      },
      "source": [
        "# 서울시 중심부의 위도, 경도 입니다.\n",
        "center = [37.541, 126.986]\n",
        "\n",
        "# 맵이 center 에 위치하고, zoom 레벨은 11로 시작하는 맵 m을 만듭니다.\n",
        "m = folium.Map(location=center, zoom_start=10,tiles='Stamen Terrain')\n",
        "\n",
        "# Choropleth 레이어를 만들고, 맵 m에 추가합니다.\n",
        "Choropleth=folium.Choropleth(\n",
        "    geo_data=geo,\n",
        "    data=양파지도시각화_df,\n",
        "    columns=(\"구\",\"가격\"),\n",
        "    key_on='feature.properties.name',\n",
        "    fill_color='YlGnBu',\n",
        "    highlight=True,\n",
        "    fill_opacity=0.7,\n",
        "    line_opacity=0.2,\n",
        ").add_to(m)\n",
        "\n",
        "# 맵 m을 출력합니다.\n",
        "m"
      ],
      "execution_count": null,
      "outputs": []
    },
    {
      "cell_type": "code",
      "metadata": {
        "id": "ICB1vmfaTgiX"
      },
      "source": [
        "# 양파 관련 한거임\n",
        "지도시각화_plz=pd.read_excel('/content/복사본 최종 진짜 최종 마지막이다...제발.....ㅠㅠㅠ 진짜 제발이요ㅕ......(마지막이길).xlsx')\n",
        "지도시각화_plz=지도시각화_plz[지도시각화_plz['품목']=='양파']\n",
        "지도시각화_plz=지도시각화_plz[['지역구','평균 : 4년 평균 가격','비고','위도','경도']]\n",
        "지도시각화_plz.columns=['장소','평균가격','비고','위도','경도']\n",
        "지도시각화_plz.head()"
      ],
      "execution_count": null,
      "outputs": []
    },
    {
      "cell_type": "code",
      "metadata": {
        "id": "gYUvjbbgTpfZ"
      },
      "source": [
        "import folium\n",
        "from folium.features import DivIcon\n",
        "\n",
        "\n",
        "for name,info,lat,lon in zip(지도시각화_plz.장소,지도시각화_plz.비고,지도시각화_plz.위도, 지도시각화_plz.경도):\n",
        "    g.Marker([lat, lon], \n",
        "            popup = folium.Popup(info, max_width=1000),\n",
        "            icon=DivIcon(\n",
        "        icon_size=(150,36),\n",
        "        icon_anchor=(0,0),\n",
        "        html='<div style=\"font-size: 5pt\">%s</div><style>.normal { font-weight: normal; }.bold { font-weight: 10000; }.bolder { font-weight: bolder; }</style>' % name,\n",
        "        )).add_to(m)\n",
        "m\n"
      ],
      "execution_count": null,
      "outputs": []
    },
    {
      "cell_type": "code",
      "metadata": {
        "id": "_ZIKb9ucTvLm"
      },
      "source": [
        "m.save('서울_양파_map.html')"
      ],
      "execution_count": null,
      "outputs": []
    },
    {
      "cell_type": "code",
      "metadata": {
        "id": "-1mGiKMMT5VL"
      },
      "source": [
        "################배추"
      ],
      "execution_count": null,
      "outputs": []
    },
    {
      "cell_type": "code",
      "metadata": {
        "id": "lwV7KE9_T8VX"
      },
      "source": [
        "지도시각화_df=pd.read_excel('/content/지도 시각화_ 색깔별로 나눌거다 ㅡㅡ.xlsx')\n",
        "배추지도시각화_df=지도시각화_df[지도시각화_df['품목']=='배추']\n",
        "배추지도시각화_df=배추지도시각화_df[['구','가격']]\n",
        "배추지도시각화_df.head()"
      ],
      "execution_count": null,
      "outputs": []
    },
    {
      "cell_type": "code",
      "metadata": {
        "id": "dCw-L8t0UDyF"
      },
      "source": [
        "# 서울시 중심부의 위도, 경도 입니다.\n",
        "center = [37.541, 126.986]\n",
        "\n",
        "# 맵이 center 에 위치하고, zoom 레벨은 11로 시작하는 맵 m을 만듭니다.\n",
        "m = folium.Map(location=center, zoom_start=10,tiles='Stamen Terrain')\n",
        "\n",
        "# Choropleth 레이어를 만들고, 맵 m에 추가합니다.\n",
        "Choropleth=folium.Choropleth(\n",
        "    geo_data=geo,\n",
        "    data=배추지도시각화_df,\n",
        "    columns=(\"구\",\"가격\"),\n",
        "    key_on='feature.properties.name',\n",
        "    fill_color='YlGnBu',\n",
        "    highlight=True,\n",
        "    fill_opacity=0.7,\n",
        "    line_opacity=0.2,\n",
        ").add_to(m)\n",
        "\n",
        "# 맵 m을 출력합니다.\n",
        "m"
      ],
      "execution_count": null,
      "outputs": []
    },
    {
      "cell_type": "code",
      "metadata": {
        "id": "HhEMaJ8wULXV"
      },
      "source": [
        "# 배추 관련 한거임\n",
        "지도시각화_plz=pd.read_excel('/content/복사본 최종 진짜 최종 마지막이다...제발.....ㅠㅠㅠ 진짜 제발이요ㅕ......(마지막이길).xlsx')\n",
        "지도시각화_plz=지도시각화_plz[지도시각화_plz['품목']=='배추']\n",
        "지도시각화_plz=지도시각화_plz[['지역구','평균 : 4년 평균 가격','비고','위도','경도']]\n",
        "지도시각화_plz.columns=['장소','평균가격','비고','위도','경도']\n",
        "지도시각화_plz.head()"
      ],
      "execution_count": null,
      "outputs": []
    },
    {
      "cell_type": "code",
      "metadata": {
        "id": "PWujrMUNUVx7"
      },
      "source": [
        "import folium\n",
        "from folium.features import DivIcon\n",
        "\n",
        "\n",
        "for name,info,lat,lon in zip(지도시각화_plz.장소,지도시각화_plz.비고,지도시각화_plz.위도, 지도시각화_plz.경도):\n",
        "    g.Marker([lat, lon], \n",
        "            popup = folium.Popup(info, max_width=1000),\n",
        "            icon=DivIcon(\n",
        "        icon_size=(150,36),\n",
        "        icon_anchor=(0,0),\n",
        "        html='<div style=\"font-size: 5pt\">%s</div><style>.normal { font-weight: normal; }.bold { font-weight: 10000; }.bolder { font-weight: bolder; }</style>' % name,\n",
        "        )).add_to(m)\n",
        "m"
      ],
      "execution_count": null,
      "outputs": []
    },
    {
      "cell_type": "code",
      "metadata": {
        "id": "1bvXDGj0Udqw"
      },
      "source": [
        "m.save('서울_배추_map.html')"
      ],
      "execution_count": null,
      "outputs": []
    },
    {
      "cell_type": "code",
      "metadata": {
        "id": "V-yj4vcaUkk0"
      },
      "source": [
        ""
      ],
      "execution_count": null,
      "outputs": []
    }
  ]
}