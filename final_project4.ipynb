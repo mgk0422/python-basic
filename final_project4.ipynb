{
  "nbformat": 4,
  "nbformat_minor": 0,
  "metadata": {
    "colab": {
      "name": "final_project4",
      "private_outputs": true,
      "provenance": [],
      "authorship_tag": "ABX9TyO3zENQnkbOAM8VuAUK/vh9",
      "include_colab_link": true
    },
    "kernelspec": {
      "name": "python3",
      "display_name": "Python 3"
    }
  },
  "cells": [
    {
      "cell_type": "markdown",
      "metadata": {
        "id": "view-in-github",
        "colab_type": "text"
      },
      "source": [
        "<a href=\"https://colab.research.google.com/github/mgk0422/python-basic/blob/master/final_project4.ipynb\" target=\"_parent\"><img src=\"https://colab.research.google.com/assets/colab-badge.svg\" alt=\"Open In Colab\"/></a>"
      ]
    },
    {
      "cell_type": "code",
      "metadata": {
        "id": "DWjYI9Qr8i4I"
      },
      "source": [
        "import pandas as pd\n",
        "import numpy as np\n",
        "import glob\n",
        "import sys\n",
        "from openpyxl import load_workbook\n",
        "import matplotlib.pyplot as plt\n",
        "import seaborn as sns\n",
        "%matplotlib inline"
      ],
      "execution_count": null,
      "outputs": []
    },
    {
      "cell_type": "code",
      "metadata": {
        "id": "wdf56UmR8xoS"
      },
      "source": [
        "from google.colab import files\n",
        "uploaded=files.upload()"
      ],
      "execution_count": null,
      "outputs": []
    },
    {
      "cell_type": "code",
      "metadata": {
        "id": "M31oQImgDB9Z"
      },
      "source": [
        "from google.colab import files\n",
        "uploaded=files.upload()"
      ],
      "execution_count": null,
      "outputs": []
    },
    {
      "cell_type": "code",
      "metadata": {
        "id": "dfbH7lHO8zT2"
      },
      "source": [
        "배추_상_가격데이터=pd.read_excel('/content/배추(상, 10kg) 가락시장 가격 데이터.xlsx')\n",
        "배추_특_가격데이터=pd.read_excel('/content/배추(특, 10kg) 가락시장 가격 데이터.xlsx')\n",
        "배추_반입량=pd.read_excel('/content/복사본 배추 반입량(2017~20201031).xlsx')\n",
        "배추_강릉_기상=pd.read_excel('/content/복사본 배추_강릉_기상_20170101_20201031.xlsx')"
      ],
      "execution_count": null,
      "outputs": []
    },
    {
      "cell_type": "code",
      "metadata": {
        "id": "GW1qh4ksGi6N"
      },
      "source": [
        "배추_상_가격데이터.info()"
      ],
      "execution_count": null,
      "outputs": []
    },
    {
      "cell_type": "code",
      "metadata": {
        "id": "KlFT5GzM-C35"
      },
      "source": [
        "배추_상_가격데이터['일자']= 배추_상_가격데이터['일자'].astype('str')"
      ],
      "execution_count": null,
      "outputs": []
    },
    {
      "cell_type": "code",
      "metadata": {
        "id": "BubcnFjqNfp5"
      },
      "source": [
        "배추_특_가격데이터['일자']= 배추_특_가격데이터['일자'].astype('str')"
      ],
      "execution_count": null,
      "outputs": []
    },
    {
      "cell_type": "code",
      "metadata": {
        "id": "vuLvi_wkAwws"
      },
      "source": [
        "배추_상_가격데이터.info()"
      ],
      "execution_count": null,
      "outputs": []
    },
    {
      "cell_type": "code",
      "metadata": {
        "id": "R21pc08HHy-Z"
      },
      "source": [
        "배추_상_가격데이터['일자'] = pd.to_datetime(배추_상_가격데이터['일자'])"
      ],
      "execution_count": null,
      "outputs": []
    },
    {
      "cell_type": "code",
      "metadata": {
        "id": "rI9h5rdbNk-6"
      },
      "source": [
        "배추_특_가격데이터['일자']= pd.to_datetime(배추_특_가격데이터['일자'])"
      ],
      "execution_count": null,
      "outputs": []
    },
    {
      "cell_type": "code",
      "metadata": {
        "id": "S__SRkqRIBm8"
      },
      "source": [
        "배추_상_가격데이터.head()"
      ],
      "execution_count": null,
      "outputs": []
    },
    {
      "cell_type": "code",
      "metadata": {
        "id": "sffHf006Nqkr"
      },
      "source": [
        "배추_특_가격데이터.info()"
      ],
      "execution_count": null,
      "outputs": []
    },
    {
      "cell_type": "code",
      "metadata": {
        "id": "4-6a05ecIDdS"
      },
      "source": [
        "배추_반입량.info()"
      ],
      "execution_count": null,
      "outputs": []
    },
    {
      "cell_type": "code",
      "metadata": {
        "id": "CboDwiMDIJb_"
      },
      "source": [
        "배추_반입량['거래일자']= 배추_반입량['거래일자'].astype('str')"
      ],
      "execution_count": null,
      "outputs": []
    },
    {
      "cell_type": "code",
      "metadata": {
        "id": "8rvs8ZXNIQ8j"
      },
      "source": [
        "배추_반입량.head()"
      ],
      "execution_count": null,
      "outputs": []
    },
    {
      "cell_type": "code",
      "metadata": {
        "id": "yNKchb4lITTR"
      },
      "source": [
        "배추_반입량['거래일자'] = pd.to_datetime(배추_반입량['거래일자'])"
      ],
      "execution_count": null,
      "outputs": []
    },
    {
      "cell_type": "code",
      "metadata": {
        "id": "vns3u7byIah2"
      },
      "source": [
        "배추_반입량.rename(columns = {'일시' : '일자'}, inplace = True)\n",
        "배추_반입량.head()"
      ],
      "execution_count": null,
      "outputs": []
    },
    {
      "cell_type": "code",
      "metadata": {
        "id": "hqZ6UOWJIgT-"
      },
      "source": [
        "배추_강릉_기상.rename(columns = {'일시' : '일자'}, inplace = True)\n",
        "배추_강릉_기상.head()"
      ],
      "execution_count": null,
      "outputs": []
    },
    {
      "cell_type": "code",
      "metadata": {
        "id": "kDlLNIXZJG6c"
      },
      "source": [
        "배추_상_dt=pd.merge(pd.merge(배추_상_가격데이터,배추_반입량,on='일자'),배추_강릉_기상,on='일자')\n",
        "배추_상_dt.head()"
      ],
      "execution_count": null,
      "outputs": []
    },
    {
      "cell_type": "code",
      "metadata": {
        "id": "EfHj4PdOJ7jt"
      },
      "source": [
        "배추_특_dt=pd.merge(pd.merge(배추_특_가격데이터,배추_반입량,on='일자'),배추_강릉_기상,on='일자')\n",
        "배추_특_dt.head()"
      ],
      "execution_count": null,
      "outputs": []
    },
    {
      "cell_type": "code",
      "metadata": {
        "id": "E4NgIoyIN2K2"
      },
      "source": [
        "배추_상_dt.to_excel('배추_상_dt.xlsx',index=False)\n",
        "배추_특_dt.to_excel('배추_특_dt.xlsx',index=False)"
      ],
      "execution_count": null,
      "outputs": []
    },
    {
      "cell_type": "code",
      "metadata": {
        "id": "IX-tG58lOV4F"
      },
      "source": [
        "##########양파########"
      ],
      "execution_count": null,
      "outputs": []
    },
    {
      "cell_type": "code",
      "metadata": {
        "id": "gWdFTGNrPOZ3"
      },
      "source": [
        "from google.colab import files\n",
        "uploaded=files.upload()"
      ],
      "execution_count": null,
      "outputs": []
    },
    {
      "cell_type": "code",
      "metadata": {
        "id": "qqC57G8PPREZ"
      },
      "source": [
        "양파_상_가격데이터=pd.read_excel('/content/양파 (상, 20kg) 가락시장 가격 데이터.xlsx')\n",
        "양파_특_가격데이터=pd.read_excel('/content/양파 (특, 20kg) 가락시장 가격 데이터.xlsx')\n",
        "양파_반입량=pd.read_excel('/content/복사본 양파 반입량(2017~20201031).xlsx')\n",
        "양파_해남_기상=pd.read_excel('/content/복사본 양파_해남_기상_20170101_20201031.xlsx')"
      ],
      "execution_count": null,
      "outputs": []
    },
    {
      "cell_type": "code",
      "metadata": {
        "id": "JhjKiddeQYqJ"
      },
      "source": [
        "# 가격데이터 일자 컬럼 -> 날짜데이터로 변환\n",
        "양파_상_가격데이터['일자'] = 양파_상_가격데이터.일자.astype(str)\n",
        "양파_상_가격데이터['일자'] = pd.to_datetime(양파_상_가격데이터['일자'],errors='coerce')\n",
        "\n",
        "양파_특_가격데이터['일자'] = 양파_특_가격데이터.일자.astype(str)\n",
        "양파_특_가격데이터['일자'] = pd.to_datetime(양파_특_가격데이터['일자'],errors='coerce')\n",
        "\n",
        "# 기상 데이터도 일자 변환해주기\n",
        "양파_해남_기상['일시'] = 양파_해남_기상.일시.astype(str)\n",
        "양파_해남_기상['일시'] = pd.to_datetime(양파_해남_기상['일시'],errors='coerce')\n",
        "\n",
        "# 반입량 데이터도 일자 변환해주기\n",
        "\n",
        "양파_반입량['거래일자'] = 양파_반입량.거래일자.astype(str)\n",
        "양파_반입량['거래일자'] = pd.to_datetime(양파_반입량['거래일자'],errors='coerce')"
      ],
      "execution_count": null,
      "outputs": []
    },
    {
      "cell_type": "code",
      "metadata": {
        "id": "wYW0mIDBU8Gi"
      },
      "source": [
        "양파_반입량.rename(columns={'거래일자' : '일자'}, inplace=True)\n",
        "양파_해남_기상.rename(columns={'일시' : '일자'}, inplace=True)"
      ],
      "execution_count": null,
      "outputs": []
    },
    {
      "cell_type": "code",
      "metadata": {
        "id": "XDiDEtp7R0Em"
      },
      "source": [
        "양파_상_dt = pd.merge(pd.merge(양파_상_가격데이터, 양파_해남_기상, on='일자', ),양파_반입량, on='일자')\n",
        "양파_상_dt.to_excel('양파_상_dt.xlsx',index=False)"
      ],
      "execution_count": null,
      "outputs": []
    },
    {
      "cell_type": "code",
      "metadata": {
        "id": "DjH9ZnO-VNtS"
      },
      "source": [
        "양파_특_dt = pd.merge(pd.merge(양파_특_가격데이터, 양파_해남_기상, on='일자', ),양파_반입량, on='일자')\n",
        "양파_특_dt.to_excel('양파_특_dt.xlsx',index=False)"
      ],
      "execution_count": null,
      "outputs": []
    },
    {
      "cell_type": "code",
      "metadata": {
        "id": "cFDnUztyVVV8"
      },
      "source": [
        ""
      ],
      "execution_count": null,
      "outputs": []
    }
  ]
}