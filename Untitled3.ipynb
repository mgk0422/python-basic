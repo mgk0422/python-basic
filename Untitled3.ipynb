{
  "nbformat": 4,
  "nbformat_minor": 0,
  "metadata": {
    "colab": {
      "name": "Untitled3.ipynb",
      "private_outputs": true,
      "provenance": [],
      "authorship_tag": "ABX9TyMx3FfHt70T/X3LWuSsZWAz",
      "include_colab_link": true
    },
    "kernelspec": {
      "name": "python3",
      "display_name": "Python 3"
    }
  },
  "cells": [
    {
      "cell_type": "markdown",
      "metadata": {
        "id": "view-in-github",
        "colab_type": "text"
      },
      "source": [
        "<a href=\"https://colab.research.google.com/github/mgk0422/python-basic/blob/master/Untitled3.ipynb\" target=\"_parent\"><img src=\"https://colab.research.google.com/assets/colab-badge.svg\" alt=\"Open In Colab\"/></a>"
      ]
    },
    {
      "cell_type": "code",
      "metadata": {
        "id": "1LugNA6TU9uX"
      },
      "source": [
        "from google.colab import files\n",
        "uploaded=files.upload()"
      ],
      "execution_count": null,
      "outputs": []
    },
    {
      "cell_type": "code",
      "metadata": {
        "id": "Spg2RzH3VL3k"
      },
      "source": [
        "import pandas as pd\n",
        "import numpy as np\n",
        "import time\n",
        "import itertools\n",
        "import scipy\n",
        "from sklearn.model_selection import train_test_split\n",
        "import statsmodels.api as sm"
      ],
      "execution_count": null,
      "outputs": []
    },
    {
      "cell_type": "code",
      "metadata": {
        "id": "Xlnmc2RkVAQq"
      },
      "source": [
        "무_상_경락가=pd.read_excel('/content/무(상) 경락가 통합2013-2020.xlsx')\n",
        "무_특_경락가=pd.read_excel('/content/무(특) 경락가 통합2013-2020.xlsx')\n",
        "무_반입량=pd.read_excel('/content/무 반입량 통합2013-2020.xlsx')\n",
        "무_날씨=pd.read_excel('/content/무_홍천20130101_20201031.xlsx')\n",
        "무_반입량.head()"
      ],
      "execution_count": null,
      "outputs": []
    },
    {
      "cell_type": "code",
      "metadata": {
        "id": "sNoTxEfFVIvo"
      },
      "source": [
        "# 가격데이터 일자 컬럼 -> 날짜데이터로 변환\n",
        "무_상_경락가['일자'] =무_상_경락가.일자.astype(str)\n",
        "무_상_경락가['일자'] = pd.to_datetime(무_상_경락가['일자'])\n",
        "\n",
        "무_특_경락가['일자'] = 무_특_경락가.일자.astype(str)\n",
        "무_특_경락가['일자'] = pd.to_datetime(무_특_경락가['일자'])\n",
        "\n",
        "# 기상 데이터도 일자 변환해주기\n",
        "무_날씨['일시'] = 무_날씨.일시.astype(str)\n",
        "무_날씨['일시'] = pd.to_datetime(무_날씨['일시'])\n",
        "\n",
        "# 반입량 데이터도 일자 변환해주기\n",
        "\n",
        "무_반입량['일자'] = 무_반입량.일자.astype(str)\n",
        "무_반입량['일자'] = pd.to_datetime(무_반입량['일자'])"
      ],
      "execution_count": null,
      "outputs": []
    },
    {
      "cell_type": "code",
      "metadata": {
        "id": "KC6qtomZVVF_"
      },
      "source": [
        "무_상_경락가.rename(columns={'거래일자' : '일자'}, inplace=True)\n",
        "무_특_경락가.rename(columns={'거래일자' : '일자'}, inplace=True)\n",
        "무_날씨.rename(columns={'일시' : '일자'}, inplace=True)\n",
        "무_반입량.rename(columns={'일시' : '일자'}, inplace=True)"
      ],
      "execution_count": null,
      "outputs": []
    },
    {
      "cell_type": "code",
      "metadata": {
        "id": "So9aopLHVW0Z"
      },
      "source": [
        "무_상_마지막= pd.merge(pd.merge(무_상_경락가, 무_날씨, on='일자' ), 무_반입량, on='일자')\n",
        "무_특_마지막 = pd.merge(pd.merge(무_특_경락가, 무_날씨, on='일자' ), 무_반입량, on='일자')"
      ],
      "execution_count": null,
      "outputs": []
    },
    {
      "cell_type": "code",
      "metadata": {
        "id": "o2ue4sw4VY-A"
      },
      "source": [
        "유가=pd.read_excel('/content/주유소_평균판매가격.xlsx')\n",
        "유가.head()"
      ],
      "execution_count": null,
      "outputs": []
    },
    {
      "cell_type": "code",
      "metadata": {
        "id": "CoAoBGKAVam7"
      },
      "source": [
        "무_상=pd.merge(무_상_마지막, 유가, on='일자')\n",
        "무_상.head()"
      ],
      "execution_count": null,
      "outputs": []
    },
    {
      "cell_type": "code",
      "metadata": {
        "id": "5pKDMvXbVct3"
      },
      "source": [
        "무_특=pd.merge(무_특_마지막, 유가, on='일자')\n",
        "무_특.head()"
      ],
      "execution_count": null,
      "outputs": []
    },
    {
      "cell_type": "code",
      "metadata": {
        "id": "Oju74KAJVehr"
      },
      "source": [
        "무_상.to_excel('무_상.xlsx',index=False)\n",
        "무_특.to_excel('무_특.xlsx',index=False)"
      ],
      "execution_count": null,
      "outputs": []
    },
    {
      "cell_type": "code",
      "metadata": {
        "id": "Svkxls6UVhPT"
      },
      "source": [
        ""
      ],
      "execution_count": null,
      "outputs": []
    }
  ]
}