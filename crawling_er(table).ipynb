{
  "nbformat": 4,
  "nbformat_minor": 0,
  "metadata": {
    "colab": {
      "name": "crawling_er(table)",
      "private_outputs": true,
      "provenance": [],
      "authorship_tag": "ABX9TyObJcWGP8HhhZVYxbI4ehaK",
      "include_colab_link": true
    },
    "kernelspec": {
      "name": "python3",
      "display_name": "Python 3"
    }
  },
  "cells": [
    {
      "cell_type": "markdown",
      "metadata": {
        "id": "view-in-github",
        "colab_type": "text"
      },
      "source": [
        "<a href=\"https://colab.research.google.com/github/mgk0422/python-basic/blob/master/crawling_er(table).ipynb\" target=\"_parent\"><img src=\"https://colab.research.google.com/assets/colab-badge.svg\" alt=\"Open In Colab\"/></a>"
      ]
    },
    {
      "cell_type": "code",
      "metadata": {
        "id": "1w7iEoNURflB"
      },
      "source": [
        "# 환율"
      ],
      "execution_count": null,
      "outputs": []
    },
    {
      "cell_type": "code",
      "metadata": {
        "id": "2X9_n8OcpP8A"
      },
      "source": [
        "!pip install selenium"
      ],
      "execution_count": null,
      "outputs": []
    },
    {
      "cell_type": "code",
      "metadata": {
        "id": "yw6fPY1ctnFR"
      },
      "source": [
        "!apt-get update\r\n",
        "!apt-get install chromium-chromedriver\r\n",
        "import os, subprocess\r\n",
        "import sys"
      ],
      "execution_count": null,
      "outputs": []
    },
    {
      "cell_type": "code",
      "metadata": {
        "id": "2UbraF6H860z"
      },
      "source": [
        "!pip install Selenium\r\n",
        "\r\n",
        "!apt-get update # to update ubuntu to correctly run apt install\r\n",
        "\r\n",
        "!apt install chromium-chromedriver"
      ],
      "execution_count": null,
      "outputs": []
    },
    {
      "cell_type": "code",
      "metadata": {
        "id": "uOhxDEF589lg"
      },
      "source": [
        "from selenium import webdriver\r\n",
        "chrome_options = webdriver.ChromeOptions()\r\n",
        "chrome_options.add_argument('--headless') #내부 창을 띄울 수 없으므로 설정\r\n",
        "chrome_options.add_argument('--no-sandbox')\r\n",
        "chrome_options.add_argument('--disable-dev-shm-usage')\r\n",
        "wd = webdriver.Chrome('chromedriver',chrome_options=chrome_options)\r\n",
        "wd.get(\"http://naver.com\")"
      ],
      "execution_count": null,
      "outputs": []
    },
    {
      "cell_type": "code",
      "metadata": {
        "id": "_V-KFKCZvso6"
      },
      "source": [
        "options = webdriver.ChromeOptions()\r\n",
        "options.add_argument('headless')  # headless를 주면 동작하는 모습을 볼 수 없음\r\n",
        "options.add_argument('--no-sandbox')\r\n",
        "options.add_argument('--disable-dev-shm-usage')\r\n",
        "options.add_argument('disable-gpu')\r\n",
        "options.add_argument('lang=ko_KR')\r\n",
        "driver = webdriver.Chrome('chromedriver', options=options)"
      ],
      "execution_count": null,
      "outputs": []
    },
    {
      "cell_type": "code",
      "metadata": {
        "id": "Y-H2gPlbviTO"
      },
      "source": [
        "driver.get('https://search.naver.com/search.naver?where=nexearch&sm=top_hty&fbm=1&ie=utf8&query=%ED%99%98%EC%9C%A8%EC%A1%B0%ED%9A%8C')\r\n",
        "table = driver.find_element_by_xpath('//*[@id=\"_cs_foreigninfo\"]/div/div[2]/div/div[1]/div[2]/table/tbody')"
      ],
      "execution_count": null,
      "outputs": []
    },
    {
      "cell_type": "code",
      "metadata": {
        "id": "nwMe2-XVygPs"
      },
      "source": [
        "table =table.text\r\n",
        "table=table.split('\\n')\r\n",
        "table"
      ],
      "execution_count": null,
      "outputs": []
    },
    {
      "cell_type": "code",
      "metadata": {
        "id": "fM1HbABb2EFq"
      },
      "source": [
        "def divide_list(l, n): \r\n",
        "    # 리스트 l의 길이가 n이면 계속 반복\r\n",
        "    for i in range(0, len(l), n): \r\n",
        "        yield l[i:i + n] \r\n",
        "# 한 리스트에 몇개씩 담을지 결정\r\n",
        "n = 5\r\n",
        "result = list(divide_list(table, n))\r\n",
        "print(result)\r\n",
        "print(len(result))"
      ],
      "execution_count": null,
      "outputs": []
    },
    {
      "cell_type": "code",
      "metadata": {
        "id": "UwrfTaqFGRRn"
      },
      "source": [
        "import pandas as pd\r\n",
        "result=pd.DataFrame(result)\r\n",
        "result.columns=['통화명','매매기준율','0','전일대비','등락률']\r\n",
        "result"
      ],
      "execution_count": null,
      "outputs": []
    },
    {
      "cell_type": "code",
      "metadata": {
        "id": "mc-MzPwSRdrc"
      },
      "source": [
        "result.drop(['0'],axis=1,inplace=True)\r\n",
        "result"
      ],
      "execution_count": null,
      "outputs": []
    },
    {
      "cell_type": "code",
      "metadata": {
        "id": "2_0lGhZc49Qo"
      },
      "source": [
        ""
      ],
      "execution_count": null,
      "outputs": []
    }
  ]
}