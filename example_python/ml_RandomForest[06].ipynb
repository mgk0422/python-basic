{
 "cells": [
  {
   "cell_type": "code",
   "execution_count": 63,
   "metadata": {},
   "outputs": [],
   "source": [
    "# 앙상블의 유형은 일반적으로 보팅 배깅 부스팅으로 구분할수있다\n",
    "# 뛰어난 성능을 가진 모델들로만 구성하는 것보다 성능이 떨어지더라도\n",
    "# 서로 다른 유형의 모델을 섞는 것이 오히려 전체 성능에 도움이 된다\n",
    "# 부스팅은\n",
    "# 보팅 여러개의 학습지를 사용하는것\n",
    "# 하드보팅 다수결 // 소프트보팅 클래스별 평균"
   ]
  },
  {
   "cell_type": "code",
   "execution_count": 107,
   "metadata": {},
   "outputs": [],
   "source": [
    "from sklearn.tree import DecisionTreeClassifier\n",
    "from sklearn.linear_model import LogisticRegression\n",
    "from sklearn.ensemble import RandomForestClassifier\n",
    "# ensemble 위한 분류학습기 추가하기\n",
    "\n",
    "from sklearn.neighbors import KNeighborsClassifier\n",
    "from sklearn.ensemble import VotingClassifier\n",
    "\n",
    "from sklearn.preprocessing import LabelEncoder , OneHotEncoder , StandardScaler , MinMaxScaler , Binarizer \n",
    "from sklearn.model_selection import train_test_split , GridSearchCV\n",
    "\n",
    "from sklearn.metrics import accuracy_score, precision_score, recall_score, f1_score , roc_auc_score\n",
    "from sklearn.metrics import confusion_matrix, precision_recall_curve , roc_curve\n",
    "\n",
    "import pandas as pd\n",
    "import numpy  as np\n",
    "import matplotlib.pyplot as plt\n",
    "import seaborn as sns\n",
    "\n",
    "import missingno as ms\n",
    "%matplotlib inline\n",
    "\n",
    "import warnings\n",
    "warnings.filterwarnings('ignore')\n",
    "\n",
    "from sklearn.datasets import load_breast_cancer"
   ]
  },
  {
   "cell_type": "markdown",
   "metadata": {},
   "source": [
    "### RandomForest (Bagging)"
   ]
  },
  {
   "cell_type": "code",
   "execution_count": 65,
   "metadata": {},
   "outputs": [],
   "source": [
    "# 배깅은 보팅과는 달리 동일한 알고리즘으로 여러 분류기를 만들어서 \n",
    "# 보팅으로 최종결정하는 알고리즘\n",
    "\n",
    "# 부트스트래핑은 전체 데이터에서 일부 데이터의 중첩을 허용하는 방식(복원추출)"
   ]
  },
  {
   "cell_type": "markdown",
   "metadata": {},
   "source": [
    "- 배깅 장점\n",
    "- 앙상블 방식의 알고리즘 중 수행속도가 빠르다\n",
    "- 다양한 데이터세트에서의 좋은 성능\n",
    "\n",
    "- 단점\n",
    "- 튜닝을 위한 시간이 오래걸린다 "
   ]
  },
  {
   "cell_type": "code",
   "execution_count": 66,
   "metadata": {},
   "outputs": [],
   "source": [
    "# HAR 데이터를 이용해서 RandomForest 배깅을 이용한 분류예측"
   ]
  },
  {
   "cell_type": "code",
   "execution_count": 67,
   "metadata": {},
   "outputs": [],
   "source": [
    "# 각 데이터 파일들은 공백으로 분리되어 있으므로 read_csv에서 공백문자를 sep으로 할당\n",
    "feature_name_df = pd.read_csv('./data/features.txt', sep='\\s+',header=None, names=['column_index', 'column_name'])"
   ]
  },
  {
   "cell_type": "code",
   "execution_count": 68,
   "metadata": {},
   "outputs": [],
   "source": [
    "# 데이터프레임에 피처명을 컬럼으로 뷰여하기 위해 리스트 객체로 다시 반환\n",
    "feature_name = feature_name_df.iloc[: , 1].values.tolist()"
   ]
  },
  {
   "cell_type": "code",
   "execution_count": 69,
   "metadata": {},
   "outputs": [],
   "source": [
    "def get_new_feature_name_df(old_feature_name_df):\n",
    "    feature_dup_df = pd.DataFrame(data=old_feature_name_df.groupby('column_name').cumcount(), columns=['dup_cnt'])\n",
    "    feature_dup_df = feature_dup_df.reset_index()\n",
    "    new_feature_name_df = pd.merge(old_feature_name_df.reset_index(), feature_dup_df, how='outer')\n",
    "    new_feature_name_df['column_name'] = new_feature_name_df[['column_name', 'dup_cnt']].apply(lambda x : x[0]+'_'+str(x[1]) \n",
    "                                                                                           if x[1] >0 else x[0] ,  axis=1)\n",
    "    new_feature_name_df = new_feature_name_df.drop(['index'], axis=1)\n",
    "    return new_feature_name_df"
   ]
  },
  {
   "cell_type": "code",
   "execution_count": 70,
   "metadata": {
    "scrolled": true
   },
   "outputs": [
    {
     "data": {
      "text/html": [
       "<div>\n",
       "<style scoped>\n",
       "    .dataframe tbody tr th:only-of-type {\n",
       "        vertical-align: middle;\n",
       "    }\n",
       "\n",
       "    .dataframe tbody tr th {\n",
       "        vertical-align: top;\n",
       "    }\n",
       "\n",
       "    .dataframe thead th {\n",
       "        text-align: right;\n",
       "    }\n",
       "</style>\n",
       "<table border=\"1\" class=\"dataframe\">\n",
       "  <thead>\n",
       "    <tr style=\"text-align: right;\">\n",
       "      <th></th>\n",
       "      <th>column_index</th>\n",
       "      <th>column_name</th>\n",
       "      <th>dup_cnt</th>\n",
       "    </tr>\n",
       "  </thead>\n",
       "  <tbody>\n",
       "    <tr>\n",
       "      <th>0</th>\n",
       "      <td>1</td>\n",
       "      <td>tBodyAcc-mean()-X</td>\n",
       "      <td>0</td>\n",
       "    </tr>\n",
       "    <tr>\n",
       "      <th>1</th>\n",
       "      <td>2</td>\n",
       "      <td>tBodyAcc-mean()-Y</td>\n",
       "      <td>0</td>\n",
       "    </tr>\n",
       "    <tr>\n",
       "      <th>2</th>\n",
       "      <td>3</td>\n",
       "      <td>tBodyAcc-mean()-Z</td>\n",
       "      <td>0</td>\n",
       "    </tr>\n",
       "    <tr>\n",
       "      <th>3</th>\n",
       "      <td>4</td>\n",
       "      <td>tBodyAcc-std()-X</td>\n",
       "      <td>0</td>\n",
       "    </tr>\n",
       "    <tr>\n",
       "      <th>4</th>\n",
       "      <td>5</td>\n",
       "      <td>tBodyAcc-std()-Y</td>\n",
       "      <td>0</td>\n",
       "    </tr>\n",
       "  </tbody>\n",
       "</table>\n",
       "</div>"
      ],
      "text/plain": [
       "   column_index        column_name  dup_cnt\n",
       "0             1  tBodyAcc-mean()-X        0\n",
       "1             2  tBodyAcc-mean()-Y        0\n",
       "2             3  tBodyAcc-mean()-Z        0\n",
       "3             4   tBodyAcc-std()-X        0\n",
       "4             5   tBodyAcc-std()-Y        0"
      ]
     },
     "execution_count": 70,
     "metadata": {},
     "output_type": "execute_result"
    }
   ],
   "source": [
    "new_feature_name_df=get_new_feature_name_df(feature_name_df)\n",
    "new_feature_name_df.head()"
   ]
  },
  {
   "cell_type": "code",
   "execution_count": 71,
   "metadata": {},
   "outputs": [],
   "source": [
    "feature_name = new_feature_name_df.iloc[: , 1].values.tolist()"
   ]
  },
  {
   "cell_type": "code",
   "execution_count": 72,
   "metadata": {},
   "outputs": [
    {
     "name": "stdout",
     "output_type": "stream",
     "text": [
      "<class 'pandas.core.frame.DataFrame'>\n"
     ]
    }
   ],
   "source": [
    "X_train = pd.read_csv('./data/train/X_train.txt', sep='\\s+', header=None,names=feature_name)\n",
    "print( type(X_train))\n",
    "X_test = pd.read_csv('./data/test/X_test.txt', sep='\\s+', header=None,names=feature_name)\n",
    "    \n",
    "# 학습 레이블과 테스트 레이블 데이터를 데이터 프레임으로 로딩, 컬럼명은 action으로 부여\n",
    "y_train = pd.read_csv('./data/train/y_train.txt', sep='\\s+', names=['action'])\n",
    "y_test = pd.read_csv('./data/test/y_test.txt', sep='\\s+', names=['action'])"
   ]
  },
  {
   "cell_type": "code",
   "execution_count": 73,
   "metadata": {},
   "outputs": [],
   "source": [
    "# 랜덤포레스트 알고리즘 이용한 학습/예측/평가\n",
    "rf_model=RandomForestClassifier(random_state=0)\n",
    "rf_model.fit(X_train,y_train) #학습\n",
    "y_pred=rf_model.predict(X_test)"
   ]
  },
  {
   "cell_type": "code",
   "execution_count": 74,
   "metadata": {},
   "outputs": [
    {
     "name": "stdout",
     "output_type": "stream",
     "text": [
      "answer       action\n",
      "0          5\n",
      "1          5\n",
      "2          5\n",
      "3          5\n",
      "4          5\n",
      "...      ...\n",
      "3157       2\n",
      "3158       2\n",
      "3159       2\n",
      "3160       2\n",
      "3161       2\n",
      "\n",
      "[3162 rows x 1 columns]\n",
      "guess [5 5 5 ... 2 2 1]\n",
      "RF ACCURACY : 0.9108159392789373\n"
     ]
    }
   ],
   "source": [
    "print('answer',y_test)\n",
    "print('guess',y_pred)\n",
    "accuracy=accuracy_score(y_test,y_pred)\n",
    "print('RF ACCURACY :',accuracy)"
   ]
  },
  {
   "cell_type": "code",
   "execution_count": 75,
   "metadata": {},
   "outputs": [
    {
     "data": {
      "text/plain": [
       "GridSearchCV(cv=5, estimator=RandomForestClassifier(n_jobs=-1, random_state=0),\n",
       "             n_jobs=-1,\n",
       "             param_grid={'max_depth': [6, 8, 10, 12],\n",
       "                         'min_samples_leaf': [8, 12, 18],\n",
       "                         'min_samples_split': [8, 16, 20],\n",
       "                         'n_estimators': [100]})"
      ]
     },
     "execution_count": 75,
     "metadata": {},
     "output_type": "execute_result"
    }
   ],
   "source": [
    "# GridSeatchCV 교차검증 및 하이퍼 파라미터 튜닝\n",
    "\n",
    "# 파라미터 튜닝을 위해서  params을 만들어야함\n",
    "params = {\n",
    "    'n_estimators' : [100],\n",
    "    'max_depth' : [6,8,10,12],\n",
    "    'min_samples_leaf' :[8,12,18],\n",
    "    'min_samples_split' : [8,16,20]\n",
    "}\n",
    "\n",
    "cv_rf_model = RandomForestClassifier(random_state=0,n_jobs=-1)\n",
    "grid_cv = GridSearchCV(cv_rf_model, param_grid=params,cv=5,n_jobs=-1)\n",
    "grid_cv.fit(X_train,y_train)"
   ]
  },
  {
   "cell_type": "code",
   "execution_count": 76,
   "metadata": {},
   "outputs": [
    {
     "name": "stdout",
     "output_type": "stream",
     "text": [
      "최적의 파라미터: {'max_depth': 12, 'min_samples_leaf': 12, 'min_samples_split': 8, 'n_estimators': 100}\n",
      "예측 정확도: 0.9115538406587987\n"
     ]
    }
   ],
   "source": [
    "print('최적의 파라미터:',grid_cv.best_params_)\n",
    "print('예측 정확도:',grid_cv.best_score_)"
   ]
  },
  {
   "cell_type": "code",
   "execution_count": 101,
   "metadata": {},
   "outputs": [],
   "source": [
    "# 최적의 하이퍼 피라미터를 이용하여 랜덤 포레스트를 다시 학습시켜보세요\n",
    "hyper_gbc_model=RandomForestClassifier(max_depth=12,\n",
    "                                       min_samples_leaf=12,\n",
    "                                       min_samples_split=8,\n",
    "                                       n_estimators=100,\n",
    "                                       random_state=0,\n",
    "                                       n_jobs=-1)\n",
    "hyper_gbc_model.fit(X_train,y_train)\n",
    "hyper_y_pred=hyper_rf_model.predict(X_test)"
   ]
  },
  {
   "cell_type": "code",
   "execution_count": 102,
   "metadata": {},
   "outputs": [
    {
     "name": "stdout",
     "output_type": "stream",
     "text": [
      "튜닝을 통한 예측 정확도: 0.9041745730550285\n"
     ]
    }
   ],
   "source": [
    "print('튜닝을 통한 예측 정확도:',accuracy_score(y_test,hyper_y_pred))"
   ]
  },
  {
   "cell_type": "code",
   "execution_count": 108,
   "metadata": {},
   "outputs": [
    {
     "name": "stdout",
     "output_type": "stream",
     "text": [
      "angle(X,gravityMean)              0.038086\n",
      "tGravityAcc-mean()-Y              0.032561\n",
      "tGravityAcc-min()-X               0.032025\n",
      "tGravityAcc-max()-X               0.026187\n",
      "tGravityAcc-max()-Y               0.025790\n",
      "angle(Y,gravityMean)              0.024956\n",
      "tGravityAcc-mean()-X              0.024410\n",
      "tGravityAcc-energy()-X            0.023287\n",
      "tGravityAcc-min()-Y               0.022826\n",
      "tGravityAcc-energy()-Y            0.015522\n",
      "tBodyAcc-max()-X                  0.013679\n",
      "fBodyAcc-energy()-X               0.012200\n",
      "fBodyAccJerk-bandsEnergy()-1,8    0.011923\n",
      "tGravityAcc-max()-Z               0.011163\n",
      "tGravityAcc-arCoeff()-Z,1         0.011096\n",
      "tBodyAccJerk-iqr()-Y              0.010639\n",
      "tGravityAcc-min()-Z               0.010307\n",
      "tGravityAcc-arCoeff()-Z,2         0.010232\n",
      "fBodyAccJerk-mean()-X             0.009778\n",
      "tGravityAccMag-std()              0.009731\n",
      "dtype: float64\n"
     ]
    }
   ],
   "source": [
    "# 피처임포턴트 시각화 해보세요!\n",
    "ftr_importances_values=hyper_gbc_model.feature_importances_\n",
    "ftr_importances=pd.Series(ftr_importances_values,index=X_train.columns)\n",
    "ftr_top20=ftr_importances.sort_values(ascending=False)[:20]\n",
    "print(ftr_top20)"
   ]
  },
  {
   "cell_type": "code",
   "execution_count": null,
   "metadata": {},
   "outputs": [],
   "source": []
  }
 ],
 "metadata": {
  "kernelspec": {
   "display_name": "Python 3",
   "language": "python",
   "name": "python3"
  },
  "language_info": {
   "codemirror_mode": {
    "name": "ipython",
    "version": 3
   },
   "file_extension": ".py",
   "mimetype": "text/x-python",
   "name": "python",
   "nbconvert_exporter": "python",
   "pygments_lexer": "ipython3",
   "version": "3.8.3"
  }
 },
 "nbformat": 4,
 "nbformat_minor": 4
}
