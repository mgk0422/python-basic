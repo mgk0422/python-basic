{
  "nbformat": 4,
  "nbformat_minor": 0,
  "metadata": {
    "colab": {
      "name": "ml_xgboost[08]",
      "provenance": [],
      "private_outputs": true
    },
    "kernelspec": {
      "name": "python3",
      "display_name": "Python 3"
    }
  },
  "cells": [
    {
      "cell_type": "code",
      "metadata": {
        "id": "qt42JosokA9k"
      },
      "source": [
        "from sklearn.tree import DecisionTreeClassifier\n",
        "from sklearn.linear_model import LogisticRegression\n",
        "from sklearn.ensemble import RandomForestClassifier\n",
        "\n",
        "from sklearn.neighbors import KNeighborsClassifier\n",
        "from sklearn.ensemble import VotingClassifier\n",
        "\n",
        "from sklearn.preprocessing import LabelEncoder , OneHotEncoder , StandardScaler , MinMaxScaler , Binarizer \n",
        "from sklearn.model_selection import train_test_split , GridSearchCV\n",
        "\n",
        "from sklearn.metrics import accuracy_score, precision_score, recall_score, f1_score , roc_auc_score\n",
        "from sklearn.metrics import confusion_matrix, precision_recall_curve , roc_curve\n",
        "\n",
        "import pandas as pd\n",
        "import numpy  as np\n",
        "import matplotlib.pyplot as plt\n",
        "import seaborn as sns\n",
        "\n",
        "import missingno as ms\n",
        "%matplotlib inline\n",
        "\n",
        "import warnings\n",
        "warnings.filterwarnings('ignore')"
      ],
      "execution_count": null,
      "outputs": []
    },
    {
      "cell_type": "markdown",
      "metadata": {
        "id": "nO8kmS_BqsJI"
      },
      "source": [
        "# XGBoost\n",
        "- 트리 기반의 알고지름\n",
        "- 뛰어난 예측 성능\n",
        "- 빠른 수행시간\n",
        "- 병렬 (멀티) 같이 수행가능\n",
        "\n",
        "- 일반 파라미터 \n",
        "- 스래드의 개수나 slient모드의 선택을 위한 파라미터"
      ]
    },
    {
      "cell_type": "code",
      "metadata": {
        "id": "29PDSOruq-WL"
      },
      "source": [
        "from sklearn.datasets import load_breast_cancer\n",
        "dataset=load_breast_cancer()\n",
        "# dataset.keys()\n",
        "features=dataset.data\n",
        "#featurs\n",
        "label=dataset.target # 0,1로 구성 이진분류\n",
        "#label\n",
        "\n",
        "cancer_df=pd.DataFrame(data=features,columns=dataset.feature_names)\n",
        "cancer_df['target']=label\n",
        "cancer_df.head()"
      ],
      "execution_count": null,
      "outputs": []
    },
    {
      "cell_type": "code",
      "metadata": {
        "id": "TNZ2DBnasZ0n"
      },
      "source": [
        "# 클래스 분포비율 확인\n",
        "cancer_df['target'].value_counts()"
      ],
      "execution_count": null,
      "outputs": []
    },
    {
      "cell_type": "code",
      "metadata": {
        "id": "rbk8iDZcx_z9"
      },
      "source": [
        "X_train,X_test,y_train,y_test=train_test_split(features,\n",
        "                                               label,\n",
        "                                               test_size=0.2,\n",
        "                                               random_state=100)"
      ],
      "execution_count": null,
      "outputs": []
    },
    {
      "cell_type": "markdown",
      "metadata": {
        "id": "Th8w6p_Rtx9s"
      },
      "source": [
        "- sklearn XGBoost 적용"
      ]
    },
    {
      "cell_type": "code",
      "metadata": {
        "id": "n4JwZHo0ykE-"
      },
      "source": [
        "# 학습을 위해 분류기 생성\n",
        "from xgboost import XGBRFClassifier"
      ],
      "execution_count": null,
      "outputs": []
    },
    {
      "cell_type": "code",
      "metadata": {
        "id": "LOCY_YAdyqVc"
      },
      "source": [
        "sklearn_xgboost_model=XGBRFClassifier(n_estimators=400,\n",
        "                                      learning_rate=0.1,\n",
        "                                      max_depth=3) # 0.3을 디폴트\n",
        "sklearn_xgboost_model.fit(X_train,y_train)"
      ],
      "execution_count": null,
      "outputs": []
    },
    {
      "cell_type": "code",
      "metadata": {
        "id": "8e9037Dxy9M-"
      },
      "source": [
        "y_pred=sklearn_xgboost_model.predict(X_test)"
      ],
      "execution_count": null,
      "outputs": []
    },
    {
      "cell_type": "code",
      "metadata": {
        "id": "g-IDfU1Pz-z3"
      },
      "source": [
        "# 하이퍼파라미터 튜닝을 이용한 예측 정확도를 실습해 보세요!!!\n",
        "# 혼동행렬, 정확도, 정밀도, 재현율, F1 , AUC 확인까지\n",
        "\n",
        "def classifier_eval(y_test , y_pred) :\n",
        "    print('오차행렬 : ' , confusion_matrix(y_test, y_pred))\n",
        "    print('정확도   : ' , accuracy_score(y_test, y_pred))\n",
        "    print('정밀도   : ' , precision_score(y_test, y_pred))\n",
        "    print('재현율   : ' , recall_score(y_test, y_pred))\n",
        "    print('F1       : ' , f1_score(y_test, y_pred))\n",
        "    print('AUC      : ' , roc_auc_score(y_test, y_pred))\n"
      ],
      "execution_count": null,
      "outputs": []
    },
    {
      "cell_type": "code",
      "metadata": {
        "id": "AjlFkttT0H3C"
      },
      "source": [
        "classifier_eval(y_test,y_pred)"
      ],
      "execution_count": null,
      "outputs": []
    },
    {
      "cell_type": "code",
      "metadata": {
        "id": "NfggtvQ10WKt"
      },
      "source": [
        "# 튜닝\n",
        "# logloss-> 오류에 대한 평가성능지표 리턴 함수\n",
        "sklearn_xgboost_model=XGBRFClassifier(n_estimators=400,\n",
        "                                      learning=0.1,\n",
        "                                      max_depth=3)\n",
        "sklearn_xgboost_model.fit(X_train,y_train,\n",
        "                          early_stopping_rounds=100,\n",
        "                          eval_metric='logloss',\n",
        "                          eval_set=[(X_test,y_test)], # [(X_test,y_test)] 예측할때 쓰는 학습데이터\n",
        "                          verbose=True)"
      ],
      "execution_count": null,
      "outputs": []
    },
    {
      "cell_type": "code",
      "metadata": {
        "id": "CsoZe1q82fdo"
      },
      "source": [
        "y_pred145=sklearn_xgboost_model.predict(X_test)\n",
        "classifier_eval(y_test,y_pred145)"
      ],
      "execution_count": null,
      "outputs": []
    },
    {
      "cell_type": "code",
      "metadata": {
        "id": "rnfz3E3w2v_R"
      },
      "source": [
        "# 피처 중요도 시각화\n",
        "from xgboost import plot_importance\n",
        "plot_importance(sklearn_xgboost_model)"
      ],
      "execution_count": null,
      "outputs": []
    },
    {
      "cell_type": "markdown",
      "metadata": {
        "id": "6Ak9z8dn7GG_"
      },
      "source": [
        "# stacking \n",
        "- 여러 모델을 활용해서 각각 예측 결과를 도출한 뒤 그 예측 결과를 결합해 최종 예측 결과를 만들어내는것"
      ]
    },
    {
      "cell_type": "code",
      "metadata": {
        "id": "mYiRbVJg7Fci"
      },
      "source": [
        "from sklearn.ensemble import AdaBoostClassifier"
      ],
      "execution_count": null,
      "outputs": []
    },
    {
      "cell_type": "code",
      "metadata": {
        "id": "Q1XYJB5V3-We"
      },
      "source": [
        "# 개별 분류기 생성\n",
        "knn_clf=KNeighborsClassifier(n_neighbors=4)\n",
        "rf_clf=RandomForestClassifier(n_estimators=100,random_state=100)\n",
        "dt_clf=DecisionTreeClassifier()\n",
        "ada_clf=AdaBoostClassifier(n_estimators=100)"
      ],
      "execution_count": null,
      "outputs": []
    },
    {
      "cell_type": "code",
      "metadata": {
        "id": "V20hqWfgALF3"
      },
      "source": [
        "# 개별 모델에 대한 학습\n",
        "knn_clf.fit(X_train,y_train)\n",
        "rf_clf.fit(X_train,y_train)\n",
        "dt_clf.fit(X_train,y_train)\n",
        "ada_clf.fit(X_train,y_train)"
      ],
      "execution_count": null,
      "outputs": []
    },
    {
      "cell_type": "code",
      "metadata": {
        "id": "jTbZhlATAW3v"
      },
      "source": [
        "# 개별 모델에 대한 예측을 수행\n",
        "knn_pred=knn_clf.predict(X_test)\n",
        "rf_pred=rf_clf.predict(X_test)\n",
        "dt_pred=dt_clf.predict(X_test)\n",
        "ada_pred=ada_clf.predict(X_test)"
      ],
      "execution_count": null,
      "outputs": []
    },
    {
      "cell_type": "code",
      "metadata": {
        "id": "8mlTfZloAxR7"
      },
      "source": [
        "classifier_eval(y_test,knn_pred)\n",
        "classifier_eval(y_test,rf_pred)\n",
        "classifier_eval(y_test,dt_pred)\n",
        "classifier_eval(y_test,ada_pred)"
      ],
      "execution_count": null,
      "outputs": []
    },
    {
      "cell_type": "code",
      "metadata": {
        "id": "NtR0NmigA-TK"
      },
      "source": [
        "# 학습을 마친 모델의 예측결과를 합쳐서 최종 예측\n",
        "merge_pred=np.array([knn_pred,rf_pred,dt_pred,ada_pred])\n",
        "merge_pred"
      ],
      "execution_count": null,
      "outputs": []
    },
    {
      "cell_type": "code",
      "metadata": {
        "id": "sziTMVF1CN9w"
      },
      "source": [
        "merge_pred=np.transpose(merge_pred)\n",
        "merge_pred"
      ],
      "execution_count": null,
      "outputs": []
    },
    {
      "cell_type": "code",
      "metadata": {
        "id": "YqrbMogwCkIm"
      },
      "source": [
        "# 최종분류기 선택 MetaModel 만들어보자\n",
        "lr_clf=LogisticRegression()\n",
        "lr_clf.fit(merge_pred,y_test)\n",
        "final_pred=lr_clf.predict(merge_pred)\n",
        "classifier_eval(y_test,final_pred)"
      ],
      "execution_count": null,
      "outputs": []
    },
    {
      "cell_type": "code",
      "metadata": {
        "id": "sH_QAIG0EqlW"
      },
      "source": [
        "# 과적합을 보완하기위해서 교차검증을 추가해야한다.\n",
        "# CV세트를 기반으로 코드를 변경\n",
        "# 회귀모델의 평가지료로 활용-> MAE(Mean of Absolute Errors)\n",
        "# 실제값과 예측 값의 차이를 절대값으로 변환된 평균"
      ],
      "execution_count": null,
      "outputs": []
    },
    {
      "cell_type": "code",
      "metadata": {
        "id": "b9nxk_YGHjAr"
      },
      "source": [
        "from sklearn.model_selection import KFold\n",
        "from sklearn.metrics import mean_absolute_error"
      ],
      "execution_count": null,
      "outputs": []
    },
    {
      "cell_type": "code",
      "metadata": {
        "id": "Z0xdsjZCHjjg"
      },
      "source": [
        "def get_stacking_base_datasets(model, X_train_n, y_train_n, X_test_n, n_folds ):\n",
        "    # 지정된 n_folds값으로 KFold 생성.\n",
        "    kf = KFold(n_splits=n_folds, shuffle=False, random_state=0)\n",
        "    #추후에 메타 모델이 사용할 학습 데이터 반환을 위한 넘파이 배열 초기화 \n",
        "    train_fold_pred = np.zeros((X_train_n.shape[0] ,1 ))\n",
        "    test_pred = np.zeros((X_test_n.shape[0],n_folds))\n",
        "    \n",
        "    print(model.__class__.__name__ , ' model 시작 ')\n",
        "    for folder_counter , (train_index, valid_index) in enumerate(kf.split(X_train_n)):\n",
        "        #입력된 학습 데이터에서 기반 모델이 학습/예측할 폴드 데이터 셋 추출 \n",
        "        print('\\t 폴드 세트: ',folder_counter,' 시작 ')\n",
        "        X_tr = X_train_n[train_index] \n",
        "        y_tr = y_train_n[train_index] \n",
        "        X_te = X_train_n[valid_index]  \n",
        "        \n",
        "        #폴드 세트 내부에서 다시 만들어진 학습 데이터로 기반 모델의 학습 수행.\n",
        "        model.fit(X_tr , y_tr)       \n",
        "        #폴드 세트 내부에서 다시 만들어진 검증 데이터로 기반 모델 예측 후 데이터 저장.\n",
        "        train_fold_pred[valid_index, :] = model.predict(X_te).reshape(-1,1)\n",
        "        #입력된 원본 테스트 데이터를 폴드 세트내 학습된 기반 모델에서 예측 후 데이터 저장. \n",
        "        test_pred[:, folder_counter] = model.predict(X_test_n)\n",
        "            \n",
        "    # 폴드 세트 내에서 원본 테스트 데이터를 예측한 데이터를 평균하여 테스트 데이터로 생성 \n",
        "    test_pred_mean = np.mean(test_pred, axis=1).reshape(-1,1)    \n",
        "    \n",
        "    #train_fold_pred는 최종 메타 모델이 사용하는 학습 데이터, test_pred_mean은 테스트 데이터\n",
        "    return train_fold_pred , test_pred_mean\n"
      ],
      "execution_count": null,
      "outputs": []
    },
    {
      "cell_type": "code",
      "metadata": {
        "id": "eriJSdjqHuiB"
      },
      "source": [
        "# CV 적용 모델의 데이터 세트 리턴\n",
        "knn_train,knn_test=get_stacking_base_datasets(knn_clf,X_train,y_train,X_test,5)\n",
        "rf_train,rf_test=get_stacking_base_datasets(rf_clf,X_train,y_train,X_test,5)\n",
        "dt_train,dt_test=get_stacking_base_datasets(dt_clf,X_train,y_train,X_test,5)\n",
        "ada_train,ada_test=get_stacking_base_datasets(ada_clf,X_train,y_train,X_test,5)"
      ],
      "execution_count": null,
      "outputs": []
    },
    {
      "cell_type": "code",
      "metadata": {
        "id": "0tzanDcKbmVr"
      },
      "source": [
        "stacking_train=np.concatenate((knn_train,rf_train,dt_train,ada_train),axis=1)\n",
        "#stacking_train\n",
        "stacking_test=np.concatenate((knn_test,rf_test,dt_test,ada_test),axis=1)\n",
        "#stacking_test"
      ],
      "execution_count": null,
      "outputs": []
    },
    {
      "cell_type": "code",
      "metadata": {
        "id": "ghg-62z1b22l"
      },
      "source": [
        "#메타 모델 학습\n",
        "lr_clf.fit(stacking_train,y_train) #stacking_train는 features 을 가지고있다.\n",
        "stacking_pred=lr_clf.predict(stacking_test)\n",
        "classifier_eval(y_test,stacking_pred)"
      ],
      "execution_count": null,
      "outputs": []
    },
    {
      "cell_type": "code",
      "metadata": {
        "id": "MtEnLFu8d7uX"
      },
      "source": [
        ""
      ],
      "execution_count": null,
      "outputs": []
    }
  ]
}