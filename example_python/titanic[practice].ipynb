{
  "nbformat": 4,
  "nbformat_minor": 0,
  "metadata": {
    "colab": {
      "name": "titanic[생존자예측 실습].ipynb",
      "provenance": [],
      "private_outputs": true
    },
    "kernelspec": {
      "name": "python3",
      "display_name": "Python 3"
    }
  },
  "cells": [
    {
      "cell_type": "code",
      "metadata": {
        "id": "fVcbUK7QDaLf"
      },
      "source": [
        "from sklearn.datasets import load_iris, load_breast_cancer\n",
        "from sklearn.tree import DecisionTreeClassifier\n",
        "from sklearn.model_selection import GridSearchCV, train_test_split\n",
        "from sklearn.metrics import accuracy_score\n",
        "\n",
        "from sklearn.preprocessing import LabelEncoder\n",
        "\n",
        "import pandas as pd\n",
        "import numpy  as np"
      ],
      "execution_count": null,
      "outputs": []
    },
    {
      "cell_type": "code",
      "metadata": {
        "id": "TWKear5GCfv2"
      },
      "source": [
        "# 1. 데이터 로드 및 확인\n",
        "titanic_train=pd.read_csv('/content/sample_data/titanic_train.csv')"
      ],
      "execution_count": null,
      "outputs": []
    },
    {
      "cell_type": "code",
      "metadata": {
        "id": "HZdmDSMzDJGE"
      },
      "source": [
        "titanic_train"
      ],
      "execution_count": null,
      "outputs": []
    },
    {
      "cell_type": "code",
      "metadata": {
        "id": "9J_tjV23DLxH"
      },
      "source": [
        "# 2. 데이터 정보 확인\n",
        "titanic_train.info()"
      ],
      "execution_count": null,
      "outputs": []
    },
    {
      "cell_type": "code",
      "metadata": {
        "id": "o_-nOEsoVnsa"
      },
      "source": [
        "# [간단한 방법이 있음..]\n",
        "\n",
        "# titanic_train['Age'].fillna(titanic_train['Age'].mean(),inplace=True)\n",
        "# titanic_train['Cabin'].fillna('N',inplace=True)\n",
        "# titanic_train['Embarked'].fillna('N',inplace=True)\n",
        "\n",
        "# print('데이터 세트 Null 값 갯수 ',titanic_train.isnull().sum())"
      ],
      "execution_count": null,
      "outputs": []
    },
    {
      "cell_type": "code",
      "metadata": {
        "id": "iV6qI2uIEOxi"
      },
      "source": [
        "# 3. missingno 패키지를 이용한 결측값을 가지는 컬럼 확인 및 처리\n",
        "# -  age는 평균으로, cabin 'N', embarked 'N' 으로 대체\n",
        "import matplotlib as mpl\n",
        "import matplotlib.pyplot as plt\n",
        "%matplotlib inline\n",
        "\n",
        "import missingno as msno"
      ],
      "execution_count": null,
      "outputs": []
    },
    {
      "cell_type": "code",
      "metadata": {
        "id": "jTuIYbpJYknP"
      },
      "source": [
        "print(titanic_train.isnull().sum())"
      ],
      "execution_count": null,
      "outputs": []
    },
    {
      "cell_type": "code",
      "metadata": {
        "id": "7O_lz_ncVWCb"
      },
      "source": [
        "msno.matrix(titanic_train) #결측데이터를 시각화 결측치는 흰색으로 표시됨 \n",
        "# 오른쪽 라인은 해당 로우의 결측값이 없는 곳을 알려줌..?\n",
        "plt.show()"
      ],
      "execution_count": null,
      "outputs": []
    },
    {
      "cell_type": "code",
      "metadata": {
        "id": "XbY1RVI4Zjqj"
      },
      "source": [
        "from sklearn.impute import SimpleImputer"
      ],
      "execution_count": null,
      "outputs": []
    },
    {
      "cell_type": "code",
      "metadata": {
        "id": "hEtTfDOvYCyQ"
      },
      "source": [
        "#  age를 평균 값으로 대체\n",
        "imputer=SimpleImputer(strategy='mean')"
      ],
      "execution_count": null,
      "outputs": []
    },
    {
      "cell_type": "code",
      "metadata": {
        "id": "RbCFiQLoacyF"
      },
      "source": [
        "## fit(학습시키고),transform(값을 대체) 해당 값을 변수에 저장\n",
        "result=imputer.fit_transform(titanic_train[['Age']])"
      ],
      "execution_count": null,
      "outputs": []
    },
    {
      "cell_type": "code",
      "metadata": {
        "id": "33Q9pAvKaeUS"
      },
      "source": [
        "## 변경 후 저장한 값을 대체\n",
        "titanic_train['Age']=result"
      ],
      "execution_count": null,
      "outputs": []
    },
    {
      "cell_type": "code",
      "metadata": {
        "id": "fXCBGRiDaenU"
      },
      "source": [
        "print(titanic_train.isnull().sum())"
      ],
      "execution_count": null,
      "outputs": []
    },
    {
      "cell_type": "code",
      "metadata": {
        "id": "JEW7_gEybAFX"
      },
      "source": [
        "# 여러개의 칼럼에 결측치 변환"
      ],
      "execution_count": null,
      "outputs": []
    },
    {
      "cell_type": "code",
      "metadata": {
        "id": "62Fyjda7bhZ4"
      },
      "source": [
        "imputer=SimpleImputer(strategy='constant',fill_value='N')"
      ],
      "execution_count": null,
      "outputs": []
    },
    {
      "cell_type": "code",
      "metadata": {
        "id": "cQ66oOPycEYY"
      },
      "source": [
        "#fit(학습시키고),transform(값을 대체하고) 해당 값을 변수에 저장\n",
        "resultce=imputer.fit_transform(titanic_train[['Cabin','Embarked']])"
      ],
      "execution_count": null,
      "outputs": []
    },
    {
      "cell_type": "code",
      "metadata": {
        "id": "P5UZ4SWNcGD6"
      },
      "source": [
        "## 변경 후 저장한 값을 대체\n",
        "titanic_train[['Cabin','Embarked']]=resultce"
      ],
      "execution_count": null,
      "outputs": []
    },
    {
      "cell_type": "code",
      "metadata": {
        "id": "81tVY17rcGrK"
      },
      "source": [
        "# 확인\n",
        "print(titanic_train.isnull().sum())"
      ],
      "execution_count": null,
      "outputs": []
    },
    {
      "cell_type": "code",
      "metadata": {
        "id": "VV7UQhzFEuq_"
      },
      "source": [
        "# 4. age , cabin , embarked 빈도확인"
      ],
      "execution_count": null,
      "outputs": []
    },
    {
      "cell_type": "code",
      "metadata": {
        "id": "N7poEYfNeD7C"
      },
      "source": [
        "print(titanic_train['Age'].value_counts())\n",
        "print('*'*50)\n",
        "print(titanic_train['Cabin'].value_counts())\n",
        "print('*'*50)\n",
        "print(titanic_train['Embarked'].value_counts())"
      ],
      "execution_count": null,
      "outputs": []
    },
    {
      "cell_type": "code",
      "metadata": {
        "id": "YYj_IKtDfd7p"
      },
      "source": [
        "#5. 성별에 따른 생존여부 확인 및 barplot를 이용한 시각화\n",
        "#- 수업시간에 배운 시각화를 이용하여 다양한 정보를 탐색하세요\n",
        "import seaborn as sns\n",
        "\n",
        "sexsurvived=titanic_train.groupby('Sex')[['Survived']].mean()\n",
        "sexsurvived\n",
        "\n",
        "sns.barplot(x='Sex',y='Survived',data=titanic_train)"
      ],
      "execution_count": null,
      "outputs": []
    },
    {
      "cell_type": "code",
      "metadata": {
        "id": "iWykPACjfzDy"
      },
      "source": [
        "# Pclass 선실 등급에 따른 생존 Survived\n",
        "sns.barplot(x='Pclass',y='Survived',data=titanic_train)"
      ],
      "execution_count": null,
      "outputs": []
    },
    {
      "cell_type": "code",
      "metadata": {
        "id": "NuX7pWHxgwSM"
      },
      "source": [
        "# 6. age , cabin , embarked 에 대한 라베인코딩\n",
        "from sklearn.preprocessing import LabelEncoder\n",
        "le=LabelEncoder()\n",
        "titanic_train['Sex']=le.fit_transform(titanic_train['Sex'])\n",
        "titanic_train['Cabin']=le.fit_transform(titanic_train['Cabin'])\n",
        "titanic_train['Embarked']=le.fit_transform(titanic_train['Embarked'])\n",
        "# 변환된 Label classes 확인\n",
        "le.classes_\n",
        "# 변환한 뒤 inverse_trainsform으로 다시 역변환 \n",
        "# le.inverse_transform(result)"
      ],
      "execution_count": null,
      "outputs": []
    },
    {
      "cell_type": "code",
      "metadata": {
        "id": "6LhyHCSmTotP"
      },
      "source": [
        ""
      ],
      "execution_count": null,
      "outputs": []
    },
    {
      "cell_type": "code",
      "metadata": {
        "id": "xFQD26yNTeqM"
      },
      "source": [
        "# 입력 age에 따라 구분값을 반환하는 함수 설정. DataFrame의 apply lambda식에 사용. \n",
        "def get_category(age):\n",
        "    cat = ''\n",
        "    if age <= -1: cat = 'Unknown'\n",
        "    elif age <= 5: cat = 'Baby'\n",
        "    elif age <= 12: cat = 'Child'\n",
        "    elif age <= 18: cat = 'Teenager'\n",
        "    elif age <= 25: cat = 'Student'\n",
        "    elif age <= 35: cat = 'Young Adult'\n",
        "    elif age <= 60: cat = 'Adult'\n",
        "    else : cat = 'Elderly'\n",
        "    \n",
        "    return cat\n",
        "\n",
        "# 막대그래프의 크기 figure를 더 크게 설정 \n",
        "plt.figure(figsize=(10,6))\n",
        "\n",
        "#X축의 값을 순차적으로 표시하기 위한 설정 \n",
        "group_names = ['Unknown', 'Baby', 'Child', 'Teenager', 'Student', 'Young Adult', 'Adult', 'Elderly']\n",
        "\n",
        "# lambda 식에 위에서 생성한 get_category( ) 함수를 반환값으로 지정. \n",
        "# get_category(X)는 입력값으로 'Age' 컬럼값을 받아서 해당하는 cat 반환\n",
        "titanic_train['Age_cat'] = titanic_train['Age'].apply(lambda x : get_category(x))\n",
        "sns.barplot(x='Age_cat', y = 'Survived', hue='Sex', data=titanic_train, order=group_names)\n",
        "titanic_train.drop('Age_cat', axis=1, inplace=True)"
      ],
      "execution_count": null,
      "outputs": []
    },
    {
      "cell_type": "code",
      "metadata": {
        "id": "ENy0O6TTnuqJ"
      },
      "source": [
        "# [ML학습]\n",
        "# 1. 원본 데이터를 재로딩 하고, feature데이터 셋과 Label 데이터 셋 추출.\n",
        "#titanic_train=pd.read_csv('/content/sample_data/titanic_train.csv')\n",
        "#titanic_train.head()"
      ],
      "execution_count": null,
      "outputs": []
    },
    {
      "cell_type": "code",
      "metadata": {
        "id": "4T2L3wZs4WIm"
      },
      "source": [
        "titanic=titanic_train.drop(['PassengerId','Name','Ticket'], axis='columns',inplace=False)\n",
        "titanic"
      ],
      "execution_count": null,
      "outputs": []
    },
    {
      "cell_type": "code",
      "metadata": {
        "id": "pw4elLyWpSSt"
      },
      "source": [
        "y_titanic_label=titanic['Survived']\n",
        "X_titanic_features=titanic.drop('Survived',axis=1)"
      ],
      "execution_count": null,
      "outputs": []
    },
    {
      "cell_type": "code",
      "metadata": {
        "id": "kAMEpaNkqK7P"
      },
      "source": [
        "from sklearn.model_selection import GridSearchCV, train_test_split\n",
        "X_train,X_test,y_train,y_test=train_test_split(X_titanic_features,\n",
        "                                               y_titanic_label,\n",
        "                                               test_size=0.2) # random_state=11 예제를 수행할때마다 같은 결과 나오게함\n",
        "# [ML학습] ML알고리즘인 결정 트리, 랜덤 포레스트, 로지스틱 회귀를 이용해 생존자 예측할것\n",
        "# train_test_fit()으로 분리시킨 학습 데이터와 테스트 데이터를 기반으로\n",
        "# 머신러닝 학습하고(fit), 예측(predict)하고 예측 성능평가는 (accuracy_score())사용"
      ],
      "execution_count": null,
      "outputs": []
    },
    {
      "cell_type": "code",
      "metadata": {
        "id": "d2TWA5PprNs9"
      },
      "source": [
        "from sklearn.tree import DecisionTreeClassifier #결정트리\n",
        "\n",
        "# 3. \n",
        "# DecisionTreeClassifier를 이용한 학습, 예측 및 정확도 확인\n",
        "dt_clf=DecisionTreeClassifier(random_state=11)\n",
        "\n",
        "# DecisionTreeClassifier 학습/예측/평가\n",
        "dt_clf.fit(X_train,y_train)\n",
        "dt_pred=dt_clf.predict(X_test)\n",
        "print('DecisionTreeClassifier 정확도:{0:.4f}'.format(accuracy_score(y_test,dt_pred)))\n",
        "print(\"*\"*50)\n",
        "\n",
        "# RandomForest를 이용한 학습, 예측 및 정확도 확인\n",
        "from sklearn.ensemble import RandomForestClassifier\n",
        "rf_clf=RandomForestClassifier(random_state=11)\n",
        "\n",
        "# RandomForestClassifier 학습/예측/평가\n",
        "rf_clf.fit(X_train,y_train)\n",
        "rf_pred=rf_clf.predict(X_test)\n",
        "print('RandomForestClassifier 정확도:{0:.4f}'.format(accuracy_score(y_test,rf_pred)))\n",
        "print(\"*\"*50)\n",
        "\n",
        "# LogisticRegression을 이용한 학습, 예측 및 정확도 확인\n",
        "from sklearn.linear_model import LogisticRegression\n",
        "lr_clf=LogisticRegression(random_state=11)\n",
        "\n",
        "# LogisticRegression 학습/예측/평가\n",
        "lr_clf.fit(X_train,y_train)\n",
        "lr_pred=lr_clf.predict(X_test)\n",
        "print('LogisticRegression 정확도:{0:.4f}'.format(accuracy_score(y_test,lr_pred)))"
      ],
      "execution_count": null,
      "outputs": []
    },
    {
      "cell_type": "code",
      "metadata": {
        "id": "-O0fCiOHt-LE"
      },
      "source": [
        "# 4. KFold=5 를 이용한 교차검증 및 평균정확도 확인\n",
        "from sklearn.datasets import load_iris\n",
        "from sklearn.tree import DecisionTreeClassifier # 학습 모델 알고리즘 선택\n",
        "from sklearn.model_selection import train_test_split\n",
        "from sklearn.model_selection import KFold\n",
        "import pandas as pd\n",
        "import numpy as np"
      ],
      "execution_count": null,
      "outputs": []
    },
    {
      "cell_type": "code",
      "metadata": {
        "id": "K1u2h_Ru6f1p"
      },
      "source": [
        "# Fold 교차검증\n",
        "# Fold 교차검증은 데이터셋을 K개로 나눈 뒤 하나를 평가 데이터셋으로, \n",
        "# 나머지를 학습 데이터셋으로 하여 모델을 학습시키고 평가하는 방법\n",
        "\n",
        "\n",
        "from sklearn.model_selection import KFold\n",
        "\n",
        "def exec_kfold(clf, folds=5):\n",
        "    # 폴드 세트를 5개인 KFold객체를 생성, 폴드 수만큼 예측결과 저장을 위한  리스트 객체 생성.\n",
        "    kfold = KFold(n_splits=folds)\n",
        "    scores = []\n",
        "    \n",
        "    # KFold 교차 검증 수행. \n",
        "    for iter_count , (train_index, test_index) in enumerate(kfold.split(X_titanic_features)):\n",
        "        # X_titanic_df 데이터에서 교차 검증별로 학습과 검증 데이터를 가리키는 index 생성\n",
        "        X_train, X_test = X_titanic_features.values[train_index], X_titanic_features.values[test_index]\n",
        "        y_train, y_test = y_titanic_label.values[train_index], y_titanic_label.values[test_index]\n",
        "        \n",
        "        # Classifier 학습, 예측, 정확도 계산 \n",
        "        clf.fit(X_train, y_train) \n",
        "        predictions = clf.predict(X_test)\n",
        "        accuracy = accuracy_score(y_test, predictions)\n",
        "        scores.append(accuracy)\n",
        "        print(\"교차 검증 {0} 정확도: {1:.4f}\".format(iter_count, accuracy))     \n",
        "    \n",
        "    # 5개 fold에서의 평균 정확도 계산. \n",
        "    mean_score = np.mean(scores)\n",
        "    print(\"평균 정확도: {0:.4f}\".format(mean_score)) \n",
        "# exec_kfold 호출\n",
        "exec_kfold(dt_clf , folds=5) "
      ],
      "execution_count": null,
      "outputs": []
    },
    {
      "cell_type": "code",
      "metadata": {
        "id": "36pOZyzcAw6M"
      },
      "source": [
        "# cross_val_score() 함수는 데이터셋을 K개로 나누고 K번 반복하면서 평가하는 작업을 처리해줌\n",
        "\n",
        "from sklearn.model_selection import cross_val_score\n",
        "\n",
        "scores=cross_val_score(dt_clf,X_titanic_features,y_titanic_label,cv=5)\n",
        "\n",
        "for iter_count, accuracy in enumerate(scores):\n",
        "    print(\"교차 검증{0} 정확도:{1:4f}\".format(iter_count,accuracy))\n",
        "print(\"평균 정확도 :{0:4f}.format(np.mean(scores)\")"
      ],
      "execution_count": null,
      "outputs": []
    },
    {
      "cell_type": "code",
      "metadata": {
        "id": "s-xjmHgnBhtl"
      },
      "source": [
        "from sklearn.model_selection import GridSearchCV\n",
        "\n",
        "parameters={'max_depth':[2,3,5,10],'min_samples_split':[2,3,5],'min_samples_leaf':[1,5,8]}\n",
        "\n",
        "grid_dclf=GridSearchCV(dt_clf,param_grid=parameters,scoring='accuracy',cv=5)\n",
        "grid_dclf.fit(X_train,y_train)\n",
        "\n",
        "print('GridSearchCV 최적 하이퍼 파라미터:',grid_dclf.best_params_)\n",
        "print('GridSearchCV 최고 정확도:{0:4f}:',format(grid_dclf.best_score_))\n",
        "best_dclf=grid_dclf.best_estimator_\n",
        "\n",
        "# GridSearchCV의 최적 하이퍼 파라미터로 학습된 Estimator로 예측 및 평가 수행\n",
        "dpredictions=best_dclf.predict(X_test)\n",
        "accuracy=accuracy_score(y_test,dpredictions)\n",
        "print('테스트 세트에서 DecisionTreeClassifier 정확도:{0:.4f}'.format(accuracy))"
      ],
      "execution_count": null,
      "outputs": []
    },
    {
      "cell_type": "code",
      "metadata": {
        "id": "zCS3goLfDwEX"
      },
      "source": [
        ""
      ],
      "execution_count": null,
      "outputs": []
    }
  ]
}