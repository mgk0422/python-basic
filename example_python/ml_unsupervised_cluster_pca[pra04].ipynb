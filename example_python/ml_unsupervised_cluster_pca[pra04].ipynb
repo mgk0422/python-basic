{
  "nbformat": 4,
  "nbformat_minor": 0,
  "metadata": {
    "colab": {
      "name": "ml_unsupervised_cluster_pca[pra04]",
      "provenance": [],
      "private_outputs": true
    },
    "kernelspec": {
      "name": "python3",
      "display_name": "Python 3"
    }
  },
  "cells": [
    {
      "cell_type": "markdown",
      "metadata": {
        "id": "cDVlj-Iryz9x"
      },
      "source": [
        "# KMeans [실습]"
      ]
    },
    {
      "cell_type": "code",
      "metadata": {
        "id": "i6d6twRkyhL5"
      },
      "source": [
        "from sklearn.cluster import KMeans\n",
        "\n",
        "import pandas as pd\n",
        "import numpy as np\n",
        "\n",
        "import matplotlib.pyplot as plt\n",
        "import seaborn as sns\n",
        "%matplotlib inline"
      ],
      "execution_count": null,
      "outputs": []
    },
    {
      "cell_type": "code",
      "metadata": {
        "id": "JQSumVjEysUQ"
      },
      "source": [
        "# wholesale customers dataset\n",
        "uci_path = 'https://archive.ics.uci.edu/ml/machine-learning-databases/00292/Wholesale%20customers%20data.csv'\n",
        "sample_df=pd.read_csv(uci_path)\n",
        "sample_df.head()"
      ],
      "execution_count": null,
      "outputs": []
    },
    {
      "cell_type": "code",
      "metadata": {
        "id": "_JZFS42gzE74"
      },
      "source": [
        "# 데이터 통계 요약정보\n",
        "sample_df.describe()"
      ],
      "execution_count": null,
      "outputs": []
    },
    {
      "cell_type": "code",
      "metadata": {
        "id": "c3f4OVkqzySu"
      },
      "source": [
        "# 분석에 사용할 피처를 카피\n",
        "copy_df=sample_df.iloc[:,:]\n",
        "copy_df.head()"
      ],
      "execution_count": null,
      "outputs": []
    },
    {
      "cell_type": "code",
      "metadata": {
        "id": "Jwc5szCG0J5O"
      },
      "source": [
        "# 컬럼에 대한 데이터 표준화\n",
        "from sklearn.preprocessing import StandardScaler\n",
        "\n",
        "# 타겟을 제외한 피처만 추출하여 표준화 작업을 진행해 보자\n",
        "# 주성분 분석을 하기전에 데이터를 표준화 해 주자\n",
        "copy_scaler=StandardScaler().fit_transform(copy_df)\n",
        "copy_scaler"
      ],
      "execution_count": null,
      "outputs": []
    },
    {
      "cell_type": "code",
      "metadata": {
        "id": "ob61Qxrn1tSw"
      },
      "source": [
        "# 군집모형 학습 및 예측\n",
        "# 예측결과를 데이터 프레임에 추가\n",
        "from sklearn.cluster import KMeans\n",
        "sample_kmeans=KMeans(n_clusters=6,init='k-means++',max_iter=300,n_init=10)\n",
        "sample_kmeans.fit(copy_scaler)"
      ],
      "execution_count": null,
      "outputs": []
    },
    {
      "cell_type": "code",
      "metadata": {
        "id": "HXgEF7OB3m-o"
      },
      "source": [
        "# sample_kmeans.labels\n",
        "\n",
        "copy_df['cluster_id']=sample_kmeans.labels_\n",
        "copy_df.head()"
      ],
      "execution_count": null,
      "outputs": []
    },
    {
      "cell_type": "code",
      "metadata": {
        "id": "U1ojEXm74MkP"
      },
      "source": [
        "# 시각화\n",
        "plt.scatter(x=copy_df['Grocery'],\n",
        "            y=copy_df['Frozen'],\n",
        "            c=copy_df['cluster_id'])\n",
        "plt.show()"
      ],
      "execution_count": null,
      "outputs": []
    },
    {
      "cell_type": "code",
      "metadata": {
        "id": "qqxcUqW85F2u"
      },
      "source": [
        "# 시각화\n",
        "copy_df.plot(kind='scatter',x='Grocery',y='Frozen',c='cluster_id',colorbar=True,cmap='Set2')"
      ],
      "execution_count": null,
      "outputs": []
    },
    {
      "cell_type": "code",
      "metadata": {
        "id": "6ps0btLx4gwV"
      },
      "source": [
        "# 시각화\n",
        "plt.scatter(x=copy_df['Milk'],y=copy_df['Delicassen'],c=copy_df['cluster_id'])\n",
        "plt.show()"
      ],
      "execution_count": null,
      "outputs": []
    },
    {
      "cell_type": "code",
      "metadata": {
        "id": "Zx9rFNpH43pD"
      },
      "source": [
        "copy_df.plot(kind='scatter',x='Milk',y='Delicassen',c='cluster_id',colorbar=True,cmap='Set2')\n",
        "plt.show()"
      ],
      "execution_count": null,
      "outputs": []
    }
  ]
}