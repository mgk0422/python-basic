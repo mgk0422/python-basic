{
  "nbformat": 4,
  "nbformat_minor": 0,
  "metadata": {
    "colab": {
      "name": "ml_diabetes_confusion_marix[02-1]",
      "provenance": [],
      "private_outputs": true
    },
    "kernelspec": {
      "name": "python3",
      "display_name": "Python 3"
    }
  },
  "cells": [
    {
      "cell_type": "markdown",
      "metadata": {
        "id": "moeu-pFLsVT1"
      },
      "source": [
        "- 학습 목표\n",
        "- 머신러닝의 분류모델을 이용하여, 여러가지 평가 지표를 적용하여 확인\n",
        "- 의학(당뇨병 여부 판단), 재현율 지표 확인"
      ]
    },
    {
      "cell_type": "code",
      "metadata": {
        "id": "8Ndl-GfmsjMz"
      },
      "source": [
        "from sklearn.tree import DecisionTreeClassifier\n",
        "from sklearn.linear_model import LogisticRegression\n",
        "from sklearn.ensemble import RandomForestClassifier\n",
        "\n",
        "from sklearn.preprocessing import LabelEncoder,OneHotEncoder,StandardScaler,Binarizer\n",
        "from sklearn.model_selection import train_test_split\n",
        "\n",
        "from sklearn.metrics import accuracy_score,precision_score,recall_score,f1_score,roc_auc_score\n",
        "from sklearn.metrics import confusion_matrix,precision_recall_curve,roc_curve\n",
        "\n",
        "import pandas as pd\n",
        "import numpy as np\n",
        "import matplotlib.pyplot as plt\n",
        "import seaborn as sns\n",
        "import missingno as ms\n",
        "%matplotlib inline\n",
        "\n",
        "import warnings\n",
        "warnings.filterwarnings('ignore')"
      ],
      "execution_count": null,
      "outputs": []
    },
    {
      "cell_type": "code",
      "metadata": {
        "id": "QhrsMm1UukKO"
      },
      "source": [
        "# 1. 데이터 로드 및 확인\n",
        "diabetes_data=pd.read_csv('/content/sample_data/diabetes.csv')\n",
        "diabetes_data.head()"
      ],
      "execution_count": null,
      "outputs": []
    },
    {
      "cell_type": "code",
      "metadata": {
        "id": "PvT4QRccvWJ8"
      },
      "source": [
        "diabetes_data.info()"
      ],
      "execution_count": null,
      "outputs": []
    },
    {
      "cell_type": "code",
      "metadata": {
        "id": "HX63ctDMwNSp"
      },
      "source": [
        "# target 분포 확인\n",
        "diabetes_data['Outcome'].value_counts()"
      ],
      "execution_count": null,
      "outputs": []
    },
    {
      "cell_type": "code",
      "metadata": {
        "id": "UcO6HqXB8Dyv"
      },
      "source": [
        "# 평가지표 출력하는 함수 설정\n",
        "def get_clf_eval(y_test, y_pred):\n",
        "    confusion = confusion_matrix(y_test, y_pred)\n",
        "    accuracy = accuracy_score(y_test, y_pred)\n",
        "    precision = precision_score(y_test, y_pred)\n",
        "    recall = recall_score(y_test, y_pred)\n",
        "    F1 = f1_score(y_test, y_pred)\n",
        "    AUC = roc_auc_score(y_test, y_pred)\n",
        "    \n",
        "    print('오차행렬:\\n', confusion)\n",
        "    print('\\n정확도: {:.4f}'.format(accuracy))\n",
        "    print('정밀도: {:.4f}'.format(precision))\n",
        "    print('재현율: {:.4f}'.format(recall))\n",
        "    print('F1: {:.4f}'.format(F1))\n",
        "    print('AUC: {:.4f}'.format(AUC))"
      ],
      "execution_count": null,
      "outputs": []
    },
    {
      "cell_type": "code",
      "metadata": {
        "id": "CtXns0kP82Eq"
      },
      "source": [
        "# Precision-Recall Curve Plot 그리기\n",
        "def precision_recall_curve_plot(y_test, pred_proba):\n",
        "    # threshold ndarray와 이 threshold에 따른 정밀도, 재현율 ndarray 추출\n",
        "    precisions, recalls, thresholds = precision_recall_curve(y_test, pred_proba)\n",
        "    \n",
        "    # x축을 threshold, y축을 정밀도, 재현율로 그래프 그리기\n",
        "    plt.figure(figsize=(8, 6))\n",
        "    thresholds_boundary = thresholds.shape[0]\n",
        "    plt.plot(thresholds, precisions[:thresholds_boundary], linestyle='--', label='precision')\n",
        "    plt.plot(thresholds, recalls[:thresholds_boundary], linestyle=':', label='recall')\n",
        "    \n",
        "    # threshold의 값 X축의 scale을 0.1 단위로 변경\n",
        "    stard, end = plt.xlim()\n",
        "    plt.xticks(np.round(np.arange(stard, end, 0.1), 2))\n",
        "    \n",
        "    plt.xlim()\n",
        "    plt.xlabel('thresholds')\n",
        "    plt.ylabel('precision & recall value')\n",
        "    plt.legend()\n",
        "    plt.grid()"
      ],
      "execution_count": null,
      "outputs": []
    },
    {
      "cell_type": "code",
      "metadata": {
        "id": "a7Gz9MLa9Gl5"
      },
      "source": [
        "# 피쳐 데이터 세트 X, 레이블 데이터 세트 y 를 추출\n",
        "X = diabetes_data.iloc[:,:-1]\n",
        "y = diabetes_data['Outcome']\n",
        "\n",
        "# 데이터를 훈련과 테스트 데이터 셋으로 분리\n",
        "X_train, X_test, y_train, y_test = train_test_split(X, y, test_size = 0.2, random_state = 156, stratify=y)\n",
        "\n",
        "# 로지스틱 회귀로 학습, 예측 및 평가 수행\n",
        "lr_clf = LogisticRegression()\n",
        "lr_clf.fit(X_train, y_train)\n",
        "pred = lr_clf.predict(X_test)\n",
        "get_clf_eval(y_test, pred)"
      ],
      "execution_count": null,
      "outputs": []
    },
    {
      "cell_type": "code",
      "metadata": {
        "id": "_KA2z7Iv9bYa"
      },
      "source": [
        "# 임계값별로 정밀도-재현율 출력\n",
        "pred_proba = lr_clf.predict_proba(X_test)[:, 1]\n",
        "precision_recall_curve_plot(y_test, pred_proba)"
      ],
      "execution_count": null,
      "outputs": []
    },
    {
      "cell_type": "code",
      "metadata": {
        "id": "XdPOZJNr9iUQ"
      },
      "source": [
        "# 데이터의 기초 통계값들\n",
        "diabetes_data.describe()"
      ],
      "execution_count": null,
      "outputs": []
    },
    {
      "cell_type": "code",
      "metadata": {
        "id": "Qj3OOH8OxkAA"
      },
      "source": [
        "# 임계값별 정밀도-재현율을 확인 및 시각화\n",
        "# 당수치,혈압, 피하지방, 인슐린, 체질량지수의 분포를 히스토 그램으로 \n",
        "# 표준화, 정규화"
      ],
      "execution_count": null,
      "outputs": []
    },
    {
      "cell_type": "code",
      "metadata": {
        "id": "mvOEoHvk9lb5"
      },
      "source": [
        "feature_list = ['Glucose', 'BloodPressure', 'SkinThickness', 'Insulin', 'BMI']\n",
        "\n",
        "def hist_plot(df):\n",
        "    for col in feature_list:\n",
        "        df[col].plot(kind='hist', bins=20).set_title('Histogram of '+col)\n",
        "        plt.show()\n",
        "\n",
        "hist_plot(diabetes_data)"
      ],
      "execution_count": null,
      "outputs": []
    },
    {
      "cell_type": "code",
      "metadata": {
        "id": "g_DU1yqf9mT2"
      },
      "source": [
        "# 위 컬럼들에 대한 0 값의 비율 확인\n",
        "zero_count = []\n",
        "zero_percent = []\n",
        "for col in feature_list:\n",
        "    zero_num = diabetes_data[diabetes_data[col]==0].shape[0]\n",
        "    zero_count.append(zero_num)\n",
        "    zero_percent.append(np.round(zero_num/diabetes_data.shape[0]*100,2))\n",
        "\n",
        "zero = pd.DataFrame([zero_count, zero_percent], columns=feature_list, index=['count', 'percent']).T\n",
        "zero"
      ],
      "execution_count": null,
      "outputs": []
    },
    {
      "cell_type": "code",
      "metadata": {
        "id": "E8qoWtRZ9uGN"
      },
      "source": [
        "# 0 값들을 우선 NaN 값으로 대체\n",
        "diabetes_data[feature_list] = diabetes_data[feature_list].replace(0, np.nan)\n",
        "\n",
        "# 위 5개 feature 에 대해 0값을 평균 값으로 대체\n",
        "mean_features = diabetes_data[feature_list].mean()\n",
        "diabetes_data[feature_list] = diabetes_data[feature_list].replace(np.nan, mean_features)"
      ],
      "execution_count": null,
      "outputs": []
    },
    {
      "cell_type": "code",
      "metadata": {
        "id": "8q2uFaUr91g9"
      },
      "source": [
        "# 데이터 세트에 대해 피처 스케일링을 적용하여 변환하기(로지스틱 회귀의 경우, 숫자 데이터에 스케일링을 적용하는 것이 일반적으로 성능이 좋음)\n",
        "X = diabetes_data.iloc[:, :-1]\n",
        "y = diabetes_data.iloc[:, -1]\n",
        "\n",
        "# StandardScaler 클래스를 상용하여 데이터 세트에 스케일링 적용\n",
        "scaler = StandardScaler()\n",
        "X_scaled = scaler.fit_transform(X)\n",
        "\n",
        "X_train, X_test, y_train, y_test = train_test_split(X_scaled, y, test_size = 0.2, random_state=156, stratify = y)\n",
        "\n",
        "# 로지스틱 회귀로 학습, 예측, 평가 수행\n",
        "lr_clf = LogisticRegression()\n",
        "lr_clf.fit(X_train,  y_train)\n",
        "pred = lr_clf.predict(X_test)\n",
        "get_clf_eval(y_test, pred)"
      ],
      "execution_count": null,
      "outputs": []
    },
    {
      "cell_type": "code",
      "metadata": {
        "id": "G19cRqDr93tB"
      },
      "source": [
        "# 평가지표를 조사하기 위한 새로운 함수 생성\n",
        "def get_eval_by_threshold(y_test, pred_proba_c1, thresholds):\n",
        "    #thresholds list 객체 내의 값을 iteration 하면서 평가 수행\n",
        "    for custom_threshold in thresholds:\n",
        "        binarizer = Binarizer(threshold=custom_threshold).fit(pred_proba_c1)\n",
        "        custom_predict = binarizer.transform(pred_proba_c1)\n",
        "        print('\\n임계값: ', custom_threshold)\n",
        "        get_clf_eval(y_test, custom_predict)"
      ],
      "execution_count": null,
      "outputs": []
    },
    {
      "cell_type": "code",
      "metadata": {
        "id": "7kTRa01k95-i"
      },
      "source": [
        "thresholds = [0.3, 0.33, 0.36, 0.39, 0.42, 0.45, 0.48, 0.50]\n",
        "pred_proba = lr_clf.predict_proba(X_test)\n",
        "get_eval_by_threshold(y_test, pred_proba[:, 1].reshape(-1, 1), thresholds)"
      ],
      "execution_count": null,
      "outputs": []
    },
    {
      "cell_type": "code",
      "metadata": {
        "id": "Bvw-Fl4R98az"
      },
      "source": [
        "# 임계값을 0.48로 설정하여 예측 수행\n",
        "binarizer = Binarizer(threshold=0.48)\n",
        "\n",
        "# 위에서 구한 predict_proba() 예측확률의 array에서 1에 해당하는 컬럼 값을 대입하여 Binarizer 반환하기\n",
        "pred_th_048 = binarizer.fit_transform(pred_proba[:, 1].reshape(-1, 1))\n",
        "\n",
        "get_clf_eval(y_test, pred_th_048)"
      ],
      "execution_count": null,
      "outputs": []
    },
    {
      "cell_type": "code",
      "metadata": {
        "id": "7rVWjYh09-03"
      },
      "source": [
        ""
      ],
      "execution_count": null,
      "outputs": []
    }
  ]
}