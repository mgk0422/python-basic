{
  "nbformat": 4,
  "nbformat_minor": 0,
  "metadata": {
    "colab": {
      "name": "ml.classification_confusion_matrix[03.]ipynb",
      "provenance": [],
      "private_outputs": true,
      "collapsed_sections": []
    },
    "kernelspec": {
      "name": "python3",
      "display_name": "Python 3"
    }
  },
  "cells": [
    {
      "cell_type": "code",
      "metadata": {
        "id": "DEMFR4f7uMHl"
      },
      "source": [
        "# 행을 나타내는게 실제 클래스(타겟) 열을 나타내는게 예측 "
      ],
      "execution_count": null,
      "outputs": []
    },
    {
      "cell_type": "markdown",
      "metadata": {
        "id": "yE3-CRFSH2XN"
      },
      "source": [
        ""
      ]
    },
    {
      "cell_type": "code",
      "metadata": {
        "id": "AxQodR9duRkx"
      },
      "source": [
        "from sklearn.metrics import  confusion_matrix\n",
        "\n",
        "y_true=[2,0,2,2,0,1]\n",
        "y_pred=[0,0,2,2,0,1]"
      ],
      "execution_count": null,
      "outputs": []
    },
    {
      "cell_type": "code",
      "metadata": {
        "id": "8QS9BLBJuqeS"
      },
      "source": [
        "# 분류결과표\n",
        "confusion_matrix(y_true,y_pred) #행은 실제 데이터 열은 예측데이터"
      ],
      "execution_count": null,
      "outputs": []
    },
    {
      "cell_type": "code",
      "metadata": {
        "id": "vrV_1Kvlu4qk"
      },
      "source": [
        "# 이진 분류표\n",
        "# 제품을 생산하는 제조 공장에서 품질 테스트를 실시하여 불량품을 찾아내고\n",
        "# 품질 테스트의 결과가 양성 -> 불량으로 예측한 것이고\n",
        "#                      음성 -> 정상제품이라고 예측한 것이다."
      ],
      "execution_count": null,
      "outputs": []
    },
    {
      "cell_type": "code",
      "metadata": {
        "id": "taNbygytwilt"
      },
      "source": [
        "# TP : 실제 불량품인데 예측하면 불량품으로 정확하게 예측\n",
        "# TN : 실제 정상제품을 예측하면 정상제품으로 정확하게 예측\n",
        "# FP : 정상제품을 불량품으로 잘못 예측\n",
        "# FN : 불량품을 정상제품으로 잘못 예측\n",
        "#              불량예측     정상예측\n",
        "# 불량품       TP            FN\n",
        "# 정상제품     FP            TM\n",
        "\n",
        "\n",
        "# 암(cancer)-양성(P),암X->음성(N)\n",
        "#        예측암      예측암X\n",
        " #암       TP            FN\n",
        "# 암 x     FP            TM\n",
        "\n",
        "# 사기거래를 찾아내는 시스템\n",
        "#        사기예측       사기x예측\n",
        "# 사기      TP            FN\n",
        "# 사기 X    FP           TM\n",
        "\n",
        "\n",
        "# FP : 1종오류 암이아닌데 암이라고 부정확하게 예측\n",
        "# FM : 2종오류 암인데 암아니라고 부정확하게 예측"
      ],
      "execution_count": null,
      "outputs": []
    },
    {
      "cell_type": "code",
      "metadata": {
        "id": "C3KGkukD6fz0"
      },
      "source": [
        "y_true=[1,0,1,1,0,1]\n",
        "y_pred=[0,0,1,1,0,1]\n",
        "\n",
        "#분류결과표\n",
        "confusion_matrix(y_true,y_pred) #행은 실제 데이터 열은 예측데이터"
      ],
      "execution_count": null,
      "outputs": []
    },
    {
      "cell_type": "code",
      "metadata": {
        "id": "7vrW87E36oj0"
      },
      "source": [
        "# P로 예측한 것 중 실제 P의 비율 Precision = T P / T P + F P \n",
        "# 맞게 검출한 비율 Accuracy = T P + T N / (T P + T N + F P + F N) \n",
        "# 실제 P를 P로 예측 Sensitivity = Recall = T P / T P + F N\n",
        "# 실제 N을 N로 예측 Specificity = T N / F P + T N\n",
        "# 오류율 Error = F N + F P / T P + F N + F P + T N\n",
        "\n",
        "# FP : 1종오류 \n",
        "# FM : 2종오류"
      ],
      "execution_count": null,
      "outputs": []
    },
    {
      "cell_type": "code",
      "metadata": {
        "id": "2Cd0e04U-6Jj"
      },
      "source": [
        "# 재현율이 상대적으로 더 중요한 지표는 실제 양성인 데이터 예측을 \n",
        "# 음성으로 잘못 판단하게 되면 업무상 큰 영향이 발생하는 경우 : 암진단, 금융사기 판별\n",
        "\n",
        "# 정밀도가 상대적으로 더 중요한 지표는 실제 음성인 데이터 예측을 \n",
        "# 양성으로 잘못 판단하게 되면 업무상 큰 영향이 발생하는 경우 : 스팸메일"
      ],
      "execution_count": null,
      "outputs": []
    },
    {
      "cell_type": "code",
      "metadata": {
        "id": "yi6K3O9f_qje"
      },
      "source": [
        "y_true=[1,0,1,1,0,1]\n",
        "y_pred=[0,0,1,1,0,1]\n",
        "\n",
        "#분류결과표\n",
        "confusion_matrix(y_true,y_pred) #행은 실제 데이터 열은 예측데이터"
      ],
      "execution_count": null,
      "outputs": []
    },
    {
      "cell_type": "code",
      "metadata": {
        "id": "XAoK4ulE_3NG"
      },
      "source": [
        "from sklearn.preprocessing import LabelEncoder\n",
        "from sklearn.model_selection import train_test_split\n",
        "from sklearn.metrics import accuracy_score # 정확도\n",
        "\n",
        "import pandas as pd\n",
        "import numpy as np### fit() 메서드는 아무 것도 수행하지 않고, predict()는 Sex 피처가 1이면 0, 그렇지 않으면 1로 예측하는 단순한 분류기 생성\n",
        "from sklearn.base import BaseEstimator\n",
        "\n",
        "class MyDummyClassifier(BaseEstimator):\n",
        "    # fit 메서드는 아무것도 학습하지 않음\n",
        "    def fit(self, X, y=None):\n",
        "        pass\n",
        "    # predict 메서드는 단순히 Sex 피처가 1이면 0, 아니면 1로 예측\n",
        "    def predict(self, X):\n",
        "        pred = np.zeros( (X.shape[0],1) )\n",
        "        for i in range(X.shape[0]):\n",
        "            if X['Sex'].iloc[i] == 1:\n",
        "                pred[i] = 0\n",
        "            else :\n",
        "                pred[i] = 1 \n",
        "        return pred\n",
        "\n",
        "import warnings\n",
        "warnings.filterwarnings('ignore')"
      ],
      "execution_count": null,
      "outputs": []
    },
    {
      "cell_type": "code",
      "metadata": {
        "id": "A8ixnG39AeBZ"
      },
      "source": [
        "# 1. 데이터 로드 및 확인\n",
        "titanic=pd.read_csv('/content/sample_data/titanic_train.csv')"
      ],
      "execution_count": null,
      "outputs": []
    },
    {
      "cell_type": "code",
      "metadata": {
        "id": "m1AqgqwYBMJt"
      },
      "source": [
        "titanic_lable = titanic['Survived']\n",
        "print(titanic_lable)"
      ],
      "execution_count": null,
      "outputs": []
    },
    {
      "cell_type": "code",
      "metadata": {
        "id": "xEOwB-F3B7S7"
      },
      "source": [
        "titanic_feature_df=titanic.drop(['Survived'],axis=1)\n",
        "print(titanic_feature_df.head())"
      ],
      "execution_count": null,
      "outputs": []
    },
    {
      "cell_type": "code",
      "metadata": {
        "id": "VHM_ziijCZj1"
      },
      "source": [
        "## Null 처리 함수\n",
        "def fillna(df):\n",
        "    df['Age'].fillna(df['Age'].mean(), inplace=True)\n",
        "    df['Cabin'].fillna('N', inplace=True)\n",
        "    df['Embarked'].fillna('N', inplace=True)\n",
        "    df['Fare'].fillna(0, inplace=True)\n",
        "    return df\n",
        "\n",
        "## 머신러닝에 불필요한 피처 제거\n",
        "def drop_features(df):\n",
        "    df.drop(['PassengerId', 'Name', 'Ticket'], axis=1, inplace=True)\n",
        "    return df\n",
        "\n",
        "## Label Encoding 수행\n",
        "def format_features(df):\n",
        "    df['Cabin'] = df['Cabin'].str[:1]\n",
        "    features = ['Cabin', 'Sex', 'Embarked']\n",
        "    for feature in features:\n",
        "        le = LabelEncoder()\n",
        "        le.fit(df[feature])\n",
        "        df[feature] = le.transform(df[feature])\n",
        "    return df\n",
        "\n",
        "## 앞에서 실행한 Data Preprocessing 함수 호출\n",
        "def transform_features(df):\n",
        "    df = fillna(df)\n",
        "    df = drop_features(df)\n",
        "    df = format_features(df)\n",
        "    return df\n"
      ],
      "execution_count": null,
      "outputs": []
    },
    {
      "cell_type": "code",
      "metadata": {
        "id": "jYBjtq7RGVpt"
      },
      "source": [
        "titanic_feature_df=transform_features(titanic_feature_df)"
      ],
      "execution_count": null,
      "outputs": []
    },
    {
      "cell_type": "code",
      "metadata": {
        "id": "IBDh-z8eHaVD"
      },
      "source": [
        "X_train,X_test,y_train,y_test=train_test_split(titanic_feature_df,\n",
        "                                               titanic_lable,\n",
        "                                               test_size=0.2,\n",
        "                                               random_state=10)"
      ],
      "execution_count": null,
      "outputs": []
    },
    {
      "cell_type": "code",
      "metadata": {
        "id": "Slx3Zy_mHmf6"
      },
      "source": [
        "dummy_model=MyDummyClassifier()"
      ],
      "execution_count": null,
      "outputs": []
    },
    {
      "cell_type": "code",
      "metadata": {
        "id": "g9RTXAjWIBH_"
      },
      "source": [
        "dummy_model.fit(X_train,y_train)"
      ],
      "execution_count": null,
      "outputs": []
    },
    {
      "cell_type": "code",
      "metadata": {
        "id": "dZFBpH6JIHvu"
      },
      "source": [
        "y_pred=dummy_model.predict(X_test)\n",
        "print('accuracy{}'.format(accuracy_score(y_test,y_pred)))"
      ],
      "execution_count": null,
      "outputs": []
    },
    {
      "cell_type": "code",
      "metadata": {
        "id": "0eEg3oSKIbw7"
      },
      "source": [
        "# 업무 특성에 따라서 특성지표를 활용해야한다.\n",
        "# Recall -> 암, 사기판정 / Precision (정밀도) -> 스팸메일 분류\n",
        "# recall_score()         / Precision_score()\n",
        "\n",
        "from sklearn.metrics import recall_score, precision_score\n",
        "def display_eval(y_test,y_pred):\n",
        "    confusion=confusion_matrix(y_test,y_pred)\n",
        "    accuracy=accuracy_score(y_test,y_pred)\n",
        "    precision=precision_score(y_test,y_pred)\n",
        "    recall=recall_score(y_test,y_pred)\n",
        "    print()\n",
        "    print(confusion)\n",
        "    print('*'*50)\n",
        "    print()\n",
        "    print('정확도:{},정밀도:{},재현율:{}'.format(accuracy,precision,recall))"
      ],
      "execution_count": null,
      "outputs": []
    },
    {
      "cell_type": "code",
      "metadata": {
        "id": "bxOcHjImKdNN"
      },
      "source": [
        "from sklearn.linear_model import LogisticRegression\n",
        "# 로지스틱 회귀\n",
        "lr_model=LogisticRegression()\n",
        "lr_model.fit(X_train,y_train)\n",
        "prediction=lr_model.predict(X_test)\n",
        "display_eval(y_test,prediction)"
      ],
      "execution_count": null,
      "outputs": []
    },
    {
      "cell_type": "code",
      "metadata": {
        "id": "ZK5266w7LXcm"
      },
      "source": [
        "# P로 예측한 것 중 실제 P의 비율 Precision = T P / T P + F P \n",
        "# 맞게 검출한 비율 Accuracy = T P + T N / (T P + T N + F P + F N) \n",
        "# 실제 P를 P로 예측 Sensitivity = Recall = T P / T P + F N\n",
        "# 실제 N을 N로 예측 Specificity = T N / F P + T N\n",
        "# 오류율 Error = F N + F P / T P + F N + F P + T N\n",
        "\n",
        "# (데이터를 넣었을때는 이렇게 나옴)\n",
        "#      FALSE       True\n",
        "# FALSE TN           FP\n",
        "# TRUE  FN           TP\n",
        "print('Accuracy :',(101+47)/(101+16+15+47))\n",
        "print('Sensitivity = Recall:',47/(47+15)) # 재현율\n",
        "print('precision',47/(47+16)) # 정밀도"
      ],
      "execution_count": null,
      "outputs": []
    },
    {
      "cell_type": "code",
      "metadata": {
        "id": "yE54bTeqM3bz"
      },
      "source": [
        "# [실습] -유방암 관련 데이터 -정확, 재현을 중요하다(실제 P,N 예측하면 안된는 경우)\n"
      ],
      "execution_count": null,
      "outputs": []
    },
    {
      "cell_type": "code",
      "metadata": {
        "id": "DZq6aVkYibWU"
      },
      "source": [
        "from sklearn.datasets import load_breast_cancer\n",
        "from sklearn.ensemble import RandomForestClassifier #앙상블 여러분류알고리즘을 결합시켜서 최고의 학습기법을 도출해줌\n",
        "from sklearn.preprocessing import LabelEncoder\n",
        "from sklearn.model_selection import train_test_split\n",
        "from sklearn.metrics import accuracy_score # 정확도\n",
        "\n",
        "import pandas as pd\n",
        "import numpy as np### fit() 메서드는 아무 것도 수행하지 않고, predict()는 Sex 피처가 1이면 0, 그렇지 않으면 1로 예측하는 단순한 분류기 생성\n",
        "from sklearn.base import BaseEstimator\n",
        "\n",
        "import warnings\n",
        "warnings.filterwarnings('ignore')"
      ],
      "execution_count": null,
      "outputs": []
    },
    {
      "cell_type": "code",
      "metadata": {
        "id": "9WHGd1PIiia6"
      },
      "source": [
        "cancer=load_breast_cancer()\n",
        "print(cancer)"
      ],
      "execution_count": null,
      "outputs": []
    },
    {
      "cell_type": "code",
      "metadata": {
        "id": "NinYNYlljGmc"
      },
      "source": [
        "cancer.keys()"
      ],
      "execution_count": null,
      "outputs": []
    },
    {
      "cell_type": "code",
      "metadata": {
        "id": "GLjnNK6hjcxS"
      },
      "source": [
        "# 데이터 프레임으로 구조 변해서 확인해보자.\n",
        "# feature 데이터 셋 확인\n",
        "cancer_data=cancer.data\n",
        "cancer_data"
      ],
      "execution_count": null,
      "outputs": []
    },
    {
      "cell_type": "code",
      "metadata": {
        "id": "ZMQC4N1AkIdY"
      },
      "source": [
        "# 레이블 데이터셋 확인\n",
        "cancer_label = cancer.target\n",
        "print(cancer_label)\n",
        "print(cancer.target_names)"
      ],
      "execution_count": null,
      "outputs": []
    },
    {
      "cell_type": "code",
      "metadata": {
        "id": "b7JBpiC2kSd7"
      },
      "source": [
        "# 데이터 프레임 변환\n",
        "cancer_df = pd.DataFrame(\n",
        "    data = cancer_data,\n",
        "    columns = cancer.feature_names\n",
        ")\n",
        "cancer_df.head()\n",
        "cancer_df['target']=cancer['target']\n",
        "cancer_df.head()"
      ],
      "execution_count": null,
      "outputs": []
    },
    {
      "cell_type": "code",
      "metadata": {
        "id": "bjGccFNTkoOE"
      },
      "source": [
        "# 분류 학습기 생성\n",
        "rf_model=RandomForestClassifier()\n",
        "\n",
        "# 데이터 세트 분리\n",
        "X_train, X_test, y_train, y_test = train_test_split(cancer_df.iloc[:,:-1],\n",
        "                                                    cancer_df.loc[:,'target'],\n",
        "                                                    test_size = 0.2,\n",
        "                                                    random_state = 11)"
      ],
      "execution_count": null,
      "outputs": []
    },
    {
      "cell_type": "code",
      "metadata": {
        "id": "O84yxvsqwBf-"
      },
      "source": [
        "from sklearn.model_selection import cross_validate,KFold\n",
        "from sklearn.metrics import make_scorer,f1_score\n",
        "\n",
        "# 학습 및 평가(교차 검증)\n",
        "fold=KFold(n_splits=20,\n",
        "           random_state=1,\n",
        "           shuffle=True)\n",
        "\n",
        "scoring={\n",
        "    'accuracy': make_scorer(accuracy_score), #함수가 함수를 받아서 함수에 대한 증명을 함\n",
        "    'precision': make_scorer(precision_score),\n",
        "    'recall': make_scorer(recall_score),\n",
        "    'f1_score': make_scorer(f1_score)\n",
        "}\n",
        "\n",
        "\n",
        "result=cross_validate(rf_model,cancer_data,cancer_label,cv=fold,scoring=scoring)\n",
        "print(result.keys())\n",
        "\n"
      ],
      "execution_count": null,
      "outputs": []
    },
    {
      "cell_type": "code",
      "metadata": {
        "id": "_tTKGfRgl8R1"
      },
      "source": [
        "# 평가 지표에 대한 평균값을 구해보자\n",
        "print('accuracy  : ',np.round(result['test_accuracy'].mean(),2))\n",
        "print('precision : ',np.round(result['test_precision'].mean(),2))\n",
        "print('recall    : ',np.round(result['test_recall'].mean(),2))\n",
        "print('f1_score  : ',np.round(result['test_f1_score'].mean(),2))\n",
        "# F1 score은 정밀도와 재현율의 평균 2*(precision*recall)/(precision+recall)"
      ],
      "execution_count": null,
      "outputs": []
    },
    {
      "cell_type": "code",
      "metadata": {
        "id": "jhhp9icomCBt"
      },
      "source": [
        "#      FALSE       True\n",
        "# FALSE TN           FP\n",
        "# TRUE  FN           TP\n",
        "\n",
        "y_test = [1, 0, 0, 1, 1, 1, 0, 1, 1, 1]\n",
        "y_pred = [0, 1, 1, 1, 1, 0, 1, 0, 1, 0]\n",
        "\n",
        "for i in range(len(y_test)):\n",
        "    tp = tn = fp = fn =0\n",
        "    # TP\n",
        "    if y_test[i]==1 and y_pred[i]==1:\n",
        "        tp+=1\n",
        "    # TN\n",
        "    if y_test[i]==0 and y_pred[i]==0:\n",
        "        tn+=1\n",
        "    # FP\n",
        "    if y_test[i]==0 and y_pred[i]==1:\n",
        "        fp+=1\n",
        "    # FN\n",
        "    if y_test[i]==1 and y_pred[i]==0:\n",
        "        fn+=1   "
      ],
      "execution_count": null,
      "outputs": []
    },
    {
      "cell_type": "code",
      "metadata": {
        "id": "1vYzPQOKdgRB"
      },
      "source": [
        "# Accuracy\n",
        "\n",
        "# ------------------------------\n",
        "(TP+TN) /(TP+TN+FP+FN)\n",
        "\n",
        "# Recall\n",
        "# ------------------------------\n",
        "TP/(TP+FN)\n",
        "\n",
        "# Percision\n",
        "# --------------------------\n",
        "TP/(TP+FP)\n",
        "\n",
        "# F1 score\n",
        "2*(Recall*Precision) / (Recall+Precision)\n",
        "\n",
        "#fallout(위 양성율)\n",
        "# 실제 양성 클래스에 속하지 않는 표본 중에 양성클래스에 속한다고 예측한 표본의 비율\n",
        "# 낮아야 좋은 모형으로 본다\n",
        "# 거래 - 실제 정상거래인데 사기 거래 예측한 거래 비율(False Positive Rate)\n",
        "# FP/(FP+TN)"
      ],
      "execution_count": null,
      "outputs": []
    },
    {
      "cell_type": "markdown",
      "metadata": {
        "id": "x33xS4G8iON7"
      },
      "source": [
        ""
      ]
    }
  ]
}