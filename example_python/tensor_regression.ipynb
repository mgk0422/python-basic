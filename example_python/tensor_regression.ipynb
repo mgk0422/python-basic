{
  "nbformat": 4,
  "nbformat_minor": 0,
  "metadata": {
    "colab": {
      "name": "tensor_regression",
      "provenance": [],
      "private_outputs": true
    },
    "kernelspec": {
      "name": "python3",
      "display_name": "Python 3"
    },
    "accelerator": "GPU"
  },
  "cells": [
    {
      "cell_type": "code",
      "metadata": {
        "id": "q_6SJiygu0hs"
      },
      "source": [
        "!pip install -q tensorflow-gpu==2.0.0-rc1"
      ],
      "execution_count": null,
      "outputs": []
    },
    {
      "cell_type": "code",
      "metadata": {
        "id": "NedkIoaxvANm"
      },
      "source": [
        "import tensorflow as tf\n",
        "from tensorflow import keras\n",
        "from tensorflow.keras import layers\n",
        "\n",
        "import pandas as pd\n",
        "import numpy as np\n",
        "import seaborn as sns"
      ],
      "execution_count": null,
      "outputs": []
    },
    {
      "cell_type": "code",
      "metadata": {
        "id": "VZvFcjNevWee"
      },
      "source": [
        "print(tf.__version__)"
      ],
      "execution_count": null,
      "outputs": []
    },
    {
      "cell_type": "code",
      "metadata": {
        "id": "azE7O_3nvZ1y"
      },
      "source": [
        "dataset_path = keras.utils.get_file(\"auto-mpg.data\", \"http://archive.ics.uci.edu/ml/machine-learning-databases/auto-mpg/auto-mpg.data\")\n",
        "dataset_path"
      ],
      "execution_count": null,
      "outputs": []
    },
    {
      "cell_type": "code",
      "metadata": {
        "id": "S10o-xS7wQGC"
      },
      "source": [
        "columns=['mpg' ,\n",
        "         'cylinders' ,\n",
        "         'displacement' ,\n",
        "         'horsepower', \n",
        "         'weight' ,\n",
        "         'acceleration', 'model year', 'origin']        \n",
        "raw_dataset=pd.read_csv(dataset_path,\n",
        "                        names=columns,\n",
        "                        sep=\" \",\n",
        "                        comment='\\t',\n",
        "                        skipinitialspace=True)\n",
        "raw_dataset.head()"
      ],
      "execution_count": null,
      "outputs": []
    },
    {
      "cell_type": "code",
      "metadata": {
        "id": "va8OT3BgwsGu"
      },
      "source": [
        "dataset=raw_dataset.copy()\n",
        "dataset.tail()"
      ],
      "execution_count": null,
      "outputs": []
    },
    {
      "cell_type": "code",
      "metadata": {
        "id": "buZ3JX43yS5A"
      },
      "source": [
        "dataset['origin'].unique()"
      ],
      "execution_count": null,
      "outputs": []
    },
    {
      "cell_type": "code",
      "metadata": {
        "id": "pQ9nURJMydbv"
      },
      "source": [
        "# 결측값 확인\n",
        "dataset.isnull().sum()"
      ],
      "execution_count": null,
      "outputs": []
    },
    {
      "cell_type": "code",
      "metadata": {
        "id": "H1GmZQJEyi25"
      },
      "source": [
        "dataset['horsepower'].unique()"
      ],
      "execution_count": null,
      "outputs": []
    },
    {
      "cell_type": "code",
      "metadata": {
        "id": "fo6CATJOyzyh"
      },
      "source": [
        "# 데이터 정제\n",
        "# 결측값 확인\n",
        "dataset['horsepower'].replace(\"?\",np.nan,inplace=True)"
      ],
      "execution_count": null,
      "outputs": []
    },
    {
      "cell_type": "code",
      "metadata": {
        "id": "-Gzqah8XzIC7"
      },
      "source": [
        "dataset.dropna(subset=['horsepower'],axis=0,inplace=True)"
      ],
      "execution_count": null,
      "outputs": []
    },
    {
      "cell_type": "code",
      "metadata": {
        "id": "y_uH6oigzqaf"
      },
      "source": [
        "dataset['horsepower']=dataset['horsepower'].astype('float')"
      ],
      "execution_count": null,
      "outputs": []
    },
    {
      "cell_type": "code",
      "metadata": {
        "id": "eEBHH0H-ztyP"
      },
      "source": [
        "# origin은 수치형이 아니고 범주형으로 원-핫-인코딩을 통한 변환이 필요하다.\n",
        "# 1 == USA , 2 == Europe , 3 == Korea"
      ],
      "execution_count": null,
      "outputs": []
    },
    {
      "cell_type": "code",
      "metadata": {
        "id": "u3nIMPcT0B-d"
      },
      "source": [
        "origin=dataset.pop('origin')\n",
        "dataset['USA']=(origin==1)*1.0\n",
        "dataset['Europe']=(origin==2)*2.0\n",
        "dataset['Korea']=(origin==3)*3.0"
      ],
      "execution_count": null,
      "outputs": []
    },
    {
      "cell_type": "code",
      "metadata": {
        "id": "Tl_De23e0sU2"
      },
      "source": [
        "dataset"
      ],
      "execution_count": null,
      "outputs": []
    },
    {
      "cell_type": "code",
      "metadata": {
        "id": "ydfaoCvx0tw9"
      },
      "source": [
        "# 세트 분할\n",
        "train_set=dataset.sample(frac=.8,random_state=0)\n",
        "test_set=dataset.drop(train_set.index)"
      ],
      "execution_count": null,
      "outputs": []
    },
    {
      "cell_type": "code",
      "metadata": {
        "id": "m5SVwjD71s_u"
      },
      "source": [
        "sns.pairplot(train_set[['mpg','cylinders','displacement','weight']],diag_kind='kde')"
      ],
      "execution_count": null,
      "outputs": []
    },
    {
      "cell_type": "code",
      "metadata": {
        "id": "lPrYYfwU3Yx3"
      },
      "source": [
        "train_stats=train_set.describe()\n",
        "train_stats.pop('mpg')\n",
        "train_stats= train_stats.transpose()"
      ],
      "execution_count": null,
      "outputs": []
    },
    {
      "cell_type": "code",
      "metadata": {
        "id": "Skc0zeqs35AZ"
      },
      "source": [
        "y_train=train_set.pop('mpg') # pop는 데이터프레임에서 해당 컬럼을 제거 후 저장\n",
        "y_test=test_set.pop('mpg')"
      ],
      "execution_count": null,
      "outputs": []
    },
    {
      "cell_type": "code",
      "metadata": {
        "id": "D7kUfZep9cvE"
      },
      "source": [
        "# 데이터 정규화\n",
        "def norm(x):\n",
        "    return (x-train_stats['mean'])/train_stats['std']\n",
        "norm_train_set=norm(train_set)\n",
        "norm_test_set=norm(test_set)"
      ],
      "execution_count": null,
      "outputs": []
    },
    {
      "cell_type": "code",
      "metadata": {
        "id": "hZvjm85E9kuw"
      },
      "source": [
        "norm_test_set"
      ],
      "execution_count": null,
      "outputs": []
    },
    {
      "cell_type": "code",
      "metadata": {
        "id": "m5Y2p07N_bVF"
      },
      "source": [
        "# 모델 만들기\n",
        "model = keras.Sequential([\n",
        "    layers.Dense(50,activation='relu',input_shape=[len(train_set.keys())]),\n",
        "    layers.Dense(50,activation='relu'),\n",
        "    layers.Dense(1)\n",
        "])\n",
        "\n",
        "# 최적화 모델 찾기\n",
        "optimizer = tf.keras.optimizers.RMSprop()\n",
        "\n",
        "# 학습 명령어\n",
        "model.compile(loss = 'mse', optimizer = optimizer, metrics = ['mae', 'mse'])"
      ],
      "execution_count": null,
      "outputs": []
    },
    {
      "cell_type": "code",
      "metadata": {
        "id": "h1lwO4gX_t08"
      },
      "source": [
        "model.summary()"
      ],
      "execution_count": null,
      "outputs": []
    },
    {
      "cell_type": "code",
      "metadata": {
        "id": "rZ8xI9UAC9Fb"
      },
      "source": [
        "sample_result=model.predict(norm_train_set[:10])\n",
        "sample_result"
      ],
      "execution_count": null,
      "outputs": []
    },
    {
      "cell_type": "code",
      "metadata": {
        "id": "Ey3e4nunDUcB"
      },
      "source": [
        "class PrintDot(keras.callbacks.Callback):\n",
        "  def on_epoch_end(self, epoch, logs):\n",
        "    if epoch % 100 == 0: print('')\n",
        "    print('.', end='')\n",
        "\n",
        "# 훈련정확도와 검증 정확도 : history\n",
        "history=model.fit(norm_train_set,y_train,\n",
        "                  epochs=1000,validation_split=2,verbose=0,\n",
        "                  callbacks=[PrintDot()])\n",
        "history"
      ],
      "execution_count": null,
      "outputs": []
    },
    {
      "cell_type": "code",
      "metadata": {
        "id": "o2UXJ_x6OdBu"
      },
      "source": [
        "hist=pd.DataFrame(history.history)\n",
        "hist"
      ],
      "execution_count": null,
      "outputs": []
    },
    {
      "cell_type": "code",
      "metadata": {
        "id": "ip6IdW6eLAoS"
      },
      "source": [
        "# 예측\n",
        "loss,mae,mse=model.evaluate(norm_test_set,y_test,verbose=1)\n",
        "print('평균 절대 오차:',mae)"
      ],
      "execution_count": null,
      "outputs": []
    },
    {
      "cell_type": "code",
      "metadata": {
        "id": "JLaduHSWMtkt"
      },
      "source": [
        "import matplotlib.pyplot as plt\n",
        "# 시각화\n",
        "y_pred=model.predict(norm_test_set).flatten()\n",
        "plt.scatter(y_test,y_pred,c='pink')\n",
        "plt.xlim([0,plt.xlim()[1]])\n",
        "plt.ylim([0,plt.ylim()[1]])\n",
        "_=plt.plot([-100,100],[-100,100])\n",
        "plt.show"
      ],
      "execution_count": null,
      "outputs": []
    },
    {
      "cell_type": "code",
      "metadata": {
        "id": "CxBI3QDjNnFj"
      },
      "source": [
        ""
      ],
      "execution_count": null,
      "outputs": []
    }
  ]
}