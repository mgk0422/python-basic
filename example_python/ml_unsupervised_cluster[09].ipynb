{
  "nbformat": 4,
  "nbformat_minor": 0,
  "metadata": {
    "colab": {
      "name": "ml_unsupervised_cluster[09]",
      "provenance": [],
      "private_outputs": true
    },
    "kernelspec": {
      "name": "python3",
      "display_name": "Python 3"
    }
  },
  "cells": [
    {
      "cell_type": "code",
      "metadata": {
        "id": "Rp-s4K2buzay"
      },
      "source": [
        "from sklearn.cluster import KMeans\n",
        "\n",
        "import pandas as pd\n",
        "import numpy as np\n",
        "\n",
        "import matplotlib.pyplot as plt\n",
        "import seaborn as sns\n",
        "%matplotlib inline"
      ],
      "execution_count": null,
      "outputs": []
    },
    {
      "cell_type": "code",
      "metadata": {
        "id": "L3-qcP9GyXF9"
      },
      "source": [
        "df=pd.DataFrame(columns=('x','y'))\n",
        "df.loc[0] = [7,1]\n",
        "df.loc[1] = [2,1]\n",
        "df.loc[2] = [4,2]\n",
        "df.loc[3] = [9,4]\n",
        "df.loc[4] = [10,5]\n",
        "df.loc[5] = [10,6]\n",
        "df.loc[6] = [11,5]\n",
        "df.loc[7] = [11,6]\n",
        "df.loc[8] = [15,3]\n",
        "df.loc[9] = [15,2]\n",
        "df.loc[10] = [16,6]\n",
        "df.loc[11] = [16,1]"
      ],
      "execution_count": null,
      "outputs": []
    },
    {
      "cell_type": "code",
      "metadata": {
        "id": "mSrJMOgGzART"
      },
      "source": [
        "df"
      ],
      "execution_count": null,
      "outputs": []
    },
    {
      "cell_type": "code",
      "metadata": {
        "id": "Yd_dRqrPzHNH"
      },
      "source": [
        "sns.lmplot('x','y',data=df,fit_reg=False,scatter_kws={'s':200})"
      ],
      "execution_count": null,
      "outputs": []
    },
    {
      "cell_type": "code",
      "metadata": {
        "id": "x5ob3FxJzfOQ"
      },
      "source": [
        "data_points=df.values\n",
        "data_points"
      ],
      "execution_count": null,
      "outputs": []
    },
    {
      "cell_type": "code",
      "metadata": {
        "id": "jYz4_Mviz6Lv"
      },
      "source": [
        "kmeans=KMeans(n_clusters=3).fit(data_points)\n",
        "kmeans.labels_"
      ],
      "execution_count": null,
      "outputs": []
    },
    {
      "cell_type": "code",
      "metadata": {
        "id": "Yuanm4I10iuL"
      },
      "source": [
        "df['clu_id']=kmeans.labels_"
      ],
      "execution_count": null,
      "outputs": []
    },
    {
      "cell_type": "code",
      "metadata": {
        "id": "ONoHFiCb0rXC"
      },
      "source": [
        "df # data_id에다가 'clu_id'를 심어주는 이유는 라벨값"
      ],
      "execution_count": null,
      "outputs": []
    },
    {
      "cell_type": "code",
      "metadata": {
        "id": "TJGP-soA0rwE"
      },
      "source": [
        "#visuallzation data point\n",
        "sns.lmplot('x','y',data=df,fit_reg=False,scatter_kws={'s':200},hue='clu_id')"
      ],
      "execution_count": null,
      "outputs": []
    },
    {
      "cell_type": "code",
      "metadata": {
        "id": "93ZfcjQi1OnN"
      },
      "source": [
        "# 분류용 가상 데이터 생성\n",
        "# make_plobs(): 등방성 가우시안 정규분포\n",
        "# n_samples : 표본수\n",
        "# n_features : 독립변수의 수\n",
        "# centers : 클러스터의 수"
      ],
      "execution_count": null,
      "outputs": []
    },
    {
      "cell_type": "code",
      "metadata": {
        "id": "Hb3s4HiB2WNm"
      },
      "source": [
        "from sklearn.datasets import make_blobs"
      ],
      "execution_count": null,
      "outputs": []
    },
    {
      "cell_type": "code",
      "metadata": {
        "id": "Mhgx4c3K2caC"
      },
      "source": [
        "X,y=make_blobs(n_samples=300,n_features=2,centers=3,random_state=1)\n",
        "plt.scatter(X[:,0],X[:,1],marker='o',c=y,s=100)\n",
        "plt.show()"
      ],
      "execution_count": null,
      "outputs": []
    },
    {
      "cell_type": "code",
      "metadata": {
        "id": "Nl0OuDq42oLx"
      },
      "source": [
        "feature,label=make_blobs(random_state=1) # 가상의 더미데이터"
      ],
      "execution_count": null,
      "outputs": []
    },
    {
      "cell_type": "code",
      "metadata": {
        "id": "FV9gnhgd2rCH"
      },
      "source": [
        "clu_mean=KMeans(n_clusters=3)\n",
        "clu_mean.fit(feature)"
      ],
      "execution_count": null,
      "outputs": []
    },
    {
      "cell_type": "code",
      "metadata": {
        "id": "wBLXuAF28S75"
      },
      "source": [
        "clu_mean.labels_"
      ],
      "execution_count": null,
      "outputs": []
    },
    {
      "cell_type": "code",
      "metadata": {
        "id": "xp6vLl_d8XWN"
      },
      "source": [
        "clu_mean.predict(feature)"
      ],
      "execution_count": null,
      "outputs": []
    },
    {
      "cell_type": "code",
      "metadata": {
        "id": "1d_Mqr068izs"
      },
      "source": [
        "plt.scatter(feature[:,0],feature[:,1],\n",
        "            c=clu_mean.labels_,\n",
        "            marker='o',\n",
        "            s=10)\n",
        "plt.scatter(clu_mean.cluster_centers_[:,0],clu_mean.cluster_centers_[:,1],\n",
        "            c=['r','k','b'],\n",
        "            marker='^',\n",
        "            s=100)\n",
        "plt.show()"
      ],
      "execution_count": null,
      "outputs": []
    },
    {
      "cell_type": "code",
      "metadata": {
        "id": "VFbLTkF481JL"
      },
      "source": [
        "clu_mean.cluster_centers_"
      ],
      "execution_count": null,
      "outputs": []
    },
    {
      "cell_type": "markdown",
      "metadata": {
        "id": "JlMIi50k-omI"
      },
      "source": [
        "# K-Means Clustering"
      ]
    },
    {
      "cell_type": "code",
      "metadata": {
        "id": "vkENdYhR9iNV"
      },
      "source": [
        "from sklearn.datasets import load_iris"
      ],
      "execution_count": null,
      "outputs": []
    },
    {
      "cell_type": "code",
      "metadata": {
        "id": "gqzoAQQd-wwX"
      },
      "source": [
        "iris=load_iris()\n",
        "iris"
      ],
      "execution_count": null,
      "outputs": []
    },
    {
      "cell_type": "code",
      "metadata": {
        "id": "k50Qh1R3-zYB"
      },
      "source": [
        "# DataFrame 변환\n",
        "iris_df=pd.DataFrame(data=iris.data, columns=iris.feature_names)\n",
        "iris_df.head()"
      ],
      "execution_count": null,
      "outputs": []
    },
    {
      "cell_type": "code",
      "metadata": {
        "id": "4Qw87y0S_K8v"
      },
      "source": [
        "# KMeans 객체 생성 및 군집화 수행\n",
        "iris_kmeans = KMeans(n_clusters = 3, random_state = 0, init = 'k-means++', max_iter = 300) \n",
        "iris_kmeans.fit(iris_df)"
      ],
      "execution_count": null,
      "outputs": []
    },
    {
      "cell_type": "code",
      "metadata": {
        "id": "oLKLhDadBu5V"
      },
      "source": [
        "print(iris_kmeans.labels_)"
      ],
      "execution_count": null,
      "outputs": []
    },
    {
      "cell_type": "code",
      "metadata": {
        "id": "CCRxxgJfAMLh"
      },
      "source": [
        "print(iris_kmeans.predict(iris_df))"
      ],
      "execution_count": null,
      "outputs": []
    },
    {
      "cell_type": "code",
      "metadata": {
        "id": "5lv4NV63AZur"
      },
      "source": [
        "iris_df['clu_id']=iris_kmeans.labels_\n",
        "iris_df['target']=iris.target\n",
        "iris_df"
      ],
      "execution_count": null,
      "outputs": []
    },
    {
      "cell_type": "code",
      "metadata": {
        "id": "8msMQKTACLR8"
      },
      "source": [
        "# 그룹을(target,clu_id) 통한 sepal_length들 빈도를 호가인해 본다면?\n",
        "iris_group_cnt=iris_df.groupby(['target','clu_id'])['sepal length (cm)'].count()\n",
        "iris_group_cnt"
      ],
      "execution_count": null,
      "outputs": []
    },
    {
      "cell_type": "code",
      "metadata": {
        "id": "meGKYKl9C3J3"
      },
      "source": [
        "iris.target_names"
      ],
      "execution_count": null,
      "outputs": []
    },
    {
      "cell_type": "code",
      "metadata": {
        "id": "epm4zuGmERXI"
      },
      "source": [
        "# 구현 시각화\n",
        "# 2차원 평면에 데이터 포인트별로 군집화된 결과를 시각화\n",
        "# 차원 축소\n",
        "# 주성분 분석\n",
        "from sklearn.decomposition import PCA\n",
        "\n",
        "iris_pca=PCA(n_components=2)\n",
        "iris_pac_transform=iris_pca.fit_transform(iris.data)\n",
        "iris_pac_transform\n",
        "iris_df['pca_x']=iris_pac_transform[:,0]\n",
        "iris_df['pca_y']=iris_pac_transform[:,1]\n",
        "iris_df.head()"
      ],
      "execution_count": null,
      "outputs": []
    },
    {
      "cell_type": "code",
      "metadata": {
        "id": "w8jk5jABnlR_"
      },
      "source": [
        "plt.scatter(x=iris_df['pca_x'],y=iris_df['pca_y'],c=iris_df['clu_id'])\n",
        "plt.show()"
      ],
      "execution_count": null,
      "outputs": []
    },
    {
      "cell_type": "code",
      "metadata": {
        "id": "1L0qSEMoohmF"
      },
      "source": [
        "std_scaler=StandardScaler()\n",
        "df_iris=std_scaler.fit_transform(iris_df.iloc[:,:4])\n",
        "pca_iris_scaler_df=pd.DataFrame(scaler)\n",
        "pca_iris_scaler_df"
      ],
      "execution_count": null,
      "outputs": []
    },
    {
      "cell_type": "code",
      "metadata": {
        "id": "5IxNPdlhohw2"
      },
      "source": [
        "iris_pca=PCA(n_components=2)\n",
        "iris_pca_transform=iris_pca.fit_transform(pca_iris_scaler_df)\n",
        "iris_df['sts_pca_x']=iris_pac_transform[:,0]\n",
        "iris_df['sts_pca_y']=iris_pac_transform[:,1]"
      ],
      "execution_count": null,
      "outputs": []
    },
    {
      "cell_type": "code",
      "metadata": {
        "id": "AtU76Hn2oh_w"
      },
      "source": [
        "iris_clu_mean=KMeans(n_clusters=3)\n",
        "iris_clu_mean.fit(iris_df.iloc[:,-2:])\n",
        "plt.scatter(x=iris_df['sts_pca_x'],y=iris_df['sts_pca_y'],c=iris_df['clu_id'])\n",
        "plt.scatter(iris_clu_mean.cluster_centers_[:,0],\n",
        "            iris_clu_mean.cluster_centers_[:,1],\n",
        "            c=['r','k','b'],marker='^',s=100)"
      ],
      "execution_count": null,
      "outputs": []
    },
    {
      "cell_type": "code",
      "metadata": {
        "id": "WKKqgtFtoIa1"
      },
      "source": [
        "# case2 표준화 통한 차원축소 및 시각화"
      ],
      "execution_count": null,
      "outputs": []
    },
    {
      "cell_type": "markdown",
      "metadata": {
        "id": "HLfncVhcFH_C"
      },
      "source": [
        "- PCA(차원축소) : Princial component Analysis\n",
        "- 데이터의 피쳐를 압축(테이블 메트릭스의 차원을 낮추는 작업)\n",
        "- 예) 온도, 습도, 강수량 태풍여부... 교통량 유동인구\n",
        "- 습도와 강수량은 양의 상관관계로 이 둘은 밀접한 연관성이 있다고 볼 수 있다.\n",
        "- 이렇게 연관성이 있는 피처들을 하나로 합쳐주는 작업이 주성분 분석(PCA)"
      ]
    },
    {
      "cell_type": "code",
      "metadata": {
        "id": "e8dgfj0LFGcv"
      },
      "source": [
        "# DataFrame 변환\n",
        "pca_iris_df=pd.DataFrame(data=iris.data, columns=iris.feature_names)\n",
        "pca_iris_df['target']=iris.target\n",
        "pca_iris_df.head()"
      ],
      "execution_count": null,
      "outputs": []
    },
    {
      "cell_type": "code",
      "metadata": {
        "id": "lPkzCS4SKhGy"
      },
      "source": [
        "makers=['^','o','s']\n",
        "for i, marker in enumerate(makers):\n",
        "    #print(i,marker)\n",
        "    x_data_point=pca_iris_df[pca_iris_df['target']==i]['sepal length (cm)']\n",
        "    y_data_point=pca_iris_df[pca_iris_df['target']==i]['sepal width (cm)']\n",
        "    print(x_data_point,y_data_point)\n",
        "    plt.scatter(x_data_point,y_data_point,marker=marker,label=iris.target_names[i])\n",
        "plt.legend()\n",
        "plt.xlabel('Sepal length')\n",
        "plt.ylabel('Sepal width')\n",
        "plt.show()"
      ],
      "execution_count": null,
      "outputs": []
    },
    {
      "cell_type": "code",
      "metadata": {
        "id": "5GamT_kxLBwZ"
      },
      "source": [
        "# 컬럼에 대한 데이터 표준화\n",
        "from sklearn.preprocessing import StandardScaler\n",
        "\n",
        "# 타겟을 제외한 피처만 추출하여 표준화 작업을 진행해 보자\n",
        "# 주성분 분석을 하기전에 데이터를 표준화 해 주자\n",
        "scaler=StandardScaler().fit_transform(pca_iris_df.iloc[:,:4])\n",
        "pca_iris_scaler_df=pd.DataFrame(scaler)\n",
        "pca_iris_scaler_df"
      ],
      "execution_count": null,
      "outputs": []
    },
    {
      "cell_type": "code",
      "metadata": {
        "id": "fJH4aECeP8hK"
      },
      "source": [
        "# 주성분 분석\n",
        "from sklearn.decomposition import PCA\n",
        "pca=PCA(n_components=2)\n",
        "iris_pca=pca.fit(scaler).transform(scaler)\n",
        "iris_pca_df=pd.DataFrame(iris_pca,columns=['pca01','pca02'])\n",
        "iris_pca_df['target']=iris.target\n",
        "iris_pca_df.head()"
      ],
      "execution_count": null,
      "outputs": []
    },
    {
      "cell_type": "code",
      "metadata": {
        "id": "HhhHiGfKQxwd"
      },
      "source": [
        "makers=['^','o','s']\n",
        "for i, marker in enumerate(makers):\n",
        "    #print(i,marker)\n",
        "    x_data_point=iris_pca_df[iris_pca_df['target']==i]['pca01']\n",
        "    y_data_point=iris_pca_df[iris_pca_df['target']==i]['pca02']\n",
        "    print(x_data_point,y_data_point)\n",
        "    plt.scatter(x_data_point,y_data_point,marker=marker,label=iris.target_names[i])\n",
        "plt.legend()\n",
        "plt.xlabel('Sepal length')\n",
        "plt.ylabel('Sepal width')\n",
        "plt.show()"
      ],
      "execution_count": null,
      "outputs": []
    },
    {
      "cell_type": "code",
      "metadata": {
        "id": "M5okM-RkRsX2"
      },
      "source": [
        ""
      ],
      "execution_count": null,
      "outputs": []
    }
  ]
}