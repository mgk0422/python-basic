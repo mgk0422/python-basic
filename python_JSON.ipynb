{
 "cells": [
  {
   "cell_type": "markdown",
   "metadata": {},
   "source": [
    "### 파이썬으로 JSON 다루기"
   ]
  },
  {
   "cell_type": "code",
   "execution_count": 4,
   "metadata": {},
   "outputs": [
    {
     "data": {
      "text/plain": [
       "[{'name': 'minkyeong', 'age': 24}]"
      ]
     },
     "execution_count": 4,
     "metadata": {},
     "output_type": "execute_result"
    }
   ],
   "source": [
    "import json\n",
    "json_str='[{\"name\":\"minkyeong\",\"age\":24}]'\n",
    "json_obj=json.loads(json_str)\n",
    "json_obj"
   ]
  },
  {
   "cell_type": "code",
   "execution_count": 3,
   "metadata": {},
   "outputs": [
    {
     "data": {
      "text/plain": [
       "{'name': 'minkyeong', 'age': 24}"
      ]
     },
     "execution_count": 3,
     "metadata": {},
     "output_type": "execute_result"
    }
   ],
   "source": [
    "# 파이썬에서 다룰수 있다는 뜻은 인덱스를 이용해 접근하거나\n",
    "# key로 접근할 수 있다는 것을 뜻한다\n",
    "import json\n",
    "json_str='[{\"name\":\"minkyeong\",\"age\":24}]'\n",
    "json_obj=json.loads(json_str)\n",
    "json_obj[0]"
   ]
  },
  {
   "cell_type": "code",
   "execution_count": 5,
   "metadata": {},
   "outputs": [],
   "source": [
    "# 첫번째 줄과 두번째 줄은 뭐가 다를까?\n",
    "# 첫번째 줄에는 []가 있고 두번째 줄은 []가 없다\n",
    "# json_obj[0]을 사용하면 json_obj에 들어있는 항목중 첫번째 항목을 선택해라는 뜻\n",
    "# 왜 1이 아니고 0을 사용하는가?! 파이썬 배열은 순서를 셀때 0부터 세기 때문"
   ]
  },
  {
   "cell_type": "code",
   "execution_count": 6,
   "metadata": {},
   "outputs": [
    {
     "data": {
      "text/plain": [
       "[{'name': 'minkyeong', 'age': 24}, {'name': 'sujin', 'age': '25'}]"
      ]
     },
     "execution_count": 6,
     "metadata": {},
     "output_type": "execute_result"
    }
   ],
   "source": [
    "import json\n",
    "json_str='[{\"name\":\"minkyeong\",\"age\":24},{\"name\":\"sujin\",\"age\":\"25\"}]'\n",
    "json_obj=json.loads(json_str)\n",
    "json_obj[0:2] #[]안에 써준 숫자들을 인덱스(index)라고 한다."
   ]
  },
  {
   "cell_type": "code",
   "execution_count": 9,
   "metadata": {},
   "outputs": [
    {
     "name": "stdout",
     "output_type": "stream",
     "text": [
      "{'name': 'minkyeong', 'age': 24}\n",
      "minkyeong\n",
      "24\n"
     ]
    }
   ],
   "source": [
    "import json\n",
    "json_str='[{\"name\":\"minkyeong\",\"age\":24},{\"name\":\"sujin\",\"age\":\"25\"}]'\n",
    "json_obj=json.loads(json_str)\n",
    "print(json_obj[0])          #[]안에 써준 숫자들을 인덱스(index)라고 한다.\n",
    "print(json_obj[0]['name'])\n",
    "print(json_obj[0]['age'])"
   ]
  },
  {
   "cell_type": "code",
   "execution_count": 18,
   "metadata": {},
   "outputs": [
    {
     "name": "stdout",
     "output_type": "stream",
     "text": [
      "{'name': 'minkyeong', 'age': 24}\n",
      "{'name': 'sujin', 'age': '25'}\n"
     ]
    }
   ],
   "source": [
    "# 반복문 아용하기\n",
    "import json\n",
    "json_str='[{\"name\":\"minkyeong\",\"age\":24},{\"name\":\"sujin\",\"age\":\"25\"}]'\n",
    "json_obj=json.loads(json_str)\n",
    "\n",
    "for student in json_obj:\n",
    "    print(student)"
   ]
  },
  {
   "cell_type": "code",
   "execution_count": 21,
   "metadata": {},
   "outputs": [
    {
     "name": "stdout",
     "output_type": "stream",
     "text": [
      "minkyeong 24\n",
      "sujin 25\n"
     ]
    }
   ],
   "source": [
    "# 이름만 출력하기\n",
    "import json\n",
    "json_str='[{\"name\":\"minkyeong\",\"age\":24},{\"name\":\"sujin\",\"age\":\"25\"}]'\n",
    "json_obj=json.loads(json_str)\n",
    "\n",
    "for student in json_obj:\n",
    "    print(student['name'],student['age'])"
   ]
  },
  {
   "cell_type": "markdown",
   "metadata": {},
   "source": [
    "#### 엑셀에서 데이터 나누기 할 수 있게 데이터 가공하기"
   ]
  },
  {
   "cell_type": "code",
   "execution_count": 30,
   "metadata": {},
   "outputs": [
    {
     "name": "stdout",
     "output_type": "stream",
     "text": [
      "minkyeong,24\n",
      "sujin,25\n"
     ]
    }
   ],
   "source": [
    "import json\n",
    "json_str='[{\"name\":\"minkyeong\",\"age\":24},{\"name\":\"sujin\",\"age\":\"25\"}]'\n",
    "json_obj=json.loads(json_str)\n",
    "\n",
    "for student in json_obj:\n",
    "    print(str(student['name']) + \",\" + str(student['age']))"
   ]
  }
 ],
 "metadata": {
  "kernelspec": {
   "display_name": "Python 3",
   "language": "python",
   "name": "python3"
  },
  "language_info": {
   "codemirror_mode": {
    "name": "ipython",
    "version": 3
   },
   "file_extension": ".py",
   "mimetype": "text/x-python",
   "name": "python",
   "nbconvert_exporter": "python",
   "pygments_lexer": "ipython3",
   "version": "3.6.5"
  }
 },
 "nbformat": 4,
 "nbformat_minor": 2
}
