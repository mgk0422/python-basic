{
 "cells": [
  {
   "cell_type": "code",
   "execution_count": 51,
   "metadata": {},
   "outputs": [],
   "source": [
    "from selenium import webdriver\n",
    "import time"
   ]
  },
  {
   "cell_type": "code",
   "execution_count": 52,
   "metadata": {},
   "outputs": [
    {
     "data": {
      "text/plain": [
       "<selenium.webdriver.chrome.webdriver.WebDriver (session=\"beb6d8e1b355d6a72661d1f70de9dffc\")>"
      ]
     },
     "execution_count": 52,
     "metadata": {},
     "output_type": "execute_result"
    }
   ],
   "source": [
    "path = './driver/chromedriver.exe'\n",
    "driver = webdriver.Chrome(path)\n",
    "driver"
   ]
  },
  {
   "cell_type": "markdown",
   "metadata": {},
   "source": [
    "- id : contents\n",
    "- class : prList\n",
    "- tag : a"
   ]
  },
  {
   "cell_type": "code",
   "execution_count": 58,
   "metadata": {},
   "outputs": [
    {
     "name": "stdout",
     "output_type": "stream",
     "text": [
      "72\n"
     ]
    }
   ],
   "source": [
    "details_list = []\n",
    "\n",
    "for page in range(1, 10) :\n",
    "    url = 'https://www.ildong.com/kor/product/list.id?page='+str(page)+'&halt=&prdDisease=&prdCategory=5&searchVal=&searchOption=0'\n",
    "    driver.get(url)\n",
    "    \n",
    "    # elements= driver.find_elements_by_css_selector('div.content > div.productBox > div.prCnt > div.prList > ul > li')\n",
    "    \n",
    "    prList = driver.find_element_by_class_name('prList')\n",
    "    # print(prList)\n",
    "    a_tag = prList.find_elements_by_tag_name('a')\n",
    "    # print(a_tag)\n",
    "    # print(len(a_tag))\n",
    "        \n",
    "    for idx in range(len(a_tag)) :\n",
    "        a_tag[idx].click()\n",
    "        detail = driver.find_element_by_class_name('detailCnt2')\n",
    "        # print(detail.text)\n",
    "        \n",
    "        details_list.append(detail.text)\n",
    "        \n",
    "        # back()을 쓰게 되면 정보들을 다 잃어버리게 된다.\n",
    "        driver.back()\n",
    "        \n",
    "        prList = driver.find_element_by_class_name('prList')\n",
    "        a_tag = prList.find_elements_by_tag_name('a')\n",
    "        time.sleep(1)\n",
    "        \n",
    "print(len(details_list))"
   ]
  },
  {
   "cell_type": "markdown",
   "metadata": {},
   "source": [
    "-------------------------------------------------------------------"
   ]
  },
  {
   "cell_type": "code",
   "execution_count": 67,
   "metadata": {},
   "outputs": [],
   "source": [
    "from selenium import webdriver\n",
    "import time"
   ]
  },
  {
   "cell_type": "markdown",
   "metadata": {},
   "source": [
    "CSS Selector 활용 팁\n",
    "네이버 부동산 매매 아파트 이름과 가격만 찾아보기\n",
    "CSS Selector 를 활용하는 팁: Chrome F12(WINDOW) or Alt + Command + i(MAC) --> Copy Selector 참고\n",
    "Copy Selector 시 일부 태그에 붙는 :nth-child(#) 은 동일한 태그로 리스트가 있을 경우, 리스트 중 특정한 값만 가리킴 . \n",
    "전체 리스트를 가져오는 경우에는 :nth-child(#) 은 삭제할 필요가 있음"
   ]
  },
  {
   "cell_type": "code",
   "execution_count": 73,
   "metadata": {},
   "outputs": [],
   "source": [
    "import re\n",
    "import requests\n",
    "from bs4 import BeautifulSoup\n",
    "\n",
    "res = requests.get('http://land.naver.com/article/divisionInfo.nhn?rletTypeCd=A01&tradeTypeCd=A1&hscpTypeCd=A01%3AA03%3AA04&cortarNo=1168000000&articleOrderCode=&cpId=&minPrc=&maxPrc=&minWrrnt=&maxWrrnt=&minLease=&maxLease=&minSpc=&maxSpc=&subDist=&mviDate=&hsehCnt=&rltrId=&mnex=&siteOrderCode=&cmplYn=')\n",
    "\n",
    "soup = BeautifulSoup(res.content, 'html.parser')\n",
    "\n",
    "# a 태그이면서 href 속성 값이 특정한 값을 갖는 경우 탐색\n",
    "link_title = soup.select(\"#depth4Tab0Content > div > table > tbody > tr > td.align_l.name > div > a.sale_title\")\n",
    "link_price = soup.select(\"#depth4Tab0Content > div > table > tbody > tr > td.num.align_r > div > strong\")\n",
    "\n",
    "for num in range(len(link_price)):\n",
    "    print(link_title[num].get_text(), link_price[num].get_text())"
   ]
  },
  {
   "cell_type": "markdown",
   "metadata": {},
   "source": [
    "----------------------------------------------------------------------------------------"
   ]
  },
  {
   "cell_type": "code",
   "execution_count": null,
   "metadata": {},
   "outputs": [],
   "source": []
  }
 ],
 "metadata": {
  "kernelspec": {
   "display_name": "Python 3",
   "language": "python",
   "name": "python3"
  },
  "language_info": {
   "codemirror_mode": {
    "name": "ipython",
    "version": 3
   },
   "file_extension": ".py",
   "mimetype": "text/x-python",
   "name": "python",
   "nbconvert_exporter": "python",
   "pygments_lexer": "ipython3",
   "version": "3.6.5"
  }
 },
 "nbformat": 4,
 "nbformat_minor": 2
}
