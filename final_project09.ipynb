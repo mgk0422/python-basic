{
  "nbformat": 4,
  "nbformat_minor": 0,
  "metadata": {
    "colab": {
      "name": "final_project09",
      "private_outputs": true,
      "provenance": [],
      "authorship_tag": "ABX9TyP2xo+E38HLLm7HXMAgUhu5",
      "include_colab_link": true
    },
    "kernelspec": {
      "name": "python3",
      "display_name": "Python 3"
    }
  },
  "cells": [
    {
      "cell_type": "markdown",
      "metadata": {
        "id": "view-in-github",
        "colab_type": "text"
      },
      "source": [
        "<a href=\"https://colab.research.google.com/github/mgk0422/python-basic/blob/master/final_project09.ipynb\" target=\"_parent\"><img src=\"https://colab.research.google.com/assets/colab-badge.svg\" alt=\"Open In Colab\"/></a>"
      ]
    },
    {
      "cell_type": "code",
      "metadata": {
        "id": "P1ieV4eBBxKk"
      },
      "source": [
        "import pandas as pd\n",
        "import numpy as np\n",
        "import time\n",
        "import itertools\n",
        "import scipy\n",
        "from sklearn.model_selection import train_test_split\n",
        "import statsmodels.api as sm"
      ],
      "execution_count": null,
      "outputs": []
    },
    {
      "cell_type": "code",
      "metadata": {
        "id": "MxhBmC4HK35o"
      },
      "source": [
        "from google.colab import files\n",
        "uploaded=files.upload()"
      ],
      "execution_count": null,
      "outputs": []
    },
    {
      "cell_type": "code",
      "metadata": {
        "id": "CGyE8PGvK5eC"
      },
      "source": [
        "양파_반입량=pd.read_excel('/content/양파 반입량 통합2013-2020.xlsx')\n",
        "양파_경락가=pd.read_excel('/content/양파(특) 경락가 통합2013-2020.xlsx')\n",
        "양파_해남_기상=pd.read_excel('/content/양파_해남20130101_20201031.xlsx')\n",
        "주유소_판매가격=pd.read_excel('/content/주유소_평균판매가격.xlsx')\n",
        "양파_반입량.head()"
      ],
      "execution_count": null,
      "outputs": []
    },
    {
      "cell_type": "code",
      "metadata": {
        "id": "_zFvMW0rSQs6"
      },
      "source": [
        "양파_경락가.info()"
      ],
      "execution_count": null,
      "outputs": []
    },
    {
      "cell_type": "code",
      "metadata": {
        "id": "Ggz3yFmzUj8j"
      },
      "source": [
        "양파_경락_반입=pd.merge(양파_반입량,양파_경락가,on='일자')\n",
        "양파_경락_반입.head()"
      ],
      "execution_count": null,
      "outputs": []
    },
    {
      "cell_type": "code",
      "metadata": {
        "id": "6VpBsou5WfEO"
      },
      "source": [
        "양파_경락_반입['일자'] = 양파_경락_반입['일자'].astype(str)\n",
        "양파_경락_반입['일자'] = pd.to_datetime(양파_경락_반입['일자'])\n",
        "양파_경락_반입.info()"
      ],
      "execution_count": null,
      "outputs": []
    },
    {
      "cell_type": "code",
      "metadata": {
        "id": "wjUBYB2xXRmA"
      },
      "source": [
        "#양파_해남_기상.head()"
      ],
      "execution_count": null,
      "outputs": []
    },
    {
      "cell_type": "code",
      "metadata": {
        "id": "B_k1Us8IXaZ1"
      },
      "source": [
        "양파_해남_기상.rename(columns = {'일시': '일자'}, inplace = True)"
      ],
      "execution_count": null,
      "outputs": []
    },
    {
      "cell_type": "code",
      "metadata": {
        "id": "oiANooqISbOS"
      },
      "source": [
        "양파_dt=pd.merge(양파_해남_기상,양파_경락_반입,on='일자')"
      ],
      "execution_count": null,
      "outputs": []
    },
    {
      "cell_type": "code",
      "metadata": {
        "id": "Sk9lgBTyXB7L"
      },
      "source": [
        "#양파_dt.head()"
      ],
      "execution_count": null,
      "outputs": []
    },
    {
      "cell_type": "code",
      "metadata": {
        "id": "jf7Ccb4oXvvc"
      },
      "source": [
        "양파_dt=pd.merge(양파_dt,주유소_판매가격,on='일자')"
      ],
      "execution_count": null,
      "outputs": []
    },
    {
      "cell_type": "code",
      "metadata": {
        "id": "wldWOByPcgCv"
      },
      "source": [
        "양파_dt.head()"
      ],
      "execution_count": null,
      "outputs": []
    },
    {
      "cell_type": "code",
      "metadata": {
        "id": "_Yw7zbHO2NQX"
      },
      "source": [
        "양파_dt[['일교차']]=양파_dt['최고기온(°C)']-양파_dt['최저기온(°C)']"
      ],
      "execution_count": null,
      "outputs": []
    },
    {
      "cell_type": "code",
      "metadata": {
        "id": "I56DnfeQ2NaZ"
      },
      "source": [
        "양파_dt=양파_dt[['최저기온(°C)','최고기온(°C)','일강수량(mm)','평균 풍속(m/s)','평균 상대습도(%)','합계 일조시간(hr)','평균 지면온도(°C)','반입량','유가 전국평균가격','일교차','평균가격']]"
      ],
      "execution_count": null,
      "outputs": []
    },
    {
      "cell_type": "code",
      "metadata": {
        "id": "l8WqwNaD2NpN"
      },
      "source": [
        "import xgboost as xgb\n",
        "from sklearn.metrics import mean_squared_error\n",
        "import pandas as pd\n",
        "import numpy as np"
      ],
      "execution_count": null,
      "outputs": []
    },
    {
      "cell_type": "code",
      "metadata": {
        "id": "8r3Oyz_n2Ny-"
      },
      "source": [
        "X, y = 양파_dt.iloc[:,:-1],양파_dt.iloc[:,-1]"
      ],
      "execution_count": null,
      "outputs": []
    },
    {
      "cell_type": "code",
      "metadata": {
        "id": "EG7eBYwR3BY1"
      },
      "source": [
        "data_dmatrix = xgb.DMatrix(data=X,label=y)"
      ],
      "execution_count": null,
      "outputs": []
    },
    {
      "cell_type": "code",
      "metadata": {
        "id": "oe490CDT3Em_"
      },
      "source": [
        "from sklearn.model_selection import train_test_split\n",
        "X_train, X_test, y_train, y_test = train_test_split(X, y, test_size=0.2, random_state=123)"
      ],
      "execution_count": null,
      "outputs": []
    },
    {
      "cell_type": "code",
      "metadata": {
        "id": "cnCfrVmF3ElG"
      },
      "source": [
        "xg_reg = xgb.XGBRegressor(objective ='reg:linear', colsample_bytree = 0.3, learning_rate = 0.1, max_depth = 5, alpha = 10, n_estimators = 10)"
      ],
      "execution_count": null,
      "outputs": []
    },
    {
      "cell_type": "code",
      "metadata": {
        "id": "evpDcii33BqV"
      },
      "source": [
        "xg_reg.fit(X_train,y_train)"
      ],
      "execution_count": null,
      "outputs": []
    },
    {
      "cell_type": "code",
      "metadata": {
        "id": "99PZKQNU3Bos"
      },
      "source": [
        "preds = xg_reg.predict(X_test)"
      ],
      "execution_count": null,
      "outputs": []
    },
    {
      "cell_type": "code",
      "metadata": {
        "id": "g3ehWY3w3Bla"
      },
      "source": [
        "rmse = np.sqrt(mean_squared_error(y_test, preds))\n",
        "print(\"RMSE: %f\" % (rmse))"
      ],
      "execution_count": null,
      "outputs": []
    },
    {
      "cell_type": "code",
      "metadata": {
        "id": "LD_LbU6V3BjO"
      },
      "source": [
        "params = {\"objective\":\"reg:linear\",'colsample_bytree': 0.3,'learning_rate': 0.1,'max_depth': 5, 'alpha': 10}\n",
        "cv_results = xgb.cv(dtrain=data_dmatrix, params=params, nfold=3,num_boost_round=50,early_stopping_rounds=10,metrics=\"rmse\", as_pandas=True, seed=123)"
      ],
      "execution_count": null,
      "outputs": []
    },
    {
      "cell_type": "code",
      "metadata": {
        "id": "Oo3DCkFn3Bhf"
      },
      "source": [
        "cv_results.head()"
      ],
      "execution_count": null,
      "outputs": []
    },
    {
      "cell_type": "code",
      "metadata": {
        "id": "jgcW5ygk3BfT"
      },
      "source": [
        "print((cv_results[\"test-rmse-mean\"]).tail(1))"
      ],
      "execution_count": null,
      "outputs": []
    },
    {
      "cell_type": "code",
      "metadata": {
        "id": "D7reQ2ix3BcV"
      },
      "source": [
        "import matplotlib.pyplot as plt\n",
        "\n",
        "xgb.plot_tree(xg_reg,num_trees=0)\n",
        "plt.rcParams['figure.figsize'] = [40, 10]\n",
        "plt.show()"
      ],
      "execution_count": null,
      "outputs": []
    },
    {
      "cell_type": "code",
      "metadata": {
        "id": "asJSrQT06Ezl"
      },
      "source": [
        "!sudo apt-get install -y fonts-nanum\n",
        "!sudo fc-cache -fv\n",
        "!rm ~/.cache/matplotlib -rf"
      ],
      "execution_count": null,
      "outputs": []
    },
    {
      "cell_type": "code",
      "metadata": {
        "id": "c7C-EFzs6PJ3"
      },
      "source": [
        "import matplotlib.pyplot as plt\n",
        "\n",
        "plt.rc('font', family='NanumBarunGothic') "
      ],
      "execution_count": null,
      "outputs": []
    },
    {
      "cell_type": "code",
      "metadata": {
        "id": "IA-OKvu-2Nu4"
      },
      "source": [
        "xgb.plot_importance(xg_reg)\n",
        "plt.rcParams['figure.figsize'] = [10, 10]\n",
        "plt.show()"
      ],
      "execution_count": null,
      "outputs": []
    },
    {
      "cell_type": "code",
      "metadata": {
        "id": "gqewkDMU2Nmu"
      },
      "source": [
        ""
      ],
      "execution_count": null,
      "outputs": []
    },
    {
      "cell_type": "code",
      "metadata": {
        "id": "EzI4rCRz8O2_"
      },
      "source": [
        ""
      ],
      "execution_count": null,
      "outputs": []
    },
    {
      "cell_type": "code",
      "metadata": {
        "id": "RDtjGfZq4C7f"
      },
      "source": [
        ""
      ],
      "execution_count": null,
      "outputs": []
    },
    {
      "cell_type": "code",
      "metadata": {
        "id": "75cA5e054DBa"
      },
      "source": [
        ""
      ],
      "execution_count": null,
      "outputs": []
    },
    {
      "cell_type": "code",
      "metadata": {
        "id": "BZX4wD4o4C3T"
      },
      "source": [
        ""
      ],
      "execution_count": null,
      "outputs": []
    },
    {
      "cell_type": "code",
      "metadata": {
        "id": "iZaxL3HSh2eD"
      },
      "source": [
        "양파_dt=양파_dt[['최저기온(°C)','최고기온(°C)','일강수량(mm)','평균 풍속(m/s)','평균 상대습도(%)','합계 일조시간(hr)','평균 지면온도(°C)','반입량','평균가격','유가 전국평균가격']]"
      ],
      "execution_count": null,
      "outputs": []
    },
    {
      "cell_type": "code",
      "metadata": {
        "id": "L7-f4ph2kNh4"
      },
      "source": [
        "양파_dt.info()"
      ],
      "execution_count": null,
      "outputs": []
    },
    {
      "cell_type": "code",
      "metadata": {
        "id": "nU1oHTavchv1"
      },
      "source": [
        "# 설명변수(X),타겟변수(Y) 분리 및 학습 데이터와 평가 데이터 분할\n",
        "feature_columns=list(양파_dt.columns.difference(['평균가격']))\n",
        "X=양파_dt[feature_columns]\n",
        "y=양파_dt.평균가격\n",
        "train_x,test_x,train_y,test_y=train_test_split(X,y,train_size=0.7,test_size=0.3)\n",
        "print(train_x.shape,test_x.shape,train_y.shape,test_y.shape)"
      ],
      "execution_count": null,
      "outputs": []
    },
    {
      "cell_type": "code",
      "metadata": {
        "id": "cjQikuIfijQw"
      },
      "source": [
        "#Train the MLR/회귀모델적합\n",
        "full_model=sm.OLS(train_y,train_x)\n",
        "fitted_full_model=full_model.fit()"
      ],
      "execution_count": null,
      "outputs": []
    },
    {
      "cell_type": "code",
      "metadata": {
        "id": "FyWjGYFZjKs5"
      },
      "source": [
        "from statsmodels.stats.outliers_influence import variance_inflation_factor\n",
        "vif=pd.DataFrame()\n",
        "vif['VIF Factor']=[variance_inflation_factor(양파_dt.values,i) for i in range(양파_dt.shape[1])]\n",
        "vif['features']=양파_dt.columns\n",
        "vif"
      ],
      "execution_count": null,
      "outputs": []
    },
    {
      "cell_type": "code",
      "metadata": {
        "id": "4nA1a-YCkDnc"
      },
      "source": [
        "양파_dt=양파_dt[['최저기온(°C)','최고기온(°C)','일강수량(mm)','평균 풍속(m/s)','평균 상대습도(%)','합계 일조시간(hr)','반입량','평균가격','유가 전국평균가격']]"
      ],
      "execution_count": null,
      "outputs": []
    },
    {
      "cell_type": "code",
      "metadata": {
        "id": "pj1O3dSXoK4u"
      },
      "source": [
        "from statsmodels.stats.outliers_influence import variance_inflation_factor\n",
        "vif=pd.DataFrame()\n",
        "vif['VIF Factor']=[variance_inflation_factor(양파_dt.values,i) for i in range(양파_dt.shape[1])]\n",
        "vif['features']=양파_dt.columns\n",
        "vif"
      ],
      "execution_count": null,
      "outputs": []
    },
    {
      "cell_type": "code",
      "metadata": {
        "id": "lLVduBlVoNzy"
      },
      "source": [
        "양파_dt=양파_dt[['최저기온(°C)','일강수량(mm)','평균 풍속(m/s)','평균 상대습도(%)','합계 일조시간(hr)','반입량','평균가격','유가 전국평균가격']]"
      ],
      "execution_count": null,
      "outputs": []
    },
    {
      "cell_type": "code",
      "metadata": {
        "id": "ub5IoQDsoUio"
      },
      "source": [
        "from statsmodels.stats.outliers_influence import variance_inflation_factor\n",
        "vif=pd.DataFrame()\n",
        "vif['VIF Factor']=[variance_inflation_factor(양파_dt.values,i) for i in range(양파_dt.shape[1])]\n",
        "vif['features']=양파_dt.columns\n",
        "vif"
      ],
      "execution_count": null,
      "outputs": []
    },
    {
      "cell_type": "code",
      "metadata": {
        "id": "g4M-nOOioVjs"
      },
      "source": [
        "양파_dt=양파_dt[['최저기온(°C)','일강수량(mm)','평균 풍속(m/s)','합계 일조시간(hr)','반입량','유가 전국평균가격']]"
      ],
      "execution_count": null,
      "outputs": []
    },
    {
      "cell_type": "code",
      "metadata": {
        "id": "r97KZ1t7ofeY"
      },
      "source": [
        "from statsmodels.stats.outliers_influence import variance_inflation_factor\n",
        "vif=pd.DataFrame()\n",
        "vif['VIF Factor']=[variance_inflation_factor(양파_dt.values,i) for i in range(양파_dt.shape[1])]\n",
        "vif['features']=양파_dt.columns\n",
        "vif"
      ],
      "execution_count": null,
      "outputs": []
    },
    {
      "cell_type": "code",
      "metadata": {
        "id": "YCGMGQsXog43"
      },
      "source": [
        "# 변수선택법 \n",
        "def processSubset(X, y, feature_set):\n",
        "    model = sm.OLS(y, X[list(feature_set)]) # modeling\n",
        "    regr = model.fit() # 모델 학습\n",
        "    AIC = regr.aic # 모델의 AIC\n",
        "    return {'model' : regr, 'AIC' : AIC}\n",
        "\n",
        "print(processSubset(X=train_x, y = train_y, feature_set = feature_columns[0:5]))"
      ],
      "execution_count": null,
      "outputs": []
    },
    {
      "cell_type": "code",
      "metadata": {
        "id": "kq0LAfXm411y"
      },
      "source": [
        "# 전진선택법(step=1)\n",
        "\n",
        "def forward(X, y, predictors):\n",
        "    # 데이터 변수들이 미리 정의된 predictors에 있는지 없는지 확인 및 분류\n",
        "    remaining_predictors = [p for p in X.columns.difference(['평균가격']) if p not in predictors]\n",
        "    tic = time.time()\n",
        "    results = []\n",
        "    for p in remaining_predictors:\n",
        "        results.append(processSubset(X=X, y=y, feature_set=predcitors+[p]+['평균가격']))\n",
        "    # 데이터프레임으로 변환\n",
        "    models = pd.DataFrame(results)\n",
        "    \n",
        "    # AIC가 가장 낮은 것을 선택\n",
        "    best_model = models.loc[models['AIC'].argmin()] # index\n",
        "    toc = time.time()\n",
        "    print(\"Processed \", models.shape[0], \"models on\", len(predictors)+1, \"predictors in\", (toc-tic))\n",
        "    print('Selected predictors:', best_model['model'].model.exog_names, ' AIC:',best_model[0])\n",
        "    return best_model"
      ],
      "execution_count": null,
      "outputs": []
    },
    {
      "cell_type": "code",
      "metadata": {
        "id": "TmVUj0X247mU"
      },
      "source": [
        "# 전진선택법 모델\n",
        "def forward_model(X,y):\n",
        "    Fmodels = pd.DataFrame(columns=['AID', 'model'])\n",
        "    tic = time.time()\n",
        "    # 미리 정의된 데이터 변수\n",
        "    predictors = []\n",
        "    # 변수 1~10개 : 0 ~ 9  -> 1 ~ 10\n",
        "    for i in range(1, len(X.columns.difference(['평균가격'])) + 1):\n",
        "        Forward_result = forward(X=X, y=y, predictors=predictors)\n",
        "        if i > 1:\n",
        "            if Forward_result['AIC'] > Fmodel_before:\n",
        "                break\n",
        "        Fmodels.loc[i] = Forward_result\n",
        "        predictors = Fmodels.loc[i][\"model\"].model.exog_names\n",
        "        Fmodel_before = Fmodels.loc[i][\"AIC\"]\n",
        "        predictors = [ k for k in predictors if k != '평균가격']\n",
        "    toc = time.time()\n",
        "    print(\"Total elapsed time : \", (toc - tic), \"seconds.\")\n",
        "    \n",
        "    return (Fmodels['model'][len(Fmodels['model'])])"
      ],
      "execution_count": null,
      "outputs": []
    },
    {
      "cell_type": "code",
      "metadata": {
        "id": "DGLKLugO5Ko6"
      },
      "source": [
        "#Forward_best_model = forward_model(X=train_x, y=train_y)"
      ],
      "execution_count": null,
      "outputs": []
    },
    {
      "cell_type": "code",
      "metadata": {
        "id": "FhfuOI505NN3"
      },
      "source": [
        "양파_dt=양파_dt[['최저기온(°C)','일강수량(mm)','평균 풍속(m/s)','합계 일조시간(hr)','반입량','유가 전국평균가격','평균가격']]\n",
        "양파_dt.head()"
      ],
      "execution_count": null,
      "outputs": []
    },
    {
      "cell_type": "code",
      "metadata": {
        "id": "iItBlRHf9E3t"
      },
      "source": [
        "from sklearn import linear_model\n",
        "\n",
        "X_data=양파_dt[['최저기온(°C)','일강수량(mm)','평균 풍속(m/s)','합계 일조시간(hr)','반입량','유가 전국평균가격']]\n",
        "Y_data=양파_dt[['평균가격']]"
      ],
      "execution_count": null,
      "outputs": []
    },
    {
      "cell_type": "code",
      "metadata": {
        "id": "daqGLsG8-N9U"
      },
      "source": [
        "#다중선형회귀모델 설계\n",
        "linear_regression_model=linear_model.LinearRegression()\n",
        "linear_regression_model.fit(X_data,Y_data)\n",
        "linear_regression_model_prediction=linear_regression_model.predict(X=pd.DataFrame(X_data))"
      ],
      "execution_count": null,
      "outputs": []
    },
    {
      "cell_type": "code",
      "metadata": {
        "id": "iUo26Fpq_pM-"
      },
      "source": [
        "#Train the MLR / 회귀모델적합\n",
        "fullModel = sm.OLS(train_y,train_x)\n",
        "fittedFullModel = fullModel.fit()\n",
        " \n",
        "#R-Squre 가 높고 , 대부분의 변수들이 유의함.\n",
        "print(fittedFullModel.summary())\n",
        " \n",
        "#VIF를 통한 다중공선성 확인\n",
        "from statsmodels.stats.outliers_influence import variance_inflation_factor\n",
        " \n",
        "vif = pd.DataFrame()\n",
        "vif[\"VIF Factor\"] = [variance_inflation_factor(양파_dt.values,i)\n",
        "                     for i in range(양파_dt.shape[1])]\n",
        "vif[\"features\"]=양파_dt.columns\n",
        "print(vif)\n"
      ],
      "execution_count": null,
      "outputs": []
    },
    {
      "cell_type": "code",
      "metadata": {
        "id": "rYLoltMiBRGg"
      },
      "source": [
        "#학습데이터의 잔차 확인\n",
        " \n",
        "res = fittedFullModel.resid\n",
        "import matplotlib.pyplot as plt\n",
        "#Q-Q plot # 정규분포확인\n",
        "fig = sm.qqplot(res, fit=True, line='45')\n",
        "plt.show()\n",
        "# residual pattern 확인\n",
        " \n",
        "predY = fittedFullModel.predict(train_x)\n",
        " \n",
        "fig = plt.scatter(predY,res,s=4)\n",
        "plt.xlim(4000,30000)\n",
        "plt.xlim(4000,30000)\n",
        "plt.xlabel('Fitted values')\n",
        "plt.ylabel('Residual')\n",
        "plt.show()\n",
        " \n",
        "#검증 데이터에 대한 예측\n",
        " \n",
        "predY2 = fittedFullModel.predict(test_x)\n",
        " \n",
        "plt.plot(np.array(test_y-predY2),label=\"predFull\")\n",
        "plt.legend()\n",
        "plt.show()\n",
        " \n",
        "#MSE 값 구하기\n",
        "from sklearn.metrics import mean_squared_error\n",
        "MSE = mean_squared_error(y_true=test_y,y_pred=predY2)\n",
        "print(MSE)"
      ],
      "execution_count": null,
      "outputs": []
    },
    {
      "cell_type": "code",
      "metadata": {
        "id": "HSSry3frCRHg"
      },
      "source": [
        ""
      ],
      "execution_count": null,
      "outputs": []
    }
  ]
}