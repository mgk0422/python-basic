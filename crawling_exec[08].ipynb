{
 "cells": [
  {
   "cell_type": "code",
   "execution_count": 102,
   "metadata": {},
   "outputs": [],
   "source": [
    "from selenium import webdriver\n",
    "import time"
   ]
  },
  {
   "cell_type": "markdown",
   "metadata": {},
   "source": [
    "### Selenium 특정 요소를 찾는 함수\n",
    "- find_element_*()\n",
    "- find_elements_*()\n",
    "- find_element_by_id()\n",
    "- find_element_by_name()\n",
    "- find_element_by_css_selector()\n",
    "- find_element_by_tag_name()\n",
    "\n",
    "- return 시켜주는 타입 WebElement 객체를 리턴 -> text "
   ]
  },
  {
   "cell_type": "code",
   "execution_count": 103,
   "metadata": {},
   "outputs": [
    {
     "data": {
      "text/plain": [
       "<selenium.webdriver.chrome.webdriver.WebDriver (session=\"0624a9a3848ff84bcb5c8bbf5cc109bd\")>"
      ]
     },
     "execution_count": 103,
     "metadata": {},
     "output_type": "execute_result"
    }
   ],
   "source": [
    "path = './driver/chromedriver.exe'\n",
    "driver = webdriver.Chrome(path)\n",
    "driver"
   ]
  },
  {
   "cell_type": "code",
   "execution_count": 105,
   "metadata": {},
   "outputs": [],
   "source": [
    "driver.get(\"https://www.google.com\")"
   ]
  },
  {
   "cell_type": "code",
   "execution_count": 106,
   "metadata": {},
   "outputs": [],
   "source": [
    "driver.get(\"https://www.python.org\")"
   ]
  },
  {
   "cell_type": "code",
   "execution_count": 107,
   "metadata": {},
   "outputs": [
    {
     "data": {
      "text/plain": [
       "[<selenium.webdriver.remote.webelement.WebElement (session=\"0624a9a3848ff84bcb5c8bbf5cc109bd\", element=\"d58f83d7-5a9b-4db5-8ba9-12cab89d4b6f\")>,\n",
       " <selenium.webdriver.remote.webelement.WebElement (session=\"0624a9a3848ff84bcb5c8bbf5cc109bd\", element=\"2b5d3dc9-42d4-485f-83da-bc224773d2e1\")>,\n",
       " <selenium.webdriver.remote.webelement.WebElement (session=\"0624a9a3848ff84bcb5c8bbf5cc109bd\", element=\"3398662b-6863-48db-872f-6942aede71d4\")>,\n",
       " <selenium.webdriver.remote.webelement.WebElement (session=\"0624a9a3848ff84bcb5c8bbf5cc109bd\", element=\"ca892677-a1f8-4cc5-bd0f-ad6ee46e5ef1\")>,\n",
       " <selenium.webdriver.remote.webelement.WebElement (session=\"0624a9a3848ff84bcb5c8bbf5cc109bd\", element=\"46942fae-14cd-4f40-b5d5-65ef6cba0eb9\")>,\n",
       " <selenium.webdriver.remote.webelement.WebElement (session=\"0624a9a3848ff84bcb5c8bbf5cc109bd\", element=\"1a63482b-d8c8-4c10-8b4e-b2ca889b06b6\")>]"
      ]
     },
     "execution_count": 107,
     "metadata": {},
     "output_type": "execute_result"
    }
   ],
   "source": [
    "menus=driver.find_elements_by_css_selector('#top ul.menu li')\n",
    "menus"
   ]
  },
  {
   "cell_type": "code",
   "execution_count": 108,
   "metadata": {},
   "outputs": [],
   "source": [
    "click_menu=None\n",
    "for menu in menus:\n",
    "    #print(menu.text)\n",
    "    if menu.text=='Python':\n",
    "        click_menu = menu\n",
    "click_menu.click()\n",
    "time.sleep(5)\n",
    "driver.close()"
   ]
  },
  {
   "cell_type": "code",
   "execution_count": 109,
   "metadata": {},
   "outputs": [
    {
     "data": {
      "text/plain": [
       "<selenium.webdriver.chrome.webdriver.WebDriver (session=\"f3fa5ec3f1762ed6f8e2e6ece3a1d52f\")>"
      ]
     },
     "execution_count": 109,
     "metadata": {},
     "output_type": "execute_result"
    }
   ],
   "source": [
    "from selenium import webdriver\n",
    "import time\n",
    "\n",
    "path = './driver/chromedriver.exe'\n",
    "driver = webdriver.Chrome(path)\n",
    "driver"
   ]
  },
  {
   "cell_type": "code",
   "execution_count": 110,
   "metadata": {},
   "outputs": [
    {
     "name": "stdout",
     "output_type": "stream",
     "text": [
      "<selenium.webdriver.remote.webelement.WebElement (session=\"f3fa5ec3f1762ed6f8e2e6ece3a1d52f\", element=\"ce1e84fb-7914-42bd-9b3a-ded3bfdfa88f\")>\n"
     ]
    }
   ],
   "source": [
    "driver.get('https://datalab.naver.com/shoppingInsight/sCategory.naver') #request url 보내기\n",
    " \n",
    "ul_tag=driver.find_element_by_css_selector('.rank_top1000_list')\n",
    "print(ul_tag)"
   ]
  },
  {
   "cell_type": "code",
   "execution_count": 111,
   "metadata": {},
   "outputs": [
    {
     "name": "stdout",
     "output_type": "stream",
     "text": [
      "[<selenium.webdriver.remote.webelement.WebElement (session=\"f3fa5ec3f1762ed6f8e2e6ece3a1d52f\", element=\"191baecd-e287-417e-826a-def8567aa278\")>, <selenium.webdriver.remote.webelement.WebElement (session=\"f3fa5ec3f1762ed6f8e2e6ece3a1d52f\", element=\"422b8595-80f6-409a-961f-6d35c674b778\")>, <selenium.webdriver.remote.webelement.WebElement (session=\"f3fa5ec3f1762ed6f8e2e6ece3a1d52f\", element=\"27308953-a008-405a-aaf9-46f69385365d\")>, <selenium.webdriver.remote.webelement.WebElement (session=\"f3fa5ec3f1762ed6f8e2e6ece3a1d52f\", element=\"32a34c79-6582-4993-a567-7960e5169dfc\")>, <selenium.webdriver.remote.webelement.WebElement (session=\"f3fa5ec3f1762ed6f8e2e6ece3a1d52f\", element=\"a67a90b8-fc3a-4741-b8f8-50700617ecd3\")>, <selenium.webdriver.remote.webelement.WebElement (session=\"f3fa5ec3f1762ed6f8e2e6ece3a1d52f\", element=\"ab59be06-9eee-4dca-aac9-28b8476a717d\")>, <selenium.webdriver.remote.webelement.WebElement (session=\"f3fa5ec3f1762ed6f8e2e6ece3a1d52f\", element=\"5cbd2a19-baf6-42a6-9e01-1a21bed8c0aa\")>, <selenium.webdriver.remote.webelement.WebElement (session=\"f3fa5ec3f1762ed6f8e2e6ece3a1d52f\", element=\"29f2badb-e1ef-4454-bc08-2cead3d4a36c\")>, <selenium.webdriver.remote.webelement.WebElement (session=\"f3fa5ec3f1762ed6f8e2e6ece3a1d52f\", element=\"5f82a23f-c306-4f96-b825-a902db4de25f\")>, <selenium.webdriver.remote.webelement.WebElement (session=\"f3fa5ec3f1762ed6f8e2e6ece3a1d52f\", element=\"26dcccf8-0482-406d-8f40-fe61f5b9bda9\")>, <selenium.webdriver.remote.webelement.WebElement (session=\"f3fa5ec3f1762ed6f8e2e6ece3a1d52f\", element=\"504ac55e-7ad8-434a-8cd9-38f7516ddbb7\")>, <selenium.webdriver.remote.webelement.WebElement (session=\"f3fa5ec3f1762ed6f8e2e6ece3a1d52f\", element=\"94b3f73c-80b9-4925-a0b7-5a2979cd7a69\")>, <selenium.webdriver.remote.webelement.WebElement (session=\"f3fa5ec3f1762ed6f8e2e6ece3a1d52f\", element=\"3d9a75c4-36f8-440c-a937-15a299eca551\")>, <selenium.webdriver.remote.webelement.WebElement (session=\"f3fa5ec3f1762ed6f8e2e6ece3a1d52f\", element=\"e1611ca2-f131-4e66-8e96-257e4af77aeb\")>, <selenium.webdriver.remote.webelement.WebElement (session=\"f3fa5ec3f1762ed6f8e2e6ece3a1d52f\", element=\"7b3e3863-9be5-48e0-8783-0ad9925a22dc\")>, <selenium.webdriver.remote.webelement.WebElement (session=\"f3fa5ec3f1762ed6f8e2e6ece3a1d52f\", element=\"445edd21-20ee-451c-ba5c-d10d710ccd53\")>, <selenium.webdriver.remote.webelement.WebElement (session=\"f3fa5ec3f1762ed6f8e2e6ece3a1d52f\", element=\"c56735f1-75f4-4efb-8c6a-b3c299b53efb\")>, <selenium.webdriver.remote.webelement.WebElement (session=\"f3fa5ec3f1762ed6f8e2e6ece3a1d52f\", element=\"222ba65f-2bd2-461b-9d5e-dc09a9270034\")>, <selenium.webdriver.remote.webelement.WebElement (session=\"f3fa5ec3f1762ed6f8e2e6ece3a1d52f\", element=\"87db8ed2-6dda-4116-8cfb-d35e0036f3da\")>, <selenium.webdriver.remote.webelement.WebElement (session=\"f3fa5ec3f1762ed6f8e2e6ece3a1d52f\", element=\"0f71f4b5-f4d4-4fd5-b65a-c3b203543c67\")>]\n"
     ]
    }
   ],
   "source": [
    "li_tag_list=ul_tag.find_elements_by_tag_name('li')\n",
    "print(li_tag_list)"
   ]
  },
  {
   "cell_type": "code",
   "execution_count": 112,
   "metadata": {},
   "outputs": [
    {
     "name": "stdout",
     "output_type": "stream",
     "text": [
      "['1', '원피스']\n",
      "['2', '나이키맨투맨']\n",
      "['3', '나이키바람막이']\n",
      "['4', '맨투맨']\n",
      "['5', '바람막이']\n",
      "['6', '후드집업']\n",
      "['7', '나이키후드티']\n",
      "['8', '트위드자켓']\n",
      "['9', '해리슨캐시미어코트']\n",
      "['10', '트렌치코트']\n",
      "['11', '나이키후드집업']\n",
      "['12', '후리스']\n",
      "['13', '가디건']\n",
      "['14', '잠옷']\n",
      "['15', '가을원피스']\n",
      "['16', '후드티']\n",
      "['17', '써스데이아일랜드원피스']\n",
      "['18', '니트원피스']\n",
      "['19', '라코스테가디건']\n",
      "['20', '블라우스']\n"
     ]
    }
   ],
   "source": [
    "for li in li_tag_list:\n",
    "    print(li.text.split('\\n'))"
   ]
  },
  {
   "cell_type": "code",
   "execution_count": 122,
   "metadata": {},
   "outputs": [],
   "source": [
    "from selenium import webdriver\n",
    "import time\n",
    "\n",
    "path = './driver/chromedriver.exe'\n",
    "driver = webdriver.Chrome(path)\n",
    "driver.get('https://auto.naver.com/bike/mainList.nhn')"
   ]
  },
  {
   "cell_type": "markdown",
   "metadata": {},
   "source": [
    "- 전체 제조자 엘리먼트를 찾아서 마우스 클릭하고 그 결과물을 반환받는다.\n",
    "- 바이크 제조사 정보를 크롤링\n",
    "- 다음 페이지 버튼이 활성화 되어 있으면 클릭하고 추가적으로 제조사 정보를 반환받는다.\n",
    "- 다음 페이지 버튼이 비 활성화 되어 있으면 크롤링을 중단한다."
   ]
  },
  {
   "cell_type": "code",
   "execution_count": 123,
   "metadata": {},
   "outputs": [],
   "source": [
    "# 바이크 제조사 전체 페이지 클릭 구현[실습]"
   ]
  },
  {
   "cell_type": "code",
   "execution_count": 124,
   "metadata": {},
   "outputs": [],
   "source": [
    "bikeElementBtn = driver.find_element_by_css_selector('#container > div.spot_main > div.spot_aside > div.tit > a ')\n",
    "bikeElementBtn.click()"
   ]
  },
  {
   "cell_type": "code",
   "execution_count": 125,
   "metadata": {},
   "outputs": [],
   "source": [
    "time.sleep(3)"
   ]
  },
  {
   "cell_type": "code",
   "execution_count": 126,
   "metadata": {},
   "outputs": [
    {
     "data": {
      "text/plain": [
       "[<selenium.webdriver.remote.webelement.WebElement (session=\"0b4ccf77fb590116566984bbea7af18f\", element=\"090e2cd2-593e-47e9-b992-6e2160ba2c69\")>,\n",
       " <selenium.webdriver.remote.webelement.WebElement (session=\"0b4ccf77fb590116566984bbea7af18f\", element=\"8bf26e3f-3045-4dbb-bbe0-d1e999d946d5\")>,\n",
       " <selenium.webdriver.remote.webelement.WebElement (session=\"0b4ccf77fb590116566984bbea7af18f\", element=\"cb6f5ff9-b553-4200-8c60-e33c8dbb7071\")>,\n",
       " <selenium.webdriver.remote.webelement.WebElement (session=\"0b4ccf77fb590116566984bbea7af18f\", element=\"e031d471-9065-4797-a83f-7843e263cac6\")>,\n",
       " <selenium.webdriver.remote.webelement.WebElement (session=\"0b4ccf77fb590116566984bbea7af18f\", element=\"2c6e84b6-b334-4354-9ce2-a0be429194b8\")>,\n",
       " <selenium.webdriver.remote.webelement.WebElement (session=\"0b4ccf77fb590116566984bbea7af18f\", element=\"7c052c87-6225-4128-b4f2-d784500dc3b5\")>,\n",
       " <selenium.webdriver.remote.webelement.WebElement (session=\"0b4ccf77fb590116566984bbea7af18f\", element=\"2d9ff70d-5380-4e40-b488-7d8cd56f9a02\")>,\n",
       " <selenium.webdriver.remote.webelement.WebElement (session=\"0b4ccf77fb590116566984bbea7af18f\", element=\"47c6d369-e5cf-470c-8570-ce7966f81305\")>,\n",
       " <selenium.webdriver.remote.webelement.WebElement (session=\"0b4ccf77fb590116566984bbea7af18f\", element=\"d5254cb8-208d-4e89-9012-66882824c402\")>,\n",
       " <selenium.webdriver.remote.webelement.WebElement (session=\"0b4ccf77fb590116566984bbea7af18f\", element=\"0ccd8b4d-a1ab-4281-8356-7c5b491ff703\")>,\n",
       " <selenium.webdriver.remote.webelement.WebElement (session=\"0b4ccf77fb590116566984bbea7af18f\", element=\"7fda4b6f-83f6-4c06-b516-17a9666f9e7a\")>,\n",
       " <selenium.webdriver.remote.webelement.WebElement (session=\"0b4ccf77fb590116566984bbea7af18f\", element=\"b67314a0-5430-4a97-93f4-d52fa602bdf1\")>,\n",
       " <selenium.webdriver.remote.webelement.WebElement (session=\"0b4ccf77fb590116566984bbea7af18f\", element=\"b06103a4-f3aa-4410-a01c-5081810227c4\")>,\n",
       " <selenium.webdriver.remote.webelement.WebElement (session=\"0b4ccf77fb590116566984bbea7af18f\", element=\"0855834d-0cf2-4bba-ac86-cce6757d016c\")>,\n",
       " <selenium.webdriver.remote.webelement.WebElement (session=\"0b4ccf77fb590116566984bbea7af18f\", element=\"8ef9a3a1-eed9-4b34-b44f-7a896975b954\")>,\n",
       " <selenium.webdriver.remote.webelement.WebElement (session=\"0b4ccf77fb590116566984bbea7af18f\", element=\"8eedeebc-9ab5-4480-a3d5-6b5cf19b15f1\")>,\n",
       " <selenium.webdriver.remote.webelement.WebElement (session=\"0b4ccf77fb590116566984bbea7af18f\", element=\"7d00b5e6-0380-4403-a152-527afc9faf5a\")>,\n",
       " <selenium.webdriver.remote.webelement.WebElement (session=\"0b4ccf77fb590116566984bbea7af18f\", element=\"349ab5cf-23c4-4fd7-9638-09db65ba55d1\")>,\n",
       " <selenium.webdriver.remote.webelement.WebElement (session=\"0b4ccf77fb590116566984bbea7af18f\", element=\"77ca26a5-0c2d-4020-af21-bf8e8f138ad8\")>,\n",
       " <selenium.webdriver.remote.webelement.WebElement (session=\"0b4ccf77fb590116566984bbea7af18f\", element=\"c7f37d22-ac60-4750-b579-a6832b4412a7\")>,\n",
       " <selenium.webdriver.remote.webelement.WebElement (session=\"0b4ccf77fb590116566984bbea7af18f\", element=\"a8c77f82-e663-40d7-b353-f0205439d047\")>,\n",
       " <selenium.webdriver.remote.webelement.WebElement (session=\"0b4ccf77fb590116566984bbea7af18f\", element=\"4a7249be-68ce-48da-8e47-cbd7891d3fae\")>,\n",
       " <selenium.webdriver.remote.webelement.WebElement (session=\"0b4ccf77fb590116566984bbea7af18f\", element=\"b5b01b1b-b981-458b-a4d9-9dec19874125\")>,\n",
       " <selenium.webdriver.remote.webelement.WebElement (session=\"0b4ccf77fb590116566984bbea7af18f\", element=\"c8a848ed-7176-46eb-aa40-f30ca0fbee49\")>,\n",
       " <selenium.webdriver.remote.webelement.WebElement (session=\"0b4ccf77fb590116566984bbea7af18f\", element=\"84b668df-0095-4bc3-be30-a1e844454559\")>,\n",
       " <selenium.webdriver.remote.webelement.WebElement (session=\"0b4ccf77fb590116566984bbea7af18f\", element=\"87ecf45e-073b-4cc2-91b2-8f3ddcef8304\")>,\n",
       " <selenium.webdriver.remote.webelement.WebElement (session=\"0b4ccf77fb590116566984bbea7af18f\", element=\"6f194529-1229-4287-a68c-1cf0755f6beb\")>,\n",
       " <selenium.webdriver.remote.webelement.WebElement (session=\"0b4ccf77fb590116566984bbea7af18f\", element=\"a31dbf36-158c-49c1-8936-b3c72c10d912\")>,\n",
       " <selenium.webdriver.remote.webelement.WebElement (session=\"0b4ccf77fb590116566984bbea7af18f\", element=\"7ef08749-c37a-4757-9ac8-ee6aa3077990\")>,\n",
       " <selenium.webdriver.remote.webelement.WebElement (session=\"0b4ccf77fb590116566984bbea7af18f\", element=\"b447d31a-4c60-4a80-af90-50adb8228018\")>,\n",
       " <selenium.webdriver.remote.webelement.WebElement (session=\"0b4ccf77fb590116566984bbea7af18f\", element=\"e1610eb9-a039-495c-ac26-1b6fce22fc9d\")>,\n",
       " <selenium.webdriver.remote.webelement.WebElement (session=\"0b4ccf77fb590116566984bbea7af18f\", element=\"e5410ee9-481c-4377-802d-51f22530d5d1\")>,\n",
       " <selenium.webdriver.remote.webelement.WebElement (session=\"0b4ccf77fb590116566984bbea7af18f\", element=\"401ad892-f520-4adb-a5de-922f92682dc2\")>,\n",
       " <selenium.webdriver.remote.webelement.WebElement (session=\"0b4ccf77fb590116566984bbea7af18f\", element=\"951d5c46-1f84-4305-911a-da5964fcea17\")>,\n",
       " <selenium.webdriver.remote.webelement.WebElement (session=\"0b4ccf77fb590116566984bbea7af18f\", element=\"00b8b2af-19f4-402d-bd1b-8556f8ad6989\")>,\n",
       " <selenium.webdriver.remote.webelement.WebElement (session=\"0b4ccf77fb590116566984bbea7af18f\", element=\"bcb2e242-a9dd-4b94-acf0-53bf78f60c1b\")>,\n",
       " <selenium.webdriver.remote.webelement.WebElement (session=\"0b4ccf77fb590116566984bbea7af18f\", element=\"f4e32725-ea73-477d-808b-8421b41f797f\")>,\n",
       " <selenium.webdriver.remote.webelement.WebElement (session=\"0b4ccf77fb590116566984bbea7af18f\", element=\"35c6b2b1-a07c-48fd-978b-e78dbe50d0a7\")>,\n",
       " <selenium.webdriver.remote.webelement.WebElement (session=\"0b4ccf77fb590116566984bbea7af18f\", element=\"e435ef13-fa60-4205-9220-71843cc2e040\")>,\n",
       " <selenium.webdriver.remote.webelement.WebElement (session=\"0b4ccf77fb590116566984bbea7af18f\", element=\"49ac5553-2d5a-4358-9fd8-9a9bffd8bf21\")>,\n",
       " <selenium.webdriver.remote.webelement.WebElement (session=\"0b4ccf77fb590116566984bbea7af18f\", element=\"679135ed-7e17-4ef5-9ac2-cefae216fb44\")>,\n",
       " <selenium.webdriver.remote.webelement.WebElement (session=\"0b4ccf77fb590116566984bbea7af18f\", element=\"2a0ed8a3-ab85-4dd2-a7d3-8f98307e5025\")>]"
      ]
     },
     "execution_count": 126,
     "metadata": {},
     "output_type": "execute_result"
    }
   ],
   "source": [
    "# 바이크 제조사 1패아자 버아크 리스트 추출\n",
    "bikeElements = driver.find_elements_by_css_selector('#_vendor_select_layer>div>div.maker_group>div.emblem_area>ul>li')\n",
    "#print(bikeElements)\n",
    "bikeElements\n"
   ]
  },
  {
   "cell_type": "code",
   "execution_count": 127,
   "metadata": {},
   "outputs": [
    {
     "name": "stdout",
     "output_type": "stream",
     "text": [
      "BMW\n",
      "https://imgauto-phinf.pstatic.net/20200310_295/auto_1583815693764w1MIK_PNG/20200310134808_90XTo2CB.png?type=f30_30\n",
      "https://auto.naver.com/bike/mnfcoMain.nhn?mnfcoNo=1\n",
      "KR모터스\n",
      "https://imgauto-phinf.pstatic.net/20170707_35/auto_1499403672996veFiV_PNG/20170707140110_ZApVlmYd.png?type=f30_30\n",
      "https://auto.naver.com/bike/mnfcoMain.nhn?mnfcoNo=8\n",
      "KTM\n",
      "https://imgauto-phinf.pstatic.net/20170707_86/auto_1499403489069IzvOn_PNG/20170707135806_pkMHEZto.png?type=f30_30\n",
      "https://auto.naver.com/bike/mnfcoMain.nhn?mnfcoNo=2\n",
      "MV아구스타\n",
      "https://imgauto-phinf.pstatic.net/20200106_247/auto_1578277573120pRONl_PNG/20200106112605_VEPQ942y.png?type=f30_30\n",
      "https://auto.naver.com/bike/mnfcoMain.nhn?mnfcoNo=3\n",
      "SYM\n",
      "https://imgauto-phinf.pstatic.net/20170707_69/auto_1499403691607hzmLc_PNG/20170707140129_Xm9IraXN.png?type=f30_30\n",
      "https://auto.naver.com/bike/mnfcoMain.nhn?mnfcoNo=10\n",
      "가와사키\n",
      "https://imgauto-phinf.pstatic.net/20170707_59/auto_149940389771698gvt_PNG/20170707140453_6HUCrEO2.png?type=f30_30\n",
      "https://auto.naver.com/bike/mnfcoMain.nhn?mnfcoNo=41\n",
      "고고로\n",
      "https://imgauto-phinf.pstatic.net/20200416_104/auto_1586997772907Atf4o_PNG/20200416094251_R0tdenWI.png?type=f30_30\n",
      "https://auto.naver.com/bike/mnfcoMain.nhn?mnfcoNo=53\n",
      "니우\n",
      "https://imgauto-phinf.pstatic.net/20200211_29/auto_1581399734416yzf4y_PNG/20200211144210_pcR4hM1R.png?type=f30_30\n",
      "https://auto.naver.com/bike/mnfcoMain.nhn?mnfcoNo=57\n",
      "다임러\n",
      "https://imgauto-phinf.pstatic.net/20191001_115/auto_1569895638495sGCl3_PNG/20191001110710_0Iz3JxnE.png?type=f30_30\n",
      "https://auto.naver.com/bike/mnfcoMain.nhn?mnfcoNo=55\n",
      "닷지\n",
      "https://imgauto-phinf.pstatic.net/20170707_258/auto_1499403835093BSkv4_PNG/20170707140352_J8UrpNno.png?type=f30_30\n",
      "https://auto.naver.com/bike/mnfcoMain.nhn?mnfcoNo=49\n",
      "대림\n",
      "https://imgauto-phinf.pstatic.net/20200306_144/auto_15834768484981kxOH_PNG/20200306154043_IDCmgkrX.png?type=f30_30\n",
      "https://auto.naver.com/bike/mnfcoMain.nhn?mnfcoNo=9\n",
      "두카티\n",
      "https://imgauto-phinf.pstatic.net/20200313_207/auto_1584071057990xwXn8_PNG/20200313124412_nttDZ26D.png?type=f30_30\n",
      "https://auto.naver.com/bike/mnfcoMain.nhn?mnfcoNo=4\n",
      "로얄엔필드\n",
      "https://imgauto-phinf.pstatic.net/20200306_19/auto_1583477817595DPct8_PNG/20200306155650_3gvEUisW.png?type=f30_30\n",
      "https://auto.naver.com/bike/mnfcoMain.nhn?mnfcoNo=42\n",
      "모토구찌\n",
      "https://imgauto-phinf.pstatic.net/20170707_99/auto_1499403620377SUY2j_PNG/20170707140017_av0Q5DJc.png?type=f30_30\n",
      "https://auto.naver.com/bike/mnfcoMain.nhn?mnfcoNo=29\n",
      "베넬리\n",
      "https://imgauto-phinf.pstatic.net/20170707_298/auto_149940364282830FB7_PNG/20170707140039_OqhQgzrP.png?type=f30_30\n",
      "https://auto.naver.com/bike/mnfcoMain.nhn?mnfcoNo=43\n",
      "베스파\n",
      "https://imgauto-phinf.pstatic.net/20200327_83/auto_1585299495007d9vwj_PNG/20200327175807_32P7N286.png?type=f30_30\n",
      "https://auto.naver.com/bike/mnfcoMain.nhn?mnfcoNo=18\n",
      "베타\n",
      "https://imgauto-phinf.pstatic.net/20170707_243/auto_14994036600550xR8J_PNG/20170707140054_w9OPzFyf.png?type=f30_30\n",
      "https://auto.naver.com/bike/mnfcoMain.nhn?mnfcoNo=48\n",
      "벡트릭스\n",
      "https://imgauto-phinf.pstatic.net/20200210_173/auto_1581309211901Ln2bN_PNG/20200210133325_SXnXm7QZ.png?type=f30_30\n",
      "https://auto.naver.com/bike/mnfcoMain.nhn?mnfcoNo=21\n",
      "브라모\n",
      "https://imgauto-phinf.pstatic.net/20200210_57/auto_1581309461684tMTzd_PNG/20200210133737_ctyiecRp.png?type=f30_30\n",
      "https://auto.naver.com/bike/mnfcoMain.nhn?mnfcoNo=37\n",
      "블루샤크\n",
      "https://imgauto-phinf.pstatic.net/20200508_160/auto_1588926919938O09H0_PNG/20200508173447_Baivq88R.png?type=f30_30\n",
      "https://auto.naver.com/bike/mnfcoMain.nhn?mnfcoNo=59\n",
      "비모타\n",
      "https://imgauto-phinf.pstatic.net/20200210_3/auto_1581309342460Cq8L8_PNG/20200210133537_wb4NnXGT.png?type=f30_30\n",
      "https://auto.naver.com/bike/mnfcoMain.nhn?mnfcoNo=33\n",
      "빅토리\n",
      "https://imgauto-phinf.pstatic.net/20170707_250/auto_14994037310380lT41_PNG/20170707140207_nsPJJvuu.png?type=f30_30\n",
      "https://auto.naver.com/bike/mnfcoMain.nhn?mnfcoNo=12\n",
      "스즈키\n",
      "https://imgauto-phinf.pstatic.net/20200207_262/auto_1581063025431IYOlm_PNG/20200207171020_tdJyUmbe.png?type=f30_30\n",
      "https://auto.naver.com/bike/mnfcoMain.nhn?mnfcoNo=15\n",
      "아치\n",
      "https://imgauto-phinf.pstatic.net/20191211_152/auto_1576030127296ldgoj_PNG/20191211110842_ss6wvddP.png?type=f30_30\n",
      "https://auto.naver.com/bike/mnfcoMain.nhn?mnfcoNo=13\n",
      "아프릴리아\n",
      "https://imgauto-phinf.pstatic.net/20170707_51/auto_149940352335462EyU_PNG/20170707135841_A8okFmzI.png?type=f30_30\n",
      "https://auto.naver.com/bike/mnfcoMain.nhn?mnfcoNo=5\n",
      "야마하\n",
      "https://imgauto-phinf.pstatic.net/20200911_42/auto_1599799255742BjqgS_PNG/20200911134050_SEZqfGZQ.png?type=f30_30\n",
      "https://auto.naver.com/bike/mnfcoMain.nhn?mnfcoNo=16\n",
      "우랄\n",
      "https://imgauto-phinf.pstatic.net/20200511_32/auto_15891568939650ytfw_PNG/20200511092807_YSQPYQ6H.png?type=f30_30\n",
      "https://auto.naver.com/bike/mnfcoMain.nhn?mnfcoNo=51\n",
      "이탈젯\n",
      "https://imgauto-phinf.pstatic.net/20170707_35/auto_1499403573966MA2Ky_PNG/20170707135931_xisfE6sK.png?type=f30_30\n",
      "https://auto.naver.com/bike/mnfcoMain.nhn?mnfcoNo=20\n",
      "인디언\n",
      "https://imgauto-phinf.pstatic.net/20200306_94/auto_1583478005716frPcW_PNG/20200306160000_F7jTJnAI.png?type=f30_30\n",
      "https://auto.naver.com/bike/mnfcoMain.nhn?mnfcoNo=19\n",
      "제로\n",
      "https://imgauto-phinf.pstatic.net/20200211_86/auto_1581399544042tVyrG_PNG/20200211143900_Aak3gllx.png?type=f30_30\n",
      "https://auto.naver.com/bike/mnfcoMain.nhn?mnfcoNo=45\n",
      "질레라\n",
      "https://imgauto-phinf.pstatic.net/20170707_150/auto_1499403534722ObiKh_PNG/20170707135852_N2uEr3sk.png?type=f30_30\n",
      "https://auto.naver.com/bike/mnfcoMain.nhn?mnfcoNo=6\n",
      "캔암 BRP\n",
      "https://imgauto-phinf.pstatic.net/20170707_228/auto_1499403938849PIyMC_PNG/20170707140536_X569kcW8.png?type=f30_30\n",
      "https://auto.naver.com/bike/mnfcoMain.nhn?mnfcoNo=35\n",
      "킴코\n",
      "https://imgauto-phinf.pstatic.net/20200211_105/auto_1581393647952v08ut_PNG/20200211130046_kyHVtGAm.png?type=f30_30\n",
      "https://auto.naver.com/bike/mnfcoMain.nhn?mnfcoNo=11\n",
      "트라이엄프\n",
      "https://imgauto-phinf.pstatic.net/20200306_108/auto_1583477219918l17tk_PNG/20200306154654_VfKRcDoV.png?type=f30_30\n",
      "https://auto.naver.com/bike/mnfcoMain.nhn?mnfcoNo=31\n",
      "폴라리스\n",
      "https://imgauto-phinf.pstatic.net/20200306_92/auto_1583477538592tLpg2_PNG/20200306155212_sRrEH7Nu.png?type=f30_30\n",
      "https://auto.naver.com/bike/mnfcoMain.nhn?mnfcoNo=27\n"
     ]
    }
   ],
   "source": [
    "for bike_li in bikeElements:\n",
    "    companyName=bike_li.find_element_by_tag_name('span').text\n",
    "    #print(companyName)\n",
    "    \n",
    "    if(companyName !=''):\n",
    "        print(companyName.strip())\n",
    "    \n",
    "    # 이미지\n",
    "        img=bike_li.find_element_by_tag_name('img').get_attribute('src')\n",
    "        print(img)\n",
    "    # 링크\n",
    "        link=bike_li.find_element_by_tag_name('a').get_attribute('href')\n",
    "        print(link)\n",
    "time.sleep(3)"
   ]
  },
  {
   "cell_type": "code",
   "execution_count": 130,
   "metadata": {},
   "outputs": [],
   "source": [
    "# #는 아이디 찾을때\n",
    "# .은 클래스 찾을때"
   ]
  },
  {
   "cell_type": "code",
   "execution_count": 128,
   "metadata": {},
   "outputs": [
    {
     "name": "stdout",
     "output_type": "stream",
     "text": [
      "True\n"
     ]
    }
   ],
   "source": [
    "# 제조사 리스트 버튼을 클릭하는 부분 찾아보자\n",
    "nextBtn = driver.find_element_by_css_selector(\"#_vendor_select_layer > div > div.maker_group > div.rolling_btn > button.next\")\n",
    "isFlag = nextBtn.is_enabled()#활성 비활성 확인 코드\n",
    "print(isFlag)"
   ]
  },
  {
   "cell_type": "code",
   "execution_count": null,
   "metadata": {},
   "outputs": [],
   "source": []
  },
  {
   "cell_type": "code",
   "execution_count": 129,
   "metadata": {
    "scrolled": true
   },
   "outputs": [
    {
     "name": "stdout",
     "output_type": "stream",
     "text": [
      "next page is exist~~~\n",
      "푸조\n",
      "https://imgauto-phinf.pstatic.net/20200211_40/auto_1581394183642FtijQ_PNG/20200211130938_oTGaNA0a.png?type=f30_30\n",
      "https://auto.naver.com/bike/mnfcoMain.nhn?mnfcoNo=23\n",
      "피아지오\n",
      "https://imgauto-phinf.pstatic.net/20200327_205/auto_158529962401670gMc_PNG/20200327180019_F8e27mnu.png?type=f30_30\n",
      "https://auto.naver.com/bike/mnfcoMain.nhn?mnfcoNo=7\n",
      "하우주\n",
      "https://imgauto-phinf.pstatic.net/20200723_150/auto_1595476251516fKWJu_PNG/20200723125012_KwPALXVG.png?type=f30_30\n",
      "https://auto.naver.com/bike/mnfcoMain.nhn?mnfcoNo=61\n",
      "할리데이비슨\n",
      "https://imgauto-phinf.pstatic.net/20181114_217/auto_1542158042259qoTKx_PNG/20181114101352_mrZAwjhU.png?type=f30_30\n",
      "https://auto.naver.com/bike/mnfcoMain.nhn?mnfcoNo=14\n",
      "허스크바나\n",
      "https://imgauto-phinf.pstatic.net/20190822_21/auto_1566435071526vqkPl_PNG/20190822094926_kGG402zL.png?type=f30_30\n",
      "https://auto.naver.com/bike/mnfcoMain.nhn?mnfcoNo=39\n",
      "혼다\n",
      "https://imgauto-phinf.pstatic.net/20170707_49/auto_1499409167916Uizy9_PNG/20170707153243_h5zKjsaD.png?type=f30_30\n",
      "https://auto.naver.com/bike/mnfcoMain.nhn?mnfcoNo=17\n"
     ]
    }
   ],
   "source": [
    "if(isFlag==True):\n",
    "    print('next page is exist~~~')\n",
    "    nextBtn.click()\n",
    "    bikeElements = driver.find_elements_by_css_selector('#_vendor_select_layer>div>div.maker_group>div.emblem_area>ul>li')\n",
    "\n",
    "    for bike_li in bikeElements:\n",
    "        companyName = bike_li.find_element_by_tag_name('span').text\n",
    "        if(companyName !=''):\n",
    "            print(companyName)\n",
    "    #이미지\n",
    "            img = bike_li.find_element_by_tag_name('img').get_attribute('src')\n",
    "            print(img)\n",
    "    #링크\n",
    "            link = bike_li.find_element_by_tag_name('a').get_attribute('href')\n",
    "            print(link)"
   ]
  },
  {
   "cell_type": "code",
   "execution_count": null,
   "metadata": {},
   "outputs": [],
   "source": []
  }
 ],
 "metadata": {
  "kernelspec": {
   "display_name": "Python 3",
   "language": "python",
   "name": "python3"
  },
  "language_info": {
   "codemirror_mode": {
    "name": "ipython",
    "version": 3
   },
   "file_extension": ".py",
   "mimetype": "text/x-python",
   "name": "python",
   "nbconvert_exporter": "python",
   "pygments_lexer": "ipython3",
   "version": "3.6.5"
  }
 },
 "nbformat": 4,
 "nbformat_minor": 2
}
