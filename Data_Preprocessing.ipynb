{
  "nbformat": 4,
  "nbformat_minor": 0,
  "metadata": {
    "colab": {
      "name": "Data Preprocessing",
      "private_outputs": true,
      "provenance": [],
      "collapsed_sections": [],
      "authorship_tag": "ABX9TyNRRHWmpVX9K1LNobLJ6T4T",
      "include_colab_link": true
    },
    "kernelspec": {
      "name": "python3",
      "display_name": "Python 3"
    }
  },
  "cells": [
    {
      "cell_type": "markdown",
      "metadata": {
        "id": "view-in-github",
        "colab_type": "text"
      },
      "source": [
        "<a href=\"https://colab.research.google.com/github/mgk0422/python-basic/blob/master/Data_Preprocessing.ipynb\" target=\"_parent\"><img src=\"https://colab.research.google.com/assets/colab-badge.svg\" alt=\"Open In Colab\"/></a>"
      ]
    },
    {
      "cell_type": "code",
      "metadata": {
        "id": "osjkwF1eeB2Y"
      },
      "source": [
        "#사이킷런의 머신러닝 알고리즘 , 문자열 값을 입력값으로 허용하지않음\r\n",
        "# NaN,Null값 허용하지않음"
      ],
      "execution_count": null,
      "outputs": []
    },
    {
      "cell_type": "markdown",
      "metadata": {
        "id": "qqiP08Noejg_"
      },
      "source": [
        "### 데이터 인코딩(레이블 인코딩, 원-핫 인코딩)"
      ]
    },
    {
      "cell_type": "code",
      "metadata": {
        "id": "oXDC_GD2enbe"
      },
      "source": [
        "#레이블 인코딩 , LabelEncoder 클래스로 구성\r\n",
        "# LabelEncoder 객체로 생성한 후 fit()과 transfrom()을 호출\r\n",
        "\r\n",
        "from sklearn.preprocessing import LabelEncoder\r\n",
        "\r\n",
        "items=['TV','냉장고','전자레인지','컴퓨터','선풍기','믹서','믹서']\r\n",
        "encoder=LabelEncoder()\r\n",
        "encoder.fit(items)\r\n",
        "labels=encoder.transform(items)\r\n",
        "print('인코딩 변환값:',labels)"
      ],
      "execution_count": null,
      "outputs": []
    },
    {
      "cell_type": "code",
      "metadata": {
        "id": "ysxPz2ZXfTbh"
      },
      "source": [
        "print('인코딩 클래스:',encoder.classes_)"
      ],
      "execution_count": null,
      "outputs": []
    },
    {
      "cell_type": "code",
      "metadata": {
        "id": "Tq6N3tGrfiqO"
      },
      "source": [
        "print('디코딩 원본값:',encoder.inverse_transform([4,5,2,0,1,1,3,3]))"
      ],
      "execution_count": null,
      "outputs": []
    },
    {
      "cell_type": "markdown",
      "metadata": {
        "id": "n-XfASXRgE7h"
      },
      "source": [
        "#### 레이블 인코딩\r\n",
        "문자열값을 숫자형 카테고리 값으로 변환\r\n",
        "예측 성능이 떨어질수있음\r\n",
        "왜? 숫자의 값이 크고 작음에 대한 특성이 작용학디 떄문\r\n",
        "냉장고가 1 믹서기가 2로 변환되면, 1보다 2가 더 큰값으로 가중치가 부여되거나 더 중요하게 생각할수도있음"
      ]
    },
    {
      "cell_type": "code",
      "metadata": {
        "id": "7eDvwwohgZ2g"
      },
      "source": [
        "#원-핫 인코딩(One-Hot Encoding) 사용함\r\n",
        "\r\n",
        "#원-핫 인코딩은 고유값에 해당되는 칼럼에만 1을 표시하고 나머지 컬럼에는 0을 표시"
      ],
      "execution_count": null,
      "outputs": []
    },
    {
      "cell_type": "code",
      "metadata": {
        "id": "Gs0wR6HWhkYS"
      },
      "source": [
        "from sklearn.preprocessing import OneHotEncoder\r\n",
        "import numpy as np\r\n",
        "\r\n",
        "items=['TV','냉장고','전자레인지','컴퓨터','선풍기','믹서','믹서']\r\n",
        "\r\n",
        "# 먼저 숫자값으로 변환 labelencoder사용\r\n",
        "encoder=LabelEncoder()\r\n",
        "encoder.fit(items)\r\n",
        "labels=encoder.transform(items)\r\n",
        "\r\n",
        "#2차원 데이터로 변환합니다.\r\n",
        "labels=labels.reshape(-1,1)\r\n",
        "\r\n",
        "#원-핫 인코딩 적용\r\n",
        "oh_encoder=OneHotEncoder()\r\n",
        "oh_encoder.fit(labels)\r\n",
        "oh_labels=oh_encoder.transform(labels)\r\n",
        "print(oh_labels.shape)"
      ],
      "execution_count": null,
      "outputs": []
    },
    {
      "cell_type": "code",
      "metadata": {
        "id": "Xa5WOVsYiVTD"
      },
      "source": [
        "import pandas as pd\r\n",
        "\r\n",
        "df=pd.DataFrame({'item':['TV','냉장고','전자레인지','컴퓨터','선풍기','믹서','믹서']})\r\n",
        "pd.get_dummies(df)\r\n",
        "# 사이킷런의 OneHotEncoder와 다르게 문자열 카테고리 값을 숫자형으로 변환할 필요없이 바로 변환가능"
      ],
      "execution_count": null,
      "outputs": []
    },
    {
      "cell_type": "code",
      "metadata": {
        "id": "ty0q5KQH3tll"
      },
      "source": [
        "# 피처 스케일링 : 서로 다른 변수의 값 범위를 일정한 수준으로 맞추는 작업\r\n",
        "# 표준화 : 데이터의 피처의 각각이 평균 0이고 분산이 1인 가우시안 정규분포를 가진 값으로 변환하는 것\r\n",
        "# 정규화 : 서로 다른 피처의 크기를 통일하기 위해 크기를 변환해주는 것 , 개별 데이터의 크기를 모두 똑같은 단위로 변경하는 것"
      ],
      "execution_count": null,
      "outputs": []
    },
    {
      "cell_type": "code",
      "metadata": {
        "id": "WD-etQs74_n7"
      },
      "source": [
        "# StandardScaler\r\n",
        "# 표준화를 쉽게 지원하기 위한 클래스, 개별 피처를 평균0이고 분산 1인 값을 변환해줌\r\n",
        "\r\n",
        "from sklearn.datasets import load_iris\r\n",
        "import pandas as pd\r\n",
        "iris=load_iris()\r\n",
        "iris_data=iris.data\r\n",
        "iris_df=pd.DataFrame(iris_data,columns=iris.feature_names)\r\n",
        "print('iris 평균값:',iris_df.mean())\r\n",
        "print('iris 분산:',iris_df.var())\r\n",
        "#값들간의 차이발생"
      ],
      "execution_count": null,
      "outputs": []
    },
    {
      "cell_type": "code",
      "metadata": {
        "id": "hVDcxcUQ52Lr"
      },
      "source": [
        "from sklearn.preprocessing import StandardScaler\r\n",
        "scaler=StandardScaler()\r\n",
        "scaler.fit(iris_df)\r\n",
        "iris_scaled=scaler.transform(iris_df)\r\n",
        "\r\n",
        "iris_df_scaled=pd.DataFrame(data=iris_scaled,columns=iris.feature_names)\r\n",
        "print('평균값')\r\n",
        "print(iris_df_scaled.mean())\r\n",
        "print('분산값')\r\n",
        "print(iris_df_scaled.var())\r\n",
        "# 모든 칼럼 값의 평균이 0에 아주 가까운값, 분산은 1에 가깝게 변환된다."
      ],
      "execution_count": null,
      "outputs": []
    },
    {
      "cell_type": "code",
      "metadata": {
        "id": "KtFRbNwx65Xk"
      },
      "source": [
        "#MinMaxScaler\r\n",
        "from sklearn.preprocessing import MinMaxScaler\r\n",
        "scaler=MinMaxScaler() #객체 생성\r\n",
        "scaler.fit(iris_df) # MinMaxScaler로 데이터 세트 변환, fit(),transform()호출\r\n",
        "iris_scaled=scaler.transform(iris_df)\r\n",
        "iris_df_scaled=pd.DataFrame(data=iris_scaled,columns=iris.feature_names)\r\n",
        "print(iris_df_scaled.min())\r\n",
        "print(iris_df_scaled.max())"
      ],
      "execution_count": null,
      "outputs": []
    },
    {
      "cell_type": "markdown",
      "metadata": {
        "id": "8ZNvZ4ko-kv7"
      },
      "source": [
        "### 학습 데이터와 테스트 데이터의 스케일링 변환시 유의점\r\n",
        "StandardScaler,MinMaxScaler와 같은 Scaler 객체를 이용하여 데이터의 스케일링 변환시 fit(),transform(), fit_transform() 메소드를 이용\r\n",
        "*   Scaler 객체를 이용해 학습 데이터 세트로 fit()을 수행한 결과를 이용해 transform() 변화를 적용해야한다.\r\n",
        "*   가능하다면 전체 데이터의 스케일링 변환을 적용한 뒤 학습과 테스트 데이터로 분리\r\n",
        "\r\n",
        "\r\n",
        "\r\n"
      ]
    }
  ]
}