{
  "nbformat": 4,
  "nbformat_minor": 0,
  "metadata": {
    "colab": {
      "name": "algorithm01",
      "private_outputs": true,
      "provenance": [],
      "authorship_tag": "ABX9TyNjg9ofgz+8J+jNnBeK18PS",
      "include_colab_link": true
    },
    "kernelspec": {
      "name": "python3",
      "display_name": "Python 3"
    }
  },
  "cells": [
    {
      "cell_type": "markdown",
      "metadata": {
        "id": "view-in-github",
        "colab_type": "text"
      },
      "source": [
        "<a href=\"https://colab.research.google.com/github/mgk0422/python-basic/blob/master/algorithm01.ipynb\" target=\"_parent\"><img src=\"https://colab.research.google.com/assets/colab-badge.svg\" alt=\"Open In Colab\"/></a>"
      ]
    },
    {
      "cell_type": "markdown",
      "metadata": {
        "id": "NOvTL4JnRE31"
      },
      "source": [
        "### 짝수, 홀수인지 판단하기\r\n",
        "홀수, 짝수 판단하는 로직 왜 만들까?\r\n",
        "다음에 나오기 때문\r\n",
        "2로 나누어서 '나머지'가 나오는지:)"
      ]
    },
    {
      "cell_type": "markdown",
      "metadata": {
        "id": "IucK1iswaMH8"
      },
      "source": [
        ""
      ]
    },
    {
      "cell_type": "code",
      "metadata": {
        "id": "Zly7QW7fQ-8w"
      },
      "source": [
        "# 1.짝수면 True 홀수면 False가 나오는 함수를 만드세요.\r\n",
        "def isEven(a):\r\n",
        "    return a%2==0\r\n",
        "isEven(2)"
      ],
      "execution_count": null,
      "outputs": []
    },
    {
      "cell_type": "code",
      "metadata": {
        "id": "CwZzXtTSQ7aD"
      },
      "source": [
        "# 2. 홀수면 True 짝수면 Felse가 나오는 함수를 만드세요.\r\n",
        "def Isodd(a):\r\n",
        "    return a%2==1\r\n",
        "print(Isodd(3))\r\n",
        "print(Isodd(4))"
      ],
      "execution_count": null,
      "outputs": []
    },
    {
      "cell_type": "markdown",
      "metadata": {
        "id": "JCZhXnpMaNAo"
      },
      "source": [
        "### 두점사이의 거리구하기\r\n",
        "*   좌표평면 = x축 , y축\r\n",
        "*   x축은 가로\r\n",
        "*   y축은 세로\r\n",
        "*   (x,y)\r\n",
        "*   (0,0) 0행 0열\r\n",
        "*   (1,1) 1행 1열\r\n",
        "*   (1,2) 1행 2열항목 추가\r\n",
        "\r\n"
      ]
    },
    {
      "cell_type": "code",
      "metadata": {
        "id": "_W3G9RzXRh3M"
      },
      "source": [
        "import math\r\n",
        "\r\n",
        "미정 = (1,2)\r\n",
        "민경 = (3,4)\r\n",
        "\r\n",
        "def get_두점사이의거리(점1,점2):\r\n",
        "    x축거리=민경[0]-미정[0]\r\n",
        "    y축거리=민경[1]-미정[1]\r\n",
        "    x축거리plusy축거리=math.pow(x축거리,2)+math.pow(y축거리,2)\r\n",
        "    return math.sqrt(x축거리plusy축거리)"
      ],
      "execution_count": null,
      "outputs": []
    },
    {
      "cell_type": "code",
      "metadata": {
        "id": "VhNffZabbI48"
      },
      "source": [
        "get_두점사이의거리(미정,민경)"
      ],
      "execution_count": null,
      "outputs": []
    },
    {
      "cell_type": "code",
      "metadata": {
        "id": "i1-Vu9erfpJQ"
      },
      "source": [
        ""
      ],
      "execution_count": null,
      "outputs": []
    }
  ]
}