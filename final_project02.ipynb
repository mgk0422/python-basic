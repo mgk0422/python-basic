{
  "nbformat": 4,
  "nbformat_minor": 0,
  "metadata": {
    "colab": {
      "name": "final_project02",
      "private_outputs": true,
      "provenance": [],
      "authorship_tag": "ABX9TyNKsPjuXa985yz0izizmSGk",
      "include_colab_link": true
    },
    "kernelspec": {
      "name": "python3",
      "display_name": "Python 3"
    }
  },
  "cells": [
    {
      "cell_type": "markdown",
      "metadata": {
        "id": "view-in-github",
        "colab_type": "text"
      },
      "source": [
        "<a href=\"https://colab.research.google.com/github/mgk0422/python-basic/blob/master/final_project02.ipynb\" target=\"_parent\"><img src=\"https://colab.research.google.com/assets/colab-badge.svg\" alt=\"Open In Colab\"/></a>"
      ]
    },
    {
      "cell_type": "code",
      "metadata": {
        "id": "TGctLi4xWO2X"
      },
      "source": [
        "pip install xlsxwriter"
      ],
      "execution_count": null,
      "outputs": []
    },
    {
      "cell_type": "code",
      "metadata": {
        "id": "a6GJriOxWcvI"
      },
      "source": [
        "import pandas as pd\n",
        "import numpy as np\n",
        "import glob\n",
        "import sys\n",
        "from openpyxl import load_workbook\n",
        "import xlsxwriter\n",
        "import matplotlib.pyplot as plt\n",
        "import seaborn as sns\n",
        "%matplotlib inline"
      ],
      "execution_count": null,
      "outputs": []
    },
    {
      "cell_type": "code",
      "metadata": {
        "id": "rlqMrpiqWeTD"
      },
      "source": [
        "# 코랩 한글깨짐 설정\n",
        "import matplotlib as mpl\n",
        "import matplotlib.pyplot as plt\n",
        " \n",
        "%config InlineBackend.figure_format = 'retina'\n",
        " \n",
        "!apt -qq -y install fonts-nanum\n",
        " \n",
        "import matplotlib.font_manager as fm\n",
        "fontpath = '/usr/share/fonts/truetype/nanum/NanumBarunGothic.ttf'\n",
        "font = fm.FontProperties(fname=fontpath, size=9)\n",
        "plt.rc('font', family='NanumBarunGothic') \n",
        "mpl.font_manager._rebuild()"
      ],
      "execution_count": null,
      "outputs": []
    },
    {
      "cell_type": "code",
      "metadata": {
        "id": "3Sok7O_6beNb"
      },
      "source": [
        "!sudo apt-get install -y fonts-nanum\n",
        "!sudo fc-cache -fv\n",
        "!rm ~/.cache/matplotlib -rf"
      ],
      "execution_count": null,
      "outputs": []
    },
    {
      "cell_type": "code",
      "metadata": {
        "id": "y5xoAGzVbmTO"
      },
      "source": [
        "import matplotlib.pyplot as plt\n",
        "\n",
        "plt.rc('font', family='NanumBarunGothic') "
      ],
      "execution_count": null,
      "outputs": []
    },
    {
      "cell_type": "code",
      "metadata": {
        "id": "eLh8tGajaccO"
      },
      "source": [
        "from google.colab import files\n",
        "uploaded=files.upload()"
      ],
      "execution_count": null,
      "outputs": []
    },
    {
      "cell_type": "code",
      "metadata": {
        "id": "-rwbWeMGWjkK"
      },
      "source": [
        "###################### 지도 시각화\n",
        "import json\n",
        "with open('/content/서울경계데이터.json','r') as f:\n",
        "    json_data=json.load(f)\n",
        "print(json.dumps(json_data))"
      ],
      "execution_count": null,
      "outputs": []
    },
    {
      "cell_type": "code",
      "metadata": {
        "id": "HT869ayFW29r"
      },
      "source": [
        "import folium\n",
        "m=folium.Map(location=[37.5838699,127.0565831],zoom_start=10)\n",
        "\n",
        "import json\n",
        "with open('/content/서울경계데이터.json','r') as f:\n",
        "    geo=json.loads(f.read())\n",
        "    f.close()\n",
        "\n",
        "folium.GeoJson(\n",
        "    geo,\n",
        "    name='seoul'\n",
        ").add_to(m)\n",
        "\n",
        "m.save('map.html')"
      ],
      "execution_count": null,
      "outputs": []
    },
    {
      "cell_type": "code",
      "metadata": {
        "id": "0k1upT1sW7Hd"
      },
      "source": [
        "#html 코드 \n",
        "folium.Map().get_root().render()"
      ],
      "execution_count": null,
      "outputs": []
    },
    {
      "cell_type": "code",
      "metadata": {
        "id": "gC2zCrUeXJCF"
      },
      "source": [
        "from google.colab import files\n",
        "uploaded=files.upload()"
      ],
      "execution_count": null,
      "outputs": []
    },
    {
      "cell_type": "code",
      "metadata": {
        "id": "rIsp9PyEW94-"
      },
      "source": [
        "# 무만 !!!\n",
        "\n",
        "지도시각화_df=pd.read_excel('/content/지도 시각화_ 색깔별로 나눌거다 ㅡㅡ.xlsx')\n",
        "무지도시각화_df=지도시각화_df[지도시각화_df['품목']=='무']\n",
        "무지도시각화_df=무지도시각화_df[['구','가격']]\n",
        "무지도시각화_df.head()"
      ],
      "execution_count": null,
      "outputs": []
    },
    {
      "cell_type": "code",
      "metadata": {
        "id": "I_pFGHhGPuD2"
      },
      "source": [
        "# 서울시 중심부의 위도, 경도 입니다.\n",
        "center = [37.541, 126.986]\n",
        "\n",
        "# 맵이 center 에 위치하고, zoom 레벨은 11로 시작하는 맵 m을 만듭니다.\n",
        "m = folium.Map(location=center, zoom_start=10,tiles='Stamen Terrain')\n",
        "\n",
        "# Choropleth 레이어를 만들고, 맵 m에 추가합니다.\n",
        "folium.Choropleth(\n",
        "    geo_data=geo,\n",
        "    data=무지도시각화_df,\n",
        "    columns=(\"구\",\"가격\"),\n",
        "    key_on='feature.properties.name',\n",
        "    fill_color='PuRd',\n",
        "    highlight=True,\n",
        "    fill_opacity=0.7,\n",
        "    line_opacity=0.2,\n",
        ").add_to(m)\n",
        "\n",
        "# 맵 m을 출력합니다.\n",
        "m"
      ],
      "execution_count": null,
      "outputs": []
    },
    {
      "cell_type": "code",
      "metadata": {
        "id": "J3dJ4yNIqANM"
      },
      "source": [
        "from google.colab import files\n",
        "uploaded=files.upload()"
      ],
      "execution_count": null,
      "outputs": []
    },
    {
      "cell_type": "code",
      "metadata": {
        "id": "ym7wiOHeX6AY"
      },
      "source": [
        "지도시각화_plz=pd.read_excel('/content/최종 진짜 최종 마지막이다...제발.....ㅠㅠㅠ 진짜 제발이요ㅕ......(마지막이길).xlsx')\n",
        "지도시각화_plz.head()"
      ],
      "execution_count": null,
      "outputs": []
    },
    {
      "cell_type": "code",
      "metadata": {
        "id": "jKud0ElOXenx"
      },
      "source": [
        "# 무 관련 한거임\n",
        "지도시각화_plz=pd.read_excel('/content/최종 진짜 최종 마지막이다...제발.....ㅠㅠㅠ 진짜 제발이요ㅕ......(마지막이길).xlsx')\n",
        "지도시각화_plz=지도시각화_plz[지도시각화_plz['품목']=='무']\n",
        "지도시각화_plz=지도시각화_plz[['지역구','평균 : 4년 평균 가격','비고','위도','경도']]\n",
        "지도시각화_plz.columns=['장소','평균가격','비고','위도','경도']\n",
        "지도시각화_plz.head()"
      ],
      "execution_count": null,
      "outputs": []
    },
    {
      "cell_type": "code",
      "metadata": {
        "id": "lth5QRSzZS42"
      },
      "source": [
        "import folium as g"
      ],
      "execution_count": null,
      "outputs": []
    },
    {
      "cell_type": "code",
      "metadata": {
        "id": "4o8CtjdoZuqo"
      },
      "source": [
        "for name,info,lat,lon in zip(지도시각화_plz.장소,지도시각화_plz.비고,지도시각화_plz.위도, 지도시각화_plz.경도):\n",
        "    g.Marker([lat, lon], \n",
        "            popup = folium.Popup(info, max_width=1000),\n",
        "            icon=folium.Icon(color='green')).add_to(m)\n",
        "m"
      ],
      "execution_count": null,
      "outputs": []
    },
    {
      "cell_type": "code",
      "metadata": {
        "id": "v42REfs8Z8pB"
      },
      "source": [
        "pip install git+https://github.com/python-visualization/branca.git@master"
      ],
      "execution_count": null,
      "outputs": []
    },
    {
      "cell_type": "code",
      "metadata": {
        "id": "Q96Z6w6WSqNL"
      },
      "source": [
        "m.save('무시각화.html')"
      ],
      "execution_count": null,
      "outputs": []
    },
    {
      "cell_type": "code",
      "metadata": {
        "id": "mBJ1VKavXnES"
      },
      "source": [
        "import folium\n",
        "from folium.features import DivIcon\n",
        "\n",
        "text='Text'\n",
        "\n",
        "for name,info,lat,lon in zip(지도시각화_plz.장소,지도시각화_plz.비고,지도시각화_plz.위도, 지도시각화_plz.경도):\n",
        "    g.Marker([lat, lon], \n",
        "            popup = folium.Popup(info, max_width=1000),\n",
        "            icon=DivIcon(\n",
        "        icon_size=(150,36),\n",
        "        icon_anchor=(0,0),\n",
        "        html='<div style=\"font-size: 10pt\">%s</div>' % text,\n",
        "        )).add_to(m)\n",
        "m"
      ],
      "execution_count": null,
      "outputs": []
    },
    {
      "cell_type": "code",
      "metadata": {
        "id": "IXNNlKpXvE20"
      },
      "source": [
        ""
      ],
      "execution_count": null,
      "outputs": []
    }
  ]
}