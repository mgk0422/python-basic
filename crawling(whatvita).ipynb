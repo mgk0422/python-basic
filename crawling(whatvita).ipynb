{
  "nbformat": 4,
  "nbformat_minor": 0,
  "metadata": {
    "colab": {
      "name": "crawling(whatvita)",
      "private_outputs": true,
      "provenance": [],
      "authorship_tag": "ABX9TyNbEMhM+mfA+Per9kVvUE53",
      "include_colab_link": true
    },
    "kernelspec": {
      "name": "python3",
      "display_name": "Python 3"
    }
  },
  "cells": [
    {
      "cell_type": "markdown",
      "metadata": {
        "id": "view-in-github",
        "colab_type": "text"
      },
      "source": [
        "<a href=\"https://colab.research.google.com/github/mgk0422/python-basic/blob/master/crawling(whatvita).ipynb\" target=\"_parent\"><img src=\"https://colab.research.google.com/assets/colab-badge.svg\" alt=\"Open In Colab\"/></a>"
      ]
    },
    {
      "cell_type": "code",
      "metadata": {
        "id": "zxO_N87JuBCw"
      },
      "source": [
        "pip install bs4"
      ],
      "execution_count": null,
      "outputs": []
    },
    {
      "cell_type": "code",
      "metadata": {
        "id": "aPWQ8Rc8uHKm"
      },
      "source": [
        "## parser.py\r\n",
        "import requests\r\n",
        "from bs4 import BeautifulSoup\r\n",
        "import pandas as pd"
      ],
      "execution_count": null,
      "outputs": []
    },
    {
      "cell_type": "code",
      "metadata": {
        "id": "qJoW-b7WuQ7F"
      },
      "source": [
        "## HTTP GET Request\r\n",
        "req = requests.get('https://smartstore.naver.com/whatvita/category/9841fccc865242f6a7e25c2f621804bf?cp=1')"
      ],
      "execution_count": null,
      "outputs": []
    },
    {
      "cell_type": "code",
      "metadata": {
        "id": "K_BT8q86uhnO"
      },
      "source": [
        "## HTML 소스 가져오기\r\n",
        "html = req.text"
      ],
      "execution_count": null,
      "outputs": []
    },
    {
      "cell_type": "code",
      "metadata": {
        "id": "tMfC9qNTuk6A"
      },
      "source": [
        "html"
      ],
      "execution_count": null,
      "outputs": []
    },
    {
      "cell_type": "code",
      "metadata": {
        "id": "Dhw3XEKxumky"
      },
      "source": [
        "## BeautifulSoup으로 html소스를 python객체로 변환하기\r\n",
        "## 첫 인자는 html소스코드, 두 번째 인자는 어떤 parser를 이용할지 명시.\r\n",
        "## 이 글에서는 Python 내장 html.parser를 이용했다.\r\n",
        "import re\r\n",
        "soup = BeautifulSoup(html, 'html.parser')\r\n",
        "items  =soup.find_all(\"li\",attrs={'class':re.compile(\"^^-qHwcFXhj0\")})"
      ],
      "execution_count": null,
      "outputs": []
    },
    {
      "cell_type": "code",
      "metadata": {
        "id": "cwf1FNUU54Du"
      },
      "source": [
        "items"
      ],
      "execution_count": null,
      "outputs": []
    },
    {
      "cell_type": "code",
      "metadata": {
        "id": "QrImDSOR6jZU"
      },
      "source": [
        "powerlist=[]\r\n",
        "for item in items:\r\n",
        "    temp=[]\r\n",
        "    name=item.find(\"strong\",attrs={'class':\"QNNliuiAk3\"}).get_text() #제품명\r\n",
        "    price=item.find(\"span\",attrs={'class':\"nIAdxeTzhx\"}).get_text() #가격\r\n",
        "    reviewnumber=item.findAll(\"div\",class_='_27Y22p2kob') #리뷰\r\n",
        "    for i in reviewnumber:\r\n",
        "        reviewnumber=item.find_all(\"em\",attrs={'class':'_1dH1kEDaAZ'})[0].get_text()\r\n",
        "        point=item.find_all(\"em\",attrs={'class':'_1dH1kEDaAZ'})[1].get_text()\r\n",
        "        print(reviewnumber)\r\n",
        "        print(point)\r\n",
        "   \r\n",
        "    temp.append(name)\r\n",
        "    temp.append(price)\r\n",
        "    temp.append(reviewnumber)\r\n",
        "    temp.append(point)\r\n",
        "    powerlist.append(temp)\r\n",
        "    #class_='_1dH1kEDaAZ'"
      ],
      "execution_count": null,
      "outputs": []
    },
    {
      "cell_type": "code",
      "metadata": {
        "id": "U8oDSnI6733A"
      },
      "source": [
        "powerlist"
      ],
      "execution_count": null,
      "outputs": []
    },
    {
      "cell_type": "code",
      "metadata": {
        "id": "Q5dFbhY2x28S"
      },
      "source": [
        "powerlist=pd.DataFrame(powerlist,columns=['상품명','가격','리뷰수','평점'])\r\n",
        "powerlist"
      ],
      "execution_count": null,
      "outputs": []
    },
    {
      "cell_type": "code",
      "metadata": {
        "id": "4eJf9jD0hCrX"
      },
      "source": [
        "powerlist['상품명']"
      ],
      "execution_count": null,
      "outputs": []
    },
    {
      "cell_type": "code",
      "metadata": {
        "id": "HADs1k4esmgB"
      },
      "source": [
        ""
      ],
      "execution_count": null,
      "outputs": []
    }
  ]
}