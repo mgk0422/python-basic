{
  "nbformat": 4,
  "nbformat_minor": 0,
  "metadata": {
    "colab": {
      "name": "PimaIndianDiabetes",
      "private_outputs": true,
      "provenance": [],
      "authorship_tag": "ABX9TyPZBqA8su9vj4VFN/IOlNYh",
      "include_colab_link": true
    },
    "kernelspec": {
      "name": "python3",
      "display_name": "Python 3"
    }
  },
  "cells": [
    {
      "cell_type": "markdown",
      "metadata": {
        "id": "view-in-github",
        "colab_type": "text"
      },
      "source": [
        "<a href=\"https://colab.research.google.com/github/mgk0422/python-basic/blob/master/PimaIndianDiabetes.ipynb\" target=\"_parent\"><img src=\"https://colab.research.google.com/assets/colab-badge.svg\" alt=\"Open In Colab\"/></a>"
      ]
    },
    {
      "cell_type": "code",
      "metadata": {
        "id": "XQLNLsWT_vlk"
      },
      "source": [
        "import numpy as np\r\n",
        "import pandas as pd\r\n",
        "import matplotlib.pyplot as plt\r\n",
        "%matplotlib inline\r\n",
        "\r\n",
        "from sklearn.model_selection import train_test_split\r\n",
        "from sklearn.metrics import accuracy_score, precision_score,recall_score,roc_auc_score,confusion_matrix\r\n",
        "from sklearn.metrics import f1_score, confusion_matrix, precision_recall_curve,roc_curve\r\n",
        "from sklearn.preprocessing import StandardScaler"
      ],
      "execution_count": null,
      "outputs": []
    },
    {
      "cell_type": "code",
      "metadata": {
        "id": "GaD7ISe3A3ok"
      },
      "source": [
        "from sklearn.linear_model import LogisticRegression\r\n",
        "diabetes=pd.read_excel('/content/sample_data/diabetes.xlsx')\r\n",
        "diabetes.head()"
      ],
      "execution_count": null,
      "outputs": []
    },
    {
      "cell_type": "code",
      "metadata": {
        "id": "MkWm90JLCUhr"
      },
      "source": [
        "print(diabetes['Outcome'].value_counts())"
      ],
      "execution_count": null,
      "outputs": []
    },
    {
      "cell_type": "code",
      "metadata": {
        "id": "IrAuyxoiCa0D"
      },
      "source": [
        "diabetes.info()"
      ],
      "execution_count": null,
      "outputs": []
    },
    {
      "cell_type": "code",
      "metadata": {
        "id": "tVJkVvw9CmBJ"
      },
      "source": [
        "# 피처로 구성, 별도의 피처 인코딩 필요없음\r\n",
        "X=diabetes[['Pregnancies','Glucose','BloodPressure','SkinThickness','Insulin','BMI','DiabetesPedigreeFunction','Age']]\r\n",
        "y=diabetes[['Outcome']]"
      ],
      "execution_count": null,
      "outputs": []
    },
    {
      "cell_type": "code",
      "metadata": {
        "id": "ECnJJTh3LOLm"
      },
      "source": [
        "y"
      ],
      "execution_count": null,
      "outputs": []
    },
    {
      "cell_type": "code",
      "metadata": {
        "id": "E28mR-SLLHIb"
      },
      "source": [
        "X_train,X_test,y_train,y_test=train_test_split(X,y,test_size=0.2,random_state=156,stratify=y)\r\n",
        "\r\n",
        "def get_clf_eval(y_test,pred):\r\n",
        "    #confusion=confusion_matrix(y_test,pred)\r\n",
        "    accuracy=accuracy_score(y_test,pred)\r\n",
        "    precision=precision_score(y_test,pred)\r\n",
        "    recall=recall_score(y_test,pred)\r\n",
        "    print('오차행렬')\r\n",
        "    print(confusion)\r\n",
        "    print('정확도:{0:.4f},정밀도:{1:.4f},재현율:{2:.4f}'.format(accuracy,precison,recall))\r\n",
        "#로지스틱 회귀\r\n",
        "lr_clf=LogisticRegression()\r\n",
        "lr_clf.fit(X_train,y_train)\r\n",
        "pred=lr_clf.predict(X_test)\r\n",
        "pred_proba=lr_clf.predict_proba(X_test)[:,1]\r\n",
        "get_clf_eval(y,pred)"
      ],
      "execution_count": null,
      "outputs": []
    },
    {
      "cell_type": "code",
      "metadata": {
        "id": "7C31fngZC4eo"
      },
      "source": [
        ""
      ],
      "execution_count": null,
      "outputs": []
    }
  ]
}