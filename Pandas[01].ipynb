{
 "cells": [
  {
   "cell_type": "markdown",
   "metadata": {},
   "source": [
    "- 넘파이 : 배열을 핸들링하면서 쓸수 있게 제공\n",
    "- 판다스 : 데이터를 다룰수 있는 방법을 제공해주는 라이브러리"
   ]
  },
  {
   "cell_type": "markdown",
   "metadata": {},
   "source": [
    "# Pandas"
   ]
  },
  {
   "cell_type": "markdown",
   "metadata": {},
   "source": [
    "- 분석할려는 데이터는 대부분 시계열(Series) 이거나 표(table) 형태로 정의해야한다.\n",
    "- Series 클래스와 DataFrame 클래스를 제공한다."
   ]
  },
  {
   "cell_type": "code",
   "execution_count": 5,
   "metadata": {},
   "outputs": [],
   "source": [
    "import pandas as pd\n",
    "import numpy as np\n",
    "import matplotlib.pyplot as plt"
   ]
  },
  {
   "cell_type": "markdown",
   "metadata": {},
   "source": [
    "### Series 클래스\n",
    "- 넘파이의 1차원배열과 비슷하지만, 각데이터의 의미를 표시하는 인덱스를 붙일 수 있다\n",
    "- series=index+value (series는 2차원의 배열이라고 생각하면 된다.)"
   ]
  },
  {
   "cell_type": "code",
   "execution_count": 123,
   "metadata": {},
   "outputs": [
    {
     "name": "stdout",
     "output_type": "stream",
     "text": [
      "[1 2 3 4 'jslim']\n",
      "object\n"
     ]
    }
   ],
   "source": [
    "# Series와 numpy array 비교\n",
    "arr=np.array([1,2,3,4,'jslim'],dtype=np.object)\n",
    "print(arr)\n",
    "print(arr.dtype)"
   ]
  },
  {
   "cell_type": "code",
   "execution_count": 126,
   "metadata": {},
   "outputs": [
    {
     "name": "stdout",
     "output_type": "stream",
     "text": [
      "0    1.0\n",
      "1    2.0\n",
      "2    3.0\n",
      "3    4.0\n",
      "dtype: float64\n",
      "**************************************************\n",
      "<class 'numpy.ndarray'>\n",
      "**************************************************\n",
      "RangeIndex(start=0, stop=4, step=1)\n",
      "**************************************************\n",
      "<class 'pandas.core.indexes.range.RangeIndex'>\n"
     ]
    }
   ],
   "source": [
    "s=pd.Series([1,2,3,4],dtype=np.float64)\n",
    "print(s)\n",
    "print('*'*50)\n",
    "print(type(s.values))\n",
    "print('*'*50)\n",
    "print(s.index)\n",
    "print('*'*50)\n",
    "print(type(s.index))"
   ]
  },
  {
   "cell_type": "code",
   "execution_count": 16,
   "metadata": {},
   "outputs": [],
   "source": [
    "def serieinfo(s):\n",
    "    print('value :',s.values)\n",
    "    print('value type :',type(s.values))\n",
    "    print('index :',s.index)\n",
    "    print('index type:',type(s.index))\n",
    "    print('index+value:',s)"
   ]
  },
  {
   "cell_type": "code",
   "execution_count": 28,
   "metadata": {},
   "outputs": [
    {
     "name": "stdout",
     "output_type": "stream",
     "text": [
      "value : [345645 245645     45 153545]\n",
      "value type : <class 'numpy.ndarray'>\n",
      "index : Index(['서울', '부산', '대전', '광주'], dtype='object')\n",
      "index type: <class 'pandas.core.indexes.base.Index'>\n",
      "index+value: 서울    345645\n",
      "부산    245645\n",
      "대전        45\n",
      "광주    153545\n",
      "dtype: int64\n"
     ]
    }
   ],
   "source": [
    "# index의 라벨은 문자열뿐만아니라 날짜,시간,정수 등 가능\n",
    "# index와 Series 갯수 똑같아야함\n",
    "s=pd.Series([345645,245645,45,153545],\n",
    "            dtype=np.int64,\n",
    "            index=['서울','부산','대전','광주'])\n",
    "serieinfo(s)"
   ]
  },
  {
   "cell_type": "code",
   "execution_count": 127,
   "metadata": {},
   "outputs": [
    {
     "name": "stdout",
     "output_type": "stream",
     "text": [
      "value : [163 147 162 161 157]\n",
      "value type : <class 'numpy.ndarray'>\n",
      "index : Index(['김민경', '김유리', '김예림', '홍현빈', '김수진'], dtype='object')\n",
      "index type: <class 'pandas.core.indexes.base.Index'>\n",
      "index+value: 김민경    163\n",
      "김유리    147\n",
      "김예림    162\n",
      "홍현빈    161\n",
      "김수진    157\n",
      "dtype: int64\n"
     ]
    }
   ],
   "source": [
    "friend=pd.Series([163,147,162,161,157],\n",
    "                dtype=np.int64,\n",
    "                index=['김민경','김유리','김예림','홍현빈','김수진'])\n",
    "serieinfo(friend)"
   ]
  },
  {
   "cell_type": "code",
   "execution_count": 134,
   "metadata": {},
   "outputs": [
    {
     "name": "stdout",
     "output_type": "stream",
     "text": [
      "친구이름\n",
      "김민경    163\n",
      "김수진    157\n",
      "dtype: int64\n"
     ]
    }
   ],
   "source": [
    "friend.index.name=\"친구이름\"\n",
    "print(friend[['김민경','김수진']])"
   ]
  },
  {
   "cell_type": "code",
   "execution_count": 31,
   "metadata": {},
   "outputs": [
    {
     "name": "stdout",
     "output_type": "stream",
     "text": [
      "지역별\n",
      "서울    345645\n",
      "부산    245645\n",
      "대전        45\n",
      "광주    153545\n",
      "dtype: int64\n"
     ]
    }
   ],
   "source": [
    "s.index.name='지역별'\n",
    "print(s)"
   ]
  },
  {
   "cell_type": "code",
   "execution_count": 32,
   "metadata": {},
   "outputs": [
    {
     "data": {
      "text/plain": [
       "지역별\n",
       "서울    0.345645\n",
       "부산    0.245645\n",
       "대전    0.000045\n",
       "광주    0.153545\n",
       "dtype: float64"
      ]
     },
     "execution_count": 32,
     "metadata": {},
     "output_type": "execute_result"
    }
   ],
   "source": [
    "s/1000000"
   ]
  },
  {
   "cell_type": "markdown",
   "metadata": {},
   "source": [
    "- series indexing"
   ]
  },
  {
   "cell_type": "code",
   "execution_count": 34,
   "metadata": {},
   "outputs": [
    {
     "name": "stdout",
     "output_type": "stream",
     "text": [
      "345645\n",
      "345645\n"
     ]
    }
   ],
   "source": [
    "# 서울을 가지고 오고싶을때 \n",
    "print(s[0])\n",
    "print(s['서울'])"
   ]
  },
  {
   "cell_type": "code",
   "execution_count": 35,
   "metadata": {},
   "outputs": [
    {
     "name": "stdout",
     "output_type": "stream",
     "text": [
      "153545\n"
     ]
    }
   ],
   "source": [
    "# 광주를 가지고 오고싶을때\n",
    "print(s[3])"
   ]
  },
  {
   "cell_type": "code",
   "execution_count": 42,
   "metadata": {},
   "outputs": [
    {
     "name": "stdout",
     "output_type": "stream",
     "text": [
      "지역별\n",
      "서울    345645\n",
      "부산    245645\n",
      "dtype: int64\n"
     ]
    }
   ],
   "source": [
    "# 슬라이싱\n",
    "print(s['서울':'부산'])\n",
    "# print(s['서울','부산']) #부분 인덱싱하기 위해서는 대괄호 하나더"
   ]
  },
  {
   "cell_type": "code",
   "execution_count": 43,
   "metadata": {},
   "outputs": [
    {
     "name": "stdout",
     "output_type": "stream",
     "text": [
      "지역별\n",
      "서울    345645\n",
      "부산    245645\n",
      "dtype: int64\n"
     ]
    }
   ],
   "source": [
    "print(s[['서울','부산']])"
   ]
  },
  {
   "cell_type": "code",
   "execution_count": 44,
   "metadata": {},
   "outputs": [
    {
     "data": {
      "text/plain": [
       "True"
      ]
     },
     "execution_count": 44,
     "metadata": {},
     "output_type": "execute_result"
    }
   ],
   "source": [
    "'서울' in s"
   ]
  },
  {
   "cell_type": "code",
   "execution_count": 45,
   "metadata": {},
   "outputs": [
    {
     "data": {
      "text/plain": [
       "True"
      ]
     },
     "execution_count": 45,
     "metadata": {},
     "output_type": "execute_result"
    }
   ],
   "source": [
    "'부산' in s"
   ]
  },
  {
   "cell_type": "code",
   "execution_count": 46,
   "metadata": {},
   "outputs": [
    {
     "data": {
      "text/plain": [
       "False"
      ]
     },
     "execution_count": 46,
     "metadata": {},
     "output_type": "execute_result"
    }
   ],
   "source": [
    "'강원' in s"
   ]
  },
  {
   "cell_type": "code",
   "execution_count": 135,
   "metadata": {},
   "outputs": [
    {
     "name": "stdout",
     "output_type": "stream",
     "text": [
      "key : 0,value=1.0\n",
      "key : 1,value=2.0\n",
      "key : 2,value=3.0\n",
      "key : 3,value=4.0\n"
     ]
    }
   ],
   "source": [
    "for key, value in s.items():\n",
    "    print('key : {},value={}'.format(key,value))"
   ]
  },
  {
   "cell_type": "code",
   "execution_count": 57,
   "metadata": {},
   "outputs": [
    {
     "name": "stdout",
     "output_type": "stream",
     "text": [
      "value : [ 1.  5. -8. 10.]\n",
      "value type : <class 'numpy.ndarray'>\n",
      "index : Index(['c', 'b', 'a', 'k'], dtype='object')\n",
      "index type: <class 'pandas.core.indexes.base.Index'>\n",
      "index+value: c     1.0\n",
      "b     5.0\n",
      "a    -8.0\n",
      "k    10.0\n",
      "dtype: float64\n"
     ]
    }
   ],
   "source": [
    "s2=pd.Series({'c':1,'b':5,'a':-8,'k':10},dtype=np.float64)\n",
    "serieinfo(s2)"
   ]
  },
  {
   "cell_type": "code",
   "execution_count": 136,
   "metadata": {},
   "outputs": [
    {
     "name": "stdout",
     "output_type": "stream",
     "text": [
      "value : [163. 157. 160. 162.]\n",
      "value type : <class 'numpy.ndarray'>\n",
      "index : Index(['김민경', '김수진', '김예림', '홍현빈'], dtype='object')\n",
      "index type: <class 'pandas.core.indexes.base.Index'>\n",
      "index+value: 김민경    163.0\n",
      "김수진    157.0\n",
      "김예림    160.0\n",
      "홍현빈    162.0\n",
      "dtype: float64\n"
     ]
    }
   ],
   "source": [
    "friend=pd.Series({'김민경':163,'김수진':157,'김예림':160,'홍현빈':162},dtype=np.float64)\n",
    "serieinfo(friend)"
   ]
  },
  {
   "cell_type": "code",
   "execution_count": 138,
   "metadata": {},
   "outputs": [
    {
     "name": "stdout",
     "output_type": "stream",
     "text": [
      "fancy [0,2] indexing : c    1.0\n",
      "a   -8.0\n",
      "dtype: float64\n",
      "********************\n",
      "friend[0,2]indexing:김민경    163.0\n",
      "김예림    160.0\n",
      "dtype: float64\n"
     ]
    }
   ],
   "source": [
    "# Fancy indexing & Boolean indexing\n",
    "print('fancy [0,2] indexing : {}'.format(s2[ [0,2] ]))\n",
    "print('*'*20)\n",
    "print('friend[0,2]indexing:{}'.format(friend[[0,2]]))"
   ]
  },
  {
   "cell_type": "code",
   "execution_count": 139,
   "metadata": {},
   "outputs": [
    {
     "name": "stdout",
     "output_type": "stream",
     "text": [
      "boolean indexing s2%2==0:a    -8.0\n",
      "k    10.0\n",
      "dtype: float64\n",
      "********************\n",
      "boolean indexing friend%2==0:김예림    160.0\n",
      "홍현빈    162.0\n",
      "dtype: float64\n"
     ]
    }
   ],
   "source": [
    "# boolean indexing 2의 배수인것\n",
    "print('boolean indexing s2%2==0:{}'.format(s2[s2%2==0]))\n",
    "print('*'*20)\n",
    "print('boolean indexing friend%2==0:{}'.format(friend[friend%2==0]))"
   ]
  },
  {
   "cell_type": "code",
   "execution_count": 60,
   "metadata": {},
   "outputs": [
    {
     "name": "stdout",
     "output_type": "stream",
     "text": [
      "value : [    nan 153545. 245645. 345645.]\n",
      "value type : <class 'numpy.ndarray'>\n",
      "index : Index(['광주', '대전', '부산', '서울'], dtype='object')\n",
      "index type: <class 'pandas.core.indexes.base.Index'>\n",
      "index+value: 광주         NaN\n",
      "대전    153545.0\n",
      "부산    245645.0\n",
      "서울    345645.0\n",
      "dtype: float64\n"
     ]
    }
   ],
   "source": [
    "# index의 라벨은 문자열뿐만아니라 날짜,시간,정수 등 가능\n",
    "# index와 Series 갯수 똑같아야함\n",
    "s3=pd.Series({'서울':345645,'부산': 245645,'인천': 45,'대전':153545},\n",
    "            dtype=np.int32,\n",
    "            index=['광주','대전','부산','서울'])\n",
    "serieinfo(s3)\n",
    "# 딕셔너리에 있는 key와 index에 존재하는 key에 다른점이 광주인데\n",
    "# 광주는 데이터를 가질수없다. 매칭되지않으면 데이터를 가져올수 없다."
   ]
  },
  {
   "cell_type": "code",
   "execution_count": 62,
   "metadata": {},
   "outputs": [
    {
     "name": "stdout",
     "output_type": "stream",
     "text": [
      "a    NaN\n",
      "b    NaN\n",
      "c    NaN\n",
      "k    NaN\n",
      "광주   NaN\n",
      "대전   NaN\n",
      "부산   NaN\n",
      "서울   NaN\n",
      "dtype: float64\n"
     ]
    }
   ],
   "source": [
    "diff_s=s-s2\n",
    "print(diff_s) # 이름이 같지 않기 때문에 결과가 이렇게 나옴."
   ]
  },
  {
   "cell_type": "code",
   "execution_count": 63,
   "metadata": {},
   "outputs": [],
   "source": [
    "# A공장의 2019-01-01부터 10일간 생산량을 series로 저장\n",
    "# 생산량은 평균이 50이고 편차가 5인 정규분포 생성\n",
    "\n",
    "# B공장의 2019-01-01부터 10일간 생산량을 series로 저장\n",
    "# 생산량은 평균이 70이고 편차가 8인 정규분포 생성"
   ]
  },
  {
   "cell_type": "code",
   "execution_count": 118,
   "metadata": {},
   "outputs": [],
   "source": [
    "import numpy as np\n",
    "import pandas as pd\n",
    "from datetime import date,datetime,timedelta\n",
    "from dateutil.parser import parse"
   ]
  },
  {
   "cell_type": "code",
   "execution_count": 146,
   "metadata": {},
   "outputs": [
    {
     "name": "stdout",
     "output_type": "stream",
     "text": [
      "2019-01-01    56\n",
      "2019-01-02    51\n",
      "2019-01-03    39\n",
      "2019-01-04    60\n",
      "2019-01-05    47\n",
      "2019-01-06    52\n",
      "2019-01-07    53\n",
      "2019-01-08    58\n",
      "2019-01-09    52\n",
      "2019-01-10    42\n",
      "dtype: int64\n",
      "**************************************************\n",
      "2019-01-02    68\n",
      "2019-01-04    70\n",
      "2019-01-06    66\n",
      "2019-01-08    70\n",
      "2019-01-10    71\n",
      "2019-01-12    67\n",
      "2019-01-14    71\n",
      "2019-01-16    61\n",
      "2019-01-18    75\n",
      "2019-01-20    67\n",
      "dtype: int64\n"
     ]
    }
   ],
   "source": [
    "start_day=datetime(2019,1,1)\n",
    "#print(start_day)\n",
    "factA=pd.Series([ int(x) for x in np.random.normal(50,5,10)] ,\n",
    "                 index=[start_day + timedelta(days=x) for x in range(10)] )\n",
    "print(factA)\n",
    "print('*'*50)\n",
    "factB=pd.Series([ int(x) for x in np.random.normal(70,8,10)] ,\n",
    "                 index=[start_day + timedelta(days=x) for x in range(1,21,2)] )\n",
    "print(factB)"
   ]
  },
  {
   "cell_type": "code",
   "execution_count": 120,
   "metadata": {},
   "outputs": [
    {
     "name": "stdout",
     "output_type": "stream",
     "text": [
      "2019-01-03 00:00:00\n"
     ]
    }
   ],
   "source": [
    "# 단위 테스트를 위한 셀\n",
    "np.random.normal(50,5,(10,))\n",
    "print(start_day + timedelta(days=2))"
   ]
  },
  {
   "cell_type": "code",
   "execution_count": 121,
   "metadata": {},
   "outputs": [
    {
     "name": "stdout",
     "output_type": "stream",
     "text": [
      "DatetimeIndex(['2019-01-01', '2019-01-02', '2019-01-03', '2019-01-04',\n",
      "               '2019-01-05', '2019-01-06', '2019-01-07', '2019-01-08',\n",
      "               '2019-01-09', '2019-01-10'],\n",
      "              dtype='datetime64[ns]', freq=None)\n",
      "DatetimeIndex(['2019-01-02', '2019-01-04', '2019-01-06', '2019-01-08',\n",
      "               '2019-01-10', '2019-01-12', '2019-01-14', '2019-01-16',\n",
      "               '2019-01-18', '2019-01-20'],\n",
      "              dtype='datetime64[ns]', freq=None)\n"
     ]
    }
   ],
   "source": [
    "print(factA.index)\n",
    "print(factB.index)"
   ]
  },
  {
   "cell_type": "code",
   "execution_count": 122,
   "metadata": {},
   "outputs": [
    {
     "name": "stdout",
     "output_type": "stream",
     "text": [
      "2019-01-01      NaN\n",
      "2019-01-02    125.0\n",
      "2019-01-03      NaN\n",
      "2019-01-04    130.0\n",
      "2019-01-05      NaN\n",
      "2019-01-06    129.0\n",
      "2019-01-07      NaN\n",
      "2019-01-08    133.0\n",
      "2019-01-09      NaN\n",
      "2019-01-10    122.0\n",
      "2019-01-12      NaN\n",
      "2019-01-14      NaN\n",
      "2019-01-16      NaN\n",
      "2019-01-18      NaN\n",
      "2019-01-20      NaN\n",
      "dtype: float64\n"
     ]
    }
   ],
   "source": [
    "print(factA+factB)"
   ]
  },
  {
   "cell_type": "markdown",
   "metadata": {},
   "source": [
    "-------------------------------------------------------------------------\n",
    "-------------------------------------------------------------------------"
   ]
  },
  {
   "cell_type": "code",
   "execution_count": 141,
   "metadata": {},
   "outputs": [],
   "source": [
    "# A공장의 2019-01-05부터 10일간 생산량을 series로 저장\n",
    "# 생산량은 평균이 100이고 편차가 10인 정규분포 생성\n",
    "\n",
    "# B공장의 2019-01-05부터 10일간 생산량을 series로 저장\n",
    "# 생산량은 평균이 150이고 편차가 5인 정규분포 생성"
   ]
  },
  {
   "cell_type": "code",
   "execution_count": 147,
   "metadata": {},
   "outputs": [
    {
     "name": "stdout",
     "output_type": "stream",
     "text": [
      "2019-01-05     99\n",
      "2019-01-06     95\n",
      "2019-01-07     98\n",
      "2019-01-08    106\n",
      "2019-01-09     97\n",
      "2019-01-10    105\n",
      "2019-01-11     98\n",
      "2019-01-12    120\n",
      "2019-01-13    120\n",
      "2019-01-14    104\n",
      "dtype: int64\n",
      "**************************************************\n",
      "2019-01-06    148\n",
      "2019-01-08    152\n",
      "2019-01-10    152\n",
      "2019-01-12    143\n",
      "2019-01-14    140\n",
      "2019-01-16    149\n",
      "2019-01-18    158\n",
      "2019-01-20    148\n",
      "2019-01-22    142\n",
      "2019-01-24    155\n",
      "dtype: int64\n"
     ]
    }
   ],
   "source": [
    "start_day=datetime(2019,1,5)\n",
    "#print(start_day)\n",
    "factA=pd.Series([ int(x) for x in np.random.normal(100,10,10)] ,\n",
    "                 index=[start_day + timedelta(days=x) for x in range(10)] )\n",
    "print(factA)\n",
    "print('*'*50)\n",
    "factB=pd.Series([ int(x) for x in np.random.normal(150,5,10)] ,\n",
    "                 index=[start_day + timedelta(days=x) for x in range(1,21,2)] )\n",
    "print(factB)"
   ]
  },
  {
   "cell_type": "code",
   "execution_count": 148,
   "metadata": {},
   "outputs": [
    {
     "name": "stdout",
     "output_type": "stream",
     "text": [
      "DatetimeIndex(['2019-01-05', '2019-01-06', '2019-01-07', '2019-01-08',\n",
      "               '2019-01-09', '2019-01-10', '2019-01-11', '2019-01-12',\n",
      "               '2019-01-13', '2019-01-14'],\n",
      "              dtype='datetime64[ns]', freq=None)\n",
      "DatetimeIndex(['2019-01-06', '2019-01-08', '2019-01-10', '2019-01-12',\n",
      "               '2019-01-14', '2019-01-16', '2019-01-18', '2019-01-20',\n",
      "               '2019-01-22', '2019-01-24'],\n",
      "              dtype='datetime64[ns]', freq=None)\n"
     ]
    }
   ],
   "source": [
    "print(factA.index)\n",
    "print(factB.index)"
   ]
  },
  {
   "cell_type": "code",
   "execution_count": 144,
   "metadata": {},
   "outputs": [
    {
     "name": "stdout",
     "output_type": "stream",
     "text": [
      "2019-01-05      NaN\n",
      "2019-01-06    170.0\n",
      "2019-01-07      NaN\n",
      "2019-01-08    152.0\n",
      "2019-01-09      NaN\n",
      "2019-01-10    174.0\n",
      "2019-01-11      NaN\n",
      "2019-01-12    167.0\n",
      "2019-01-13      NaN\n",
      "2019-01-14    171.0\n",
      "2019-01-16      NaN\n",
      "2019-01-18      NaN\n",
      "2019-01-20      NaN\n",
      "2019-01-22      NaN\n",
      "2019-01-24      NaN\n",
      "dtype: float64\n"
     ]
    }
   ],
   "source": [
    "print(factA+factB)"
   ]
  },
  {
   "cell_type": "code",
   "execution_count": null,
   "metadata": {},
   "outputs": [],
   "source": []
  }
 ],
 "metadata": {
  "kernelspec": {
   "display_name": "Python 3",
   "language": "python",
   "name": "python3"
  },
  "language_info": {
   "codemirror_mode": {
    "name": "ipython",
    "version": 3
   },
   "file_extension": ".py",
   "mimetype": "text/x-python",
   "name": "python",
   "nbconvert_exporter": "python",
   "pygments_lexer": "ipython3",
   "version": "3.6.5"
  }
 },
 "nbformat": 4,
 "nbformat_minor": 2
}
