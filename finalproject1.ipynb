{
  "nbformat": 4,
  "nbformat_minor": 0,
  "metadata": {
    "colab": {
      "name": "finalproject1",
      "private_outputs": true,
      "provenance": [],
      "authorship_tag": "ABX9TyMTEJP7ERH3kHjJQAx4oVsT",
      "include_colab_link": true
    },
    "kernelspec": {
      "name": "python3",
      "display_name": "Python 3"
    }
  },
  "cells": [
    {
      "cell_type": "markdown",
      "metadata": {
        "id": "view-in-github",
        "colab_type": "text"
      },
      "source": [
        "<a href=\"https://colab.research.google.com/github/mgk0422/python-basic/blob/master/finalproject1.ipynb\" target=\"_parent\"><img src=\"https://colab.research.google.com/assets/colab-badge.svg\" alt=\"Open In Colab\"/></a>"
      ]
    },
    {
      "cell_type": "code",
      "metadata": {
        "id": "syKBTnSO7j4B"
      },
      "source": [
        "pip install xlsxwriter"
      ],
      "execution_count": null,
      "outputs": []
    },
    {
      "cell_type": "code",
      "metadata": {
        "id": "R0_QXUnx7pXi"
      },
      "source": [
        "import pandas as pd\n",
        "import numpy as np\n",
        "import glob\n",
        "import sys\n",
        "from openpyxl import load_workbook\n",
        "import xlsxwriter\n",
        "import matplotlib.pyplot as plt\n",
        "import seaborn as sns\n",
        "\n",
        "%matplotlib inline"
      ],
      "execution_count": null,
      "outputs": []
    },
    {
      "cell_type": "code",
      "metadata": {
        "id": "OuYkaitW7qfw"
      },
      "source": [
        "# 코랩 한글깨짐 설정\n",
        "import matplotlib as mpl\n",
        "import matplotlib.pyplot as plt\n",
        " \n",
        "%config InlineBackend.figure_format = 'retina'\n",
        " \n",
        "!apt -qq -y install fonts-nanum\n",
        " \n",
        "import matplotlib.font_manager as fm\n",
        "fontpath = '/usr/share/fonts/truetype/nanum/NanumBarunGothic.ttf'\n",
        "font = fm.FontProperties(fname=fontpath, size=9)\n",
        "plt.rc('font', family='NanumBarunGothic') \n",
        "mpl.font_manager._rebuild()"
      ],
      "execution_count": null,
      "outputs": []
    },
    {
      "cell_type": "code",
      "metadata": {
        "id": "0kP21uQ37uqX"
      },
      "source": [
        "from google.colab import files\n",
        "uploaded=files.upload()"
      ],
      "execution_count": null,
      "outputs": []
    },
    {
      "cell_type": "code",
      "metadata": {
        "id": "-1SKj7s07yY4"
      },
      "source": [
        "data=pd.read_excel('/content/서울전역시장마트데이터(구분포함,23월포함).xlsx')\n",
        "data.head()"
      ],
      "execution_count": null,
      "outputs": []
    },
    {
      "cell_type": "code",
      "metadata": {
        "id": "VeW1V4AS8Pmk"
      },
      "source": [
        "def For_product(data1, data2, data3, product) :\n",
        "    cols = ['단위', '비고', '지역구', '장소','구분']\n",
        "    name = ['시장', '마트', '서울']\n",
        "  \n",
        "    test_i = data1[data1['품목']==product]\n",
        "    test_a = test_i.drop(cols, axis=1)\n",
        "    test_a = test_a.groupby('조사일')['가격'].mean().reset_index()\n",
        "    test_a = test_a.set_index('조사일')\n",
        "    y_test = test_a['가격'].resample('MS').mean()\n",
        "    y_test = y_test['2017' : ]\n",
        "    y = pd.DataFrame(y_test)\n",
        "\n",
        "    test_0_i = data2[data2['품목']==product]\n",
        "    test_0_a = test_0_i.drop(cols, axis=1)\n",
        "    test_0_a = test_0_a.groupby('조사일')['가격'].mean().reset_index()\n",
        "    test_0_a = test_0_a.set_index('조사일')\n",
        "    x_test = test_0_a['가격'].resample('MS').mean()\n",
        "    x_test=x_test['2017' :]\n",
        "    x = pd.DataFrame(x_test)\n",
        "    \n",
        "    seoul = data3[data3['품목']==product]\n",
        "    seoul = seoul.drop(cols, axis=1)\n",
        "    seoul = seoul.groupby('조사일')['가격'].mean().reset_index()\n",
        "    seoul = seoul.set_index('조사일')\n",
        "    seoul = seoul['가격'].resample('MS').mean()\n",
        "    seoul = seoul['2017' : ]\n",
        "    z = pd.DataFrame(seoul)\n",
        "\n",
        "    do_merge = y.merge(x,on='조사일').merge(z,on='조사일')\n",
        "    do_merge.columns = name\n",
        "    do_merge = do_merge.reset_index()\n",
        "#     do_merge = do_merge.set_index('조사일')\n",
        "#     print(do_merge)\n",
        "# do_merge = pd.merge(do_merge, z, left_on=do_merge.index, right_on=z.index)\n",
        "    \n",
        "   \n",
        "   \n",
        "    \n",
        " \n",
        "    \n",
        "# #     do_merge.columns = name\n",
        "    \n",
        "    return (do_merge, product)"
      ],
      "execution_count": null,
      "outputs": []
    },
    {
      "cell_type": "code",
      "metadata": {
        "id": "akiBwIyu8TPz"
      },
      "source": [
        "def ForAllProduct(data, district):\n",
        "    test_market = data[(data['지역구']==district)&(data['구분']=='시장')]\n",
        "    test_outlet = data[(data['지역구']==district)&(data['구분']=='마트')]\n",
        "    seoul = data[(data['지역구']==district)]\n",
        "    test_list = test_market['품목'].unique()\n",
        "    print(test_list)\n",
        "\n",
        "    if len(test_list) == 5:\n",
        "        (test01, product1) = For_product(test_market, test_outlet, seoul, test_list[0])\n",
        "        (test02, product2) = For_product(test_market, test_outlet, seoul, test_list[1])\n",
        "        (test03, product3) = For_product(test_market, test_outlet, seoul, test_list[2])\n",
        "        (test04, product4) = For_product(test_market, test_outlet, seoul, test_list[3])\n",
        "        (test05, product5) = For_product(test_market, test_outlet, seoul, test_list[4])\n",
        "        (test06, product6) = (\"There is Only 5 products exist\", \"Nothing\")\n",
        "    elif len(test_list) == 6:\n",
        "        (test01, product1) = For_product(test_market, test_outlet, seoul, test_list[0])\n",
        "        (test02, product2) = For_product(test_market, test_outlet, seoul, test_list[1])\n",
        "        (test03, product3) = For_product(test_market, test_outlet, seoul, test_list[2])\n",
        "        (test04, product4) = For_product(test_market, test_outlet, seoul, test_list[3])\n",
        "        (test05, product5) = For_product(test_market, test_outlet, seoul, test_list[4])\n",
        "        (test06, product6) = For_product(test_market, test_outlet, seoul, test_list[5])\n",
        "        \n",
        "    return test01, test02, test03, test04, test05, test06"
      ],
      "execution_count": null,
      "outputs": []
    },
    {
      "cell_type": "code",
      "metadata": {
        "id": "vw9GwVRS8ZQ_"
      },
      "source": [
        "금천구_배추, 금천구_무, 금천구_양파, 금천구_상추, 금천구_오이, test06= ForAllProduct(data, '금천구')"
      ],
      "execution_count": null,
      "outputs": []
    },
    {
      "cell_type": "code",
      "metadata": {
        "id": "Y4Rggrxs8Ghk"
      },
      "source": [
        "금천구_배추"
      ],
      "execution_count": null,
      "outputs": []
    },
    {
      "cell_type": "code",
      "metadata": {
        "id": "WOJdKN098fco"
      },
      "source": [
        "서울배추=금천구_배추[['조사일','서울']]\n",
        "서울배추.rename(columns={'조사일': '조사일', '서울': '서울배추'}, inplace=True)\n"
      ],
      "execution_count": null,
      "outputs": []
    },
    {
      "cell_type": "code",
      "metadata": {
        "id": "ksRI2fUaEG9d"
      },
      "source": [
        "서울배추=금천구_배추[['조사일','서울']]\n",
        "서울배추.rename(columns={'조사일': '조사일', '서울': '서울배추'}, inplace=True)\n",
        "서울배추.set_index('조사일',inplace=True)\n",
        "\n",
        "서울무=금천구_무[['조사일','서울']]\n",
        "서울무.rename(columns={'조사일': '조사일', '서울': '서울무'}, inplace=True)\n",
        "서울무.set_index('조사일',inplace=True)\n",
        "\n",
        "서울양파=금천구_양파[['조사일','서울']]\n",
        "서울양파.rename(columns={'조사일': '조사일', '서울': '서울양파'}, inplace=True)\n",
        "서울양파.set_index('조사일',inplace=True)\n",
        "\n",
        "서울상추=금천구_상추[['조사일','서울']]\n",
        "서울상추.rename(columns={'조사일': '조사일', '서울': '서울상추'}, inplace=True)\n",
        "서울상추.set_index('조사일',inplace=True)\n",
        "\n",
        "서울오이=금천구_오이[['조사일','서울']]\n",
        "서울오이.rename(columns={'조사일': '조사일', '서울': '서울오이'}, inplace=True)\n",
        "서울오이.set_index('조사일',inplace=True)"
      ],
      "execution_count": null,
      "outputs": []
    },
    {
      "cell_type": "code",
      "metadata": {
        "id": "fbeFyspNEzci"
      },
      "source": [
        "서울평균채소가격=pd.concat([서울배추,서울무,서울양파,서울상추,서울오이],axis=1)\n",
        "서울평균채소가격.to_excel('서울평균채소가격.xlsx',index=False)\n",
        "서울평균채소가격.reset_index('조사일',inplace=True)\n",
        "서울평균채소가격.head()"
      ],
      "execution_count": null,
      "outputs": []
    },
    {
      "cell_type": "code",
      "metadata": {
        "id": "_X9UhbhZM2cE"
      },
      "source": [
        "서울품목별가격변동=pd.read_excel('/content/서울품별목별가격변동.xlsx')\n",
        "#서울품목별가격변동.to_excel('서울품목별가격변동.xlsx',index=False)\n",
        "#서울품목별가격변동.set_index('조사일',inplace=True)\n",
        "서울품목별가격변동.head()"
      ],
      "execution_count": null,
      "outputs": []
    },
    {
      "cell_type": "code",
      "metadata": {
        "id": "tBHkMZ2TPBFD"
      },
      "source": [
        "# 배추 그래프\n",
        "\n",
        "import pandas as pd\n",
        "\n",
        "from matplotlib import pyplot as plt\n",
        "\n",
        "import seaborn as sns\n",
        "# loading dataset \n",
        "\n",
        "서울품목별가격변동=pd.read_excel(\"/content/서울품별목별가격변동.xlsx\")\n",
        "서울품목별가격변동.head()\n",
        "# draw lineplot \n",
        "plt.figsize=(50,50)\n",
        "sns.lineplot(x=\"조사일\", y=\"양파monthChange_rate\", data=서울품목별가격변동)\n",
        "plt.xlabel('날짜')\n",
        "\n",
        "plt.ylabel('양파가격변동률')\n",
        "\n",
        "plt.title('서울지역 양파 가격 변동률 그래프')"
      ],
      "execution_count": null,
      "outputs": []
    },
    {
      "cell_type": "code",
      "metadata": {
        "id": "UfeDyBQ2WVr_"
      },
      "source": [
        ""
      ],
      "execution_count": null,
      "outputs": []
    },
    {
      "cell_type": "code",
      "metadata": {
        "id": "4i7Wdi9cN78q"
      },
      "source": [
        ""
      ],
      "execution_count": null,
      "outputs": []
    },
    {
      "cell_type": "code",
      "metadata": {
        "id": "AhKxTNtfN7_2"
      },
      "source": [
        ""
      ],
      "execution_count": null,
      "outputs": []
    },
    {
      "cell_type": "code",
      "metadata": {
        "id": "U7H8vPaMN8Cn"
      },
      "source": [
        ""
      ],
      "execution_count": null,
      "outputs": []
    },
    {
      "cell_type": "code",
      "metadata": {
        "id": "RQfnDV0kN8Fd"
      },
      "source": [
        ""
      ],
      "execution_count": null,
      "outputs": []
    },
    {
      "cell_type": "code",
      "metadata": {
        "id": "RXMxGM6sKUNY"
      },
      "source": [
        "from google.colab import files\n",
        "uploaded=files.upload()"
      ],
      "execution_count": null,
      "outputs": []
    },
    {
      "cell_type": "code",
      "metadata": {
        "id": "Dr18Y0LcAjYK"
      },
      "source": [
        "###################### 지도 시각화\n",
        "import json\n",
        "with open('/content/서울경계데이터.json','r') as f:\n",
        "    json_data=json.load(f)\n",
        "print(json.dumps(json_data))"
      ],
      "execution_count": null,
      "outputs": []
    },
    {
      "cell_type": "code",
      "metadata": {
        "id": "rEHSeSy3Qag3"
      },
      "source": [
        "geo"
      ],
      "execution_count": null,
      "outputs": []
    },
    {
      "cell_type": "code",
      "metadata": {
        "id": "bVcmGsSiK-nX"
      },
      "source": [
        "import folium\n",
        "m=folium.Map(location=[37.5838699,127.0565831],zoom_start=10)\n",
        "\n",
        "import json\n",
        "with open('/content/서울경계데이터.json','r') as f:\n",
        "    geo=json.loads(f.read())\n",
        "    f.close()\n",
        "\n",
        "folium.GeoJson(\n",
        "    geo,\n",
        "    name='seoul'\n",
        ").add_to(m)\n",
        "\n",
        "m.save('map.html')"
      ],
      "execution_count": null,
      "outputs": []
    },
    {
      "cell_type": "code",
      "metadata": {
        "id": "7d9MgGsjKW19"
      },
      "source": [
        "#html 코드 \n",
        "folium.Map().get_root().render()"
      ],
      "execution_count": null,
      "outputs": []
    },
    {
      "cell_type": "code",
      "metadata": {
        "id": "TXnrebw1M90A"
      },
      "source": [
        "지도시각화_df=pd.read_excel('/content/지도 시각화_ 색깔별로 나눌거다 ㅡㅡ.xlsx')\n",
        "무지도시각화_df=지도시각화_df[지도시각화_df['품목']=='무']\n",
        "무지도시각화_df=무지도시각화_df[['구','가격']]\n",
        "무지도시각화_df.head()"
      ],
      "execution_count": null,
      "outputs": []
    },
    {
      "cell_type": "code",
      "metadata": {
        "id": "Wni0BWSKLLvW"
      },
      "source": [
        "# 서울시 중심부의 위도, 경도 입니다.\n",
        "center = [37.541, 126.986]\n",
        "\n",
        "# 맵이 center 에 위치하고, zoom 레벨은 11로 시작하는 맵 m을 만듭니다.\n",
        "m = folium.Map(location=center, zoom_start=10)\n",
        "\n",
        "# Choropleth 레이어를 만들고, 맵 m에 추가합니다.\n",
        "folium.Choropleth(\n",
        "    geo_data=geo,\n",
        "    data=무지도시각화_df,\n",
        "    columns=(\"구\",\"가격\"),\n",
        "    key_on='feature.properties.name',\n",
        "    fill_color='BuPu'\n",
        ").add_to(m)\n",
        "\n",
        "# 맵 m을 출력합니다.\n",
        "m"
      ],
      "execution_count": null,
      "outputs": []
    },
    {
      "cell_type": "code",
      "metadata": {
        "id": "5h4FIwX8Nh61"
      },
      "source": [
        "# 무 관련 한거임\n",
        "지도시각화_plz=pd.read_excel('/content/최종최종 최종 지도시각화 위도경도 있는 데이터다 ㅡㅡ.xlsx')\n",
        "지도시각화_plz=지도시각화_plz[지도시각화_plz['품목']=='무']\n",
        "지도시각화_plz=지도시각화_plz[['장소','평균 : 4년 평균 가격','위도','경도']]\n",
        "지도시각화_plz.columns=['장소','평균가격','위도','경도']\n",
        "지도시각화_plz.head()"
      ],
      "execution_count": null,
      "outputs": []
    },
    {
      "cell_type": "code",
      "metadata": {
        "id": "_AzY2cdKrLFE"
      },
      "source": [
        "import folium as g"
      ],
      "execution_count": null,
      "outputs": []
    },
    {
      "cell_type": "code",
      "metadata": {
        "id": "8CF9JULztYTe"
      },
      "source": [
        "for name,price,lat,lon in zip(지도시각화_plz.장소,지도시각화_plz.평균가격,지도시각화_plz.위도, 지도시각화_plz.경도):\n",
        "    g.Marker([lat, lon], \n",
        "             popup= name+str(price),\n",
        "             icon=g.Icon(color='red')).add_to(m)\n",
        "m"
      ],
      "execution_count": null,
      "outputs": []
    },
    {
      "cell_type": "code",
      "metadata": {
        "id": "v6bR84CismeG"
      },
      "source": [
        ""
      ],
      "execution_count": null,
      "outputs": []
    }
  ]
}