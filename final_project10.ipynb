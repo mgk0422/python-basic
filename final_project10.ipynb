{
  "nbformat": 4,
  "nbformat_minor": 0,
  "metadata": {
    "colab": {
      "name": "final_project10",
      "private_outputs": true,
      "provenance": [],
      "collapsed_sections": [],
      "mount_file_id": "1katULX5HOmzbgcWzTvjnZzCMyVBku8Yi",
      "authorship_tag": "ABX9TyPDuorscrWYnAPcw92SD69w",
      "include_colab_link": true
    },
    "kernelspec": {
      "name": "python3",
      "display_name": "Python 3"
    },
    "accelerator": "GPU"
  },
  "cells": [
    {
      "cell_type": "markdown",
      "metadata": {
        "id": "view-in-github",
        "colab_type": "text"
      },
      "source": [
        "<a href=\"https://colab.research.google.com/github/mgk0422/python-basic/blob/master/final_project10.ipynb\" target=\"_parent\"><img src=\"https://colab.research.google.com/assets/colab-badge.svg\" alt=\"Open In Colab\"/></a>"
      ]
    },
    {
      "cell_type": "code",
      "metadata": {
        "id": "ThrwTohU3oQf"
      },
      "source": [
        "pip install sklearn pandas matplotlib graphviz"
      ],
      "execution_count": null,
      "outputs": []
    },
    {
      "cell_type": "code",
      "metadata": {
        "id": "MSslMtzw3rHO"
      },
      "source": [
        "import pandas as pd\n",
        "import numpy as np\n",
        "import time\n",
        "import itertools\n",
        "import scipy\n",
        "from sklearn.model_selection import train_test_split\n",
        "import statsmodels.api as sm"
      ],
      "execution_count": null,
      "outputs": []
    },
    {
      "cell_type": "code",
      "metadata": {
        "id": "Tl9VcKRS9Ot0"
      },
      "source": [
        "import matplotlib as mpl\n",
        "import matplotlib.pyplot as plt\n",
        " \n",
        "%config InlineBackend.figure_format = 'retina'\n",
        " \n",
        "!apt -qq -y install fonts-nanum\n",
        " \n",
        "import matplotlib.font_manager as fm\n",
        "fontpath = '/usr/share/fonts/truetype/nanum/NanumBarunGothic.ttf'\n",
        "font = fm.FontProperties(fname=fontpath, size=9)\n",
        "plt.rc('font', family='NanumBarunGothic') \n",
        "mpl.font_manager._rebuild()"
      ],
      "execution_count": null,
      "outputs": []
    },
    {
      "cell_type": "code",
      "metadata": {
        "id": "hhA0aNgk6nHx"
      },
      "source": [
        "from google.colab import files\n",
        "uploaded=files.upload()"
      ],
      "execution_count": null,
      "outputs": []
    },
    {
      "cell_type": "code",
      "metadata": {
        "id": "CdEc6Ke-6pTF"
      },
      "source": [
        "무_상=pd.read_excel('/content/무_상.xlsx')\n",
        "무_특=pd.read_excel('/content/무_특.xlsx')\n",
        "무_상.head()"
      ],
      "execution_count": null,
      "outputs": []
    },
    {
      "cell_type": "code",
      "metadata": {
        "id": "z3HrEqoM7FUx"
      },
      "source": [
        "무_상.info()  # 14개의 컬럼과 2090개의 index를 가지고 있음"
      ],
      "execution_count": null,
      "outputs": []
    },
    {
      "cell_type": "code",
      "metadata": {
        "id": "ulTl4fEP7G2E"
      },
      "source": [
        "무_특.info() # 14개의 컬럼과 2090개의 index를 가지고 있음"
      ],
      "execution_count": null,
      "outputs": []
    },
    {
      "cell_type": "code",
      "metadata": {
        "id": "3VRq7Dst79EW"
      },
      "source": [
        "무_상_요일별평균가격=무_상[['평균가격','요일(1)']]\n",
        "무_상_요일별평균가격.head()"
      ],
      "execution_count": null,
      "outputs": []
    },
    {
      "cell_type": "code",
      "metadata": {
        "id": "kDUlbpoK7OiY"
      },
      "source": [
        "무_상_요일별평균가격.groupby(무_상_요일별평균가격['요일(1)']).mean('평균가격')"
      ],
      "execution_count": null,
      "outputs": []
    },
    {
      "cell_type": "code",
      "metadata": {
        "id": "7xQ_z1Hc73wU"
      },
      "source": [
        "import matplotlib.pyplot as plt\n",
        "import seaborn as sns"
      ],
      "execution_count": null,
      "outputs": []
    },
    {
      "cell_type": "code",
      "metadata": {
        "id": "sFuQDs-C8Wzp"
      },
      "source": [
        "# Basic Bar Chart\n",
        "plt.plot()\n",
        "sns.barplot(x='요일(1)',y='평균가격',data=무_상_요일별평균가격)\n",
        "plt.title('무_상_요일 별 평균가격')"
      ],
      "execution_count": null,
      "outputs": []
    },
    {
      "cell_type": "code",
      "metadata": {
        "id": "oBvS57mi8jgC"
      },
      "source": [
        "무_특_요일별평균가격=무_특[['평균가격','요일(1)']]\n",
        "무_특_요일별평균가격.head()"
      ],
      "execution_count": null,
      "outputs": []
    },
    {
      "cell_type": "code",
      "metadata": {
        "id": "KfXIMp059bKJ"
      },
      "source": [
        "무_특_요일별평균가격.groupby(무_특_요일별평균가격['요일(1)']).mean('평균가격')"
      ],
      "execution_count": null,
      "outputs": []
    },
    {
      "cell_type": "code",
      "metadata": {
        "id": "XvoYn-_L9mpr"
      },
      "source": [
        "plt.plot()\n",
        "sns.barplot(x='요일(1)',y='평균가격',data=무_특_요일별평균가격)\n",
        "plt.title('무_특_요일 별 평균가격')"
      ],
      "execution_count": null,
      "outputs": []
    },
    {
      "cell_type": "code",
      "metadata": {
        "id": "cLHWYm5U-nbr"
      },
      "source": [
        "무_상.describe()"
      ],
      "execution_count": null,
      "outputs": []
    },
    {
      "cell_type": "code",
      "metadata": {
        "id": "PCo_ZyJy9zxe"
      },
      "source": [
        "plt.hist(무_상['평균가격'], range=(2000,40000))\n",
        "plt.title('무상 평균가격대 분포 히스토그램')"
      ],
      "execution_count": null,
      "outputs": []
    },
    {
      "cell_type": "code",
      "metadata": {
        "id": "ex9FDTFa_Mtg"
      },
      "source": [
        "무_특.describe()"
      ],
      "execution_count": null,
      "outputs": []
    },
    {
      "cell_type": "code",
      "metadata": {
        "id": "aRwF2cM1-EU_"
      },
      "source": [
        "plt.hist(무_특['평균가격'], range=(4000,45000))\n",
        "plt.title('무_특 평균가격대 분포 히스토그램')"
      ],
      "execution_count": null,
      "outputs": []
    },
    {
      "cell_type": "code",
      "metadata": {
        "id": "1Qrk5Ecd_bXr"
      },
      "source": [
        "무_상_기상상관관계=무_상[['최저기온(°C)','최고기온(°C)','일강수량(mm)','평균 풍속(m/s)','평균 상대습도(%)','합계 일조시간(hr)','평균 지면온도(°C)','일교차']]"
      ],
      "execution_count": null,
      "outputs": []
    },
    {
      "cell_type": "code",
      "metadata": {
        "id": "1GmdP4rQ_nlx"
      },
      "source": [
        "#heatmap으로 상관관계를 표시\n",
        "import seaborn as sb\n",
        "plt.rcParams[\"figure.figsize\"] = (5,5)\n",
        "sb.heatmap(무_상_기상상관관계.corr(),\n",
        "           annot = True, #실제 값 화면에 나타내기\n",
        "           cmap = 'Greens', #색상\n",
        "           vmin = -1, vmax=1 , #컬러차트 영역 -1 ~ +1\n",
        "          )"
      ],
      "execution_count": null,
      "outputs": []
    },
    {
      "cell_type": "markdown",
      "metadata": {
        "id": "RARTpKrjA8rU"
      },
      "source": [
        "반입량\t평균가격\t최저기온(°C)\t최고기온(°C)\t일강수량(mm)\t평균 풍속(m/s)\t평균 상대습도(%)\t합계 일조시간(hr)\t평균 지면온도(°C)\t유가 전국평균가격\t일교차\t요일"
      ]
    },
    {
      "cell_type": "code",
      "metadata": {
        "id": "uK8Bg34Qd4vX"
      },
      "source": [
        "sns.pairplot(무_상_기상상관관계)"
      ],
      "execution_count": null,
      "outputs": []
    },
    {
      "cell_type": "code",
      "metadata": {
        "id": "GUjCQoZ8fXEI"
      },
      "source": [
        "무_특_기상상관관계=무_특[['최저기온(°C)','최고기온(°C)','일강수량(mm)','평균 풍속(m/s)','평균 상대습도(%)','합계 일조시간(hr)','평균 지면온도(°C)','일교차']]"
      ],
      "execution_count": null,
      "outputs": []
    },
    {
      "cell_type": "code",
      "metadata": {
        "id": "SP6QjL3mfaRC"
      },
      "source": [
        "sns.pairplot(무_특_기상상관관계)"
      ],
      "execution_count": null,
      "outputs": []
    },
    {
      "cell_type": "code",
      "metadata": {
        "id": "soFqGAEnfhrv"
      },
      "source": [
        "sns.pairplot(무_특, x_vars='평균가격')"
      ],
      "execution_count": null,
      "outputs": []
    },
    {
      "cell_type": "code",
      "metadata": {
        "id": "inVxKv6Kfhwo"
      },
      "source": [
        "sns.pairplot(무_상, x_vars='평균가격')"
      ],
      "execution_count": null,
      "outputs": []
    },
    {
      "cell_type": "code",
      "metadata": {
        "id": "aK3QicWmfh_7"
      },
      "source": [
        "sns.pairplot(무_상, x_vars='반입량')"
      ],
      "execution_count": null,
      "outputs": []
    },
    {
      "cell_type": "code",
      "metadata": {
        "id": "99t8qf8Pfh9R"
      },
      "source": [
        "sns.pairplot(무_특, x_vars='반입량')"
      ],
      "execution_count": null,
      "outputs": []
    },
    {
      "cell_type": "code",
      "metadata": {
        "id": "l_L0JRBOfh6s"
      },
      "source": [
        "sns.pairplot(무_상, x_vars='반입량')"
      ],
      "execution_count": null,
      "outputs": []
    },
    {
      "cell_type": "code",
      "metadata": {
        "id": "TzGRKmCrfh3i"
      },
      "source": [
        ""
      ],
      "execution_count": null,
      "outputs": []
    },
    {
      "cell_type": "markdown",
      "metadata": {
        "id": "ZExORquYCWQN"
      },
      "source": [
        "반입량 평균가격 최저기온(°C) 최고기온(°C) 일강수량(mm) 평균 풍속(m/s) 평균 상대습도(%) 합계 일조시간(hr) 평균 지면온도(°C) 유가 전국평균가격 일교차 요일"
      ]
    },
    {
      "cell_type": "markdown",
      "metadata": {
        "id": "mR3vOeMVC-2c"
      },
      "source": [
        "# 반입량과 날씨데이터 비교"
      ]
    },
    {
      "cell_type": "markdown",
      "metadata": {
        "id": "2xTb02zhDJjd"
      },
      "source": [
        "반입량 평균가격 최저기온(°C) 최고기온(°C) 일강수량(mm) 평균 풍속(m/s) 평균 상대습도(%) 합계 일조시간(hr) 평균 지면온도(°C) 유가 전국평균가격 일교차 요일"
      ]
    },
    {
      "cell_type": "markdown",
      "metadata": {
        "id": "8Hs7cIPcEBWL"
      },
      "source": [
        "반입량 평균가격 최저기온(°C) 최고기온(°C) 일강수량(mm) 평균 풍속(m/s) 평균 상대습도(%) 합계 일조시간(hr) 평균 지면온도(°C) 유가 전국평균가격 일교차 요일"
      ]
    },
    {
      "cell_type": "markdown",
      "metadata": {
        "id": "UpOKXNE7GG5W"
      },
      "source": [
        "### 반입량 평균가격 산점도"
      ]
    },
    {
      "cell_type": "code",
      "metadata": {
        "id": "AQpaZO-rF_mq"
      },
      "source": [
        "# 무_상 평균가격 반입량 산점도\n",
        "# Basic Scatter Plot\n",
        "\n",
        "plt.plot('평균가격',  # x \n",
        "         '반입량',  # y\n",
        "         data=무_상, \n",
        "         linestyle='none', \n",
        "         marker='o', \n",
        "         markersize=2,\n",
        "         color='blue', \n",
        "         alpha=0.5)\n",
        "plt.title('무_상 평균가격_반입량 산점도')\n",
        "plt.show()"
      ],
      "execution_count": null,
      "outputs": []
    },
    {
      "cell_type": "code",
      "metadata": {
        "id": "y5Nzv8VyiIbs"
      },
      "source": [
        "# 무_특 평균가격 반입량 산점도\n",
        "# Basic Scatter Plot\n",
        "\n",
        "plt.plot('평균가격',  # x \n",
        "         '반입량',  # y\n",
        "         data=무_특, \n",
        "         linestyle='none', \n",
        "         marker='o', \n",
        "         markersize=2,\n",
        "         color='blue', \n",
        "         alpha=0.5)\n",
        "plt.title('무_특 평균가격_반입량 산점도')\n",
        "plt.show()"
      ],
      "execution_count": null,
      "outputs": []
    },
    {
      "cell_type": "code",
      "metadata": {
        "id": "JLHP9M-2KsIZ"
      },
      "source": [
        "무_상.set_index('일자',inplace=True)"
      ],
      "execution_count": null,
      "outputs": []
    },
    {
      "cell_type": "code",
      "metadata": {
        "id": "JDqWg2Hhbuik"
      },
      "source": [
        ""
      ],
      "execution_count": null,
      "outputs": []
    },
    {
      "cell_type": "code",
      "metadata": {
        "id": "Ku7qtbGFGQXd"
      },
      "source": [
        "무상_평균가격= 무_상[['평균가격','반입량']].resample('MS').mean()\n",
        "무상_평균가격"
      ],
      "execution_count": null,
      "outputs": []
    },
    {
      "cell_type": "code",
      "metadata": {
        "id": "Tj4-6NLAjgbK"
      },
      "source": [
        "무_특.set_index('일자',inplace=True)"
      ],
      "execution_count": null,
      "outputs": []
    },
    {
      "cell_type": "code",
      "metadata": {
        "id": "IqJ6Vo7Cjgkl"
      },
      "source": [
        "무_특_평균가격= 무_특[['평균가격','반입량']].resample('MS').mean()\n",
        "무_특_평균가격"
      ],
      "execution_count": null,
      "outputs": []
    },
    {
      "cell_type": "code",
      "metadata": {
        "id": "aduEj1alekmw"
      },
      "source": [
        "#무_특_평균가격=무_특_평균가격.set_index('일자')\n",
        "무_특_평균가격"
      ],
      "execution_count": null,
      "outputs": []
    },
    {
      "cell_type": "code",
      "metadata": {
        "id": "rb6v0JROKJ-N"
      },
      "source": [
        "from matplotlib import pyplot as plt\n",
        "a=np.linspace(0,5,200)\n",
        "\n",
        "ax=무_특_평균가격.plot(kind='line', x='일자', y='평균가격', color='DarkBlue')\n",
        "\n",
        "ax2=무_특_평균가격.plot(kind='line', x='일자', y='반입량', secondary_y=True, color='Red', ax=ax)\n",
        "\n",
        "ax.set_ylabel('반입량')\n",
        "ax2.set_ylabel('평균가격')\n",
        "plt.tight_layout()\n",
        "plt.show()"
      ],
      "execution_count": null,
      "outputs": []
    },
    {
      "cell_type": "code",
      "metadata": {
        "id": "PVVJ4uwHLFoD"
      },
      "source": [
        "plt.plot(무_특_평균가격['평균가격'], color='green', linestyle='-',label='평균가격')\n",
        "plt.plot(무_특_평균가격['반입량'], color='blue',  linestyle='-',label='반입량')\n",
        "plt.legend()\n",
        "plt.title('무_특 2013~2020 월별 평균가격과 반입량 추세 그래프 ')\n",
        "plt.show()"
      ],
      "execution_count": null,
      "outputs": []
    },
    {
      "cell_type": "code",
      "metadata": {
        "id": "xsIqN--2jrww"
      },
      "source": [
        "from google.colab import files\n",
        "uploaded=files.upload()"
      ],
      "execution_count": null,
      "outputs": []
    },
    {
      "cell_type": "code",
      "metadata": {
        "id": "GpYuidKOxTuG"
      },
      "source": [
        "무_상_경락가=pd.read_excel('/content/무(상) 경락가 통합2013-2020.xlsx')\n",
        "무_특_경락가=pd.read_excel('/content/무(특) 경락가 통합2013-2020.xlsx')\n",
        "무_반입량=pd.read_excel('/content/무 반입량 통합2013-2020.xlsx')\n",
        "무_날씨=pd.read_excel('/content/무_홍천20130101_20201031.xlsx')\n",
        "무_반입량.head()"
      ],
      "execution_count": null,
      "outputs": []
    },
    {
      "cell_type": "code",
      "metadata": {
        "id": "ERZvXSmC49Va"
      },
      "source": [
        "# 가격데이터 일자 컬럼 -> 날짜데이터로 변환\n",
        "무_상_경락가['일자'] =무_상_경락가.일자.astype(str)\n",
        "무_상_경락가['일자'] = pd.to_datetime(무_상_경락가['일자'])\n",
        "\n",
        "무_특_경락가['일자'] = 무_특_경락가.일자.astype(str)\n",
        "무_특_경락가['일자'] = pd.to_datetime(무_특_경락가['일자'])\n",
        "\n",
        "# 기상 데이터도 일자 변환해주기\n",
        "무_날씨['일시'] = 무_날씨.일시.astype(str)\n",
        "무_날씨['일시'] = pd.to_datetime(무_날씨['일시'])\n",
        "\n",
        "# 반입량 데이터도 일자 변환해주기\n",
        "\n",
        "무_반입량['일자'] = 무_반입량.일자.astype(str)\n",
        "무_반입량['일자'] = pd.to_datetime(무_반입량['일자'])"
      ],
      "execution_count": null,
      "outputs": []
    },
    {
      "cell_type": "code",
      "metadata": {
        "id": "hHbjhdeV5Pv9"
      },
      "source": [
        "무_상_경락가.rename(columns={'거래일자' : '일자'}, inplace=True)\n",
        "무_특_경락가.rename(columns={'거래일자' : '일자'}, inplace=True)\n",
        "무_날씨.rename(columns={'일시' : '일자'}, inplace=True)\n",
        "무_반입량.rename(columns={'일시' : '일자'}, inplace=True)"
      ],
      "execution_count": null,
      "outputs": []
    },
    {
      "cell_type": "code",
      "metadata": {
        "id": "zKSKfwxq5mWi"
      },
      "source": [
        "무_상_마지막= pd.merge(pd.merge(무_상_경락가, 무_날씨, on='일자' ), 무_반입량, on='일자')\n",
        "무_특_마지막 = pd.merge(pd.merge(무_특_경락가, 무_날씨, on='일자' ), 무_반입량, on='일자')"
      ],
      "execution_count": null,
      "outputs": []
    },
    {
      "cell_type": "code",
      "metadata": {
        "id": "pzLWC8H97RLK"
      },
      "source": [
        "유가=pd.read_excel('/content/주유소_평균판매가격.xlsx')\n",
        "유가.head()"
      ],
      "execution_count": null,
      "outputs": []
    },
    {
      "cell_type": "code",
      "metadata": {
        "id": "PzAJI54Q8O2i"
      },
      "source": [
        "무_상=pd.merge(무_상_마지막, 유가, on='일자')\n",
        "무_상.head()"
      ],
      "execution_count": null,
      "outputs": []
    },
    {
      "cell_type": "code",
      "metadata": {
        "id": "DUZadtIhEC3q"
      },
      "source": [
        "무_특=pd.merge(무_특_마지막, 유가, on='일자')\n",
        "무_특.head()"
      ],
      "execution_count": null,
      "outputs": []
    },
    {
      "cell_type": "code",
      "metadata": {
        "id": "BvWdp4XYEN-2"
      },
      "source": [
        "무_상.to_excel('무_상11.xlsx',index=False)\n",
        "무_특.to_excel('무_특11.xlsx',index=False)"
      ],
      "execution_count": null,
      "outputs": []
    },
    {
      "cell_type": "code",
      "metadata": {
        "id": "bh4MqIkmJd4y"
      },
      "source": [
        "무_상=pd.read_excel('/content/무_상11.xlsx')"
      ],
      "execution_count": null,
      "outputs": []
    },
    {
      "cell_type": "code",
      "metadata": {
        "id": "c-VQDwddPiiq"
      },
      "source": [
        "무_상.head()"
      ],
      "execution_count": null,
      "outputs": []
    },
    {
      "cell_type": "code",
      "metadata": {
        "id": "Xmjn9LNOPkuG"
      },
      "source": [
        ""
      ],
      "execution_count": null,
      "outputs": []
    }
  ]
}