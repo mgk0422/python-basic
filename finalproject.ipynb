{
  "nbformat": 4,
  "nbformat_minor": 0,
  "metadata": {
    "colab": {
      "name": "finalproject",
      "provenance": [],
      "private_outputs": true,
      "collapsed_sections": [
        "3x5WZ6jr6WGJ",
        "z7Xg6lw263F9",
        "AhgAvGlB7ii-",
        "S7_GJOeX77nJ",
        "7i4tXOVe8V2s",
        "XSQT6SmO8vxg",
        "dUtc7G-W9IsV",
        "CD7RAJ3s9XzS",
        "5K26OnRZ9wYN",
        "Cq73voSl9_al",
        "b8kJF_U9-VD2",
        "4YLTiKGv-lgx",
        "XWaTSKeV-zB6",
        "kd65QJmU_KCW"
      ],
      "toc_visible": true,
      "mount_file_id": "1p5YrxHAO0Vn7LRXUS0aRDmZNLIaRzmV4",
      "authorship_tag": "ABX9TyMfySPV9HoaYsLohPNVjHnr",
      "include_colab_link": true
    },
    "kernelspec": {
      "name": "python3",
      "display_name": "Python 3"
    }
  },
  "cells": [
    {
      "cell_type": "markdown",
      "metadata": {
        "id": "view-in-github",
        "colab_type": "text"
      },
      "source": [
        "<a href=\"https://colab.research.google.com/github/mgk0422/python-basic/blob/master/finalproject.ipynb\" target=\"_parent\"><img src=\"https://colab.research.google.com/assets/colab-badge.svg\" alt=\"Open In Colab\"/></a>"
      ]
    },
    {
      "cell_type": "code",
      "metadata": {
        "id": "IkmFTj9V2ymK"
      },
      "source": [
        "pip install xlsxwriter"
      ],
      "execution_count": null,
      "outputs": []
    },
    {
      "cell_type": "code",
      "metadata": {
        "id": "ajlEYpBBHB9q"
      },
      "source": [
        "import pandas as pd\n",
        "import numpy as np\n",
        "import glob\n",
        "import sys\n",
        "from openpyxl import load_workbook\n",
        "import xlsxwriter\n",
        "import matplotlib.pyplot as plt\n",
        "import seaborn as sns\n",
        "\n",
        "%matplotlib inline"
      ],
      "execution_count": null,
      "outputs": []
    },
    {
      "cell_type": "code",
      "metadata": {
        "id": "vxgvWsvJFCbu"
      },
      "source": [
        "# 한글 폰트 문제 해결\n",
        "import platform\n",
        "\n",
        "from matplotlib import font_manager, rc\n",
        "# plt.rcParams['axes.unicode_minus'] = False\n",
        "\n",
        "if platform.system() == 'Darwin':\n",
        "    rc('font', family='AppleGothic')\n",
        "elif platform.system() == 'Windows':\n",
        "    path = \"c:/Windows/Fonts/malgun.ttf\"\n",
        "    font_name = font_manager.FontProperties(fname=path).get_name()\n",
        "    rc('font', family=font_name)\n",
        "else:\n",
        "    print('Unknown system... sorry~~~~')"
      ],
      "execution_count": null,
      "outputs": []
    },
    {
      "cell_type": "markdown",
      "metadata": {
        "id": "_4ioV5RltpXw"
      },
      "source": [
        "#### 강남"
      ]
    },
    {
      "cell_type": "code",
      "metadata": {
        "id": "juYr0a8mraD6"
      },
      "source": [
        "from google.colab import files\n",
        "uploaded=files.upload()"
      ],
      "execution_count": null,
      "outputs": []
    },
    {
      "cell_type": "code",
      "metadata": {
        "id": "1_DiWcNRHUEB"
      },
      "source": [
        "강남도곡=pd.read_excel('/content/강남구 도곡시장 가격 데이터.xlsx')\n",
        "강남도곡"
      ],
      "execution_count": null,
      "outputs": []
    },
    {
      "cell_type": "code",
      "metadata": {
        "id": "QMreQYTvH7WK"
      },
      "source": [
        "강남청담=pd.read_excel('/content/강남구 청담삼익시장 가격 데이터.xlsx')\n",
        "강남청담"
      ],
      "execution_count": null,
      "outputs": []
    },
    {
      "cell_type": "code",
      "metadata": {
        "id": "_aKEF9JPIQSL"
      },
      "source": [
        "강남시장가격데이터=pd.concat([강남도곡,강남청담],axis=0)"
      ],
      "execution_count": null,
      "outputs": []
    },
    {
      "cell_type": "code",
      "metadata": {
        "id": "8Zrv8xRruaeg"
      },
      "source": [
        "강남시장가격데이터.to_excel('강남시장가격데이터.xlsx',index=False)"
      ],
      "execution_count": null,
      "outputs": []
    },
    {
      "cell_type": "code",
      "metadata": {
        "id": "d6AJH9MtEVPj"
      },
      "source": [
        "강남시장가격데이터.info()"
      ],
      "execution_count": null,
      "outputs": []
    },
    {
      "cell_type": "code",
      "metadata": {
        "id": "39pv_yitECVO"
      },
      "source": [
        "## 시각화\n",
        "from matplotlib import pyplot as plt\n",
        "import seaborn as sns"
      ],
      "execution_count": null,
      "outputs": []
    },
    {
      "cell_type": "code",
      "metadata": {
        "id": "PNrixx4eFMx4"
      },
      "source": [
        "# 한글 폰트 문제 해결\n",
        "import platform\n",
        "\n",
        "from matplotlib import font_manager, rc\n",
        "# plt.rcParams['axes.unicode_minus'] = False\n",
        "\n",
        "if platform.system() == 'Darwin':\n",
        "    rc('font', family='AppleGothic')\n",
        "elif platform.system() == 'Windows':\n",
        "    path = \"c:/Windows/Fonts/malgun.ttf\"\n",
        "    font_name = font_manager.FontProperties(fname=path).get_name()\n",
        "    rc('font', family=font_name)\n",
        "else:\n",
        "    print('Unknown system... sorry~~~~')"
      ],
      "execution_count": null,
      "outputs": []
    },
    {
      "cell_type": "markdown",
      "metadata": {
        "id": "WAEwQs445YDn"
      },
      "source": [
        "#### 강동구"
      ]
    },
    {
      "cell_type": "code",
      "metadata": {
        "id": "dP2MtiiawSAG"
      },
      "source": [
        "강동구둔촌=pd.read_excel('/content/강동구 둔촌역전통시장 가격 데이터.xlsx')\n",
        "len(강동구둔촌)"
      ],
      "execution_count": null,
      "outputs": []
    },
    {
      "cell_type": "code",
      "metadata": {
        "id": "rlFcs_M35jXk"
      },
      "source": [
        "강동구암사종합=pd.read_excel('/content/강동구 암사종합시장 가격 데이터.xlsx')\n",
        "len(강동구암사종합)"
      ],
      "execution_count": null,
      "outputs": []
    },
    {
      "cell_type": "code",
      "metadata": {
        "id": "RHVbNm_05uDz"
      },
      "source": [
        "강동구시장가격데이터=pd.concat([강동구둔촌,강동구암사종합],axis=0)"
      ],
      "execution_count": null,
      "outputs": []
    },
    {
      "cell_type": "code",
      "metadata": {
        "id": "tSExsfnd51hH"
      },
      "source": [
        "강동구시장가격데이터.to_excel('강동구시장가격데이터.xlsx',index=False)"
      ],
      "execution_count": null,
      "outputs": []
    },
    {
      "cell_type": "markdown",
      "metadata": {
        "id": "3x5WZ6jr6WGJ"
      },
      "source": [
        "#### 강서구"
      ]
    },
    {
      "cell_type": "code",
      "metadata": {
        "id": "NVoVmj5J58mS"
      },
      "source": [
        "강서구송화=pd.read_excel('/content/강서 송화시장 가격 데이터.xlsx')\n",
        "len(강서구송화)"
      ],
      "execution_count": null,
      "outputs": []
    },
    {
      "cell_type": "code",
      "metadata": {
        "id": "FlX_QPfH6jvC"
      },
      "source": [
        "강서구화곡=pd.read_excel('/content/강서 화곡본동시장 가격 데이터.xlsx')\n",
        "len(강서구화곡)"
      ],
      "execution_count": null,
      "outputs": []
    },
    {
      "cell_type": "code",
      "metadata": {
        "id": "kv0ZmTrO6qH9"
      },
      "source": [
        "강서구시장가격데이터=pd.concat([강서구송화,강서구화곡],axis=0)"
      ],
      "execution_count": null,
      "outputs": []
    },
    {
      "cell_type": "code",
      "metadata": {
        "id": "ZPFPa6ZV6xPx"
      },
      "source": [
        "강서구시장가격데이터.to_excel('강서구시장가격데이터.xlsx',index=False)"
      ],
      "execution_count": null,
      "outputs": []
    },
    {
      "cell_type": "markdown",
      "metadata": {
        "id": "z7Xg6lw263F9"
      },
      "source": [
        "#### 관악구"
      ]
    },
    {
      "cell_type": "code",
      "metadata": {
        "id": "_s_0la0A60va"
      },
      "source": [
        "관악구신사시장=pd.read_excel('/content/관악구 관악신사시장(신림4동) 가격데이터.xlsx')\n",
        "len(관악구신사시장)"
      ],
      "execution_count": null,
      "outputs": []
    },
    {
      "cell_type": "code",
      "metadata": {
        "id": "Bq5t5NyI7EBC"
      },
      "source": [
        "관악구신원시장=pd.read_excel('/content/관악구 신원시장(신림1동) 가격 데이터.xlsx')\n",
        "len(관악구신원시장)"
      ],
      "execution_count": null,
      "outputs": []
    },
    {
      "cell_type": "code",
      "metadata": {
        "id": "fafM5qCy7LI5"
      },
      "source": [
        "관악구원당종합=pd.read_excel('/content/관악구 원당종합시장 가격데이터.xlsx')\n",
        "len(관악구원당종합)"
      ],
      "execution_count": null,
      "outputs": []
    },
    {
      "cell_type": "code",
      "metadata": {
        "id": "kA3NBDMs7RCh"
      },
      "source": [
        "관악구시장가격데이터=pd.concat([관악구신사시장,관악구신원시장,관악구원당종합],axis=0)"
      ],
      "execution_count": null,
      "outputs": []
    },
    {
      "cell_type": "code",
      "metadata": {
        "id": "j6_eX1OO7Z-x"
      },
      "source": [
        "관악구시장가격데이터.to_excel('관악구시장가격데이터.xlsx',index=False)"
      ],
      "execution_count": null,
      "outputs": []
    },
    {
      "cell_type": "markdown",
      "metadata": {
        "id": "AhgAvGlB7ii-"
      },
      "source": [
        "#### 광진구"
      ]
    },
    {
      "cell_type": "code",
      "metadata": {
        "id": "LDnTviSX7c-c"
      },
      "source": [
        "광진구노룬산=pd.read_excel('/content/광진구 노룬산골목시장 가격데이터.xlsx')\n",
        "len(광진구노룬산)"
      ],
      "execution_count": null,
      "outputs": []
    },
    {
      "cell_type": "code",
      "metadata": {
        "id": "iz0oqwkw7pl8"
      },
      "source": [
        "광진구자양골목=pd.read_excel('/content/광진구 자양골목시장 가격 데이터.xlsx')\n",
        "len(광진구자양골목)"
      ],
      "execution_count": null,
      "outputs": []
    },
    {
      "cell_type": "code",
      "metadata": {
        "id": "i-dGlqOK7v6k"
      },
      "source": [
        "광진구시장가격데이터=pd.concat([광진구노룬산,광진구자양골목],axis=0)"
      ],
      "execution_count": null,
      "outputs": []
    },
    {
      "cell_type": "code",
      "metadata": {
        "id": "8Fk5xTuh72pE"
      },
      "source": [
        "광진구시장가격데이터.to_excel('광진구시장가격데이터.xlsx',index=False)"
      ],
      "execution_count": null,
      "outputs": []
    },
    {
      "cell_type": "markdown",
      "metadata": {
        "id": "S7_GJOeX77nJ"
      },
      "source": [
        "#### 구로구"
      ]
    },
    {
      "cell_type": "code",
      "metadata": {
        "id": "e5MWzQS579XX"
      },
      "source": [
        "구로구고척근린=pd.read_excel('/content/구로구 고척근린시장 가격 데이터.xlsx')\n",
        "len(구로구고척근린)"
      ],
      "execution_count": null,
      "outputs": []
    },
    {
      "cell_type": "code",
      "metadata": {
        "id": "TPFJaYlr8DGA"
      },
      "source": [
        "구로구남구로=pd.read_excel('/content/구로구 남구로시장 가격데이터.xlsx')\n",
        "len(구로구남구로)"
      ],
      "execution_count": null,
      "outputs": []
    },
    {
      "cell_type": "code",
      "metadata": {
        "id": "b3zJ5muI8IVj"
      },
      "source": [
        "구로구시장가격데이터=pd.concat([구로구고척근린,구로구남구로],axis=0)"
      ],
      "execution_count": null,
      "outputs": []
    },
    {
      "cell_type": "code",
      "metadata": {
        "id": "116lTqAn8PPv"
      },
      "source": [
        "구로구시장가격데이터.to_excel('구로구시장가격데이터.xlsx',index=False)"
      ],
      "execution_count": null,
      "outputs": []
    },
    {
      "cell_type": "markdown",
      "metadata": {
        "id": "7i4tXOVe8V2s"
      },
      "source": [
        "#### 금천구"
      ]
    },
    {
      "cell_type": "code",
      "metadata": {
        "id": "qqIgzYy98SQp"
      },
      "source": [
        "금천구남문=pd.read_excel('/content/금천구 남문시장 가격데이터.xlsx')\n",
        "len(금천구남문)"
      ],
      "execution_count": null,
      "outputs": []
    },
    {
      "cell_type": "code",
      "metadata": {
        "id": "x8GxTUlk8dFl"
      },
      "source": [
        "금천구현대=pd.read_excel('/content/금천구 현대시장 가격데이터.xlsx')\n",
        "len(금천구현대)"
      ],
      "execution_count": null,
      "outputs": []
    },
    {
      "cell_type": "code",
      "metadata": {
        "id": "8PzAcLK_8jQS"
      },
      "source": [
        "금천구시장가격데이터=pd.concat([금천구남문,금천구현대],axis=0)"
      ],
      "execution_count": null,
      "outputs": []
    },
    {
      "cell_type": "code",
      "metadata": {
        "id": "1R9ylQ9N8onJ"
      },
      "source": [
        "금천구시장가격데이터.to_excel('금천구시장가격데이터.xlsx',index=False)"
      ],
      "execution_count": null,
      "outputs": []
    },
    {
      "cell_type": "markdown",
      "metadata": {
        "id": "XSQT6SmO8vxg"
      },
      "source": [
        "#### 동대문구"
      ]
    },
    {
      "cell_type": "code",
      "metadata": {
        "id": "_UHpTovj8shl"
      },
      "source": [
        "동대문구경동=pd.read_excel('/content/동대문구 경동시장 가격 데이터.xlsx')\n",
        "len(동대문구경동)"
      ],
      "execution_count": null,
      "outputs": []
    },
    {
      "cell_type": "code",
      "metadata": {
        "id": "UmvfbyGo82-b"
      },
      "source": [
        "동대문구청량리=pd.read_excel('/content/동대문구 청량리종합시장 가격데이터.xlsx')\n",
        "len(동대문구청량리)"
      ],
      "execution_count": null,
      "outputs": []
    },
    {
      "cell_type": "code",
      "metadata": {
        "id": "hKjtPOH-88gP"
      },
      "source": [
        "동대문구시장가격데이터=pd.concat([동대문구경동,동대문구청량리],axis=0)"
      ],
      "execution_count": null,
      "outputs": []
    },
    {
      "cell_type": "code",
      "metadata": {
        "id": "TtqMrFwJ9Bno"
      },
      "source": [
        "동대문구시장가격데이터.to_excel('동대문구시장가격데이터.xlsx',index=False)"
      ],
      "execution_count": null,
      "outputs": []
    },
    {
      "cell_type": "markdown",
      "metadata": {
        "id": "dUtc7G-W9IsV"
      },
      "source": [
        "#### 동작구"
      ]
    },
    {
      "cell_type": "code",
      "metadata": {
        "id": "WAlMvmD09Fae"
      },
      "source": [
        "동작구남성=pd.read_excel('/content/동작구 남성시장 가격데이터.xlsx')\n",
        "len(동작구남성)"
      ],
      "execution_count": null,
      "outputs": []
    },
    {
      "cell_type": "code",
      "metadata": {
        "id": "fPSR0VSm9Pf-"
      },
      "source": [
        "동작구남성.to_excel('동작구시장가격데이터.xlsx',index=False)"
      ],
      "execution_count": null,
      "outputs": []
    },
    {
      "cell_type": "markdown",
      "metadata": {
        "id": "CD7RAJ3s9XzS"
      },
      "source": [
        "#### 마포구"
      ]
    },
    {
      "cell_type": "code",
      "metadata": {
        "id": "Qk2bznFl9VUZ"
      },
      "source": [
        "마포구마포농산=pd.read_excel('/content/마포구 마포농산물시장.xlsx')\n",
        "len(마포구마포농산)"
      ],
      "execution_count": null,
      "outputs": []
    },
    {
      "cell_type": "code",
      "metadata": {
        "id": "N2_FZmDO9g0a"
      },
      "source": [
        "마포구망원=pd.read_excel('/content/마포구 망원시장 가격 데이터.xlsx')\n",
        "len(마포구망원)"
      ],
      "execution_count": null,
      "outputs": []
    },
    {
      "cell_type": "code",
      "metadata": {
        "id": "quorwCz99lXr"
      },
      "source": [
        "마포구시장가격데이터=pd.concat([마포구마포농산,마포구망원],axis=0)"
      ],
      "execution_count": null,
      "outputs": []
    },
    {
      "cell_type": "code",
      "metadata": {
        "id": "IwDrGmGI9sIn"
      },
      "source": [
        "마포구시장가격데이터.to_excel('마포구시장가격데이터.xlsx',index=False)"
      ],
      "execution_count": null,
      "outputs": []
    },
    {
      "cell_type": "markdown",
      "metadata": {
        "id": "5K26OnRZ9wYN"
      },
      "source": [
        "#### 서초구"
      ]
    },
    {
      "cell_type": "code",
      "metadata": {
        "id": "IcVPWgnL9ujg"
      },
      "source": [
        "서초구방림시장=pd.read_excel('/content/서초구 방림시장 가격데이터.xlsx')\n",
        "len(서초구방림시장)"
      ],
      "execution_count": null,
      "outputs": []
    },
    {
      "cell_type": "code",
      "metadata": {
        "id": "93MUa9QV96yo"
      },
      "source": [
        "서초구방림시장.to_excel('서초구시장가격데이터.xlsx',index=False)"
      ],
      "execution_count": null,
      "outputs": []
    },
    {
      "cell_type": "markdown",
      "metadata": {
        "id": "Cq73voSl9_al"
      },
      "source": [
        "#### 성동구"
      ]
    },
    {
      "cell_type": "code",
      "metadata": {
        "id": "i_T-TZFQ9-PC"
      },
      "source": [
        "성동구금남=pd.read_excel('/content/성동구 금남시장 가격데이터.xlsx')\n",
        "len(성동구금남)"
      ],
      "execution_count": null,
      "outputs": []
    },
    {
      "cell_type": "code",
      "metadata": {
        "id": "8x-7Glsg-GOv"
      },
      "source": [
        "성동구뚝도=pd.read_excel('/content/성동구 뚝도시장 가격 데이터.xlsx')\n",
        "len(성동구뚝도)"
      ],
      "execution_count": null,
      "outputs": []
    },
    {
      "cell_type": "code",
      "metadata": {
        "id": "yLuaqpOe-K4Z"
      },
      "source": [
        "성동구시장가격데이터=pd.concat([성동구금남,성동구뚝도],axis=0)"
      ],
      "execution_count": null,
      "outputs": []
    },
    {
      "cell_type": "code",
      "metadata": {
        "id": "nOpOogji-QLK"
      },
      "source": [
        "성동구시장가격데이터.to_excel('성동구시장가격데이터.xlsx',index=False)"
      ],
      "execution_count": null,
      "outputs": []
    },
    {
      "cell_type": "markdown",
      "metadata": {
        "id": "b8kJF_U9-VD2"
      },
      "source": [
        "#### 송파구"
      ]
    },
    {
      "cell_type": "code",
      "metadata": {
        "id": "zTAo2THZ-XYa"
      },
      "source": [
        "송파구마천중앙=pd.read_excel('/content/송파구 마천중앙시장 가격 데이터.xlsx')\n",
        "len(송파구마천중앙)"
      ],
      "execution_count": null,
      "outputs": []
    },
    {
      "cell_type": "code",
      "metadata": {
        "id": "odx7K0DU-dwX"
      },
      "source": [
        "송파구마천중앙.to_excel('송파구시장가격데이터.xlsx',index=False)"
      ],
      "execution_count": null,
      "outputs": []
    },
    {
      "cell_type": "markdown",
      "metadata": {
        "id": "4YLTiKGv-lgx"
      },
      "source": [
        "#### 양천구"
      ]
    },
    {
      "cell_type": "code",
      "metadata": {
        "id": "4J67uMqG-jdq"
      },
      "source": [
        "양천구목3동=pd.read_excel('/content/양천구 목3동시장 가격 데이터.xlsx')\n",
        "len(양천구목3동)"
      ],
      "execution_count": null,
      "outputs": []
    },
    {
      "cell_type": "code",
      "metadata": {
        "id": "NWA49Ed6-syF"
      },
      "source": [
        "양천구목3동.to_excel('양천구시장가격데이터.xlsx',index=False)"
      ],
      "execution_count": null,
      "outputs": []
    },
    {
      "cell_type": "markdown",
      "metadata": {
        "id": "XWaTSKeV-zB6"
      },
      "source": [
        "#### 영등포구"
      ]
    },
    {
      "cell_type": "code",
      "metadata": {
        "id": "TO7JmqB1-xVG"
      },
      "source": [
        "영등포구대림중앙=pd.read_excel('/content/영등포구 대림중앙시장 가격 데이터.xlsx')\n",
        "len(영등포구대림중앙)"
      ],
      "execution_count": null,
      "outputs": []
    },
    {
      "cell_type": "code",
      "metadata": {
        "id": "ZJ-5_ekA-57x"
      },
      "source": [
        "영등포영등포전통=pd.read_excel('/content/영등포구 영등포전통시장 가격데이터.xlsx')\n",
        "len(영등포영등포전통)"
      ],
      "execution_count": null,
      "outputs": []
    },
    {
      "cell_type": "code",
      "metadata": {
        "id": "5W7bVHdI-_C3"
      },
      "source": [
        "영등포구시장가격데이터=pd.concat([영등포구대림중앙,영등포영등포전통],axis=0)"
      ],
      "execution_count": null,
      "outputs": []
    },
    {
      "cell_type": "code",
      "metadata": {
        "id": "KhgCSzGW_D1K"
      },
      "source": [
        "영등포구시장가격데이터.to_excel('영등포구시장가격데이터.xlsx',index=False)"
      ],
      "execution_count": null,
      "outputs": []
    },
    {
      "cell_type": "markdown",
      "metadata": {
        "id": "kd65QJmU_KCW"
      },
      "source": [
        "#### 용산구"
      ]
    },
    {
      "cell_type": "code",
      "metadata": {
        "id": "IDp3Oz3s_IcK"
      },
      "source": [
        "용산구용문=pd.read_excel('/content/용산구 용문시장 가격 데이터.xlsx')\n",
        "len(용산구용문)"
      ],
      "execution_count": null,
      "outputs": []
    },
    {
      "cell_type": "code",
      "metadata": {
        "id": "RgJqataL_QXX"
      },
      "source": [
        "용산구후암=pd.read_excel('/content/용산구 후암시장 가격데이터.xlsx')\n",
        "len(용산구후암)"
      ],
      "execution_count": null,
      "outputs": []
    },
    {
      "cell_type": "code",
      "metadata": {
        "id": "SszUr7lI_UyR"
      },
      "source": [
        "용산구시장가격데이터=pd.concat([용산구용문,용산구후암],axis=0)"
      ],
      "execution_count": null,
      "outputs": []
    },
    {
      "cell_type": "code",
      "metadata": {
        "id": "4EgdpCqO_Zv5"
      },
      "source": [
        "용산구시장가격데이터.to_excel('용산구시장가격데이터.xlsx',index=False)"
      ],
      "execution_count": null,
      "outputs": []
    },
    {
      "cell_type": "markdown",
      "metadata": {
        "id": "f_j6ALY2_dvt"
      },
      "source": [
        "#### 중구"
      ]
    },
    {
      "cell_type": "code",
      "metadata": {
        "id": "_rDLPjvQrw71"
      },
      "source": [
        ""
      ],
      "execution_count": null,
      "outputs": []
    },
    {
      "cell_type": "code",
      "metadata": {
        "id": "5tBOv2zH_cJZ"
      },
      "source": [
        "중구남대문=pd.read_excel('/content/중구 남대문시장 가격데이터.xlsx')\n",
        "len(중구남대문)"
      ],
      "execution_count": null,
      "outputs": []
    },
    {
      "cell_type": "code",
      "metadata": {
        "id": "-2NsuGTa_kWu"
      },
      "source": [
        "중구서울중앙=pd.read_excel('/content/중구 서울중앙시장 가격 데이터.xlsx')\n",
        "len(중구서울중앙)"
      ],
      "execution_count": null,
      "outputs": []
    },
    {
      "cell_type": "code",
      "metadata": {
        "id": "W8_I_uIO_p-w"
      },
      "source": [
        "중구시장가격데이터=pd.concat([중구남대문,중구서울중앙],axis=0)"
      ],
      "execution_count": null,
      "outputs": []
    },
    {
      "cell_type": "code",
      "metadata": {
        "id": "8IvRzlCa_uWO"
      },
      "source": [
        "중구시장가격데이터.to_excel('중구시장가격데이터.xlsx',index=False)"
      ],
      "execution_count": null,
      "outputs": []
    },
    {
      "cell_type": "code",
      "metadata": {
        "id": "zFlTuHGj_yYb"
      },
      "source": [
        "pd.read_excel('/content/중구시장가격데이터.xlsx')"
      ],
      "execution_count": null,
      "outputs": []
    },
    {
      "cell_type": "code",
      "metadata": {
        "id": "OMhj_mySCa97"
      },
      "source": [
        ""
      ],
      "execution_count": null,
      "outputs": []
    },
    {
      "cell_type": "code",
      "metadata": {
        "id": "CNWMNkDqrx5t"
      },
      "source": [
        "# 강남시장 가격데이터\n",
        "강남시장가격데이터=pd.read_excel('/content/강남시장가격데이터.xlsx')\n",
        "강남시장가격데이터.head()"
      ],
      "execution_count": null,
      "outputs": []
    },
    {
      "cell_type": "code",
      "metadata": {
        "id": "98_Lswyzr3EQ"
      },
      "source": [
        "# 특정 컬럼만 뽑아오기\n",
        "강남시장오이다다기=강남시장가격데이터[강남시장가격데이터['품목']=='오이(다다기)']\n",
        "강남시장오이다다기.head()"
      ],
      "execution_count": null,
      "outputs": []
    },
    {
      "cell_type": "code",
      "metadata": {
        "id": "8OfT4az80SoT"
      },
      "source": [
        "강남시장오이다다기.describe"
      ],
      "execution_count": null,
      "outputs": []
    },
    {
      "cell_type": "code",
      "metadata": {
        "id": "vu10JJgLsmD_"
      },
      "source": [
        "len(강남시장오이다다기)"
      ],
      "execution_count": null,
      "outputs": []
    },
    {
      "cell_type": "code",
      "metadata": {
        "id": "rUeFrsP5ueAR"
      },
      "source": [
        "강남시장오이다다기.info()"
      ],
      "execution_count": null,
      "outputs": []
    },
    {
      "cell_type": "code",
      "metadata": {
        "id": "64j-WiD8T2sG"
      },
      "source": [
        "강남시장오이다다기.info"
      ],
      "execution_count": null,
      "outputs": []
    },
    {
      "cell_type": "code",
      "metadata": {
        "id": "zyf93AI218PO"
      },
      "source": [
        "# 인데스를 조사일로 지정\n",
        "\n",
        "#강남시장오이다다기=강남시장오이다다기.set_index('조사일')\n",
        "#강남시장오이다다기.head()\n",
        "\n",
        "\n",
        "강남시장오이다다기=강남시장오이다다기.reset_index('조사일')\n",
        "강남시장오이다다기.head()"
      ],
      "execution_count": null,
      "outputs": []
    },
    {
      "cell_type": "code",
      "metadata": {
        "id": "rWiAWG1BVmLk"
      },
      "source": [
        "강남시장오이다다기2017=강남시장오이다다기[강남시장오이다다기['조사일'].isin(pd.date_range('2017-01-01', '2017-12-31'))]\n",
        "강남시장오이다다기2017.head()"
      ],
      "execution_count": null,
      "outputs": []
    },
    {
      "cell_type": "code",
      "metadata": {
        "id": "P7Z3z1AiWp1d"
      },
      "source": [
        "강남시장오이다다기2017=강남시장오이다다기2017.set_index('조사일')\n",
        "강남시장오이다다기2017.head()"
      ],
      "execution_count": null,
      "outputs": []
    },
    {
      "cell_type": "code",
      "metadata": {
        "id": "33B4m-pyvoP9"
      },
      "source": [
        "강남시장오이다다기2017['가격'].plot(title = '2017시장오이가격변동')"
      ],
      "execution_count": null,
      "outputs": []
    },
    {
      "cell_type": "code",
      "metadata": {
        "id": "HYGhlBJTu8EU"
      },
      "source": [
        "sns.boxplot(x = \"가격\", orient = \"v\", data = 강남시장오이다다기)\n",
        "\n",
        "plt.show()"
      ],
      "execution_count": null,
      "outputs": []
    },
    {
      "cell_type": "code",
      "metadata": {
        "id": "1MiPRJIUXPlS"
      },
      "source": [
        "강남시장가격데이터.head()"
      ],
      "execution_count": null,
      "outputs": []
    },
    {
      "cell_type": "code",
      "metadata": {
        "id": "NsDLlnfpZx42"
      },
      "source": [
        "#year 변수 추가\n",
        "강남시장가격데이터['year'] = pd.DatetimeIndex(강남시장가격데이터['조사일']).year"
      ],
      "execution_count": null,
      "outputs": []
    },
    {
      "cell_type": "code",
      "metadata": {
        "id": "w4LY5cyuaC3U"
      },
      "source": [
        "강남시장가격데이터.tail()"
      ],
      "execution_count": null,
      "outputs": []
    },
    {
      "cell_type": "code",
      "metadata": {
        "id": "mjaRQnwFaUeM"
      },
      "source": [
        "# 특정 컬럼만 뽑아오기\n",
        "강남시장오이=강남시장가격데이터[강남시장가격데이터['품목']=='오이(다다기)']\n",
        "강남시장오이.head()"
      ],
      "execution_count": null,
      "outputs": []
    },
    {
      "cell_type": "code",
      "metadata": {
        "id": "knlBGj33aFRY"
      },
      "source": [
        "sns.boxplot(x = 'year', y = \"가격\", palette = \"muted\", data = 강남시장오이)\n",
        "plt.show()"
      ],
      "execution_count": null,
      "outputs": []
    },
    {
      "cell_type": "markdown",
      "metadata": {
        "id": "qvwMR3kPj_4J"
      },
      "source": [
        "# 2020년 11월 17일"
      ]
    },
    {
      "cell_type": "code",
      "metadata": {
        "id": "60doQgVUmu_n"
      },
      "source": [
        "from google.colab import files\n",
        "uploaded=files.upload()"
      ],
      "execution_count": null,
      "outputs": []
    },
    {
      "cell_type": "code",
      "metadata": {
        "id": "D-fPfwbvoNUj"
      },
      "source": [
        "import pandas as pd\n",
        "import numpy as np\n",
        "import glob\n",
        "import sys\n",
        "from openpyxl import load_workbook\n",
        "import xlsxwriter\n",
        "import matplotlib.pyplot as plt\n",
        "import seaborn as sns\n",
        "\n",
        "%matplotlib inline"
      ],
      "execution_count": null,
      "outputs": []
    },
    {
      "cell_type": "code",
      "metadata": {
        "id": "WP5QXb-vkOwm"
      },
      "source": [
        "강남시징통합=pd.read_excel('/content/강남시장마트통합.xlsx')\n",
        "강동시장통합=pd.read_excel('/content/강동시장마트통합.xlsx')\n",
        "광진시장통합=pd.read_excel('/content/광진시장마트통합.xlsx')\n",
        "마포시장통합=pd.read_excel('/content/마포시장마트통합.xlsx')\n",
        "성동시장통합=pd.read_excel('/content/성동시장마트통합.xlsx')\n",
        "송파시장통합=pd.read_excel('/content/송파시장마트통합.xlsx')\n",
        "용산시장통합=pd.read_excel('/content/용산시장마트통합.xlsx')\n",
        "중구시장통합=pd.read_excel('/content/중구시장마트통합.xlsx')"
      ],
      "execution_count": null,
      "outputs": []
    },
    {
      "cell_type": "code",
      "metadata": {
        "id": "TBfMKqtemv8_"
      },
      "source": [
        "민경=pd.concat([강남시징통합,강동시장통합,광진시장통합,마포시장통합,성동시장통합,송파시장통합,용산시장통합,중구시장통합],axis=0)"
      ],
      "execution_count": null,
      "outputs": []
    },
    {
      "cell_type": "code",
      "metadata": {
        "id": "tnOuP_hJmntH"
      },
      "source": [
        "민경.to_excel('민경.xlsx',index=False)"
      ],
      "execution_count": null,
      "outputs": []
    },
    {
      "cell_type": "code",
      "metadata": {
        "id": "n57LOPgJocR1"
      },
      "source": [
        "민경=pd.read_excel('/content/민경.xlsx')\n",
        "민경.head()"
      ],
      "execution_count": null,
      "outputs": []
    },
    {
      "cell_type": "code",
      "metadata": {
        "id": "fqWhvzJjBGir"
      },
      "source": [
        "import warnings\n",
        "import itertools # 반복 가능한 데이터 스트림을 처리하는 데 유용한 많은 함수와 제네레이터가 포함\n",
        "import numpy as np\n",
        "import matplotlib.pyplot as plt\n",
        "warnings.filterwarnings(\"ignore\")\n",
        "plt.style.use('fivethirtyeight')\n",
        "import pandas as pd\n",
        "import statsmodels.api as sm #통계분석 기능을 제공하는 파이썬 패키지\n",
        "import matplotlib\n",
        "\n",
        "#차트 기본 크기 설정\n",
        "matplotlib.rcParams['axes.labelsize'] = 14\n",
        "matplotlib.rcParams['xtick.labelsize'] = 12\n",
        "matplotlib.rcParams['ytick.labelsize'] = 12\n",
        "matplotlib.rcParams['text.color'] = 'k'"
      ],
      "execution_count": null,
      "outputs": []
    },
    {
      "cell_type": "code",
      "metadata": {
        "id": "oX4HEp15BKQz"
      },
      "source": [
        "강남_오이= 민경.loc[민경['품목'] == '오이(다다기)']\n",
        "강남_오이.head()"
      ],
      "execution_count": null,
      "outputs": []
    },
    {
      "cell_type": "code",
      "metadata": {
        "id": "YvTL6q2LBXSR"
      },
      "source": [
        "강남_오이=강남_오이.loc[강남_오이['지역구']=='강남구']\n",
        "강남_오이.head()"
      ],
      "execution_count": null,
      "outputs": []
    },
    {
      "cell_type": "code",
      "metadata": {
        "id": "wzeFPmf1Bn97"
      },
      "source": [
        "강남_오이_시장=강남_오이.loc[강남_오이['장소']=='도곡시장']\n",
        "강남_오이_시장.head()"
      ],
      "execution_count": null,
      "outputs": []
    },
    {
      "cell_type": "code",
      "metadata": {
        "id": "TdaxOt6MCHKa"
      },
      "source": [
        "강남_오이_시장['조사일'].min(), 강남_오이_시장['조사일'].max()"
      ],
      "execution_count": null,
      "outputs": []
    },
    {
      "cell_type": "code",
      "metadata": {
        "id": "uy5cwx9VCRU4"
      },
      "source": [
        "#필요없는 열 제거\n",
        "cols = ['단위', '비고', '지역구', '장소']\n",
        "강남_오이_시장.drop(cols, axis=1, inplace=True)"
      ],
      "execution_count": null,
      "outputs": []
    },
    {
      "cell_type": "code",
      "metadata": {
        "id": "LPnzLQv7ChAK"
      },
      "source": [
        "강남_오이_시장.head()"
      ],
      "execution_count": null,
      "outputs": []
    },
    {
      "cell_type": "code",
      "metadata": {
        "id": "iLTCv8QVCkvH"
      },
      "source": [
        "강남_오이_시장.isnull().sum()"
      ],
      "execution_count": null,
      "outputs": []
    },
    {
      "cell_type": "code",
      "metadata": {
        "id": "1rO4sMjoCoZR"
      },
      "source": [
        "#강남_오이_시장 = 강남_오이_시장.set_index('조사일')\n",
        "#강남_오이_시장.head()"
      ],
      "execution_count": null,
      "outputs": []
    },
    {
      "cell_type": "code",
      "metadata": {
        "id": "KX4M25E6evhV"
      },
      "source": [
        "강남_오이_시장.head()"
      ],
      "execution_count": null,
      "outputs": []
    },
    {
      "cell_type": "code",
      "metadata": {
        "id": "_JEPUPe4eyUI"
      },
      "source": [
        "강남_오이_시장.plot(figsize = (15,6))\n",
        "plt.show()"
      ],
      "execution_count": null,
      "outputs": []
    },
    {
      "cell_type": "code",
      "metadata": {
        "id": "FaQMtOgOCx-W"
      },
      "source": [
        "#MS는인덱스는 해당 월의 마지막 일자로 표시를 시작일로 변경\n",
        "y = 강남_오이_시장['가격'].resample('MS').mean()"
      ],
      "execution_count": null,
      "outputs": []
    },
    {
      "cell_type": "code",
      "metadata": {
        "id": "Bn6yCbzWDPsU"
      },
      "source": [
        "#2017년 가격\n",
        "y['2017':]"
      ],
      "execution_count": null,
      "outputs": []
    },
    {
      "cell_type": "code",
      "metadata": {
        "id": "Q5CtT57fDR-7"
      },
      "source": [
        "y.plot(figsize = (15,6))\n",
        "plt.show()"
      ],
      "execution_count": null,
      "outputs": []
    },
    {
      "cell_type": "code",
      "metadata": {
        "id": "8O6zSbuDDYZa"
      },
      "source": [
        "#차트 기본 크기 설정\n",
        "from pylab import rcParams\n",
        "rcParams['figure.figsize'] = 18, 8"
      ],
      "execution_count": null,
      "outputs": []
    },
    {
      "cell_type": "code",
      "metadata": {
        "id": "EiZXdv01Dg23"
      },
      "source": [
        "decomposition = sm.tsa.seasonal_decompose(y, model='additive')\n",
        "fig = decomposition.plot()\n",
        "plt.show()"
      ],
      "execution_count": null,
      "outputs": []
    },
    {
      "cell_type": "code",
      "metadata": {
        "id": "PSsgMd82DiHx"
      },
      "source": [
        "# --------------------------------------------------------"
      ],
      "execution_count": null,
      "outputs": []
    },
    {
      "cell_type": "code",
      "metadata": {
        "id": "cheuHKYOoOT6"
      },
      "source": [
        "import pandas as pd\n",
        "import numpy as np\n",
        "import glob\n",
        "import sys\n",
        "from openpyxl import load_workbook\n",
        "import xlsxwriter\n",
        "import matplotlib.pyplot as plt\n",
        "import seaborn as sns\n",
        "\n",
        "%matplotlib inline"
      ],
      "execution_count": null,
      "outputs": []
    },
    {
      "cell_type": "code",
      "metadata": {
        "id": "vetcLGbTzxsl"
      },
      "source": [
        "from google.colab import files\n",
        "uploaded=files.upload()"
      ],
      "execution_count": null,
      "outputs": []
    },
    {
      "cell_type": "code",
      "metadata": {
        "id": "nCapoB8gz-TH"
      },
      "source": [
        "서울전역시장마트데이터=pd.read_excel('/content/서울전역시장마트데이터(구분포함,23월포함).xlsx')\n",
        "서울전역시장마트데이터.head()"
      ],
      "execution_count": null,
      "outputs": []
    },
    {
      "cell_type": "code",
      "metadata": {
        "id": "0sd2ayN60Cgu"
      },
      "source": [
        "서울전역시장마트데이터.info()"
      ],
      "execution_count": null,
      "outputs": []
    },
    {
      "cell_type": "code",
      "metadata": {
        "id": "RbzvAfs10J1v"
      },
      "source": [
        "# 특정 컬럼만 뽑아오기\n",
        "강남구시장오이=서울전역시장마트데이터[(서울전역시장마트데이터['품목']=='오이')&(서울전역시장마트데이터['지역구']=='강남구')&(서울전역시장마트데이터['구분']=='시장')]\n",
        "강남구시장오이.head()"
      ],
      "execution_count": null,
      "outputs": []
    },
    {
      "cell_type": "code",
      "metadata": {
        "id": "dlC29GyhfR9Q"
      },
      "source": [
        "#필요없는 열 제거\n",
        "cols = ['단위', '품목','비고', '지역구', '장소','구분']\n",
        "강남구시장오이.drop(cols, axis=1, inplace=True)\n",
        "#강남구시장오이.head()\n",
        "강남구시장오이 = 강남구시장오이.set_index('조사일')\n",
        "\n",
        "#MS는인덱스는 해당 월의 마지막 일자로 표시를 시작일로 변경\n",
        "강남구시장오이 = 강남구시장오이['가격'].resample('MS').mean()"
      ],
      "execution_count": null,
      "outputs": []
    },
    {
      "cell_type": "code",
      "metadata": {
        "id": "YfAtHtvJMeNU"
      },
      "source": [
        "강남구마트오이=서울전역시장마트데이터[(서울전역시장마트데이터['품목']=='오이')&(서울전역시장마트데이터['지역구']=='강남구')&(서울전역시장마트데이터['구분']=='마트')]\n",
        "강남구마트오이.head()"
      ],
      "execution_count": null,
      "outputs": []
    },
    {
      "cell_type": "code",
      "metadata": {
        "id": "l8lpuvZB0eXQ"
      },
      "source": [
        "#필요없는 열 제거\n",
        "cols = ['단위', '품목','비고', '지역구', '장소','구분']\n",
        "강남구마트오이.drop(cols, axis=1, inplace=True)\n",
        "#강남구마트오이.head()\n",
        "강남구마트오이 = 강남구마트오이.set_index('조사일')\n",
        "\n",
        "#MS는인덱스는 해당 월의 마지막 일자로 표시를 시작일로 변경\n",
        "강남구마트오이 = 강남구마트오이['가격'].resample('MS').mean()"
      ],
      "execution_count": null,
      "outputs": []
    },
    {
      "cell_type": "code",
      "metadata": {
        "id": "gdVde2MMgN3D"
      },
      "source": [
        "서울오이=서울전역시장마트데이터[(서울전역시장마트데이터['품목']=='오이')]\n",
        "서울오이.head()\n",
        "len(서울오이)"
      ],
      "execution_count": null,
      "outputs": []
    },
    {
      "cell_type": "code",
      "metadata": {
        "id": "9IDCJYoUge95"
      },
      "source": [
        "#필요없는 열 제거\n",
        "cols = ['단위', '품목','비고', '지역구', '장소','구분']\n",
        "서울오이.drop(cols, axis=1, inplace=True)\n",
        "#강남구마트오이.head()\n",
        "서울오이 = 서울오이.set_index('조사일')\n",
        "\n",
        "#MS는인덱스는 해당 월의 마지막 일자로 표시를 시작일로 변경\n",
        "서울오이 = 서울오이['가격'].resample('MS').mean()"
      ],
      "execution_count": null,
      "outputs": []
    },
    {
      "cell_type": "code",
      "metadata": {
        "id": "lhGXstCxgmE5"
      },
      "source": [
        "서울오이.head()"
      ],
      "execution_count": null,
      "outputs": []
    },
    {
      "cell_type": "code",
      "metadata": {
        "id": "qpXSRwjSgagA"
      },
      "source": [
        "강남오이= pd.concat([강남구시장오이,강남구마트오이,서울오이], axis=1)\n",
        "강남오이.columns = ['강남구시장오이가격', '강남구마트오이가격','서울오이평균가격']\n",
        "강남오이.head()"
      ],
      "execution_count": null,
      "outputs": []
    },
    {
      "cell_type": "code",
      "metadata": {
        "id": "aLiJyZPVmagI"
      },
      "source": [
        "강남오이.plot(figsize = (15,6),grid=True,title='최근 4년 오이가격 변동현황')\n",
        "plt.show()"
      ],
      "execution_count": null,
      "outputs": []
    },
    {
      "cell_type": "code",
      "metadata": {
        "id": "1mEWOdKf8sB6"
      },
      "source": [
        "# 코랩 한글깨짐 설정\n",
        "import matplotlib as mpl\n",
        "import matplotlib.pyplot as plt\n",
        " \n",
        "%config InlineBackend.figure_format = 'retina'\n",
        " \n",
        "!apt -qq -y install fonts-nanum\n",
        " \n",
        "import matplotlib.font_manager as fm\n",
        "fontpath = '/usr/share/fonts/truetype/nanum/NanumBarunGothic.ttf'\n",
        "font = fm.FontProperties(fname=fontpath, size=9)\n",
        "plt.rc('font', family='NanumBarunGothic') \n",
        "mpl.font_manager._rebuild()"
      ],
      "execution_count": null,
      "outputs": []
    },
    {
      "cell_type": "code",
      "metadata": {
        "id": "npIWUBDMn_jJ"
      },
      "source": [
        "####################"
      ],
      "execution_count": null,
      "outputs": []
    },
    {
      "cell_type": "code",
      "metadata": {
        "id": "aCa_dXGZqLus"
      },
      "source": [
        "data=pd.read_excel('/content/서울전역시장마트데이터(구분포함,23월포함).xlsx')\n",
        "data.head()"
      ],
      "execution_count": null,
      "outputs": []
    },
    {
      "cell_type": "code",
      "metadata": {
        "id": "ewYAm_c-qTUm"
      },
      "source": [
        "def For_product(data1, data2, data3, product) :\n",
        "    cols = ['단위', '비고', '지역구', '장소','구분']\n",
        "    name = ['시장', '마트', '서울']\n",
        "  \n",
        "    test_i = data1[data1['품목']==product]\n",
        "    test_a = test_i.drop(cols, axis=1)\n",
        "    test_a = test_a.groupby('조사일')['가격'].mean().reset_index()\n",
        "    test_a = test_a.set_index('조사일')\n",
        "    y_test = test_a['가격'].resample('MS').mean()\n",
        "    y_test = y_test['2017' : ]\n",
        "    y = pd.DataFrame(y_test)\n",
        "\n",
        "    test_0_i = data2[data2['품목']==product]\n",
        "    test_0_a = test_0_i.drop(cols, axis=1)\n",
        "    test_0_a = test_0_a.groupby('조사일')['가격'].mean().reset_index()\n",
        "    test_0_a = test_0_a.set_index('조사일')\n",
        "    x_test = test_0_a['가격'].resample('MS').mean()\n",
        "    x_test=x_test['2017' :]\n",
        "    x = pd.DataFrame(x_test)\n",
        "    \n",
        "    seoul = data3[data3['품목']==product]\n",
        "    seoul = seoul.drop(cols, axis=1)\n",
        "    seoul = seoul.groupby('조사일')['가격'].mean().reset_index()\n",
        "    seoul = seoul.set_index('조사일')\n",
        "    seoul = seoul['가격'].resample('MS').mean()\n",
        "    seoul = seoul['2017' : ]\n",
        "    z = pd.DataFrame(seoul)\n",
        "\n",
        "    do_merge = y.merge(x,on='조사일').merge(z,on='조사일')\n",
        "    do_merge.columns = name\n",
        "    do_merge = do_merge.reset_index()\n",
        "#     do_merge = do_merge.set_index('조사일')\n",
        "#     print(do_merge)\n",
        "# do_merge = pd.merge(do_merge, z, left_on=do_merge.index, right_on=z.index)\n",
        "    \n",
        "   \n",
        "   \n",
        "    \n",
        " \n",
        "    \n",
        "# #     do_merge.columns = name\n",
        "    \n",
        "    return (do_merge, product)"
      ],
      "execution_count": null,
      "outputs": []
    },
    {
      "cell_type": "code",
      "metadata": {
        "id": "3uqPhQfyqmgI"
      },
      "source": [
        "def ForAllProduct(data, district):\n",
        "    test_market = data[(data['지역구']==district)&(data['구분']=='시장')]\n",
        "    test_outlet = data[(data['지역구']==district)&(data['구분']=='마트')]\n",
        "    seoul = data[(data['지역구']==district)]\n",
        "    test_list = test_market['품목'].unique()\n",
        "    print(test_list)\n",
        "\n",
        "    if len(test_list) == 5:\n",
        "        (test01, product1) = For_product(test_market, test_outlet, seoul, test_list[0])\n",
        "        (test02, product2) = For_product(test_market, test_outlet, seoul, test_list[1])\n",
        "        (test03, product3) = For_product(test_market, test_outlet, seoul, test_list[2])\n",
        "        (test04, product4) = For_product(test_market, test_outlet, seoul, test_list[3])\n",
        "        (test05, product5) = For_product(test_market, test_outlet, seoul, test_list[4])\n",
        "        (test06, product6) = (\"There is Only 5 products exist\", \"Nothing\")\n",
        "    elif len(test_list) == 6:\n",
        "        (test01, product1) = For_product(test_market, test_outlet, seoul, test_list[0])\n",
        "        (test02, product2) = For_product(test_market, test_outlet, seoul, test_list[1])\n",
        "        (test03, product3) = For_product(test_market, test_outlet, seoul, test_list[2])\n",
        "        (test04, product4) = For_product(test_market, test_outlet, seoul, test_list[3])\n",
        "        (test05, product5) = For_product(test_market, test_outlet, seoul, test_list[4])\n",
        "        (test06, product6) = For_product(test_market, test_outlet, seoul, test_list[5])\n",
        "        \n",
        "    return test01, test02, test03, test04, test05, test06"
      ],
      "execution_count": null,
      "outputs": []
    },
    {
      "cell_type": "code",
      "metadata": {
        "id": "oz3B4vSnqqKL"
      },
      "source": [
        "금천구_배추, 금천구_무, 금천구_양파, 금천구_상추, 금천구_오이, test06= ForAllProduct(서울전역시장마트데이터, '금천구')"
      ],
      "execution_count": null,
      "outputs": []
    },
    {
      "cell_type": "code",
      "metadata": {
        "id": "ktbT5Jxaqw1k"
      },
      "source": [
        "금천구_배추"
      ],
      "execution_count": null,
      "outputs": []
    },
    {
      "cell_type": "code",
      "metadata": {
        "id": "e9y8oyLvroSK"
      },
      "source": [
        "from google.colab import files\n",
        "uploaded=files.upload()"
      ],
      "execution_count": null,
      "outputs": []
    },
    {
      "cell_type": "code",
      "metadata": {
        "id": "Z6G0lCQLeA6a"
      },
      "source": [
        "서울=pd.read_csv('/content/서울시 행정구역 시군구 정보 (좌표계_ WGS1984).csv',encoding = 'euc-kr')\n",
        "서울=서울[['시군구명_한글','위도','경도']]\n",
        "서울.set_index('시군구명_한글')\n",
        "서울.head()"
      ],
      "execution_count": null,
      "outputs": []
    },
    {
      "cell_type": "code",
      "metadata": {
        "id": "kGkxpJxugiWu"
      },
      "source": [
        "import folium as g"
      ],
      "execution_count": null,
      "outputs": []
    },
    {
      "cell_type": "code",
      "metadata": {
        "id": "sI8FYs92eQ0W"
      },
      "source": [
        "seoul_map=g.Map(location=[37.55,126.98],\n",
        "                tiles='Stamen Terrain',\n",
        "                zoom_start=12)\n",
        "\n",
        "for name,lat,lon in zip(서울.\t시군구명_한글, 서울.위도, 서울.경도):\n",
        "    g.Marker([lat, lon], \n",
        "             popup=name, \n",
        "             icon=g.Icon(color='red')).add_to(seoul_map)\n",
        "seoul_map"
      ],
      "execution_count": null,
      "outputs": []
    },
    {
      "cell_type": "code",
      "metadata": {
        "id": "dQTWAamkgdUx"
      },
      "source": [
        "서울배추=금천구_배추[['조사일','서울']]"
      ],
      "execution_count": null,
      "outputs": []
    },
    {
      "cell_type": "code",
      "metadata": {
        "id": "FY6VS-eYlthi"
      },
      "source": [
        ""
      ],
      "execution_count": null,
      "outputs": []
    }
  ]
}