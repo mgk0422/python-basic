{
  "nbformat": 4,
  "nbformat_minor": 0,
  "metadata": {
    "colab": {
      "name": "crawling_sele_music",
      "private_outputs": true,
      "provenance": [],
      "authorship_tag": "ABX9TyObKa0aTnYEou8p/hMkd/ro",
      "include_colab_link": true
    },
    "kernelspec": {
      "name": "python3",
      "display_name": "Python 3"
    }
  },
  "cells": [
    {
      "cell_type": "markdown",
      "metadata": {
        "id": "view-in-github",
        "colab_type": "text"
      },
      "source": [
        "<a href=\"https://colab.research.google.com/github/mgk0422/python-basic/blob/master/crawling_sele_music.ipynb\" target=\"_parent\"><img src=\"https://colab.research.google.com/assets/colab-badge.svg\" alt=\"Open In Colab\"/></a>"
      ]
    },
    {
      "cell_type": "code",
      "metadata": {
        "id": "2X9_n8OcpP8A"
      },
      "source": [
        "!pip install selenium"
      ],
      "execution_count": null,
      "outputs": []
    },
    {
      "cell_type": "code",
      "metadata": {
        "id": "yw6fPY1ctnFR"
      },
      "source": [
        "!apt-get update\r\n",
        "!apt-get install chromium-chromedriver\r\n",
        "import os, subprocess\r\n",
        "import sys"
      ],
      "execution_count": null,
      "outputs": []
    },
    {
      "cell_type": "code",
      "metadata": {
        "id": "2UbraF6H860z"
      },
      "source": [
        "!pip install Selenium\r\n",
        "\r\n",
        "!apt-get update # to update ubuntu to correctly run apt install\r\n",
        "\r\n",
        "!apt install chromium-chromedriver"
      ],
      "execution_count": null,
      "outputs": []
    },
    {
      "cell_type": "code",
      "metadata": {
        "id": "uOhxDEF589lg"
      },
      "source": [
        "from selenium import webdriver\r\n",
        "chrome_options = webdriver.ChromeOptions()\r\n",
        "chrome_options.add_argument('--headless') #내부 창을 띄울 수 없으므로 설정\r\n",
        "chrome_options.add_argument('--no-sandbox')\r\n",
        "chrome_options.add_argument('--disable-dev-shm-usage')\r\n",
        "wd = webdriver.Chrome('chromedriver',chrome_options=chrome_options)\r\n",
        "wd.get(\"http://naver.com\")"
      ],
      "execution_count": null,
      "outputs": []
    },
    {
      "cell_type": "code",
      "metadata": {
        "id": "_V-KFKCZvso6"
      },
      "source": [
        "options = webdriver.ChromeOptions()\r\n",
        "options.add_argument('headless')  # headless를 주면 동작하는 모습을 볼 수 없음\r\n",
        "options.add_argument('--no-sandbox')\r\n",
        "options.add_argument('--disable-dev-shm-usage')\r\n",
        "options.add_argument('disable-gpu')\r\n",
        "options.add_argument('lang=ko_KR')\r\n",
        "driver = webdriver.Chrome('chromedriver', options=options)"
      ],
      "execution_count": null,
      "outputs": []
    },
    {
      "cell_type": "code",
      "metadata": {
        "id": "QRuz5YEUoGwU"
      },
      "source": [
        "url='https://www.melon.com/chart/index.htm'\r\n",
        "driver.get(url)\r\n",
        "\r\n",
        "from bs4 import BeautifulSoup\r\n",
        "html=driver.page_source\r\n",
        "soup=BeautifulSoup(html,'html.parser')\r\n",
        "songs=soup.find( class_ = 'ellipsis rank01' )\r\n",
        "cartoons = soup.findAll('td', attrs={'class':'title'})\r\n",
        "print(songs)"
      ],
      "execution_count": null,
      "outputs": []
    },
    {
      "cell_type": "code",
      "metadata": {
        "id": "Zq4UmeXxs13c"
      },
      "source": [
        ""
      ],
      "execution_count": null,
      "outputs": []
    }
  ]
}