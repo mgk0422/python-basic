{
  "nbformat": 4,
  "nbformat_minor": 0,
  "metadata": {
    "colab": {
      "name": "scikit-learn_titanic",
      "private_outputs": true,
      "provenance": [],
      "collapsed_sections": [],
      "authorship_tag": "ABX9TyPF4MiZKUSmcZp0SWJV21vX",
      "include_colab_link": true
    },
    "kernelspec": {
      "name": "python3",
      "display_name": "Python 3"
    }
  },
  "cells": [
    {
      "cell_type": "markdown",
      "metadata": {
        "id": "view-in-github",
        "colab_type": "text"
      },
      "source": [
        "<a href=\"https://colab.research.google.com/github/mgk0422/python-basic/blob/master/scikit_learn_titanic.ipynb\" target=\"_parent\"><img src=\"https://colab.research.google.com/assets/colab-badge.svg\" alt=\"Open In Colab\"/></a>"
      ]
    },
    {
      "cell_type": "code",
      "metadata": {
        "id": "a6GJriOxWcvI"
      },
      "source": [
        "import pandas as pd\n",
        "import numpy as np\n",
        "import glob\n",
        "import sys\n",
        "from openpyxl import load_workbook\n",
        "import matplotlib.pyplot as plt\n",
        "import seaborn as sns\n",
        "%matplotlib inline"
      ],
      "execution_count": null,
      "outputs": []
    },
    {
      "cell_type": "code",
      "metadata": {
        "id": "rlqMrpiqWeTD"
      },
      "source": [
        "# 코랩 한글깨짐 설정\n",
        "import matplotlib as mpl\n",
        "import matplotlib.pyplot as plt\n",
        " \n",
        "%config InlineBackend.figure_format = 'retina'\n",
        " \n",
        "!apt -qq -y install fonts-nanum\n",
        " \n",
        "import matplotlib.font_manager as fm\n",
        "fontpath = '/usr/share/fonts/truetype/nanum/NanumBarunGothic.ttf'\n",
        "font = fm.FontProperties(fname=fontpath, size=9)\n",
        "plt.rc('font', family='NanumBarunGothic') \n",
        "mpl.font_manager._rebuild()"
      ],
      "execution_count": null,
      "outputs": []
    },
    {
      "cell_type": "code",
      "metadata": {
        "id": "vDyKr9kdMufs"
      },
      "source": [
        "titanic_df=pd.read_excel('/content/sample_data/titanic_train.xlsx')\r\n",
        "titanic_df"
      ],
      "execution_count": null,
      "outputs": []
    },
    {
      "cell_type": "code",
      "metadata": {
        "id": "nfqBWJDbNP59"
      },
      "source": [
        "# 데이터 정보\r\n",
        "print('###### titanic 정보 ######')\r\n",
        "print(titanic_df.info())"
      ],
      "execution_count": null,
      "outputs": []
    },
    {
      "cell_type": "code",
      "metadata": {
        "id": "Z-usOFmONte1"
      },
      "source": [
        "# DataFrame의 fiina() 함수를 이용해 간단하게 Null 값을 평균 또는 고정값으로 정함\r\n",
        "# Age는 평균 값으로 대체 , Cabinm Embarked는 N으로 대체\r\n",
        "titanic_df['Age'].fillna(titanic_df['Age'].mean(),inplace=True)\r\n",
        "titanic_df['Cabin'].fillna('N',inplace=True)\r\n",
        "titanic_df['Embarked'].fillna('N',inplace=True)"
      ],
      "execution_count": null,
      "outputs": []
    },
    {
      "cell_type": "code",
      "metadata": {
        "id": "8uhigHaTO2Ns"
      },
      "source": [
        "print('데이터 세트의 Null 값 갯수',titanic_df.isnull().sum().sum())"
      ],
      "execution_count": null,
      "outputs": []
    },
    {
      "cell_type": "code",
      "metadata": {
        "id": "tFJkCtQZPBTs"
      },
      "source": [
        "titanic_df['Cabin']=titanic_df['Cabin'].str[:1]\r\n",
        "titanic_df['Cabin'].head()"
      ],
      "execution_count": null,
      "outputs": []
    },
    {
      "cell_type": "code",
      "metadata": {
        "id": "gdMlNo9_PY3p"
      },
      "source": [
        "# 성별이 생존확률에 어떠한 영향을 미쳤을까?\r\n",
        "titanic_df.groupby(['Sex','Survived'])['Survived'].count()"
      ],
      "execution_count": null,
      "outputs": []
    },
    {
      "cell_type": "code",
      "metadata": {
        "id": "ce9MKR9WP37d"
      },
      "source": [
        "sns.barplot(x='Sex',y='Survived',data=titanic_df)"
      ],
      "execution_count": null,
      "outputs": []
    },
    {
      "cell_type": "code",
      "metadata": {
        "id": "guYbTLhBQW-6"
      },
      "source": [
        "sns.barplot(x='Pclass',y='Survived',hue='Sex',data=titanic_df)"
      ],
      "execution_count": null,
      "outputs": []
    },
    {
      "cell_type": "code",
      "metadata": {
        "id": "XHuyFHwbQ2fO"
      },
      "source": [
        "# 입력 age에 따라 구분 값을 반환하는 함수 설정\r\n",
        "def get_category(age):\r\n",
        "    cat=''\r\n",
        "    if age<=-1:cat='UnKnown'\r\n",
        "    elif age<=5:cat='Baby'\r\n",
        "    elif age<=12:cat='Child'\r\n",
        "    elif age<=18:cat='Teenager'\r\n",
        "    elif age<=25:cat='Student'\r\n",
        "    elif age<=35:cat='Young Adult'\r\n",
        "    elif age<=68:cat='Adult'\r\n",
        "    else : cat='Elderly'\r\n",
        "    return cat\r\n",
        "\r\n",
        "plt.figure(figsize=(10,6))\r\n",
        "group_names=['UnKnown','Baby','Child','Teenager','Student','Young Adult','Adult','Elderly']\r\n",
        "\r\n",
        "titanic_df['Age_cat']=titanic_df['Age'].apply(lambda x : get_category(x))\r\n",
        "sns.barplot(x='Age_cat',y='Survived',hue='Sex',data=titanic_df,order=group_names)\r\n",
        "titanic_df.drop('Age_cat',axis=1,inplace=True)"
      ],
      "execution_count": null,
      "outputs": []
    },
    {
      "cell_type": "code",
      "metadata": {
        "id": "MRocrbjcSkWu"
      },
      "source": [
        "# 인코딩\r\n",
        "\r\n",
        "from sklearn import preprocessing\r\n",
        "\r\n",
        "def encode_features(dataDF):\r\n",
        "    features=['Cabin','Sex','Embarked']\r\n",
        "    for feature in features:\r\n",
        "        le=preprocessing.LabelEncoder()\r\n",
        "        le=le.fit(dataDF[feature])\r\n",
        "        dataDF[feature]=le.transform(dataDF[feature])\r\n",
        "\r\n",
        "    return dataDF\r\n",
        "\r\n",
        "titanic_df=encode_features(titanic_df)\r\n",
        "titanic_df.head()"
      ],
      "execution_count": null,
      "outputs": []
    },
    {
      "cell_type": "code",
      "metadata": {
        "id": "9E1WgYemUyhK"
      },
      "source": [
        "from sklearn.preprocessing import LabelEncoder\r\n",
        "\r\n",
        "# Null 처리함수\r\n",
        "def fillna(df):\r\n",
        "    df['Age'].fillna(df['Age'].mean(),inplace=True)\r\n",
        "    df['Cabin'].fillna('N',inplace=True)\r\n",
        "    df['Embarked'].fillna('N',inplace=True)\r\n",
        "    df['Fare'].fillna(0,inplace=True)\r\n",
        "    return df\r\n",
        "\r\n",
        "# 머신러닝 알고리즘에 불필요한 속성 제거\r\n",
        "def drop_fetures(df):\r\n",
        "    df.drop(['PassengerId','Name','Ticket'],axis=1,inplace=True)\r\n",
        "    return df\r\n",
        "\r\n",
        "# 레이블 인코딩 수행\r\n",
        "def format_features(df):\r\n",
        "    df['Cabin']=df['Cabin'].str[:1]\r\n",
        "    features=['Cabin','Sex','Embarked']\r\n",
        "    for feature in features:\r\n",
        "        le = LabelEncoder()\r\n",
        "        le = le.fit(df[feature])\r\n",
        "        df[feature]=le.transform(df[feature])\r\n",
        "    return df\r\n",
        "\r\n",
        "def transform_features(df):\r\n",
        "    df=fillna(df)\r\n",
        "    df=drop_fetures(df)\r\n",
        "    df=format_features(df)\r\n",
        "    return df"
      ],
      "execution_count": null,
      "outputs": []
    },
    {
      "cell_type": "code",
      "metadata": {
        "id": "yPjrXBR4YZX1"
      },
      "source": [
        "# 피처 데이터 세트와 레이블 데이터 세트 추출\r\n",
        "\r\n",
        "titanic_df=pd.read_excel('/content/sample_data/titanic_train.xlsx')\r\n",
        "y_titanic_df=titanic_df['Survived']\r\n",
        "X_titanic_df=titanic_df.drop('Survived',axis=1)\r\n",
        "\r\n",
        "X_titanic_df=transform_features(X_titanic_df)"
      ],
      "execution_count": null,
      "outputs": []
    },
    {
      "cell_type": "code",
      "metadata": {
        "id": "Cw0ljmOlZG56"
      },
      "source": [
        "from sklearn.model_selection import train_test_split\r\n",
        "X_train,X_test,y_train,y_test=train_test_split(X_titanic_df,y_titanic_df,test_size=0.2,random_state=11)"
      ],
      "execution_count": null,
      "outputs": []
    },
    {
      "cell_type": "code",
      "metadata": {
        "id": "F9KuESZPb5ft"
      },
      "source": [
        "from sklearn.tree import DecisionTreeClassifier\r\n",
        "from sklearn.ensemble import RandomForestClassifier\r\n",
        "from sklearn.linear_model import LogisticRegression\r\n",
        "from sklearn.metrics import accuracy_score"
      ],
      "execution_count": null,
      "outputs": []
    },
    {
      "cell_type": "code",
      "metadata": {
        "id": "_ykFRIEG5AD8"
      },
      "source": [
        "dt_clf=DecisionTreeClassifier(random_state=11)\r\n",
        "rf_clf=RandomForestClassifier(random_state=11)\r\n",
        "lr_clf=LogisticRegression()\r\n",
        "\r\n",
        "# DecisionTreeClassifier 학습/예측/평가\r\n",
        "dt_clf.fit(X_train,y_train)\r\n",
        "dt_pred=dt_clf.predict(X_test)\r\n",
        "print('DecisionTree 정확도:{0:4f}'.format(accuracy_score(y_test,dt_pred)))\r\n",
        "\r\n",
        "# RandomForestClassifier 학습/예측/평가\r\n",
        "rf_clf.fit(X_train,y_train)\r\n",
        "rf_pred=rf_clf.predict(X_test)\r\n",
        "print('RandomForest:{0:4f}'.format(accuracy_score(y_test,rf_pred)))\r\n",
        "\r\n",
        "# LogisticRegression 학습/예측/평가\r\n",
        "lr_clf.fit(X_train,y_train)\r\n",
        "lr_pred=lr_clf.predict(X_test)\r\n",
        "print('LogisticRegression 정확도:{0:4f}'.format(accuracy_score(y_test,lr_pred)))"
      ],
      "execution_count": null,
      "outputs": []
    },
    {
      "cell_type": "code",
      "metadata": {
        "id": "dYhLO1VI612t"
      },
      "source": [
        "from sklearn.model_selection import KFold\r\n",
        "\r\n",
        "def exec_kfold(clf,folds=5):\r\n",
        "    kfold=KFold(n_splits=folds)\r\n",
        "    scores=[]\r\n",
        "\r\n",
        "    #kfold 교차 검증 수행\r\n",
        "\r\n",
        "    for iter_count,(train_index,test_index) in enumerate(kfold.split(X_titanic_df)):\r\n",
        "        X_train,X_test=X_titanic_df.values[train_index],X_titanic_df.values[test_index]\r\n",
        "        y_train,y_test=y_titanic_df.values[train_index],y_titanic_df.values[test_index]\r\n",
        "\r\n",
        "        clf.fit(X_train,y_train)\r\n",
        "        predictions=clf.predict(X_test)\r\n",
        "        accuracy=accuracy_score(y_test,predictions)\r\n",
        "        scores.append(accuracy)\r\n",
        "        print(\"교차검증 {0} 정확도 {1:.4f}\".format(iter_count,accuracy))\r\n",
        "\r\n",
        "    mean_score=np.mean(scores)\r\n",
        "    print(\"평균 정확도:{0:.4f}\".format(mean_score))\r\n",
        "\r\n",
        "exec_kfold(dt_clf,folds=5)"
      ],
      "execution_count": null,
      "outputs": []
    },
    {
      "cell_type": "code",
      "metadata": {
        "id": "rK7sGIvC8QvB"
      },
      "source": [
        "# 교차검증 cross_val_score()\r\n",
        "from sklearn.model_selection import cross_val_score\r\n",
        "\r\n",
        "scores=cross_val_score(dt_clf,X_titanic_df,y_titanic_df,cv=5)\r\n",
        "for iter_count,accuracy in enumerate(scores):\r\n",
        "    print(\"교차검증 {0} 정확도:{1:4f}\".format(iter_count,accuracy))\r\n",
        "print(\"평균 정확도:{0:.4f}\".format(np.mean(scores)))"
      ],
      "execution_count": null,
      "outputs": []
    },
    {
      "cell_type": "code",
      "metadata": {
        "id": "bhz8szjH_vlE"
      },
      "source": [
        "from sklearn.model_selection import GridSearchCV\r\n",
        "\r\n",
        "parameters={'max_depth':[2,3,5,10],'min_samples_split':[2,3,5],'min_samples_leaf':[1,5,8]}\r\n",
        "                         \r\n",
        "grid_dclf=GridSearchCV(dt_clf,param_grid=parameters,scoring='accuracy',cv=5)\r\n",
        "grid_dclf.fit(X_train,y_train)\r\n",
        "\r\n",
        "print('GridSearchCV 최적 하이퍼 파라미터:',grid_dclf.best_params_)\r\n",
        "print('GridSearchCV 최고 정확되{0:.4f}:',format(grid_dclf.best_score_))\r\n",
        "best_dclf=grid_dclf.best_estimator_"
      ],
      "execution_count": null,
      "outputs": []
    },
    {
      "cell_type": "code",
      "metadata": {
        "id": "kjNDBb3BBz7t"
      },
      "source": [
        "dpredictions=best_dclf.predict(X_test)\r\n",
        "accuracy=accuracy_score(y_test,dpredictions)\r\n",
        "print('테스트 세트에서의 DecisionTressClassifier정확도:{0:.4f}'.format(accuracy))"
      ],
      "execution_count": null,
      "outputs": []
    },
    {
      "cell_type": "markdown",
      "metadata": {
        "id": "B6d2itRON1d6"
      },
      "source": [
        "##### 데이터의 전처리 작업\r\n",
        "*   오류 데이터의 보정이나 결손값 처리 등의 다양한 데이터 클렌징 작업,레이블 인코딩, 원-핫 인코딩, 데이터의 스케일링/정규화 작업 등으로 머신러닝 알고리즘이 최적으로 수행될 수 있게 데이터를 사전 처리하는 것\r\n",
        "\r\n",
        "##### 머신러닝 모델링\r\n",
        "*   학습데이터 세트로 학습한 뒤 반드시 별도의 테스트 데이터 세트로 평가되어야한다.\r\n",
        "*   테스트 데이터의 건수부족이나 고정된 테스트 데이터 세트를 이용한 반복적인 모델의 학습과 평가는 해당 테스트 데이터 세트에만 치우친 빈약한 머신러닝 모델을 만들 가능성이 높음\r\n",
        "\r\n",
        "\r\n",
        "\r\n",
        "\r\n",
        "\r\n"
      ]
    }
  ]
}