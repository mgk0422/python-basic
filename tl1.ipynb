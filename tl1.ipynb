{
  "nbformat": 4,
  "nbformat_minor": 0,
  "metadata": {
    "colab": {
      "name": "tl1",
      "private_outputs": true,
      "provenance": [],
      "authorship_tag": "ABX9TyM2JdT7t+VKPdPCn+HlNRW+",
      "include_colab_link": true
    },
    "kernelspec": {
      "name": "python3",
      "display_name": "Python 3"
    }
  },
  "cells": [
    {
      "cell_type": "markdown",
      "metadata": {
        "id": "view-in-github",
        "colab_type": "text"
      },
      "source": [
        "<a href=\"https://colab.research.google.com/github/mgk0422/python-basic/blob/master/tl1.ipynb\" target=\"_parent\"><img src=\"https://colab.research.google.com/assets/colab-badge.svg\" alt=\"Open In Colab\"/></a>"
      ]
    },
    {
      "cell_type": "markdown",
      "metadata": {
        "id": "hl4zvERhGDym"
      },
      "source": [
        "### 데이터 프레임 특정 값 추출"
      ]
    },
    {
      "cell_type": "code",
      "metadata": {
        "id": "fg2VEKP4GHPp"
      },
      "source": [
        "# 판다스 라이브러리 임포트\r\n",
        "import pandas as pd\r\n",
        "# plotly express에 내장되어있는 gapminder 데이터프레임을 사용하겠습니다.\r\n",
        "import plotly.express as px\r\n",
        "# plotly가 설치되어있지 않다면 아래 명령으로 설치할 수 있습니다.\r\n",
        "# !pip install plotly"
      ],
      "execution_count": null,
      "outputs": []
    },
    {
      "cell_type": "code",
      "metadata": {
        "id": "rySbErh2G_7N"
      },
      "source": [
        "df = px.data.gapminder()"
      ],
      "execution_count": null,
      "outputs": []
    },
    {
      "cell_type": "code",
      "metadata": {
        "id": "yoFItNtEHKYM"
      },
      "source": [
        "df"
      ],
      "execution_count": null,
      "outputs": []
    },
    {
      "cell_type": "markdown",
      "metadata": {
        "id": "u3LJYY-cHYl1"
      },
      "source": [
        "#### 특정값과 일치하는 데이터 필터링"
      ]
    },
    {
      "cell_type": "code",
      "metadata": {
        "id": "3nYf2EIWHNq1"
      },
      "source": [
        "# country 컬럼을 선택합니다.\r\n",
        "# 컬럼의 값과 조건을 비교합니다.\r\n",
        "# 그 결과를 새로운 변수에 할당합니다.\r\n",
        "is_venezuela = df['country'] == 'Venezuela'\r\n",
        "\r\n",
        "# 조건를 충족하는 데이터를 필터링하여 새로운 변수에 저장합니다.\r\n",
        "venezuela = df[is_venezuela]\r\n",
        "\r\n",
        "# 결과를 출력합니다.\r\n",
        "venezuela"
      ],
      "execution_count": null,
      "outputs": []
    },
    {
      "cell_type": "markdown",
      "metadata": {
        "id": "XgbJKjabHu-m"
      },
      "source": [
        "#### 두가지 조건을 만족하는 데이터 필터링하기"
      ]
    },
    {
      "cell_type": "code",
      "metadata": {
        "id": "6b-AT0TSHgrk"
      },
      "source": [
        "# continent 컬럼을 선택합니다.\r\n",
        "# 컬럼의 값과 조건을 비교합니다.\r\n",
        "# 그 결과를 새로운 변수에 할당합니다.\r\n",
        "is_asia = df['continent'] == 'Asia'\r\n",
        "\r\n",
        "# lifeExp 컬럼을 선택합니다.\r\n",
        "# 컬럼의 값과 조건을 비교합니다.\r\n",
        "# 그 결과를 새로운 변수에 할당합니다.\r\n",
        "lifeExp_greather_80 = df['lifeExp'] >= 80\r\n",
        "\r\n",
        "# 두가지 조건를 동시에 충족하는 데이터를 필터링하여 새로운 변수에 저장합니다. (AND)\r\n",
        "subset_df = df[is_asia & lifeExp_greather_80]\r\n",
        "\r\n",
        "# 결과를 출력합니다.\r\n",
        "subset_df"
      ],
      "execution_count": null,
      "outputs": []
    },
    {
      "cell_type": "markdown",
      "metadata": {
        "id": "gitGvHnuH8zT"
      },
      "source": [
        "#### 특정 문자열을 포함하는 데이터 필터링하기"
      ]
    },
    {
      "cell_type": "code",
      "metadata": {
        "id": "TYWhuULiHxxy"
      },
      "source": [
        "# country 컬럼을 선택합니다.\r\n",
        "# 컬럼의 값에 Korea 또는(|) Japan이라는 문자열이 포함되어있는지 판단합니다.\r\n",
        "# 그 결과를 새로운 변수에 할당합니다.\r\n",
        "contains_korea_or_japan = df['country'].str.contains(\"Japan|Korea\")\r\n",
        "\r\n",
        "# 조건를 충족하는 데이터를 필터링하여 새로운 변수에 저장합니다.\r\n",
        "subset_df = df[contains_korea_or_japan]\r\n",
        "\r\n",
        "# 결과를 출력합니다.\r\n",
        "print(subset_df.shape)\r\n",
        "print()\r\n",
        "\r\n",
        "subset_df"
      ],
      "execution_count": null,
      "outputs": []
    },
    {
      "cell_type": "markdown",
      "metadata": {
        "id": "8Ia4Y3gJCBoi"
      },
      "source": [
        "## 함수"
      ]
    },
    {
      "cell_type": "code",
      "metadata": {
        "id": "KXuYxNkJOcCC"
      },
      "source": [
        "def order():                             # ❶ 헤더 행\r\n",
        "    print('주문하실 음료를 알려주세요')  # ❷ 본문 코드 블록\r\n",
        "    drink = input()\r\n",
        "    print(drink, '주문하셨습니다.')\r\n",
        "\r\n",
        "order()                                  # ❸ 함수를 호출해야 실행된다"
      ],
      "execution_count": null,
      "outputs": []
    },
    {
      "cell_type": "code",
      "metadata": {
        "id": "6R31amOMP9cb"
      },
      "source": [
        "def number():                             # ❶ 헤더 행\r\n",
        "    print('숫자를 입력하세요')  # ❷ 본문 코드 블록\r\n",
        "    num = int(input())\r\n",
        "    print(num,'의 절대값',abs(num))\r\n",
        "\r\n",
        "number()                                  # ❸ 함수를 호출해야 실행된다"
      ],
      "execution_count": null,
      "outputs": []
    },
    {
      "cell_type": "code",
      "metadata": {
        "id": "ROQcpmuTBvBv"
      },
      "source": [
        "# 함수를 사용하는 이유, 똑같은 내용을 반복해서 쓰지않을려고."
      ],
      "execution_count": null,
      "outputs": []
    },
    {
      "cell_type": "code",
      "metadata": {
        "id": "Sgu9K43CQs4_"
      },
      "source": [
        "def add(a,b):\r\n",
        "    return a+b"
      ],
      "execution_count": null,
      "outputs": []
    },
    {
      "cell_type": "code",
      "metadata": {
        "id": "FpxWQ8UwBh0a"
      },
      "source": [
        "add(3,4)"
      ],
      "execution_count": null,
      "outputs": []
    },
    {
      "cell_type": "code",
      "metadata": {
        "id": "J2hjVgGZCGTG"
      },
      "source": [
        "def add_many(*args):\r\n",
        "    resutl=0\r\n",
        "    for i in args:\r\n",
        "        result=result+i\r\n",
        "    return result"
      ],
      "execution_count": null,
      "outputs": []
    },
    {
      "cell_type": "markdown",
      "metadata": {
        "id": "yl8RJfgwE94_"
      },
      "source": [
        "## CLASS"
      ]
    },
    {
      "cell_type": "code",
      "metadata": {
        "id": "AmmZ-9DDE8PS"
      },
      "source": [
        "class Calculator:\r\n",
        "    def __init__(self):\r\n",
        "        self.result=.0\r\n",
        "    def add(self,num):\r\n",
        "        self.result+=num\r\n",
        "        return self.result\r\n",
        "\r\n",
        "cal1=Calculator() #객체\r\n",
        "cal2=Calculator()\r\n",
        "\r\n",
        "print(int(cal1.add(3)))\r\n",
        "print(int(cal1.add(4)))\r\n",
        "print(int(cal2.add(3)))\r\n",
        "print(int(cal2.add(7)))"
      ],
      "execution_count": null,
      "outputs": []
    },
    {
      "cell_type": "code",
      "metadata": {
        "id": "iBg3Pa0ZIHWg"
      },
      "source": [
        "class Cookie:\r\n",
        "    pass\r\n",
        "\r\n",
        "a=Cookie() #Cookie()의 결괏값을 돌려받는 a와 b를 객체라고 한다.\r\n",
        "b=Cookie() \r\n",
        "# 객체와 인스턴스의 차이\r\n",
        "# 클래스로 만든 객체를 인스턴스라고한다.\r\n",
        "# a=Cookie() 이렇게 만든 a는 객체이다.\r\n",
        "# a객체는 Cookie의 인스턴스이다."
      ],
      "execution_count": null,
      "outputs": []
    },
    {
      "cell_type": "code",
      "metadata": {
        "id": "EpXA3wQoIH-W"
      },
      "source": [
        "class FourCal:\r\n",
        "    def __init__(self,first,second): #파이썬 메서드 이름으로 __init__를 사용하면 이 메서드는 생성자가 된다.\r\n",
        "        self.first = first\r\n",
        "        self.second = second    \r\n",
        "    def setdata(self,first,second): \r\n",
        "        self.first=first\r\n",
        "        self.second=second\r\n",
        "    def add(self):\r\n",
        "        result=self.first+self.second\r\n",
        "        return result\r\n",
        "    def sub(self):\r\n",
        "        result=self.first-self.second\r\n",
        "        return result\r\n",
        "    def mul(self):\r\n",
        "        result=self.first*self.second\r\n",
        "        return result\r\n",
        "    def div(self):\r\n",
        "        result=self.first/self.second\r\n",
        "        return result"
      ],
      "execution_count": null,
      "outputs": []
    },
    {
      "cell_type": "code",
      "metadata": {
        "id": "ew9qZMMpItcT"
      },
      "source": [
        "a=FourCal()\r\n",
        "b=FourCal()\r\n",
        "type(a)"
      ],
      "execution_count": null,
      "outputs": []
    },
    {
      "cell_type": "code",
      "metadata": {
        "id": "aY5fd9yFIwi2"
      },
      "source": [
        "a.setdata(2,3)"
      ],
      "execution_count": null,
      "outputs": []
    },
    {
      "cell_type": "code",
      "metadata": {
        "id": "01VYxU0QgLHw"
      },
      "source": [
        "print(a.first)\r\n",
        "print(a.second)"
      ],
      "execution_count": null,
      "outputs": []
    },
    {
      "cell_type": "code",
      "metadata": {
        "id": "UgdzWaUugfFu"
      },
      "source": [
        "print(a.add())\r\n",
        "print(a.sub())\r\n",
        "print(a.mul())\r\n",
        "print(a.div())"
      ],
      "execution_count": null,
      "outputs": []
    },
    {
      "cell_type": "code",
      "metadata": {
        "id": "C0xRN2PZgvTx"
      },
      "source": [
        "b.setdata(100,2)\r\n",
        "print(b.add())\r\n",
        "print(b.sub())\r\n",
        "print(b.mul())\r\n",
        "print(b.div())"
      ],
      "execution_count": null,
      "outputs": []
    },
    {
      "cell_type": "code",
      "metadata": {
        "id": "8L9Ofk3lhuhx"
      },
      "source": [
        "# 클래스의 상속 : 물려받다라는 뜻\r\n",
        "class MoreFourCal(FourCal):\r\n",
        "    pass\r\n",
        "\r\n",
        "a=MoreFourCal(4,2)\r\n",
        "a.add()"
      ],
      "execution_count": null,
      "outputs": []
    },
    {
      "cell_type": "code",
      "metadata": {
        "id": "0XADAnrA2_KU"
      },
      "source": [
        "# 보통 상속은 기존 클래스를 변경하지 않고 기능을 추가하거나 기존 기능을 변경하려고 할때 사용한다.\r\n",
        "# 기존 클래스가 라이브러리 형태로 제공되거나 수정이 허용되지 않는 상황이라면 상속을 사용해야한다."
      ],
      "execution_count": null,
      "outputs": []
    },
    {
      "cell_type": "code",
      "metadata": {
        "id": "JjNu4og_338C"
      },
      "source": [
        "# 클래스의 상속 : 물려받다라는 뜻\r\n",
        "class MoreFourCal(FourCal):\r\n",
        "    def pow(self):\r\n",
        "        result=self.first**self.second\r\n",
        "        return result"
      ],
      "execution_count": null,
      "outputs": []
    },
    {
      "cell_type": "code",
      "metadata": {
        "id": "1KYxvMco4CWd"
      },
      "source": [
        "a=MoreFourCal(4,5)\r\n",
        "a.pow()"
      ],
      "execution_count": null,
      "outputs": []
    },
    {
      "cell_type": "code",
      "metadata": {
        "id": "T2F8YcI34HL9"
      },
      "source": [
        "# 매서드 오버라이딩\r\n",
        "# a=FourCal(4,0)\r\n",
        "# a.div() #오류가 에러가 아닌 0을 돌려주고싶다면?"
      ],
      "execution_count": null,
      "outputs": []
    },
    {
      "cell_type": "code",
      "metadata": {
        "id": "s1AsJcHu4ZV2"
      },
      "source": [
        "class SafeFourCal(FourCal):\r\n",
        "    def div(self):\r\n",
        "        if self.second==0:\r\n",
        "            return 0\r\n",
        "        else:\r\n",
        "            return self.first/self.second"
      ],
      "execution_count": null,
      "outputs": []
    },
    {
      "cell_type": "code",
      "metadata": {
        "id": "kFtInSWe4xz2"
      },
      "source": [
        "a=SafeFourCal(4,0)\r\n",
        "a.div()"
      ],
      "execution_count": null,
      "outputs": []
    },
    {
      "cell_type": "code",
      "metadata": {
        "id": "o79jYcuJ41s0"
      },
      "source": [
        "# 모듈\r\n",
        "def add(a,b):\r\n",
        "    return a+b\r\n",
        "def sub(a,b):\r\n",
        "    return a-b"
      ],
      "execution_count": null,
      "outputs": []
    },
    {
      "cell_type": "code",
      "metadata": {
        "id": "aQ1Z0j-eDZ56"
      },
      "source": [
        "import pandas as pd\r\n",
        "import numpy as np\r\n",
        "\r\n",
        "titanic=pd.read_excel('/content/sample_data/titanic_train.xlsx')\r\n",
        "titanic.head()"
      ],
      "execution_count": null,
      "outputs": []
    },
    {
      "cell_type": "markdown",
      "metadata": {
        "id": "SG5J0_1XD0Cx"
      },
      "source": [
        "## 데이터세트 생성과 수정"
      ]
    },
    {
      "cell_type": "code",
      "metadata": {
        "id": "SOg8U3GSDst6"
      },
      "source": [
        "titanic['Age_by_10']=titanic['Age']+10"
      ],
      "execution_count": null,
      "outputs": []
    },
    {
      "cell_type": "code",
      "metadata": {
        "id": "icMIpHXXEDHX"
      },
      "source": [
        "titanic"
      ],
      "execution_count": null,
      "outputs": []
    },
    {
      "cell_type": "markdown",
      "metadata": {
        "id": "pldhf9YWEKQE"
      },
      "source": [
        "## 데이터 삭제"
      ]
    },
    {
      "cell_type": "code",
      "metadata": {
        "id": "S29aT4aDEEFR"
      },
      "source": [
        "# 행삭제\r\n",
        "titanic=titanic.drop('Age_by_10',axis=1)\r\n",
        "titanic"
      ],
      "execution_count": null,
      "outputs": []
    },
    {
      "cell_type": "code",
      "metadata": {
        "id": "mmLMrEblEYwg"
      },
      "source": [
        "# 열삭제\r\n",
        "titanic.drop([0,1,2],axis=0,inplace=True)\r\n",
        "titanic.head()"
      ],
      "execution_count": null,
      "outputs": []
    },
    {
      "cell_type": "code",
      "metadata": {
        "id": "7V5z12YFEnpk"
      },
      "source": [
        "titanic[titanic['Pclass']==3]"
      ],
      "execution_count": null,
      "outputs": []
    },
    {
      "cell_type": "markdown",
      "metadata": {
        "id": "gZ4S9jeWFnwM"
      },
      "source": [
        "## DataFrame iloc[] 연산자\r\n"
      ]
    },
    {
      "cell_type": "code",
      "metadata": {
        "id": "eNFGDp99E4t9"
      },
      "source": [
        "data={'Name':['Chulmin','EunKyung','Jinwoong','Soobeom'],\r\n",
        "      'Year':[2011,2016,2015,2015],\r\n",
        "      'Gender':['Male','Female','Male','Male']\r\n",
        "      }\r\n",
        "data=pd.DataFrame(data,index=['one','two','three','four'])\r\n",
        "data"
      ],
      "execution_count": null,
      "outputs": []
    },
    {
      "cell_type": "code",
      "metadata": {
        "id": "XWx1E7EHHCdi"
      },
      "source": [
        "data=data.reset_index()"
      ],
      "execution_count": null,
      "outputs": []
    },
    {
      "cell_type": "code",
      "metadata": {
        "id": "AQ5ATdmbGk0c"
      },
      "source": [
        "#data=data.set_index()\r\n",
        "data"
      ],
      "execution_count": null,
      "outputs": []
    },
    {
      "cell_type": "code",
      "metadata": {
        "id": "OMf7PqeEGsvt"
      },
      "source": [
        "data.iloc[0,0] #iloc[]는 슬라이싱과 팬시 인덱싱은 제공하나 명호가한 위치 기반 인덱싱이 사용되어야 하는 제약으로 인해 불린 인덱싱은 제공 X"
      ],
      "execution_count": null,
      "outputs": []
    },
    {
      "cell_type": "markdown",
      "metadata": {
        "id": "wptdkHMSHtxB"
      },
      "source": [
        "## DataFrame loc[] 연산자"
      ]
    },
    {
      "cell_type": "code",
      "metadata": {
        "id": "q2V6J0c_Hapd"
      },
      "source": [
        "# loc[]는 명칭 기반으로 데이터 추출\r\n",
        "print(data.loc[1:2,'index'])"
      ],
      "execution_count": null,
      "outputs": []
    },
    {
      "cell_type": "code",
      "metadata": {
        "id": "BnaRd02uIFol"
      },
      "source": [
        "titanic.head()"
      ],
      "execution_count": null,
      "outputs": []
    },
    {
      "cell_type": "code",
      "metadata": {
        "id": "m2uvUw_iIbr6"
      },
      "source": [
        "titanic.loc[(titanic['Age']>=60) &(titanic['Pclass']==1)][['Pclass','Sex','Age']]"
      ],
      "execution_count": null,
      "outputs": []
    },
    {
      "cell_type": "code",
      "metadata": {
        "id": "dQw-EXTnImwt"
      },
      "source": [
        "titanic_sorted=titanic.sort_values(by=['Name'])\r\n",
        "titanic_sorted.head()"
      ],
      "execution_count": null,
      "outputs": []
    },
    {
      "cell_type": "code",
      "metadata": {
        "id": "Nn7ZaDP0JbSk"
      },
      "source": [
        "titanic_sorted=titanic.sort_values(by=['Pclass','Name'],ascending=False)\r\n",
        "titanic_sorted.head(3)"
      ],
      "execution_count": null,
      "outputs": []
    },
    {
      "cell_type": "code",
      "metadata": {
        "id": "GNl3NpD_Ji8H"
      },
      "source": [
        "titanic[['Age','Survived']].mean()"
      ],
      "execution_count": null,
      "outputs": []
    },
    {
      "cell_type": "code",
      "metadata": {
        "id": "aP2lWp3uJs9g"
      },
      "source": [
        "titanic_groupby=titanic.groupby(by='Pclass')\r\n",
        "titanic_groupby"
      ],
      "execution_count": null,
      "outputs": []
    },
    {
      "cell_type": "code",
      "metadata": {
        "id": "75E0_DDvJ_5F"
      },
      "source": [
        "titanic_groupby=titanic.groupby(by='Pclass').count()\r\n",
        "titanic_groupby"
      ],
      "execution_count": null,
      "outputs": []
    },
    {
      "cell_type": "code",
      "metadata": {
        "id": "sif8tDSsKFpz"
      },
      "source": [
        "titanic.groupby('Pclass')['Age'].agg([max,min])"
      ],
      "execution_count": null,
      "outputs": []
    },
    {
      "cell_type": "code",
      "metadata": {
        "id": "qiIya2kiLO0u"
      },
      "source": [
        "titanic.isna().sum()"
      ],
      "execution_count": null,
      "outputs": []
    },
    {
      "cell_type": "code",
      "metadata": {
        "id": "W8a_Cm8LLbFH"
      },
      "source": [
        "titanic['Cabin']=titanic['Cabin'].fillna('C000')\r\n",
        "titanic.head()"
      ],
      "execution_count": null,
      "outputs": []
    },
    {
      "cell_type": "code",
      "metadata": {
        "id": "FOeKNJv8LoY6"
      },
      "source": [
        "titanic['Age']=titanic['Age'].fillna(titanic['Age'].mean)"
      ],
      "execution_count": null,
      "outputs": []
    },
    {
      "cell_type": "code",
      "metadata": {
        "id": "wB40KvxGLxue"
      },
      "source": [
        "titanic['Embarked']=titanic['Embarked'].fillna('S')"
      ],
      "execution_count": null,
      "outputs": []
    },
    {
      "cell_type": "code",
      "metadata": {
        "id": "V1Tf8qPtL307"
      },
      "source": [
        "titanic.isna().sum()"
      ],
      "execution_count": null,
      "outputs": []
    },
    {
      "cell_type": "markdown",
      "metadata": {
        "id": "_z0qVP70MEn4"
      },
      "source": [
        "## apply lambda 식으로 데이터 가공"
      ]
    },
    {
      "cell_type": "code",
      "metadata": {
        "id": "nOlAirpvL6xm"
      },
      "source": [
        "titanic['Child_Adult']=titanic['Age'].apply(lambda intx: 'Child' if x <=15 else ('Adult' if x<=60 else 'Elderly'))\r\n",
        "titanic['Age','Child_Adult'].head()"
      ],
      "execution_count": null,
      "outputs": []
    },
    {
      "cell_type": "code",
      "metadata": {
        "id": "WgOA7lKPMdN7"
      },
      "source": [
        ""
      ],
      "execution_count": null,
      "outputs": []
    }
  ]
}