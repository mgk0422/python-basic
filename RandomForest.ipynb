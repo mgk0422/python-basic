{
  "nbformat": 4,
  "nbformat_minor": 0,
  "metadata": {
    "colab": {
      "name": "RandomForest",
      "private_outputs": true,
      "provenance": [],
      "authorship_tag": "ABX9TyOrai8NItY6OzOwVUtNqASk",
      "include_colab_link": true
    },
    "kernelspec": {
      "name": "python3",
      "display_name": "Python 3"
    }
  },
  "cells": [
    {
      "cell_type": "markdown",
      "metadata": {
        "id": "view-in-github",
        "colab_type": "text"
      },
      "source": [
        "<a href=\"https://colab.research.google.com/github/mgk0422/python-basic/blob/master/RandomForest.ipynb\" target=\"_parent\"><img src=\"https://colab.research.google.com/assets/colab-badge.svg\" alt=\"Open In Colab\"/></a>"
      ]
    },
    {
      "cell_type": "code",
      "metadata": {
        "id": "q33k8-lX3-e6"
      },
      "source": [
        "from sklearn.ensemble import RandomForestClassifier\r\n",
        "from sklearn.metrics import accuracy_score\r\n",
        "import pandas as pd\r\n",
        "import warnings\r\n",
        "warnings.filterwarnings('ignore')"
      ],
      "execution_count": null,
      "outputs": []
    },
    {
      "cell_type": "code",
      "metadata": {
        "id": "smxO4lKBVXZp"
      },
      "source": [
        "import matplotlib as mpl\r\n",
        "import matplotlib.pyplot as plt\r\n",
        " \r\n",
        "%config InlineBackend.figure_format = 'retina'\r\n",
        " \r\n",
        "!apt -qq -y install fonts-nanum\r\n",
        " \r\n",
        "import matplotlib.font_manager as fm\r\n",
        "fontpath = '/usr/share/fonts/truetype/nanum/NanumBarunGothic.ttf'\r\n",
        "font = fm.FontProperties(fname=fontpath, size=9)\r\n",
        "plt.rc('font', family='NanumBarunGothic') \r\n",
        "mpl.font_manager._rebuild()"
      ],
      "execution_count": null,
      "outputs": []
    },
    {
      "cell_type": "code",
      "metadata": {
        "id": "7Oo56w3Q7FMm"
      },
      "source": [
        "def get_new_feature_name_df(old_feature_name_df):\r\n",
        "    feature_dup_df = pd.DataFrame(data=old_feature_name_df.groupby('column_name').cumcount(),\r\n",
        "                                  columns=['dup_cnt'])\r\n",
        "    feature_dup_df = feature_dup_df.reset_index()\r\n",
        "    new_feature_name_df = pd.merge(old_feature_name_df.reset_index(), feature_dup_df, how='outer')\r\n",
        "    new_feature_name_df['column_name'] = new_feature_name_df[['column_name', 'dup_cnt']].apply(lambda x : x[0]+'_'+str(x[1]) \r\n",
        "                                                                                         if x[1] >0 else x[0] ,  axis=1)\r\n",
        "    new_feature_name_df = new_feature_name_df.drop(['index'], axis=1)\r\n",
        "    return new_feature_name_df"
      ],
      "execution_count": null,
      "outputs": []
    },
    {
      "cell_type": "code",
      "metadata": {
        "id": "sgfTbLO78HTd"
      },
      "source": [
        "import pandas as pd\r\n",
        "\r\n",
        "def get_human_dataset( ):\r\n",
        "    \r\n",
        "    # 각 데이터 파일들은 공백으로 분리되어 있으므로 read_csv에서 공백 문자를 sep으로 할당.\r\n",
        "    feature_name_df = pd.read_csv('/content/sample_data/features.txt',sep='\\s+',\r\n",
        "                        header=None,names=['column_index','column_name'])\r\n",
        "    \r\n",
        "    # 중복된 피처명을 수정하는 get_new_feature_name_df()를 이용, 신규 피처명 DataFrame생성. \r\n",
        "    new_feature_name_df = get_new_feature_name_df(feature_name_df)\r\n",
        "    \r\n",
        "    # DataFrame에 피처명을 컬럼으로 부여하기 위해 리스트 객체로 다시 변환\r\n",
        "    feature_name = new_feature_name_df.iloc[:, 1].values.tolist()\r\n",
        "    \r\n",
        "    # 학습 피처 데이터 셋과 테스트 피처 데이터을 DataFrame으로 로딩. 컬럼명은 feature_name 적용\r\n",
        "    X_train = pd.read_csv('/content/sample_data/X_train.txt',sep='\\s+', names=feature_name )\r\n",
        "    X_test = pd.read_csv('/content/sample_data/X_test.txt',sep='\\s+', names=feature_name)\r\n",
        "    \r\n",
        "    # 학습 레이블과 테스트 레이블 데이터을 DataFrame으로 로딩하고 컬럼명은 action으로 부여\r\n",
        "    y_train = pd.read_csv('/content/sample_data/y_train.txt',sep='\\s+',header=None,names=['action'])\r\n",
        "    y_test = pd.read_csv('/content/sample_data/y_test.txt',sep='\\s+',header=None,names=['action'])\r\n",
        "    \r\n",
        "    # 로드된 학습/테스트용 DataFrame을 모두 반환 \r\n",
        "    return X_train, X_test, y_train, y_test\r\n",
        "\r\n",
        "X_train, X_test, y_train, y_test = get_human_dataset()"
      ],
      "execution_count": null,
      "outputs": []
    },
    {
      "cell_type": "code",
      "metadata": {
        "id": "gw2knTCW56Ue"
      },
      "source": [
        "from sklearn.ensemble import RandomForestClassifier\r\n",
        "from sklearn.metrics import accuracy_score\r\n",
        "import pandas as pd\r\n",
        "import warnings\r\n",
        "warnings.filterwarnings('ignore')\r\n",
        "\r\n",
        "# 결정 트리에서 사용한 get_human_dataset( )을 이용해 학습/테스트용 DataFrame 반환\r\n",
        "X_train,X_test,y_train,y_test = get_human_dataset()\r\n",
        "\r\n",
        "# 랜덤 포레스트 학습 및 별도의 테스트 셋으로 예측 성능 평가\r\n",
        "rf_clf = RandomForestClassifier(random_state=0)\r\n",
        "rf_clf.fit(X_train , y_train)\r\n",
        "pred = rf_clf.predict(X_test)\r\n",
        "accuracy = accuracy_score(y_test , pred)\r\n",
        "print('랜덤 포레스트 정확도: {0:.4f}'.format(accuracy))"
      ],
      "execution_count": null,
      "outputs": []
    },
    {
      "cell_type": "code",
      "metadata": {
        "id": "s2xt4zE49NPb"
      },
      "source": [
        "# 트리 기반의 앙상블 알고리즘의 단점 : 하이퍼파라미터가 너무 많고 튜닝에 소유 시간이 많이든다, 성능 향상 크게 안됌\r\n",
        "# n_estimators : 랜덤 포레스트에서 결정 트리의 개수를 지정, 디폴트는 10, 늘린다고 무조건 좋은 성능은 아니다\r\n",
        "# make_features 전체 피처가 16개라면 분할을 위해 4개 참조 sqrt(전체 피처 개수)"
      ],
      "execution_count": null,
      "outputs": []
    },
    {
      "cell_type": "code",
      "metadata": {
        "id": "FNmZzqyORmZ5"
      },
      "source": [
        "# GridSearch\r\n",
        "\r\n",
        "from sklearn.model_selection import GridSearchCV\r\n",
        "\r\n",
        "params={'n_estimators':[100],\r\n",
        "        'max_depth':[6,8,10,12],\r\n",
        "        'min_samples_leaf':[8,12,18],\r\n",
        "        'min_samples_split':[8,6,20]}\r\n",
        "\r\n",
        "rf_clf=RandomForestClassifier(random_state=0,n_jobs=-1) # RandomForestClassifier,GridSearchCV 생성시 n_jobs=-1 파라미터 추가하면 모든 CPU 코어 이용해 학습가능\r\n",
        "grid_cv=GridSearchCV(rf_clf,param_grid=params,cv=2,n_jobs=-1)\r\n",
        "grid_cv.fit(X_train,y_train)\r\n",
        "\r\n",
        "print('최적 하이퍼 피라미터:\\n',grid_cv.best_params_)\r\n",
        "print('최고 예측 정확도:{0:.4f}'.format(grid_cv.best_score_))"
      ],
      "execution_count": null,
      "outputs": []
    },
    {
      "cell_type": "code",
      "metadata": {
        "id": "nqGp0fqnSpik"
      },
      "source": [
        "rf_clf1=RandomForestClassifier(n_estimators=300,max_depth=10,min_samples_leaf=8,min_samples_split=8,random_state=0)\r\n",
        "rf_clf1.fit(X_train,y_train)\r\n",
        "pred=rf_clf1.predict(X_test)\r\n",
        "print('예측정확도:{0:.4f}'.format(accuracy_score(y_test,pred)))"
      ],
      "execution_count": null,
      "outputs": []
    },
    {
      "cell_type": "code",
      "metadata": {
        "id": "IBHsJ6GgToOf"
      },
      "source": [
        "# 피처 중요도\r\n",
        "import matplotlib.pyplot as plt\r\n",
        "import seaborn as sns\r\n",
        "%matplotlib inline\r\n",
        "\r\n",
        "ftr_importances_values=rf_clf1.feature_importances_\r\n",
        "ftr_importances=pd.Series(ftr_importances_values,index=X_train.columns)\r\n",
        "ftr_top20=ftr_importances.sort_values(ascending=False)[:20]\r\n",
        "\r\n",
        "plt.figure(figsize=(8,6))\r\n",
        "plt.title('피처중요도')\r\n",
        "sns.barplot(x=ftr_top20,y=ftr_top20.index)\r\n",
        "plt.show()"
      ],
      "execution_count": null,
      "outputs": []
    },
    {
      "cell_type": "code",
      "metadata": {
        "id": "1-O4TwwuU8LF"
      },
      "source": [
        ""
      ],
      "execution_count": null,
      "outputs": []
    }
  ]
}