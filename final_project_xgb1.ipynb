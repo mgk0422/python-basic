{
  "nbformat": 4,
  "nbformat_minor": 0,
  "metadata": {
    "colab": {
      "name": "final_project_xgb1",
      "private_outputs": true,
      "provenance": [],
      "authorship_tag": "ABX9TyM0LD44p/grvhxj1wPYuL7M",
      "include_colab_link": true
    },
    "kernelspec": {
      "name": "python3",
      "display_name": "Python 3"
    }
  },
  "cells": [
    {
      "cell_type": "markdown",
      "metadata": {
        "id": "view-in-github",
        "colab_type": "text"
      },
      "source": [
        "<a href=\"https://colab.research.google.com/github/mgk0422/python-basic/blob/master/final_project_xgb1.ipynb\" target=\"_parent\"><img src=\"https://colab.research.google.com/assets/colab-badge.svg\" alt=\"Open In Colab\"/></a>"
      ]
    },
    {
      "cell_type": "code",
      "metadata": {
        "id": "uGJ2HcW388b6"
      },
      "source": [
        "pip install sklearn pandas matplotlib graphviz"
      ],
      "execution_count": null,
      "outputs": []
    },
    {
      "cell_type": "code",
      "metadata": {
        "id": "7K99G6509Elk"
      },
      "source": [
        "import pandas as pd\n",
        "import numpy as np\n",
        "import time\n",
        "import itertools\n",
        "import scipy\n",
        "from sklearn.model_selection import train_test_split\n",
        "import statsmodels.api as sm"
      ],
      "execution_count": null,
      "outputs": []
    },
    {
      "cell_type": "code",
      "metadata": {
        "id": "SroORl029G1-"
      },
      "source": [
        "import matplotlib as mpl\n",
        "import matplotlib.pyplot as plt\n",
        " \n",
        "%config InlineBackend.figure_format = 'retina'\n",
        " \n",
        "!apt -qq -y install fonts-nanum\n",
        " \n",
        "import matplotlib.font_manager as fm\n",
        "fontpath = '/usr/share/fonts/truetype/nanum/NanumBarunGothic.ttf'\n",
        "font = fm.FontProperties(fname=fontpath, size=9)\n",
        "plt.rc('font', family='NanumBarunGothic') \n",
        "mpl.font_manager._rebuild()"
      ],
      "execution_count": null,
      "outputs": []
    },
    {
      "cell_type": "code",
      "metadata": {
        "id": "xHgy-Nj99Jx5"
      },
      "source": [
        "from google.colab import files\n",
        "uploaded=files.upload()"
      ],
      "execution_count": null,
      "outputs": []
    },
    {
      "cell_type": "code",
      "metadata": {
        "id": "znfWuDxBToRe"
      },
      "source": [
        "from google.colab import files\n",
        "uploaded=files.upload()"
      ],
      "execution_count": null,
      "outputs": []
    },
    {
      "cell_type": "code",
      "metadata": {
        "id": "mX2KK-569t3a"
      },
      "source": [
        "오이_도매가격=pd.read_excel('/content/서울 평균 도매가격(오이).xlsx')\n",
        "오이_시장마트가격=pd.read_excel('/content/서울전역시장마트데이터(구분포함,23월포함).xlsx')\n",
        "오이_경락가=pd.read_excel('/content/오이_경락가.xlsx')\n",
        "오이_반입량=pd.read_excel('/content/오이_반입량.xlsx')\n",
        "유가가격=pd.read_excel('/content/주유소_평균판매가격.xlsx')\n",
        "서울날씨=pd.read_excel('/content/seoul_weather.xlsx')"
      ],
      "execution_count": null,
      "outputs": []
    },
    {
      "cell_type": "markdown",
      "metadata": {
        "id": "aaaom8O6_Uc4"
      },
      "source": [
        "##### 오이_도매가격"
      ]
    },
    {
      "cell_type": "code",
      "metadata": {
        "id": "6XyluC8s-haB"
      },
      "source": [
        "오이_도매가격=오이_도매가격[['date','wholesale_price(1pc)']]"
      ],
      "execution_count": null,
      "outputs": []
    },
    {
      "cell_type": "code",
      "metadata": {
        "id": "ePUyf8_i-4dQ"
      },
      "source": [
        "오이_도매가격.rename(columns={'date':'일자'},inplace=True)"
      ],
      "execution_count": null,
      "outputs": []
    },
    {
      "cell_type": "markdown",
      "metadata": {
        "id": "OHjrH6QI_dJq"
      },
      "source": [
        "##### 오이_시장가격"
      ]
    },
    {
      "cell_type": "code",
      "metadata": {
        "id": "WfUfD1ir_cbm"
      },
      "source": [
        "#오이_시장가격.head()"
      ],
      "execution_count": null,
      "outputs": []
    },
    {
      "cell_type": "code",
      "metadata": {
        "id": "vKDhl0Jm_Y-g"
      },
      "source": [
        "오이_시장가격=오이_시장마트가격[(오이_시장마트가격['품목']=='오이')&(오이_시장마트가격['구분']=='시장')]"
      ],
      "execution_count": null,
      "outputs": []
    },
    {
      "cell_type": "code",
      "metadata": {
        "id": "yBF1XzIZ_TOA"
      },
      "source": [
        "#오이_시장가격.info()"
      ],
      "execution_count": null,
      "outputs": []
    },
    {
      "cell_type": "code",
      "metadata": {
        "id": "tmIAyCJB_8B1"
      },
      "source": [
        "오이_시장가격=오이_시장가격[['조사일','가격']]"
      ],
      "execution_count": null,
      "outputs": []
    },
    {
      "cell_type": "code",
      "metadata": {
        "id": "qYGLM-zIAFI_"
      },
      "source": [
        "오이_시장가격=오이_시장가격.groupby('조사일').mean()"
      ],
      "execution_count": null,
      "outputs": []
    },
    {
      "cell_type": "code",
      "metadata": {
        "id": "78u__LI-C-5H"
      },
      "source": [
        "오이_시장가격.reset_index('조사일',inplace=True)"
      ],
      "execution_count": null,
      "outputs": []
    },
    {
      "cell_type": "code",
      "metadata": {
        "id": "zO_if9eRAQ_7"
      },
      "source": [
        "오이_시장가격.rename(columns={'조사일':'일자'},inplace=True)"
      ],
      "execution_count": null,
      "outputs": []
    },
    {
      "cell_type": "code",
      "metadata": {
        "id": "l8d8lTeKCq2S"
      },
      "source": [
        "오이_시장가격.head()"
      ],
      "execution_count": null,
      "outputs": []
    },
    {
      "cell_type": "markdown",
      "metadata": {
        "id": "i39uVhFuAguB"
      },
      "source": [
        "#### 오이경락가"
      ]
    },
    {
      "cell_type": "code",
      "metadata": {
        "id": "wNJFmdJJAble"
      },
      "source": [
        "오이_경락가.head()"
      ],
      "execution_count": null,
      "outputs": []
    },
    {
      "cell_type": "code",
      "metadata": {
        "id": "P7nK47-AAmH7"
      },
      "source": [
        "오이_경락가['일자'] = 오이_경락가.일자.astype(str)\n",
        "오이_경락가['일자'] = pd.to_datetime(오이_경락가['일자'])"
      ],
      "execution_count": null,
      "outputs": []
    },
    {
      "cell_type": "code",
      "metadata": {
        "id": "0KO2iP-LArYS"
      },
      "source": [
        "오이_경락가.rename(columns={'오이 1개 평균가격':'오이1개 경락가'},inplace=True)"
      ],
      "execution_count": null,
      "outputs": []
    },
    {
      "cell_type": "code",
      "metadata": {
        "id": "_lPHFnUFAx0u"
      },
      "source": [
        "오이_경락가=오이_경락가[['일자','평균가격(1)']]"
      ],
      "execution_count": null,
      "outputs": []
    },
    {
      "cell_type": "markdown",
      "metadata": {
        "id": "LfWy2ggrA5Lo"
      },
      "source": [
        "##### 오이_반입량"
      ]
    },
    {
      "cell_type": "code",
      "metadata": {
        "id": "wpuK-C5HA3_U"
      },
      "source": [
        "오이_반입량.head()"
      ],
      "execution_count": null,
      "outputs": []
    },
    {
      "cell_type": "code",
      "metadata": {
        "id": "bmrpOgNzBFFm"
      },
      "source": [
        "오이_반입량.rename(columns={'거래일자':'일자'},inplace=True)"
      ],
      "execution_count": null,
      "outputs": []
    },
    {
      "cell_type": "code",
      "metadata": {
        "id": "-k40QonSBARX"
      },
      "source": [
        "오이_반입량['일자'] = 오이_반입량.일자.astype(str)\n",
        "오이_반입량['일자'] = pd.to_datetime(오이_반입량['일자'])"
      ],
      "execution_count": null,
      "outputs": []
    },
    {
      "cell_type": "code",
      "metadata": {
        "id": "eXGVMP-qA4FE"
      },
      "source": [
        "오이_반입량=오이_반입량[['일자','반입량']]"
      ],
      "execution_count": null,
      "outputs": []
    },
    {
      "cell_type": "code",
      "metadata": {
        "id": "N0jlNUQTBYSF"
      },
      "source": [
        "#오이_반입량.head()"
      ],
      "execution_count": null,
      "outputs": []
    },
    {
      "cell_type": "markdown",
      "metadata": {
        "id": "DGgSKv9CBeKT"
      },
      "source": [
        "##### 유가가격"
      ]
    },
    {
      "cell_type": "code",
      "metadata": {
        "id": "M5n_hNMPBdra"
      },
      "source": [
        "#유가가격.head()"
      ],
      "execution_count": null,
      "outputs": []
    },
    {
      "cell_type": "markdown",
      "metadata": {
        "id": "0xWeF2SjBksA"
      },
      "source": [
        "#### 서울날씨"
      ]
    },
    {
      "cell_type": "code",
      "metadata": {
        "id": "LZWpk62lBkMq"
      },
      "source": [
        "서울날씨.rename(columns={'일시':'일자'},inplace=True)"
      ],
      "execution_count": null,
      "outputs": []
    },
    {
      "cell_type": "code",
      "metadata": {
        "id": "HDmSswnaBxDM"
      },
      "source": [
        "서울날씨.head()"
      ],
      "execution_count": null,
      "outputs": []
    },
    {
      "cell_type": "code",
      "metadata": {
        "id": "knnzCh-KBjXC"
      },
      "source": [
        "오이_시장=pd.merge(오이_시장가격,오이_도매가격,on='일자')"
      ],
      "execution_count": null,
      "outputs": []
    },
    {
      "cell_type": "code",
      "metadata": {
        "id": "Rmwkr-xWCbbR"
      },
      "source": [
        "오이_시장=pd.merge(오이_시장,오이_경락가,on='일자')"
      ],
      "execution_count": null,
      "outputs": []
    },
    {
      "cell_type": "code",
      "metadata": {
        "id": "iL4GwymGDwSD"
      },
      "source": [
        "오이_시장=pd.merge(오이_반입량,오이_시장,on='일자')"
      ],
      "execution_count": null,
      "outputs": []
    },
    {
      "cell_type": "code",
      "metadata": {
        "id": "uFAxlIT6EEP5"
      },
      "source": [
        "오이_시장=pd.merge(유가가격,오이_시장,on='일자')"
      ],
      "execution_count": null,
      "outputs": []
    },
    {
      "cell_type": "code",
      "metadata": {
        "id": "f73VGPOFEUOC"
      },
      "source": [
        "오이_시장=pd.merge(오이_시장,서울날씨,on='일자')"
      ],
      "execution_count": null,
      "outputs": []
    },
    {
      "cell_type": "code",
      "metadata": {
        "id": "QBciSKHqEcyE"
      },
      "source": [
        "오이_시장.head()"
      ],
      "execution_count": null,
      "outputs": []
    },
    {
      "cell_type": "code",
      "metadata": {
        "id": "cZfCkWLOozl1"
      },
      "source": [
        "오이_시장.to_excel('오이_시장.xlsx')"
      ],
      "execution_count": null,
      "outputs": []
    },
    {
      "cell_type": "code",
      "metadata": {
        "id": "59myQzazEewE"
      },
      "source": [
        "오이_시장.to_excel('오이_시장.xlsx')"
      ],
      "execution_count": null,
      "outputs": []
    },
    {
      "cell_type": "code",
      "metadata": {
        "id": "I3CsIfnIEnPY"
      },
      "source": [
        "import xgboost as xgb\n",
        "from xgboost import XGBClassifier\n",
        "from xgboost import XGBRegressor\n",
        "from xgboost import plot_importance \n",
        "from sklearn.model_selection import train_test_split\n",
        "from sklearn.model_selection import cross_val_score, KFold\n",
        "from sklearn.metrics import mean_squared_error\n",
        "import matplotlib.pyplot as plt\n",
        "from sklearn.ensemble import RandomForestRegressor"
      ],
      "execution_count": null,
      "outputs": []
    },
    {
      "cell_type": "markdown",
      "metadata": {
        "id": "IXdGex5jZQ28"
      },
      "source": [
        "#####오이시장"
      ]
    },
    {
      "cell_type": "code",
      "metadata": {
        "id": "Eqn-FPjXZIQW"
      },
      "source": [
        "from google.colab import files\n",
        "uploaded=files.upload()"
      ],
      "execution_count": null,
      "outputs": []
    },
    {
      "cell_type": "code",
      "metadata": {
        "id": "FYgUnNp7ZQO0"
      },
      "source": [
        "오이_시장=pd.read_excel('/content/오이_시장.xlsx')"
      ],
      "execution_count": null,
      "outputs": []
    },
    {
      "cell_type": "code",
      "metadata": {
        "id": "9nIaHgMLFOYk"
      },
      "source": [
        "x_data=오이_시장[['유가 전국평균가격','반입량','wholesale_price(1pc)','평균가격(1)','최저기온(°C)','최고기온(°C)','일강수량(mm)','최대 풍속(m/s)','평균 풍속(m/s)','평균 상대습도(%)','합계 일조시간(hr)','평균 지면온도(°C)','평균 5cm 지중온도(°C)']]\n",
        "y_target=오이_시장[['가격']]\n",
        "x,y=x_data,y_target\n",
        "xtrain, xtest, ytrain, ytest=train_test_split(x, y, test_size=0.15)\n",
        "# 변수 다있었을 때\n",
        "# x_data=오이_시장[['유가 전국평균가격','반입량','wholesale_price(1pc)','평균가격(1)','최저기온(°C)','최고기온(°C)','일강수량(mm)','최대 풍속(m/s)','평균 풍속(m/s)','평균 상대습도(%)','합계 일조시간(hr)','평균 지면온도(°C)','평균 5cm 지중온도(°C)']]\n",
        "# 0.83\n",
        "# 날씨 변수 제외하면?\n",
        "#x_data=오이_시장[['유가 전국평균가격','반입량','wholesale_price(1pc)','오이1개 경락가']]\n",
        "# 0.77"
      ],
      "execution_count": null,
      "outputs": []
    },
    {
      "cell_type": "code",
      "metadata": {
        "id": "-nbztuhfFrsN"
      },
      "source": [
        "xgbr.fit(xtrain, ytrain)"
      ],
      "execution_count": null,
      "outputs": []
    },
    {
      "cell_type": "code",
      "metadata": {
        "id": "UG1Qp_ehFtOh"
      },
      "source": [
        "score = xgbr.score(xtrain, ytrain)  \n",
        "print(\"Training score: \", score)\n",
        "scores = cross_val_score(xgbr, xtrain, ytrain,cv=10)\n",
        "print(\"Mean cross-validation score: %.2f\" % scores.mean())\n",
        "kfold = KFold(n_splits=10, shuffle=True)\n",
        "kf_cv_scores = cross_val_score(xgbr, xtrain, ytrain, cv=kfold )\n",
        "print(\"K-fold CV average score: %.2f\" % kf_cv_scores.mean())\n",
        "ypred = xgbr.predict(xtest)\n",
        "mse = mean_squared_error(ytest, ypred)\n",
        "print(\"MSE: %.2f\" % mse)\n",
        "print(\"RMSE: %.2f\" % (mse**(1/2.0)))"
      ],
      "execution_count": null,
      "outputs": []
    },
    {
      "cell_type": "code",
      "metadata": {
        "id": "zA_wuSpbFvDZ"
      },
      "source": [
        "x_ax = range(len(ytest))\n",
        "plt.plot(x_ax, ytest, label=\"original\")\n",
        "plt.plot(x_ax, ypred, label=\"predicted\")\n",
        "plt.title(\" test and predicted data\")\n",
        "plt.legend()\n",
        "plt.show()"
      ],
      "execution_count": null,
      "outputs": []
    },
    {
      "cell_type": "code",
      "metadata": {
        "id": "B5r4Fe1hFxWk"
      },
      "source": [
        "import matplotlib.pyplot as plt\n",
        "plot_importance(xgbr)\n",
        "plt.show()"
      ],
      "execution_count": null,
      "outputs": []
    },
    {
      "cell_type": "code",
      "metadata": {
        "id": "7O-S8C_8F8Vb"
      },
      "source": [
        "rf=RandomForestRegressor(random_state=0,n_estimators=1000)\n",
        "neg_mse_scores=cross_val_score(rf,x_data,y_target,scoring='neg_mean_squared_error',cv=5)\n",
        "rmse_scores=np.sqrt(-1*neg_mse_scores)\n",
        "avg_rmse=np.mean(rmse_scores)\n",
        "\n",
        "print('5교차의 개별 Negative MSE scores : ',np.round(neg_mse_scores,2))\n",
        "print('5교차 검증의 개별 RMSE score : ',np.round(rmse_scores,2))\n",
        "print('5교차 검증의 평균 RMSE : {0:3f}'.format(avg_rmse))"
      ],
      "execution_count": null,
      "outputs": []
    },
    {
      "cell_type": "code",
      "metadata": {
        "id": "b38XESz8HawK"
      },
      "source": [
        "def get_model_cv_prediction(model, x_data,y_target):\n",
        "    neg_mse_scores=cross_val_score(model,x_data,y_target,scoring='neg_mean_squared_error',cv=5)\n",
        "    rmse_scores=np.sqrt(-1*neg_mse_scores)\n",
        "    avg_rmse=np.mean(rmse_scores)\n",
        "    print('####',model.__class__.__name__,'####')\n",
        "    print('5교차 검증의 평균 RMSE : {0:3f}'.format(avg_rmse))\n",
        "    score = xgbr.score(xtrain, ytrain)  \n",
        "    print(\"Training score: \", score)\n",
        "    scores = cross_val_score(xgbr, xtrain, ytrain,cv=10)\n",
        "    print(\"Mean cross-validation score: %.2f\" % scores.mean())\n",
        "    kfold = KFold(n_splits=10, shuffle=True)\n",
        "    kf_cv_scores = cross_val_score(xgbr, xtrain, ytrain, cv=kfold )\n",
        "    print(\"K-fold CV average score: %.2f\" % kf_cv_scores.mean())"
      ],
      "execution_count": null,
      "outputs": []
    },
    {
      "cell_type": "code",
      "metadata": {
        "id": "kNo8S9idHgcc"
      },
      "source": [
        "from sklearn.tree import DecisionTreeRegressor\n",
        "from sklearn.ensemble import GradientBoostingRegressor\n",
        "from xgboost import XGBRegressor\n",
        "from lightgbm import LGBMRegressor\n",
        "\n",
        "dt_reg=DecisionTreeRegressor(random_state=0,max_depth=4)\n",
        "rf_reg=RandomForestRegressor(random_state=0,n_estimators=1000)\n",
        "gb_reg=GradientBoostingRegressor(random_state=0,n_estimators=1000)\n",
        "xgb_reg=XGBRegressor(n_estimators=1000)\n",
        "lgb_reg=LGBMRegressor(n_estimators=1000)\n",
        "\n",
        "# 트리기반의 회귀 모델을 반복하면서 평가 수행\n",
        "models=[dt_reg,rf_reg,gb_reg,xgb_reg,lgb_reg]\n",
        "for model in models:\n",
        "    get_model_cv_prediction(model, x_data, y_target)"
      ],
      "execution_count": null,
      "outputs": []
    },
    {
      "cell_type": "code",
      "metadata": {
        "id": "Ukp5xjLMHib6"
      },
      "source": [
        "import seaborn as sns\n",
        "%matplotlib inline\n",
        "\n",
        "rf_reg=RandomForestRegressor(n_estimators=1000)\n",
        "\n",
        "rf_reg.fit(x_data, y_target)\n",
        "\n",
        "feature_series=pd.Series(data=rf_reg.feature_importances_,index=x_data.columns)\n",
        "feature_series=feature_series.sort_values(ascending=False)\n",
        "sns.barplot(x=feature_series,y=feature_series.index)"
      ],
      "execution_count": null,
      "outputs": []
    },
    {
      "cell_type": "code",
      "metadata": {
        "id": "q1cqFkgcHxZu"
      },
      "source": [
        "import seaborn as sns\n",
        "%matplotlib inline\n",
        "\n",
        "xgb_reg=XGBRegressor(n_estimators=1000)\n",
        "\n",
        "xgb_reg.fit(x_data, y_target)\n",
        "\n",
        "feature_series=pd.Series(data=xgb_reg.feature_importances_,index=x_data.columns)\n",
        "feature_series=feature_series.sort_values(ascending=False)\n",
        "sns.barplot(x=feature_series,y=feature_series.index)"
      ],
      "execution_count": null,
      "outputs": []
    },
    {
      "cell_type": "markdown",
      "metadata": {
        "id": "QSdJJNMGIokh"
      },
      "source": [
        "#오이_마트"
      ]
    },
    {
      "cell_type": "code",
      "metadata": {
        "id": "K617suHmIoDN"
      },
      "source": [
        "오이_마트가격=오이_시장마트가격[(오이_시장마트가격['품목']=='오이')&(오이_시장마트가격['구분']=='마트')]"
      ],
      "execution_count": null,
      "outputs": []
    },
    {
      "cell_type": "code",
      "metadata": {
        "id": "IWGGtrQvH-_X"
      },
      "source": [
        "오이_마트가격=오이_마트가격[['조사일','가격']]"
      ],
      "execution_count": null,
      "outputs": []
    },
    {
      "cell_type": "code",
      "metadata": {
        "id": "wHsqg-9AJs49"
      },
      "source": [
        "오이_마트가격=오이_마트가격.groupby('조사일').mean()"
      ],
      "execution_count": null,
      "outputs": []
    },
    {
      "cell_type": "code",
      "metadata": {
        "id": "uklLiUOXJs7n"
      },
      "source": [
        "오이_마트가격.reset_index('조사일',inplace=True)"
      ],
      "execution_count": null,
      "outputs": []
    },
    {
      "cell_type": "code",
      "metadata": {
        "id": "rqsfx2LPJs2_"
      },
      "source": [
        "오이_마트가격.rename(columns={'조사일':'일자'},inplace=True)"
      ],
      "execution_count": null,
      "outputs": []
    },
    {
      "cell_type": "code",
      "metadata": {
        "id": "KmTJFbMPJ5PR"
      },
      "source": [
        "오이_마트가격.head()"
      ],
      "execution_count": null,
      "outputs": []
    },
    {
      "cell_type": "code",
      "metadata": {
        "id": "0IHdKlWkJ7ER"
      },
      "source": [
        "오이_마트=pd.merge(오이_마트가격,오이_도매가격,on='일자')"
      ],
      "execution_count": null,
      "outputs": []
    },
    {
      "cell_type": "code",
      "metadata": {
        "id": "Dc-YbBXeNi_t"
      },
      "source": [
        "오이_마트.head()"
      ],
      "execution_count": null,
      "outputs": []
    },
    {
      "cell_type": "code",
      "metadata": {
        "id": "6LIYAnvtKHgE"
      },
      "source": [
        "오이_마트=pd.merge(오이_마트,오이_경락가,on='일자')"
      ],
      "execution_count": null,
      "outputs": []
    },
    {
      "cell_type": "code",
      "metadata": {
        "id": "xId6u7J8Nnef"
      },
      "source": [
        "오이_마트.head()"
      ],
      "execution_count": null,
      "outputs": []
    },
    {
      "cell_type": "code",
      "metadata": {
        "id": "oWEfXBnSKHi8"
      },
      "source": [
        "오이_마트=pd.merge(오이_반입량,오이_마트,on='일자')"
      ],
      "execution_count": null,
      "outputs": []
    },
    {
      "cell_type": "code",
      "metadata": {
        "id": "calYg2mjKHoX"
      },
      "source": [
        "오이_마트=pd.merge(유가가격,오이_마트,on='일자')"
      ],
      "execution_count": null,
      "outputs": []
    },
    {
      "cell_type": "code",
      "metadata": {
        "id": "CaR95EvzKHmp"
      },
      "source": [
        "오이_마트=pd.merge(오이_마트,서울날씨,on='일자')"
      ],
      "execution_count": null,
      "outputs": []
    },
    {
      "cell_type": "code",
      "metadata": {
        "id": "jTGqdz9GKbVX"
      },
      "source": [
        "오이_마트.head()"
      ],
      "execution_count": null,
      "outputs": []
    },
    {
      "cell_type": "code",
      "metadata": {
        "id": "zsuISpcenJ1S"
      },
      "source": [
        "오이_마트.to_excel('오이_마트.xlsx')"
      ],
      "execution_count": null,
      "outputs": []
    },
    {
      "cell_type": "code",
      "metadata": {
        "id": "Eh-sYJOgKcw8"
      },
      "source": [
        "x_data=오이_마트[['유가 전국평균가격','반입량','wholesale_price(1pc)','평균가격(1)','최저기온(°C)','최고기온(°C)','일강수량(mm)','최대 풍속(m/s)','평균 풍속(m/s)','평균 상대습도(%)','합계 일조시간(hr)','평균 지면온도(°C)','평균 5cm 지중온도(°C)']]\n",
        "y_target=오이_마트[['가격']]\n",
        "x,y=x_data,y_target\n",
        "xtrain, xtest, ytrain, ytest=train_test_split(x, y, test_size=0.15)\n"
      ],
      "execution_count": null,
      "outputs": []
    },
    {
      "cell_type": "code",
      "metadata": {
        "id": "HuvJnFpYkF6k"
      },
      "source": [
        "xgbr.fit(xtrain, ytrain)"
      ],
      "execution_count": null,
      "outputs": []
    },
    {
      "cell_type": "code",
      "metadata": {
        "id": "wbh3Mu0QkOQT"
      },
      "source": [
        "score = xgbr.score(xtrain, ytrain)  \n",
        "print(\"Training score: \", score)\n",
        "scores = cross_val_score(xgbr, xtrain, ytrain,cv=10)\n",
        "print(\"Mean cross-validation score: %.2f\" % scores.mean())\n",
        "kfold = KFold(n_splits=10, shuffle=True)\n",
        "kf_cv_scores = cross_val_score(xgbr, xtrain, ytrain, cv=kfold )\n",
        "print(\"K-fold CV average score: %.2f\" % kf_cv_scores.mean())\n",
        "ypred = xgbr.predict(xtest)\n",
        "mse = mean_squared_error(ytest, ypred)\n",
        "print(\"MSE: %.2f\" % mse)\n",
        "print(\"RMSE: %.2f\" % (mse**(1/2.0)))"
      ],
      "execution_count": null,
      "outputs": []
    },
    {
      "cell_type": "code",
      "metadata": {
        "id": "-7WCybiakPy3"
      },
      "source": [
        "x_ax = range(len(ytest))\n",
        "plt.plot(x_ax, ytest, label=\"original\")\n",
        "plt.plot(x_ax, ypred, label=\"predicted\")\n",
        "plt.title(\" test and predicted data\")\n",
        "plt.legend()\n",
        "plt.show()"
      ],
      "execution_count": null,
      "outputs": []
    },
    {
      "cell_type": "code",
      "metadata": {
        "id": "hIhrG3S8kbmi"
      },
      "source": [
        ""
      ],
      "execution_count": null,
      "outputs": []
    }
  ]
}