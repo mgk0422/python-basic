{
  "nbformat": 4,
  "nbformat_minor": 0,
  "metadata": {
    "colab": {
      "name": "algorithm02",
      "private_outputs": true,
      "provenance": [],
      "authorship_tag": "ABX9TyMM2pGqmAxGWquFBWnoMRP4",
      "include_colab_link": true
    },
    "kernelspec": {
      "name": "python3",
      "display_name": "Python 3"
    }
  },
  "cells": [
    {
      "cell_type": "markdown",
      "metadata": {
        "id": "view-in-github",
        "colab_type": "text"
      },
      "source": [
        "<a href=\"https://colab.research.google.com/github/mgk0422/python-basic/blob/master/algorithm02.ipynb\" target=\"_parent\"><img src=\"https://colab.research.google.com/assets/colab-badge.svg\" alt=\"Open In Colab\"/></a>"
      ]
    },
    {
      "cell_type": "code",
      "metadata": {
        "id": "EM2EWRk8Pyw7"
      },
      "source": [
        "#퀵 정렬\r\n",
        "numbers=[40,35,27,75,50]\r\n",
        "\r\n",
        "def quickSort(array):\r\n",
        "    if len(array) <2:\r\n",
        "        return array\r\n",
        "    else:\r\n",
        "        pivot = array[0]\r\n",
        "        less = [number for number in array[1:] if number <= pivot]\r\n",
        "        greater= [number for number in array[1:] if number > pivot]\r\n",
        "        #print(\"less:\",less)\r\n",
        "        #print(\"greater:\",greater)\r\n",
        "        return quickSort(less) + [pivot] + quickSort(greater)\r\n",
        "\r\n",
        "result=quickSort(numbers)\r\n",
        "print(result)"
      ],
      "execution_count": null,
      "outputs": []
    },
    {
      "cell_type": "code",
      "metadata": {
        "id": "KxqAww1oQYfQ"
      },
      "source": [
        "# 버블 정렬(Bubble Sort)\r\n",
        "# 핵심로직\r\n",
        "# 1번 : 첫번째꺼랑 두번째꺼랑 비교해서 두번째께 더 작으면\r\n",
        "# 첫번째꺼랑 자리를 바꾼다.\r\n",
        "\r\n",
        "numbers=[7,3,2,9]\r\n",
        "\r\n",
        "first=numbers[0] #7\r\n",
        "second=numbers[1] #3\r\n",
        "print(first,second)\r\n",
        "\r\n",
        "print(first > second) # 7 > 3 TRUE\r\n",
        "\r\n",
        "# 자리바꾸기\r\n",
        "#first = second\r\n",
        "#second = first\r\n",
        "#print(first,second) # 3 3 \r\n",
        "\r\n",
        "temp = first\r\n",
        "first = second\r\n",
        "second = temp\r\n",
        "print(first,second)"
      ],
      "execution_count": null,
      "outputs": []
    },
    {
      "cell_type": "code",
      "metadata": {
        "id": "DRXi1KQ5ehLf"
      },
      "source": [
        "# 2번 :\r\n",
        "numbers=[3,7,2,9]\r\n",
        "first = numbers[0]\r\n",
        "third = numbers[2]\r\n",
        "\r\n",
        "print(first,third)\r\n",
        "temp=first\r\n",
        "first=third\r\n",
        "third=temp\r\n",
        "\r\n",
        "print(first,third) # 2,3"
      ],
      "execution_count": null,
      "outputs": []
    },
    {
      "cell_type": "code",
      "metadata": {
        "id": "whryJ4fQgYzL"
      },
      "source": [
        "numbers=[2,7,3,9]\r\n",
        "first=numbers[0]\r\n",
        "fourth=numbers[3]\r\n",
        "print(first,fourth)\r\n",
        "\r\n",
        "temp=first\r\n",
        "first=fourth\r\n",
        "fourth=temp\r\n",
        "print(first,fourth)"
      ],
      "execution_count": null,
      "outputs": []
    },
    {
      "cell_type": "code",
      "metadata": {
        "id": "2mD7UnpphTYc"
      },
      "source": [
        "numbers"
      ],
      "execution_count": null,
      "outputs": []
    },
    {
      "cell_type": "code",
      "metadata": {
        "id": "gPY6oGpMhf6u"
      },
      "source": [
        "#numbers=[7,3,2,9] #\r\n",
        "#numbers=[3,7,2,9] # n n+1 = 1,2\r\n",
        "#numbers=[2,7,3,9] # n n+2 = 1,3\r\n",
        "#numbers=[2,7,3,9] # n n+3 = 1,4\r\n",
        "\r\n",
        "# 비교해서 뒤에께 작았을 때 바꾼다.\r\n",
        "numbers = [7,3,2,9]\r\n",
        "if numbers[0]>numbers[1]: # 7 > 3  = true\r\n",
        "    #자리를 바꿔준다\r\n",
        "    temp = numbers[0]\r\n",
        "    numbers[0] = numbers[1]\r\n",
        "    numbers[1] = temp"
      ],
      "execution_count": null,
      "outputs": []
    },
    {
      "cell_type": "code",
      "metadata": {
        "id": "bXviwea7jPh_"
      },
      "source": [
        "print(numbers)"
      ],
      "execution_count": null,
      "outputs": []
    },
    {
      "cell_type": "code",
      "metadata": {
        "id": "hi4qNjEhjVia"
      },
      "source": [
        "if numbers[0]>numbers[2]: # 7 > 3  = true\r\n",
        "    #자리를 바꿔준다\r\n",
        "    temp = numbers[0]\r\n",
        "    numbers[0] = numbers[2]\r\n",
        "    numbers[2] = temp\r\n",
        "\r\n",
        "# [3,7,2,9] => [2,7,3,9]\r\n",
        "print(numbers)"
      ],
      "execution_count": null,
      "outputs": []
    },
    {
      "cell_type": "code",
      "metadata": {
        "id": "lxES2eP2jwfu"
      },
      "source": [
        "# 반복문으로 감싸기\r\n",
        "numbers = [7,3,2,9]\r\n",
        "for index in range(1,len(numbers)): #1,2,3\r\n",
        "    if numbers[0] > numbers[index]: # 7 > 3  = true\r\n",
        "        #자리를 바꿔준다\r\n",
        "        temp = numbers[0]\r\n",
        "        numbers[0] = numbers[index]\r\n",
        "        numbers[index] = temp\r\n",
        "    print(numbers)\r\n"
      ],
      "execution_count": null,
      "outputs": []
    },
    {
      "cell_type": "code",
      "metadata": {
        "id": "ZMzXZmbvkHlz"
      },
      "source": [
        ""
      ],
      "execution_count": null,
      "outputs": []
    }
  ]
}