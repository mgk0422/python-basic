{
  "nbformat": 4,
  "nbformat_minor": 0,
  "metadata": {
    "colab": {
      "name": "python_KMeans",
      "private_outputs": true,
      "provenance": [],
      "authorship_tag": "ABX9TyODUfThEmfWpA9Bptry4+iO",
      "include_colab_link": true
    },
    "kernelspec": {
      "name": "python3",
      "display_name": "Python 3"
    }
  },
  "cells": [
    {
      "cell_type": "markdown",
      "metadata": {
        "id": "view-in-github",
        "colab_type": "text"
      },
      "source": [
        "<a href=\"https://colab.research.google.com/github/mgk0422/python-basic/blob/master/python_KMeans.ipynb\" target=\"_parent\"><img src=\"https://colab.research.google.com/assets/colab-badge.svg\" alt=\"Open In Colab\"/></a>"
      ]
    },
    {
      "cell_type": "code",
      "metadata": {
        "id": "JiEtMfeeK9we"
      },
      "source": [
        "import pandas as pd\r\n",
        "from sklearn.cluster import KMeans\r\n",
        "import matplotlib.pyplot as plt\r\n",
        "import seaborn as sns"
      ],
      "execution_count": null,
      "outputs": []
    },
    {
      "cell_type": "code",
      "metadata": {
        "id": "lL6Li_V1O8YR"
      },
      "source": [
        "import random\r\n",
        "x = [] \r\n",
        "for i in range(1, 300): \r\n",
        "\tx.append(random.randrange(1,100))\r\n",
        "x=pd.DataFrame(x,columns=['x'])"
      ],
      "execution_count": null,
      "outputs": []
    },
    {
      "cell_type": "code",
      "metadata": {
        "id": "6-WDSoB9R6H-"
      },
      "source": [
        "y = [] \r\n",
        "for j in range(1, 300): \r\n",
        "\ty.append(random.randrange(1,100))\r\n",
        "y=pd.DataFrame(y,columns=['y'])"
      ],
      "execution_count": null,
      "outputs": []
    },
    {
      "cell_type": "code",
      "metadata": {
        "id": "oRXfAZW5SC4P"
      },
      "source": [
        "df = pd.concat([x,y],axis=1)\r\n",
        "df"
      ],
      "execution_count": null,
      "outputs": []
    },
    {
      "cell_type": "code",
      "metadata": {
        "id": "aqe40Z1AL2vn"
      },
      "source": [
        "sns.lmplot('x','y',data=df,fit_reg=False,scatter_kws={\"s\":20})"
      ],
      "execution_count": null,
      "outputs": []
    },
    {
      "cell_type": "code",
      "metadata": {
        "id": "qg2WiCcLMKsN"
      },
      "source": [
        "data_points = df.values\r\n",
        "kmeans = KMeans(n_clusters=3).fit(data_points)\r\n",
        "df['label']=kmeans.labels_\r\n",
        "print(df)"
      ],
      "execution_count": null,
      "outputs": []
    },
    {
      "cell_type": "code",
      "metadata": {
        "id": "XsVAeHytMQFP"
      },
      "source": [
        "sns.lmplot('x','y',data=df,fit_reg=False,scatter_kws={\"s\":20},hue='label')\r\n",
        "plt.show()"
      ],
      "execution_count": null,
      "outputs": []
    },
    {
      "cell_type": "code",
      "metadata": {
        "id": "oDHYrkSZMRx9"
      },
      "source": [
        ""
      ],
      "execution_count": null,
      "outputs": []
    }
  ]
}