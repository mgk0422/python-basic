{
  "nbformat": 4,
  "nbformat_minor": 0,
  "metadata": {
    "colab": {
      "name": "crawlingktl01",
      "private_outputs": true,
      "provenance": [],
      "collapsed_sections": [],
      "authorship_tag": "ABX9TyOTnML3YL9ZkzcjofFdASOe",
      "include_colab_link": true
    },
    "kernelspec": {
      "name": "python3",
      "display_name": "Python 3"
    }
  },
  "cells": [
    {
      "cell_type": "markdown",
      "metadata": {
        "id": "view-in-github",
        "colab_type": "text"
      },
      "source": [
        "<a href=\"https://colab.research.google.com/github/mgk0422/python-basic/blob/master/crawlingktl01.ipynb\" target=\"_parent\"><img src=\"https://colab.research.google.com/assets/colab-badge.svg\" alt=\"Open In Colab\"/></a>"
      ]
    },
    {
      "cell_type": "code",
      "metadata": {
        "id": "1w7iEoNURflB"
      },
      "source": [
        "# 한국철강협회(정회원_철강제조업체)"
      ],
      "execution_count": null,
      "outputs": []
    },
    {
      "cell_type": "code",
      "metadata": {
        "id": "2X9_n8OcpP8A"
      },
      "source": [
        "!pip install selenium"
      ],
      "execution_count": null,
      "outputs": []
    },
    {
      "cell_type": "code",
      "metadata": {
        "id": "yw6fPY1ctnFR"
      },
      "source": [
        "!apt-get update\r\n",
        "!apt-get install chromium-chromedriver\r\n",
        "import os, subprocess\r\n",
        "import sys"
      ],
      "execution_count": null,
      "outputs": []
    },
    {
      "cell_type": "code",
      "metadata": {
        "id": "2UbraF6H860z"
      },
      "source": [
        "!pip install Selenium\r\n",
        "\r\n",
        "!apt-get update # to update ubuntu to correctly run apt install\r\n",
        "\r\n",
        "!apt install chromium-chromedriver"
      ],
      "execution_count": null,
      "outputs": []
    },
    {
      "cell_type": "code",
      "metadata": {
        "id": "uOhxDEF589lg"
      },
      "source": [
        "from selenium import webdriver\r\n",
        "chrome_options = webdriver.ChromeOptions()\r\n",
        "chrome_options.add_argument('--headless') #내부 창을 띄울 수 없으므로 설정\r\n",
        "chrome_options.add_argument('--no-sandbox')\r\n",
        "chrome_options.add_argument('--disable-dev-shm-usage')\r\n",
        "wd = webdriver.Chrome('chromedriver',chrome_options=chrome_options)\r\n",
        "wd.get(\"http://naver.com\")"
      ],
      "execution_count": null,
      "outputs": []
    },
    {
      "cell_type": "code",
      "metadata": {
        "id": "_V-KFKCZvso6"
      },
      "source": [
        "options = webdriver.ChromeOptions()\r\n",
        "options.add_argument('headless')  # headless를 주면 동작하는 모습을 볼 수 없음\r\n",
        "options.add_argument('--no-sandbox')\r\n",
        "options.add_argument('--disable-dev-shm-usage')\r\n",
        "options.add_argument('disable-gpu')\r\n",
        "options.add_argument('lang=ko_KR')\r\n",
        "driver = webdriver.Chrome('chromedriver', options=options)"
      ],
      "execution_count": null,
      "outputs": []
    },
    {
      "cell_type": "code",
      "metadata": {
        "id": "Y-H2gPlbviTO"
      },
      "source": [
        "driver.get('http://kosa.or.kr/member/MemCom_list.jsp')\r\n",
        "driver.find_element_by_xpath('//*[@id=\"content\"]/div/ul/li[1]/a/span').click()"
      ],
      "execution_count": null,
      "outputs": []
    },
    {
      "cell_type": "code",
      "metadata": {
        "id": "sY3ZhMRypaak"
      },
      "source": [
        "tag_listlist=[]\r\n",
        "for page in range(1,9):\r\n",
        "    driver.get('http://kosa.or.kr/member/MemCom_list.jsp?keyword=&page={0}&category=#'.format(page))\r\n",
        "    tag_names = driver.find_element_by_css_selector(\".listTypeD\").find_elements_by_tag_name(\"dl\")\r\n",
        "    for tag in tag_names:\r\n",
        "        name = []\r\n",
        "        name.append(tag.text)\r\n",
        "        tag_listlist.append(tag.text)\r\n",
        "print(tag_listlist)\r\n",
        "print(len(tag_listlist))"
      ],
      "execution_count": null,
      "outputs": []
    },
    {
      "cell_type": "code",
      "metadata": {
        "id": "wXyFVZoW2EKb"
      },
      "source": [
        "b=[]\r\n",
        "for i in range(len(tag_listlist)):\r\n",
        "    tag_listlist[i] = tag_listlist[i].replace(\"\\n\", \",\")\r\n",
        "    #tag_listlist.append(tag.text)\r\n",
        "    b.append(tag_listlist[i])\r\n",
        "print(b)\r\n",
        "print(len(b))"
      ],
      "execution_count": null,
      "outputs": []
    },
    {
      "cell_type": "code",
      "metadata": {
        "id": "w0zyFXNGMLD2"
      },
      "source": [
        "list1 = [[] for _ in range(len(b))]\r\n",
        "\r\n",
        "for idx, value in enumerate(b):\r\n",
        "   list1[idx].append(value)\r\n",
        "print(list1) "
      ],
      "execution_count": null,
      "outputs": []
    },
    {
      "cell_type": "code",
      "metadata": {
        "id": "UwrfTaqFGRRn"
      },
      "source": [
        "ss = []\r\n",
        "for i in list1:\r\n",
        "    ss.append(i[0].split(','))"
      ],
      "execution_count": null,
      "outputs": []
    },
    {
      "cell_type": "code",
      "metadata": {
        "id": "XvDLnJ83GWk7"
      },
      "source": [
        "ss"
      ],
      "execution_count": null,
      "outputs": []
    },
    {
      "cell_type": "code",
      "metadata": {
        "id": "tTB0OpiaHxik"
      },
      "source": [
        "len(ss)"
      ],
      "execution_count": null,
      "outputs": []
    },
    {
      "cell_type": "code",
      "metadata": {
        "id": "8h4X6KLiveKI"
      },
      "source": [
        "import pandas as pd\r\n",
        "\r\n",
        "table=pd.DataFrame(ss,columns=['기업명','업종0','업종','본사주소0','주소','생산품목0','생산품목','홈페이지바로가기','0'])\r\n",
        "\r\n",
        "table=table.drop(['업종0','본사주소0','0'],axis=1)"
      ],
      "execution_count": null,
      "outputs": []
    },
    {
      "cell_type": "code",
      "metadata": {
        "id": "PNZqbY-wlVxH"
      },
      "source": [
        "table"
      ],
      "execution_count": null,
      "outputs": []
    },
    {
      "cell_type": "code",
      "metadata": {
        "id": "JAhxvbsEMvWT"
      },
      "source": [
        "table.to_excel('한국철강협회(정회원_철강제조업체).xlsx')"
      ],
      "execution_count": null,
      "outputs": []
    },
    {
      "cell_type": "code",
      "metadata": {
        "id": "7nstP-HnRqVr"
      },
      "source": [
        "## 한국철강협회(특별회원_유통및단체)"
      ],
      "execution_count": null,
      "outputs": []
    },
    {
      "cell_type": "code",
      "metadata": {
        "id": "5-h0ir8RStK4"
      },
      "source": [
        "driver.get('http://kosa.or.kr/member/MemCom_list2.jsp')\r\n",
        "driver.find_element_by_xpath('//*[@id=\"content\"]/div/ul/li[2]/a/span').click()"
      ],
      "execution_count": null,
      "outputs": []
    },
    {
      "cell_type": "code",
      "metadata": {
        "id": "UnpQ8w7FTAz_"
      },
      "source": [
        "tag_spe=[]\r\n",
        "for page in range(1,3):\r\n",
        "    driver.get('http://kosa.or.kr/member/MemCom_list.jsp?keyword=&page={0}&category=#'.format(page))\r\n",
        "    tag_names = driver.find_element_by_css_selector(\".listTypeD\").find_elements_by_tag_name(\"dl\")\r\n",
        "    for tag in tag_names:\r\n",
        "        name = []\r\n",
        "        name.append(tag.text)\r\n",
        "        tag_spe.append(tag.text)\r\n",
        "print(tag_spe)\r\n",
        "print(len(tag_spe))"
      ],
      "execution_count": null,
      "outputs": []
    },
    {
      "cell_type": "code",
      "metadata": {
        "id": "3EN8kEdWPl-l"
      },
      "source": [
        "# 한국지능형사물인터넷협회"
      ],
      "execution_count": null,
      "outputs": []
    },
    {
      "cell_type": "code",
      "metadata": {
        "id": "mc-MzPwSRdrc"
      },
      "source": [
        ""
      ],
      "execution_count": null,
      "outputs": []
    }
  ]
}