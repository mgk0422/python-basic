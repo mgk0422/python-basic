{
  "nbformat": 4,
  "nbformat_minor": 0,
  "metadata": {
    "colab": {
      "name": "Stacking",
      "private_outputs": true,
      "provenance": [],
      "authorship_tag": "ABX9TyPbH9Qeg8wze6UJ86alPRuU",
      "include_colab_link": true
    },
    "kernelspec": {
      "name": "python3",
      "display_name": "Python 3"
    }
  },
  "cells": [
    {
      "cell_type": "markdown",
      "metadata": {
        "id": "view-in-github",
        "colab_type": "text"
      },
      "source": [
        "<a href=\"https://colab.research.google.com/github/mgk0422/python-basic/blob/master/Stacking.ipynb\" target=\"_parent\"><img src=\"https://colab.research.google.com/assets/colab-badge.svg\" alt=\"Open In Colab\"/></a>"
      ]
    },
    {
      "cell_type": "code",
      "metadata": {
        "id": "syKBTnSO7j4B"
      },
      "source": [
        "pip install xlsxwriter"
      ],
      "execution_count": null,
      "outputs": []
    },
    {
      "cell_type": "code",
      "metadata": {
        "id": "R0_QXUnx7pXi"
      },
      "source": [
        "import pandas as pd\n",
        "import numpy as np\n",
        "import glob\n",
        "import sys\n",
        "from openpyxl import load_workbook\n",
        "import xlsxwriter\n",
        "import matplotlib.pyplot as plt\n",
        "import seaborn as sns\n",
        "\n",
        "%matplotlib inline"
      ],
      "execution_count": null,
      "outputs": []
    },
    {
      "cell_type": "code",
      "metadata": {
        "id": "OuYkaitW7qfw"
      },
      "source": [
        "# 코랩 한글깨짐 설정\n",
        "import matplotlib as mpl\n",
        "import matplotlib.pyplot as plt\n",
        " \n",
        "%config InlineBackend.figure_format = 'retina'\n",
        " \n",
        "!apt -qq -y install fonts-nanum\n",
        " \n",
        "import matplotlib.font_manager as fm\n",
        "fontpath = '/usr/share/fonts/truetype/nanum/NanumBarunGothic.ttf'\n",
        "font = fm.FontProperties(fname=fontpath, size=9)\n",
        "plt.rc('font', family='NanumBarunGothic') \n",
        "mpl.font_manager._rebuild()"
      ],
      "execution_count": null,
      "outputs": []
    },
    {
      "cell_type": "code",
      "metadata": {
        "id": "Pq9h_WAAB6xR"
      },
      "source": [
        "import numpy as np\r\n",
        "\r\n",
        "from sklearn.neighbors import KNeighborsClassifier\r\n",
        "from sklearn.ensemble import RandomForestClassifier\r\n",
        "from sklearn.ensemble import AdaBoostClassifier\r\n",
        "from sklearn.tree import DecisionTreeClassifier\r\n",
        "from sklearn.linear_model import LogisticRegression\r\n",
        "\r\n",
        "from sklearn.datasets import load_breast_cancer\r\n",
        "from sklearn.model_selection import train_test_split\r\n",
        "from sklearn.metrics import accuracy_score\r\n",
        "\r\n",
        "cancer_data=load_breast_cancer()\r\n",
        "\r\n",
        "X_data=cancer_data.data\r\n",
        "y_label=cancer_data.target\r\n",
        "\r\n",
        "X_train,X_test,y_train,y_test=train_test_split(X_data,y_label,test_size=0.2,random_state=0)"
      ],
      "execution_count": null,
      "outputs": []
    },
    {
      "cell_type": "code",
      "metadata": {
        "id": "VwWcpZYBFAQN"
      },
      "source": [
        "# 개별 ML 모델 생성\r\n",
        "knn_clf=KNeighborsClassifier(n_neighbors=4)\r\n",
        "rf_clf=RandomForestClassifier(n_estimators=100,random_state=0)\r\n",
        "dt_clf=DecisionTreeClassifier()\r\n",
        "ada_clf=AdaBoostClassifier(n_estimators=100)\r\n",
        "\r\n",
        "# 스태킹으로 만들어진 데이터를 학습, 예측할 최종 모델\r\n",
        "lr_final=LogisticRegression(C=10)\r\n",
        "\r\n",
        "# 개별모델 학습\r\n",
        "knn_clf.fit(X_train,y_train)\r\n",
        "rf_clf.fit(X_train,y_train)\r\n",
        "dt_clf.fit(X_train,y_train)\r\n",
        "ada_clf.fit(X_train,y_train)\r\n",
        "\r\n",
        "# 학습된 개별 모델들이 각자 반환하는 예측 데이터 세트를 생성하고 개별 모델의 정확도 측정\r\n",
        "knn_pred=knn_clf.predict(X_test)\r\n",
        "rf_pred=rf_clf.predict(X_test)\r\n",
        "dt_pred=dt_clf.predict(X_test)\r\n",
        "ada_pred=ada_clf.predict(X_test)\r\n",
        "\r\n",
        "print('knn 정확도:{0:.4f}'.format(accuracy_score(y_test,knn_pred)))\r\n",
        "print('랜덤포레스트 정확도:{0:.4f}'.format(accuracy_score(y_test,rf_pred)))\r\n",
        "print('결정트리 정확도:{0:.4f}'.format(accuracy_score(y_test,dt_pred)))\r\n",
        "print('에이다부스트 정확도:{0:.4f}'.format(accuracy_score(y_test,ada_pred)))"
      ],
      "execution_count": null,
      "outputs": []
    },
    {
      "cell_type": "code",
      "metadata": {
        "id": "flyzpFnXJp0z"
      },
      "source": [
        "pred = np.array([knn_pred, rf_pred, dt_pred, ada_pred])\r\n",
        "print(pred.shape)\r\n",
        "\r\n",
        "# transpose를 이용해 행과 열의 위치 교환. 컬럼 레벨로 각 알고리즘의 예측 결과를 피처로 만듦. \r\n",
        "pred = np.transpose(pred)\r\n",
        "print(pred.shape)"
      ],
      "execution_count": null,
      "outputs": []
    },
    {
      "cell_type": "code",
      "metadata": {
        "id": "yarVvIBPJ2xs"
      },
      "source": [
        "lr_final.fit(pred,y_test)\r\n",
        "final=lr_final.predict(pred)\r\n",
        "\r\n",
        "print('최종 메타모델  예측 정확도:{0:.4f}'.format(accuracy_score(y_test,final)))"
      ],
      "execution_count": null,
      "outputs": []
    },
    {
      "cell_type": "code",
      "metadata": {
        "id": "Y3IuZT_VKbMu"
      },
      "source": [
        "# cv세트 기반의 스태킹\r\n",
        "# cv 세트 기반의 스태킹 모델은 과적합을 개선하기 위해 최종 메타 모델을 위한 \r\n",
        "# 데이터 세트를 만들때 교차 검증 기반으로 예측된 결과 데이터 세트를 이용함\r\n",
        "# 스텝1 : 각 모델별로 원본 학습/테스트 데이터를 예측한 결과값을 기반으로 메타 모델을 위한 학습용/테스트용 데이터를 생성\r\n",
        "# 스텝2 : 스텝 1에서 개별 모델들이 생성한 학습용 데이터를 모두 스태킹 형태로 합쳐서 메타 모델이 학습할 최종 학습용 데이터 세트를 생성"
      ],
      "execution_count": null,
      "outputs": []
    },
    {
      "cell_type": "code",
      "metadata": {
        "id": "0rAIA6nsQTC3"
      },
      "source": [
        "from sklearn.model_selection import KFold\r\n",
        "from sklearn.metrics import mean_absolute_error\r\n",
        "\r\n",
        "# 개별 기반 모델에서 최종 메타 모델이 사용할 학습 및 테스트용 데이터를 생성하기 위한 함수. \r\n",
        "def get_stacking_base_datasets(model, X_train_n, y_train_n, X_test_n, n_folds ):\r\n",
        "    # 지정된 n_folds값으로 KFold 생성.\r\n",
        "    kf = KFold(n_splits=n_folds, shuffle=False, random_state=0)\r\n",
        "    #추후에 메타 모델이 사용할 학습 데이터 반환을 위한 넘파이 배열 초기화 \r\n",
        "    train_fold_pred = np.zeros((X_train_n.shape[0] ,1 ))\r\n",
        "    test_pred = np.zeros((X_test_n.shape[0],n_folds))\r\n",
        "    print(model.__class__.__name__ , ' model 시작 ')\r\n",
        "    \r\n",
        "    for folder_counter , (train_index, valid_index) in enumerate(kf.split(X_train_n)):\r\n",
        "        #입력된 학습 데이터에서 기반 모델이 학습/예측할 폴드 데이터 셋 추출 \r\n",
        "        print('\\t 폴드 세트: ',folder_counter,' 시작 ')\r\n",
        "        X_tr = X_train_n[train_index] \r\n",
        "        y_tr = y_train_n[train_index] \r\n",
        "        X_te = X_train_n[valid_index]  \r\n",
        "        \r\n",
        "        #폴드 세트 내부에서 다시 만들어진 학습 데이터로 기반 모델의 학습 수행.\r\n",
        "        model.fit(X_tr , y_tr)       \r\n",
        "        #폴드 세트 내부에서 다시 만들어진 검증 데이터로 기반 모델 예측 후 데이터 저장.\r\n",
        "        train_fold_pred[valid_index, :] = model.predict(X_te).reshape(-1,1)\r\n",
        "        #입력된 원본 테스트 데이터를 폴드 세트내 학습된 기반 모델에서 예측 후 데이터 저장. \r\n",
        "        test_pred[:, folder_counter] = model.predict(X_test_n)\r\n",
        "            \r\n",
        "    # 폴드 세트 내에서 원본 테스트 데이터를 예측한 데이터를 평균하여 테스트 데이터로 생성 \r\n",
        "    test_pred_mean = np.mean(test_pred, axis=1).reshape(-1,1)    \r\n",
        "    \r\n",
        "    #train_fold_pred는 최종 메타 모델이 사용하는 학습 데이터, test_pred_mean은 테스트 데이터\r\n",
        "    return train_fold_pred , test_pred_mean"
      ],
      "execution_count": null,
      "outputs": []
    },
    {
      "cell_type": "code",
      "metadata": {
        "id": "LYH8utuZRS4r"
      },
      "source": [
        "knn_train, knn_test = get_stacking_base_datasets(knn_clf, X_train, y_train, X_test, 7)\r\n",
        "rf_train, rf_test = get_stacking_base_datasets(rf_clf, X_train, y_train, X_test, 7)\r\n",
        "dt_train, dt_test = get_stacking_base_datasets(dt_clf, X_train, y_train, X_test,  7)    \r\n",
        "ada_train, ada_test = get_stacking_base_datasets(ada_clf, X_train, y_train, X_test, 7)"
      ],
      "execution_count": null,
      "outputs": []
    },
    {
      "cell_type": "code",
      "metadata": {
        "id": "VsWQNzFnRW--"
      },
      "source": [
        "Stack_final_X_train = np.concatenate((knn_train, rf_train, dt_train, ada_train), axis=1)\r\n",
        "Stack_final_X_test = np.concatenate((knn_test, rf_test, dt_test, ada_test), axis=1)\r\n",
        "print('원본 학습 피처 데이터 Shape:',X_train.shape, '원본 테스트 피처 Shape:',X_test.shape)\r\n",
        "print('스태킹 학습 피처 데이터 Shape:', Stack_final_X_train.shape,\r\n",
        "      '스태킹 테스트 피처 데이터 Shape:',Stack_final_X_test.shape)"
      ],
      "execution_count": null,
      "outputs": []
    },
    {
      "cell_type": "code",
      "metadata": {
        "id": "6PmgawEzRaRG"
      },
      "source": [
        "lr_final.fit(Stack_final_X_train, y_train)\r\n",
        "stack_final = lr_final.predict(Stack_final_X_test)\r\n",
        "\r\n",
        "print('최종 메타 모델의 예측 정확도: {0:.4f}'.format(accuracy_score(y_test, stack_final)))"
      ],
      "execution_count": null,
      "outputs": []
    },
    {
      "cell_type": "code",
      "metadata": {
        "id": "nK6SJEUnRfIc"
      },
      "source": [
        ""
      ],
      "execution_count": null,
      "outputs": []
    }
  ]
}