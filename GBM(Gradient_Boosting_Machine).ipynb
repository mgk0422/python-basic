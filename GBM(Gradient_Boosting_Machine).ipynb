{
  "nbformat": 4,
  "nbformat_minor": 0,
  "metadata": {
    "colab": {
      "name": "GBM(Gradient Boosting Machine)",
      "private_outputs": true,
      "provenance": [],
      "authorship_tag": "ABX9TyNg5ttXWPzQsAIjrgNNhumn",
      "include_colab_link": true
    },
    "kernelspec": {
      "name": "python3",
      "display_name": "Python 3"
    }
  },
  "cells": [
    {
      "cell_type": "markdown",
      "metadata": {
        "id": "view-in-github",
        "colab_type": "text"
      },
      "source": [
        "<a href=\"https://colab.research.google.com/github/mgk0422/python-basic/blob/master/GBM(Gradient_Boosting_Machine).ipynb\" target=\"_parent\"><img src=\"https://colab.research.google.com/assets/colab-badge.svg\" alt=\"Open In Colab\"/></a>"
      ]
    },
    {
      "cell_type": "code",
      "metadata": {
        "id": "q33k8-lX3-e6"
      },
      "source": [
        "from sklearn.ensemble import RandomForestClassifier\r\n",
        "from sklearn.metrics import accuracy_score\r\n",
        "import pandas as pd\r\n",
        "import warnings\r\n",
        "warnings.filterwarnings('ignore')"
      ],
      "execution_count": null,
      "outputs": []
    },
    {
      "cell_type": "code",
      "metadata": {
        "id": "7Oo56w3Q7FMm"
      },
      "source": [
        "def get_new_feature_name_df(old_feature_name_df):\r\n",
        "    feature_dup_df = pd.DataFrame(data=old_feature_name_df.groupby('column_name').cumcount(),\r\n",
        "                                  columns=['dup_cnt'])\r\n",
        "    feature_dup_df = feature_dup_df.reset_index()\r\n",
        "    new_feature_name_df = pd.merge(old_feature_name_df.reset_index(), feature_dup_df, how='outer')\r\n",
        "    new_feature_name_df['column_name'] = new_feature_name_df[['column_name', 'dup_cnt']].apply(lambda x : x[0]+'_'+str(x[1]) \r\n",
        "                                                                                         if x[1] >0 else x[0] ,  axis=1)\r\n",
        "    new_feature_name_df = new_feature_name_df.drop(['index'], axis=1)\r\n",
        "    return new_feature_name_df"
      ],
      "execution_count": null,
      "outputs": []
    },
    {
      "cell_type": "code",
      "metadata": {
        "id": "sgfTbLO78HTd"
      },
      "source": [
        "import pandas as pd\r\n",
        "\r\n",
        "def get_human_dataset( ):\r\n",
        "    \r\n",
        "    # 각 데이터 파일들은 공백으로 분리되어 있으므로 read_csv에서 공백 문자를 sep으로 할당.\r\n",
        "    feature_name_df = pd.read_csv('/content/sample_data/features.txt',sep='\\s+',\r\n",
        "                        header=None,names=['column_index','column_name'])\r\n",
        "    \r\n",
        "    # 중복된 피처명을 수정하는 get_new_feature_name_df()를 이용, 신규 피처명 DataFrame생성. \r\n",
        "    new_feature_name_df = get_new_feature_name_df(feature_name_df)\r\n",
        "    \r\n",
        "    # DataFrame에 피처명을 컬럼으로 부여하기 위해 리스트 객체로 다시 변환\r\n",
        "    feature_name = new_feature_name_df.iloc[:, 1].values.tolist()\r\n",
        "    \r\n",
        "    # 학습 피처 데이터 셋과 테스트 피처 데이터을 DataFrame으로 로딩. 컬럼명은 feature_name 적용\r\n",
        "    X_train = pd.read_csv('/content/sample_data/X_train.txt',sep='\\s+', names=feature_name )\r\n",
        "    X_test = pd.read_csv('/content/sample_data/X_test.txt',sep='\\s+', names=feature_name)\r\n",
        "    \r\n",
        "    # 학습 레이블과 테스트 레이블 데이터을 DataFrame으로 로딩하고 컬럼명은 action으로 부여\r\n",
        "    y_train = pd.read_csv('/content/sample_data/y_train.txt',sep='\\s+',header=None,names=['action'])\r\n",
        "    y_test = pd.read_csv('/content/sample_data/y_test.txt',sep='\\s+',header=None,names=['action'])\r\n",
        "    \r\n",
        "    # 로드된 학습/테스트용 DataFrame을 모두 반환 \r\n",
        "    return X_train, X_test, y_train, y_test\r\n",
        "\r\n",
        "X_train, X_test, y_train, y_test = get_human_dataset()"
      ],
      "execution_count": null,
      "outputs": []
    },
    {
      "cell_type": "code",
      "metadata": {
        "id": "64nCTGKsoQ0w"
      },
      "source": [
        "from sklearn.ensemble import GradientBoostingClassifier\r\n",
        "import time\r\n",
        "import warnings\r\n",
        "warnings.filterwarnings('ignore')\r\n",
        "\r\n",
        "X_train, X_test, y_train, y_test = get_human_dataset()\r\n",
        "\r\n",
        "start_time=time.time()\r\n",
        "\r\n",
        "gb_clf=GradientBoostingClassifier(random_state=0)\r\n",
        "gb_clf.fit(X_train,y_train)\r\n",
        "gb_pred=gb_clf.predict(X_test)\r\n",
        "gb_accuracy=accuracy_score(y_test,gb_pred)\r\n",
        "print('GBM정확도:{0:.4f}'.format(gb_accuracy))"
      ],
      "execution_count": null,
      "outputs": []
    },
    {
      "cell_type": "code",
      "metadata": {
        "id": "AvaWbvixpG4o"
      },
      "source": [
        "# GBM 하이퍼파라미터튜닝\r\n",
        "from sklearn.model_selection import GridSearchCV\r\n",
        "\r\n",
        "params={'n_estimators':[100,500],\r\n",
        "        'learning_rate':[0.05,0.1]}\r\n",
        "grid_cv=GridSearchCV(gb_clf,param_grid=params,cv=2,verbose=1)\r\n",
        "grid_cv.fit(X_train,y_train)\r\n",
        "print('최적의 하이퍼 파라미터:\\n',grid_cv.best_params_)\r\n",
        "print('최고 예측 정확도:{0:.4f}'.format(grid_cv.best_score_))"
      ],
      "execution_count": null,
      "outputs": []
    },
    {
      "cell_type": "code",
      "metadata": {
        "id": "w0BB9Xp9p0sX"
      },
      "source": [
        "# GBM은 과적합에도 강한 뛰어난 예측 성능을 가진 알고리즘, 수행시간이 오래걸림\r\n",
        "# 그래디언트 부스팅 기반 ML패키지는 XGBoost와 LightGBM"
      ],
      "execution_count": null,
      "outputs": []
    }
  ]
}