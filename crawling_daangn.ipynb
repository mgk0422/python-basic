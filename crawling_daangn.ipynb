{
  "nbformat": 4,
  "nbformat_minor": 0,
  "metadata": {
    "colab": {
      "name": "crawling_daangn",
      "private_outputs": true,
      "provenance": [],
      "authorship_tag": "ABX9TyPxG1se273+y3VW8pDZZ3YG",
      "include_colab_link": true
    },
    "kernelspec": {
      "name": "python3",
      "display_name": "Python 3"
    }
  },
  "cells": [
    {
      "cell_type": "markdown",
      "metadata": {
        "id": "view-in-github",
        "colab_type": "text"
      },
      "source": [
        "<a href=\"https://colab.research.google.com/github/mgk0422/python-basic/blob/master/crawling_daangn.ipynb\" target=\"_parent\"><img src=\"https://colab.research.google.com/assets/colab-badge.svg\" alt=\"Open In Colab\"/></a>"
      ]
    },
    {
      "cell_type": "code",
      "metadata": {
        "id": "-KfXcJ9TM2dV"
      },
      "source": [
        "import requests"
      ],
      "execution_count": null,
      "outputs": []
    },
    {
      "cell_type": "code",
      "metadata": {
        "id": "Csv5GxOrNGbh"
      },
      "source": [
        "webpage=requests.get(\"https://www.daangn.com/hot_articles\")\r\n",
        "print(webpage.text)"
      ],
      "execution_count": null,
      "outputs": []
    },
    {
      "cell_type": "markdown",
      "metadata": {
        "id": "RaUabLvDNjwv"
      },
      "source": [
        "### 1. BeautifulSoup"
      ]
    },
    {
      "cell_type": "code",
      "metadata": {
        "id": "6LNvP6JrNW6j"
      },
      "source": [
        "import requests\r\n",
        "from bs4 import BeautifulSoup\r\n",
        "\r\n",
        "webpage=requests.get(\"https://www.daangn.com/hot_articles\")\r\n",
        "soup= BeautifulSoup(webpage.content,\"html.parser\")\r\n",
        "\r\n",
        "print(soup)"
      ],
      "execution_count": null,
      "outputs": []
    },
    {
      "cell_type": "markdown",
      "metadata": {
        "id": "d8V7U0vEPs7a"
      },
      "source": [
        "### 2. 태그(Tag) 탐색하기"
      ]
    },
    {
      "cell_type": "code",
      "metadata": {
        "id": "jFEWJhagOFYL"
      },
      "source": [
        "print(soup.p)"
      ],
      "execution_count": null,
      "outputs": []
    },
    {
      "cell_type": "code",
      "metadata": {
        "id": "mxzqPyM0OcMj"
      },
      "source": [
        "print(soup.p.string)"
      ],
      "execution_count": null,
      "outputs": []
    },
    {
      "cell_type": "code",
      "metadata": {
        "id": "Hshz34b1OkNi"
      },
      "source": [
        "print(soup.h1)"
      ],
      "execution_count": null,
      "outputs": []
    },
    {
      "cell_type": "code",
      "metadata": {
        "id": "DOtO4CvZOrvu"
      },
      "source": [
        "# 하위항목을 모두 뽑아오고싶다면 .children을 사용한다 \r\n",
        "# ex) ul 태그 안에 리스트가 있다면?\r\n",
        "\r\n",
        "for child in soup.ul.children:\r\n",
        "    print(child)"
      ],
      "execution_count": null,
      "outputs": []
    },
    {
      "cell_type": "code",
      "metadata": {
        "id": "VCpsy2KHPFTI"
      },
      "source": [
        "# 지정된 태그의 상위 항목을 가져오고싶을때는 .parent사용\r\n",
        "# ul 상위에 있는 body태그를 출력한 후, 전체 html 까지 추가로 출력\r\n",
        "# 계속 상위를 타고 올라감\r\n",
        "for parent in soup.ul.parents:\r\n",
        "    print(parent)"
      ],
      "execution_count": null,
      "outputs": []
    },
    {
      "cell_type": "code",
      "metadata": {
        "id": "csSHH2ZpPZ8S"
      },
      "source": [
        "# div 태그 하위에 있는 요소를 하나씩 출력하려면?\r\n",
        "for d in soup.div.children:\r\n",
        "    print(d)"
      ],
      "execution_count": null,
      "outputs": []
    },
    {
      "cell_type": "markdown",
      "metadata": {
        "id": "2j-kAuouPzsO"
      },
      "source": [
        "### 3.  웹사이트 구조 분석하기 (개발자도구)"
      ]
    },
    {
      "cell_type": "code",
      "metadata": {
        "id": "8ixbSCyKPmvd"
      },
      "source": [
        "# F12"
      ],
      "execution_count": null,
      "outputs": []
    },
    {
      "cell_type": "markdown",
      "metadata": {
        "id": "XQzyxyrRQEI-"
      },
      "source": [
        "#### 4. find_all을 통해 원하는 부분 가져오기"
      ]
    },
    {
      "cell_type": "code",
      "metadata": {
        "id": "bRLis4khP6j1"
      },
      "source": [
        "#원하는 부분을 모두 가져올수있는 .find_all"
      ],
      "execution_count": null,
      "outputs": []
    },
    {
      "cell_type": "code",
      "metadata": {
        "id": "RlBXv1tvQQ1K"
      },
      "source": [
        "print(soup.find_all(\"h2\"))"
      ],
      "execution_count": null,
      "outputs": []
    },
    {
      "cell_type": "code",
      "metadata": {
        "id": "83nL5UcRQWxf"
      },
      "source": [
        "# 정규식 활용하기\r\n",
        "import re\r\n",
        "soup.find_all(re.compile(\"h[1-9]\"))"
      ],
      "execution_count": null,
      "outputs": []
    },
    {
      "cell_type": "code",
      "metadata": {
        "id": "sqQfg2dLQZ3R"
      },
      "source": [
        "# 리스트 활용하기\r\n",
        "soup.find_all(['h1','p'])"
      ],
      "execution_count": null,
      "outputs": []
    },
    {
      "cell_type": "code",
      "metadata": {
        "id": "vQGZjZZWQ6Ny"
      },
      "source": [
        "#html 속성 활용하기\r\n",
        "soup.find_all(attrs={'class':'card-title'})"
      ],
      "execution_count": null,
      "outputs": []
    }
  ]
}