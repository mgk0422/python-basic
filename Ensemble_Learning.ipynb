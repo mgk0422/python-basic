{
  "nbformat": 4,
  "nbformat_minor": 0,
  "metadata": {
    "colab": {
      "name": "Ensemble Learning",
      "private_outputs": true,
      "provenance": [],
      "authorship_tag": "ABX9TyMSB4Nl2aiwCjt+/GGE2WMB",
      "include_colab_link": true
    },
    "kernelspec": {
      "name": "python3",
      "display_name": "Python 3"
    }
  },
  "cells": [
    {
      "cell_type": "markdown",
      "metadata": {
        "id": "view-in-github",
        "colab_type": "text"
      },
      "source": [
        "<a href=\"https://colab.research.google.com/github/mgk0422/python-basic/blob/master/Ensemble_Learning.ipynb\" target=\"_parent\"><img src=\"https://colab.research.google.com/assets/colab-badge.svg\" alt=\"Open In Colab\"/></a>"
      ]
    },
    {
      "cell_type": "code",
      "metadata": {
        "id": "AVeVGdpThcFH"
      },
      "source": [
        "import pandas as pd\r\n",
        "\r\n",
        "from sklearn.ensemble import VotingClassifier\r\n",
        "from sklearn.linear_model import LogisticRegression\r\n",
        "from sklearn.neighbors import KNeighborsClassifier\r\n",
        "from sklearn.datasets import load_breast_cancer\r\n",
        "from sklearn.model_selection import train_test_split\r\n",
        "from sklearn.metrics import accuracy_score\r\n",
        "\r\n",
        "cancer=load_breast_cancer()\r\n",
        "\r\n",
        "data_df=pd.DataFrame(cancer.data,columns=cancer.feature_names)\r\n",
        "data_df.head()"
      ],
      "execution_count": null,
      "outputs": []
    },
    {
      "cell_type": "code",
      "metadata": {
        "id": "dVTkV0hTieBR"
      },
      "source": [
        "lr_clf=LogisticRegression()\r\n",
        "knn_clf=KNeighborsClassifier(n_neighbors=8)\r\n",
        "\r\n",
        "vo_clf=VotingClassifier(estimators=[('LR',lr_clf),('KNN',knn_clf)],voting='soft')\r\n",
        "\r\n",
        "X_train,X_test,y_train,y_test=train_test_split(cancer.data,cancer.target,test_size=0.2,random_state=156)\r\n",
        "\r\n",
        "#VotingClassifiet 학습/예측/평가\r\n",
        "vo_clf.fit(X_train,y_train)\r\n",
        "pred=vo_clf.predict(X_test)\r\n",
        "print('Voting분류기 정확도:{0:.4f}'.format(accuracy_score(y_test,pred)))"
      ],
      "execution_count": null,
      "outputs": []
    },
    {
      "cell_type": "code",
      "metadata": {
        "id": "JJl7q9NqpvZ4"
      },
      "source": [
        "# 개별 모델의 학습/예측/평가\r\n",
        "classifiers=[lr_clf,knn_clf]\r\n",
        "for classifier in classifiers:\r\n",
        "    classifier.fit(X_train,y_train)\r\n",
        "    pred=classifier.predict(X_test)\r\n",
        "    class_name=classifier.__class__.__name__\r\n",
        "    print('{0}정확도:{1:.4f}'.format(class_name,accuracy_score(y_test,pred)))"
      ],
      "execution_count": null,
      "outputs": []
    },
    {
      "cell_type": "code",
      "metadata": {
        "id": "8HNcYbtjqVFA"
      },
      "source": [
        "# 보팅 분류기가 가장 높게 나왔지만 무조건 결합한다고 예측 성능이 향상되는것은 아님\r\n",
        "# 하지만 앙상블방법(보팅,배깅,부스팅 등)은 전반적으로 다루는 단일 ML알고리즘보다 뛰어난 예측 성능을 가지는 경우가 많다"
      ],
      "execution_count": null,
      "outputs": []
    }
  ]
}