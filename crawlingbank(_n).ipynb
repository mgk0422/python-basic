{
  "nbformat": 4,
  "nbformat_minor": 0,
  "metadata": {
    "colab": {
      "name": "crawlingbank(\\n)",
      "private_outputs": true,
      "provenance": [],
      "authorship_tag": "ABX9TyOIwK+mg/gqu4zxvvVe+Lt6",
      "include_colab_link": true
    },
    "kernelspec": {
      "name": "python3",
      "display_name": "Python 3"
    }
  },
  "cells": [
    {
      "cell_type": "markdown",
      "metadata": {
        "id": "view-in-github",
        "colab_type": "text"
      },
      "source": [
        "<a href=\"https://colab.research.google.com/github/mgk0422/python-basic/blob/master/crawlingbank(_n).ipynb\" target=\"_parent\"><img src=\"https://colab.research.google.com/assets/colab-badge.svg\" alt=\"Open In Colab\"/></a>"
      ]
    },
    {
      "cell_type": "code",
      "metadata": {
        "id": "1w7iEoNURflB"
      },
      "source": [
        "#https://www.kofia.or.kr/members/m_60/sub020201.do?page=1&srchCate=4&srchTp=&srchWord=&pitem=10\r\n",
        "#금융투자협회"
      ],
      "execution_count": null,
      "outputs": []
    },
    {
      "cell_type": "code",
      "metadata": {
        "id": "2X9_n8OcpP8A"
      },
      "source": [
        "!pip install selenium"
      ],
      "execution_count": null,
      "outputs": []
    },
    {
      "cell_type": "code",
      "metadata": {
        "id": "yw6fPY1ctnFR"
      },
      "source": [
        "!apt-get update\r\n",
        "!apt-get install chromium-chromedriver\r\n",
        "import os, subprocess\r\n",
        "import sys"
      ],
      "execution_count": null,
      "outputs": []
    },
    {
      "cell_type": "code",
      "metadata": {
        "id": "2UbraF6H860z"
      },
      "source": [
        "!pip install Selenium\r\n",
        "\r\n",
        "!apt-get update # to update ubuntu to correctly run apt install\r\n",
        "\r\n",
        "!apt install chromium-chromedriver"
      ],
      "execution_count": null,
      "outputs": []
    },
    {
      "cell_type": "code",
      "metadata": {
        "id": "uOhxDEF589lg"
      },
      "source": [
        "from selenium import webdriver\r\n",
        "chrome_options = webdriver.ChromeOptions()\r\n",
        "chrome_options.add_argument('--headless') #내부 창을 띄울 수 없으므로 설정\r\n",
        "chrome_options.add_argument('--no-sandbox')\r\n",
        "chrome_options.add_argument('--disable-dev-shm-usage')\r\n",
        "wd = webdriver.Chrome('chromedriver',chrome_options=chrome_options)\r\n",
        "wd.get(\"http://naver.com\")"
      ],
      "execution_count": null,
      "outputs": []
    },
    {
      "cell_type": "code",
      "metadata": {
        "id": "_V-KFKCZvso6"
      },
      "source": [
        "options = webdriver.ChromeOptions()\r\n",
        "options.add_argument('headless')  # headless를 주면 동작하는 모습을 볼 수 없음\r\n",
        "options.add_argument('--no-sandbox')\r\n",
        "options.add_argument('--disable-dev-shm-usage')\r\n",
        "options.add_argument('disable-gpu')\r\n",
        "options.add_argument('lang=ko_KR')\r\n",
        "driver = webdriver.Chrome('chromedriver', options=options)"
      ],
      "execution_count": null,
      "outputs": []
    },
    {
      "cell_type": "code",
      "metadata": {
        "id": "Y-H2gPlbviTO"
      },
      "source": [
        "driver.get('https://www.kofia.or.kr/members/m_60/sub020201.do?page=1&srchCate=4&srchTp=&srchWord=&pitem=10')"
      ],
      "execution_count": null,
      "outputs": []
    },
    {
      "cell_type": "code",
      "metadata": {
        "id": "sY3ZhMRypaak"
      },
      "source": [
        "tag_listlist=[]\r\n",
        "for page in range(1,8):\r\n",
        "    driver.get('https://www.kofia.or.kr/members/m_60/sub020201.do?page={}&srchCate=4&srchTp=&srchWord=&pitem=10'.format(page))\r\n",
        "    tag_names = driver.find_elements_by_class_name('allies')\r\n",
        "    for tag in tag_names:\r\n",
        "        name = []\r\n",
        "        name.append(tag.text)\r\n",
        "        tag_listlist.append(tag.text)\r\n",
        "print(tag_listlist)\r\n",
        "print(len(tag_listlist))"
      ],
      "execution_count": null,
      "outputs": []
    },
    {
      "cell_type": "code",
      "metadata": {
        "id": "wXyFVZoW2EKb"
      },
      "source": [
        "#b=[]\r\n",
        "#for i in range(len(tag_listlist)):\r\n",
        "#    tag_listlist[i] = tag_listlist[i].replace(\"\\n\", \",\")\r\n",
        "#    #tag_listlist.append(tag.text)\r\n",
        "#    b.append(tag_listlist[i])\r\n",
        "#print(b)\r\n",
        "#print(len(b))"
      ],
      "execution_count": null,
      "outputs": []
    },
    {
      "cell_type": "code",
      "metadata": {
        "id": "pFK0cNGRnsam"
      },
      "source": [
        "def divide_list(l, n): \r\n",
        "    # 리스트 l의 길이가 n이면 계속 반복\r\n",
        "    for i in range(0, len(l), n): \r\n",
        "        yield l[i:i + n] \r\n",
        "# 한 리스트에 몇개씩 담을지 결정\r\n",
        "n = 1\r\n",
        "result = list(divide_list(tag_listlist, n))\r\n",
        "print(result)\r\n",
        "print(len(result))"
      ],
      "execution_count": null,
      "outputs": []
    },
    {
      "cell_type": "code",
      "metadata": {
        "id": "fOyy_rD2oyyj"
      },
      "source": [
        "result[0][0].split(\",\")"
      ],
      "execution_count": null,
      "outputs": []
    },
    {
      "cell_type": "code",
      "metadata": {
        "id": "w0zyFXNGMLD2"
      },
      "source": [
        "list1 = [[] for _ in range(len(tag_listlist))]\r\n",
        "\r\n",
        "for idx, value in enumerate(tag_listlist):\r\n",
        "   list1[idx].append(value)\r\n",
        "print(list1)"
      ],
      "execution_count": null,
      "outputs": []
    },
    {
      "cell_type": "code",
      "metadata": {
        "id": "lzkYPPPGnNTq"
      },
      "source": [
        "ss = []\r\n",
        "for i in result:\r\n",
        "    ss.append(i[0].split('\\n'))"
      ],
      "execution_count": null,
      "outputs": []
    },
    {
      "cell_type": "code",
      "metadata": {
        "id": "uW5INGpLnW4J"
      },
      "source": [
        "ss"
      ],
      "execution_count": null,
      "outputs": []
    },
    {
      "cell_type": "code",
      "metadata": {
        "id": "8h4X6KLiveKI"
      },
      "source": [
        "import pandas as pd\r\n",
        "\r\n",
        "table=pd.DataFrame(ss,columns=['대표자','대표자명','대표전화0','대표전화','주소0','주소','0'])\r\n",
        "\r\n",
        "#table=table.drop(['대표자','대표전화0','주소0','0'],axis=1)"
      ],
      "execution_count": null,
      "outputs": []
    },
    {
      "cell_type": "code",
      "metadata": {
        "id": "PNZqbY-wlVxH"
      },
      "source": [
        "table"
      ],
      "execution_count": null,
      "outputs": []
    },
    {
      "cell_type": "code",
      "metadata": {
        "id": "JAhxvbsEMvWT"
      },
      "source": [
        "# 증권명"
      ],
      "execution_count": null,
      "outputs": []
    },
    {
      "cell_type": "code",
      "metadata": {
        "id": "mc-MzPwSRdrc"
      },
      "source": [
        ""
      ],
      "execution_count": null,
      "outputs": []
    },
    {
      "cell_type": "code",
      "metadata": {
        "id": "kiI4PdBN29CM"
      },
      "source": [
        "driver.get('https://www.kofia.or.kr/members/m_60/sub020201.do?page=1&srchCate=4&srchTp=&srchWord=&pitem=10')"
      ],
      "execution_count": null,
      "outputs": []
    },
    {
      "cell_type": "code",
      "metadata": {
        "id": "6hnJQOad29Cb"
      },
      "source": [
        "tag_listlist=[]\r\n",
        "for page in range(1,8):\r\n",
        "    driver.get('https://www.kofia.or.kr/members/m_60/sub020201.do?page={}&srchCate=4&srchTp=&srchWord=&pitem=10'.format(page))\r\n",
        "    tag_names = driver.find_elements_by_tag_name('h5')\r\n",
        "    for tag in tag_names:\r\n",
        "        name = []\r\n",
        "        name.append(tag.text)\r\n",
        "        tag_listlist.append(tag.text)\r\n",
        "print(tag_listlist)\r\n",
        "print(len(tag_listlist))"
      ],
      "execution_count": null,
      "outputs": []
    },
    {
      "cell_type": "code",
      "metadata": {
        "id": "z_T6bDGw3FNZ"
      },
      "source": [
        "pd.DataFrame(tag_listlist,columns={'증권사'})"
      ],
      "execution_count": null,
      "outputs": []
    },
    {
      "cell_type": "code",
      "metadata": {
        "id": "uAonAHbC3ip8"
      },
      "source": [
        "table['증권사명']=tag_listlist"
      ],
      "execution_count": null,
      "outputs": []
    },
    {
      "cell_type": "code",
      "metadata": {
        "id": "QgzIARID3v_U"
      },
      "source": [
        "table.head()"
      ],
      "execution_count": null,
      "outputs": []
    },
    {
      "cell_type": "code",
      "metadata": {
        "id": "pUgPyepq4nBU"
      },
      "source": [
        "# 열 재정렬\r\n",
        "table = table.reindex(columns=['증권사명','대표자','대표자명','대표전화0','대표전화','주소0','주소','0'])"
      ],
      "execution_count": null,
      "outputs": []
    },
    {
      "cell_type": "code",
      "metadata": {
        "id": "rt4Qw8PR5HnE"
      },
      "source": [
        "table['주소'][36]='서울특별시 영등포구 국제금융로 10, 44층(여의도동, 쓰리아이에프씨) 쓰리아이에프씨 (07326) '\r\n",
        "table['대표전화'][36]=''"
      ],
      "execution_count": null,
      "outputs": []
    },
    {
      "cell_type": "code",
      "metadata": {
        "id": "bFJgBeZ_5kRj"
      },
      "source": [
        "table=table[['증권사명','대표자명','대표전화','주소']]\r\n",
        "table.set_index('증권사명')\r\n",
        "table"
      ],
      "execution_count": null,
      "outputs": []
    },
    {
      "cell_type": "code",
      "metadata": {
        "id": "hvwYnPP35lx2"
      },
      "source": [
        ""
      ],
      "execution_count": null,
      "outputs": []
    }
  ]
}