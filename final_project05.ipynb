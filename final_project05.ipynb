{
  "nbformat": 4,
  "nbformat_minor": 0,
  "metadata": {
    "colab": {
      "name": "final_project05",
      "private_outputs": true,
      "provenance": [],
      "authorship_tag": "ABX9TyOx7mwyuF+xA0NC5/ycDpjM",
      "include_colab_link": true
    },
    "kernelspec": {
      "name": "python3",
      "display_name": "Python 3"
    }
  },
  "cells": [
    {
      "cell_type": "markdown",
      "metadata": {
        "id": "view-in-github",
        "colab_type": "text"
      },
      "source": [
        "<a href=\"https://colab.research.google.com/github/mgk0422/python-basic/blob/master/final_project05.ipynb\" target=\"_parent\"><img src=\"https://colab.research.google.com/assets/colab-badge.svg\" alt=\"Open In Colab\"/></a>"
      ]
    },
    {
      "cell_type": "code",
      "metadata": {
        "id": "l5O4RxxmZnQx"
      },
      "source": [
        "import pandas as pd\n",
        "import numpy as np\n",
        "import glob\n",
        "import sys\n",
        "from openpyxl import load_workbook\n",
        "import matplotlib.pyplot as plt\n",
        "import seaborn as sns\n",
        "%matplotlib inline"
      ],
      "execution_count": null,
      "outputs": []
    },
    {
      "cell_type": "code",
      "metadata": {
        "id": "6-edgASZwOAv"
      },
      "source": [
        "import pandas as pd\n",
        "import numpy as np\n",
        "import time\n",
        "import itertools\n",
        "import scipy\n",
        "from sklearn.model_selection import train_test_split\n",
        "import statsmodels.api as sm"
      ],
      "execution_count": null,
      "outputs": []
    },
    {
      "cell_type": "code",
      "metadata": {
        "id": "pF_J_4caZp7w"
      },
      "source": [
        "#from google.colab import files\n",
        "#uploaded=files.upload()"
      ],
      "execution_count": null,
      "outputs": []
    },
    {
      "cell_type": "code",
      "metadata": {
        "id": "eyLitT7kacjn"
      },
      "source": [
        "#from google.colab import files\n",
        "#uploaded=files.upload()"
      ],
      "execution_count": null,
      "outputs": []
    },
    {
      "cell_type": "code",
      "metadata": {
        "id": "cTld2h7pr2dn"
      },
      "source": [
        "양파_특=pd.read_excel('/content/양파_특(20kg)_dt.xlsx')\n",
        "양파_상=pd.read_excel('/content/양파_상(20kg)_dt.xlsx')\n",
        "배추_특=pd.read_excel('/content/배추_특(10kg)_dt.xlsx')\n",
        "배추_상=pd.read_excel('/content/배추_상(10kg)_dt.xlsx')"
      ],
      "execution_count": null,
      "outputs": []
    },
    {
      "cell_type": "code",
      "metadata": {
        "id": "hrStjAoQvHQM"
      },
      "source": [
        "del 양파_특['일자']"
      ],
      "execution_count": null,
      "outputs": []
    },
    {
      "cell_type": "code",
      "metadata": {
        "id": "kPQWaB7Z_7xE"
      },
      "source": [
        "양파_특.head()"
      ],
      "execution_count": null,
      "outputs": []
    },
    {
      "cell_type": "code",
      "metadata": {
        "id": "vj2TwCwb__TA"
      },
      "source": [
        "양파_특=양파_특[['최저기온(°C)','최고기온(°C)','일강수량(mm)','평균 풍속(m/s)','평균 상대습도(%)','합계 일조시간(hr)','평균 지면온도(°C)','반입량']]"
      ],
      "execution_count": null,
      "outputs": []
    },
    {
      "cell_type": "code",
      "metadata": {
        "id": "gjzR7z8uASxA"
      },
      "source": [
        "양파_특corr = 양파_특.corr(method = 'pearson') \n",
        "양파_특corr"
      ],
      "execution_count": null,
      "outputs": []
    },
    {
      "cell_type": "code",
      "metadata": {
        "id": "d3NayViJA2LE"
      },
      "source": [
        "import matplotlib.pyplot as plt \n",
        "import seaborn as sns"
      ],
      "execution_count": null,
      "outputs": []
    },
    {
      "cell_type": "code",
      "metadata": {
        "id": "V3Q8B2b0Bfnc"
      },
      "source": [
        "!sudo apt-get install -y fonts-nanum\n",
        "!sudo fc-cache -fv\n",
        "!rm ~/.cache/matplotlib -rf"
      ],
      "execution_count": null,
      "outputs": []
    },
    {
      "cell_type": "code",
      "metadata": {
        "id": "djFmFreuBgDe"
      },
      "source": [
        "import matplotlib.pyplot as plt\n",
        "\n",
        "plt.rc('font', family='NanumBarunGothic') "
      ],
      "execution_count": null,
      "outputs": []
    },
    {
      "cell_type": "code",
      "metadata": {
        "id": "YiJVMq2XBzHE"
      },
      "source": [
        "# 코랩 한글깨짐 설정\n",
        "import matplotlib as mpl\n",
        "import matplotlib.pyplot as plt\n",
        " \n",
        "%config InlineBackend.figure_format = 'retina'\n",
        " \n",
        "!apt -qq -y install fonts-nanum\n",
        " \n",
        "import matplotlib.font_manager as fm\n",
        "fontpath = '/usr/share/fonts/truetype/nanum/NanumBarunGothic.ttf'\n",
        "font = fm.FontProperties(fname=fontpath, size=9)\n",
        "plt.rc('font', family='NanumBarunGothic') \n",
        "#mpl.font_manager._rebuild()"
      ],
      "execution_count": null,
      "outputs": []
    },
    {
      "cell_type": "code",
      "metadata": {
        "id": "pFAoaXVZA5_F"
      },
      "source": [
        "df_heatmap = sns.heatmap(양파_특corr, cbar = True, annot = True, annot_kws={'size' : 10}, fmt = '.2f', square = True, cmap = 'Blues')\n",
        "df_heatmap\n"
      ],
      "execution_count": null,
      "outputs": []
    },
    {
      "cell_type": "code",
      "metadata": {
        "id": "pqyE0Mu7-E87"
      },
      "source": [
        "import scipy.stats as ss \n",
        "\n",
        "양파_특_ss=ss.zscore(양파_특)\n",
        "print(양파_특_ss)"
      ],
      "execution_count": null,
      "outputs": []
    },
    {
      "cell_type": "code",
      "metadata": {
        "id": "UrOB961LvhbO"
      },
      "source": [
        "pd.DataFrame(양파_특_ss)"
      ],
      "execution_count": null,
      "outputs": []
    },
    {
      "cell_type": "code",
      "metadata": {
        "id": "5CyBaEOMuveq"
      },
      "source": [
        "feature_columns=list(양파_특.columns.difference(['평균가격']))\n",
        "X=양파_특[feature_columns]\n",
        "y=양파_특.평균가격\n",
        "train_x,test_x,train_y,test_y=train_test_split(X,y,train_size=0.7,test_size=0.3)\n",
        "print(train_x.shape,test_x.shape,train_y.shape,test_y.shape)"
      ],
      "execution_count": null,
      "outputs": []
    },
    {
      "cell_type": "code",
      "metadata": {
        "id": "HWe1VkHUwUDj"
      },
      "source": [
        "#Train the MLR/회귀모델적합\n",
        "full_model=sm.OLS(train_y,train_x)\n",
        "fitted_full_model=full_model.fit()"
      ],
      "execution_count": null,
      "outputs": []
    },
    {
      "cell_type": "code",
      "metadata": {
        "id": "1gljRPlJwlGE"
      },
      "source": [
        "fitted_full_model.summary()"
      ],
      "execution_count": null,
      "outputs": []
    },
    {
      "cell_type": "code",
      "metadata": {
        "id": "8E9zuitVxcc7"
      },
      "source": [
        "# VIF를 통한 다중공선성 확인 \n",
        "from statsmodels.stats.outliers_influence import variance_inflation_factor\n",
        "\n",
        "vif=pd.DataFrame()\n",
        "vif['VIF Factor']=[variance_inflation_factor(양파_특.values,i) for i in range(양파_특.shape[1])]\n",
        "vif['features']=양파_특.columns\n",
        "vif"
      ],
      "execution_count": null,
      "outputs": []
    },
    {
      "cell_type": "code",
      "metadata": {
        "id": "4P9bqUhksx6A"
      },
      "source": [
        "# 변수선택법 \n",
        "def processSubset(X, y, feature_set):\n",
        "    model = sm.OLS(y, X[list(feature_set)]) # modeling\n",
        "    regr = model.fit() # 모델 학습\n",
        "    AIC = regr.aic # 모델의 AIC\n",
        "    return {'model' : regr, 'AIC' : AIC}\n",
        "\n",
        "print(processSubset(X=train_x, y = train_y, feature_set = feature_columns[0:5]))"
      ],
      "execution_count": null,
      "outputs": []
    },
    {
      "cell_type": "code",
      "metadata": {
        "id": "mZ4DOpCmtUgK"
      },
      "source": [
        "# 전진선택법(step=1)\n",
        "\n",
        "def forward(X, y, predictors):\n",
        "    # 데이터 변수들이 미리 정의된 predictors에 있는지 없는지 확인 및 분류\n",
        "    remaining_predictors = [p for p in X.columns.difference(['const']) if p not in predictors]\n",
        "    tic = time.time()\n",
        "    results = []\n",
        "    for p in remaining_predictors:\n",
        "        results.append(processSubset(X=X, y=y, feature_set=predcitors+[p]+['const']))\n",
        "    # 데이터프레임으로 변환\n",
        "    models = pd.DataFrame(results)\n",
        "    \n",
        "    # AIC가 가장 낮은 것을 선택\n",
        "    best_model = models.loc[models['AIC'].argmin()] # index\n",
        "    toc = time.time()\n",
        "    print(\"Processed \", models.shape[0], \"models on\", len(predictors)+1, \"predictors in\", (toc-tic))\n",
        "    print('Selected predictors:', best_model['model'].model.exog_names, ' AIC:',best_model[0])\n",
        "    return best_model"
      ],
      "execution_count": null,
      "outputs": []
    },
    {
      "cell_type": "code",
      "metadata": {
        "id": "EPzqym-gyuIg"
      },
      "source": [
        "# 전진선택법 모델\n",
        "def forward_model(X,y):\n",
        "    Fmodels = pd.DataFrame(columns=['AID', 'model'])\n",
        "    tic = time.time()\n",
        "    # 미리 정의된 데이터 변수\n",
        "    predictors = []\n",
        "    # 변수 1~10개 : 0 ~ 9  -> 1 ~ 10\n",
        "    for i in range(1, len(X.columns.difference(['const'])) + 1):\n",
        "        Forward_result = forward(X=X, y=y, predictors=predictors)\n",
        "        if i > 1:\n",
        "            if Forward_result['AIC'] > Fmodel_before:\n",
        "                break\n",
        "        Fmodels.loc[i] = Forward_result\n",
        "        predictors = Fmodels.loc[i][\"model\"].model.exog_names\n",
        "        Fmodel_before = Fmodels.loc[i][\"AIC\"]\n",
        "        predictors = [ k for k in predictors if k != 'const']\n",
        "    toc = time.time()\n",
        "    print(\"Total elapsed time : \", (toc - tic), \"seconds.\")\n",
        "    \n",
        "    return (Fmodels['model'][len(Fmodels['model'])])"
      ],
      "execution_count": null,
      "outputs": []
    },
    {
      "cell_type": "code",
      "metadata": {
        "id": "uYTbpLExyyCw"
      },
      "source": [
        "#Forward_best_model = forward_model(X=train_x, y=train_y)"
      ],
      "execution_count": null,
      "outputs": []
    },
    {
      "cell_type": "code",
      "metadata": {
        "id": "YNwCXOWQy0YI"
      },
      "source": [
        ""
      ],
      "execution_count": null,
      "outputs": []
    }
  ]
}