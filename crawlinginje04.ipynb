{
  "nbformat": 4,
  "nbformat_minor": 0,
  "metadata": {
    "colab": {
      "name": "crawlinginje04",
      "private_outputs": true,
      "provenance": [],
      "authorship_tag": "ABX9TyNlf7RyaTQ2leF2PbzjnA00",
      "include_colab_link": true
    },
    "kernelspec": {
      "name": "python3",
      "display_name": "Python 3"
    }
  },
  "cells": [
    {
      "cell_type": "markdown",
      "metadata": {
        "id": "view-in-github",
        "colab_type": "text"
      },
      "source": [
        "<a href=\"https://colab.research.google.com/github/mgk0422/python-basic/blob/master/crawlinginje04.ipynb\" target=\"_parent\"><img src=\"https://colab.research.google.com/assets/colab-badge.svg\" alt=\"Open In Colab\"/></a>"
      ]
    },
    {
      "cell_type": "code",
      "metadata": {
        "id": "1w7iEoNURflB"
      },
      "source": [
        "# 바이무드"
      ],
      "execution_count": null,
      "outputs": []
    },
    {
      "cell_type": "code",
      "metadata": {
        "id": "2X9_n8OcpP8A"
      },
      "source": [
        "!pip install selenium"
      ],
      "execution_count": null,
      "outputs": []
    },
    {
      "cell_type": "code",
      "metadata": {
        "id": "yw6fPY1ctnFR"
      },
      "source": [
        "!apt-get update\r\n",
        "!apt-get install chromium-chromedriver\r\n",
        "import os, subprocess\r\n",
        "import sys"
      ],
      "execution_count": null,
      "outputs": []
    },
    {
      "cell_type": "code",
      "metadata": {
        "id": "2UbraF6H860z"
      },
      "source": [
        "!pip install Selenium\r\n",
        "!apt-get update # to update ubuntu to correctly run apt install\r\n",
        "!apt install chromium-chromedriver"
      ],
      "execution_count": null,
      "outputs": []
    },
    {
      "cell_type": "code",
      "metadata": {
        "id": "uOhxDEF589lg"
      },
      "source": [
        "from selenium import webdriver\r\n",
        "chrome_options = webdriver.ChromeOptions()\r\n",
        "chrome_options.add_argument('--headless') #내부 창을 띄울 수 없으므로 설정\r\n",
        "chrome_options.add_argument('--no-sandbox')\r\n",
        "chrome_options.add_argument('--disable-dev-shm-usage')\r\n",
        "wd = webdriver.Chrome('chromedriver',chrome_options=chrome_options)\r\n",
        "wd.get(\"http://naver.com\")"
      ],
      "execution_count": null,
      "outputs": []
    },
    {
      "cell_type": "code",
      "metadata": {
        "id": "_V-KFKCZvso6"
      },
      "source": [
        "options = webdriver.ChromeOptions()\r\n",
        "options.add_argument('headless')  # headless를 주면 동작하는 모습을 볼 수 없음\r\n",
        "options.add_argument('--no-sandbox')\r\n",
        "options.add_argument('--disable-dev-shm-usage')\r\n",
        "options.add_argument('disable-gpu')\r\n",
        "options.add_argument('lang=ko_KR')\r\n",
        "driver = webdriver.Chrome('chromedriver', options=options)"
      ],
      "execution_count": null,
      "outputs": []
    },
    {
      "cell_type": "code",
      "metadata": {
        "id": "Y-H2gPlbviTO"
      },
      "source": [
        "driver.get('https://www.inje.ac.kr/kor/Template/Bsub_page.asp?Ltype=5&Ltype2=0&Ltype3=0&Tname=S_News&Ldir=board/S_News&SearchText=&SearchKey=&d1n=5&d2n=1&d3n=3&d4n=0&Lpage=Tboard_L')\r\n",
        "driver.find_element_by_xpath('//*[@id=\"contents\"]/div[2]/ul/li[3]/a').click()"
      ],
      "execution_count": null,
      "outputs": []
    },
    {
      "cell_type": "code",
      "metadata": {
        "id": "sY3ZhMRypaak"
      },
      "source": [
        "# 제목 뽑아오기\r\n",
        "tag_subject=[]\r\n",
        "for page in range(1,85):\r\n",
        "    driver.get('https://www.inje.ac.kr/kor/Template/Bsub_page.asp?Ltype=5&Ltype2=0&Ltype3=0&Tname=S_News&Ldir=board/S_News&SearchText=&SearchKey=&d1n=5&d2n=1&d3n=3&d4n=0&div=8&Lpage=Tboard_L&page={0}&category=#'.format(page))\r\n",
        "    subject=driver.find_elements_by_class_name('subject')\r\n",
        "    for tag in subject:\r\n",
        "        name = []\r\n",
        "        name.append(tag.text)\r\n",
        "        tag_subject.append(tag.text)\r\n",
        "print(tag_subject)\r\n",
        "print(len(tag_subject))"
      ],
      "execution_count": null,
      "outputs": []
    },
    {
      "cell_type": "code",
      "metadata": {
        "id": "wXyFVZoW2EKb"
      },
      "source": [
        "b=[]\r\n",
        "for i in range(len(tag_subject)):\r\n",
        "    tag_subject[i] = tag_subject[i].replace(\"\\n\", \",\")\r\n",
        "    #tag_listlist.append(tag.text)\r\n",
        "    b.append(tag_subject[i])\r\n",
        "print(b)\r\n",
        "print(len(b))"
      ],
      "execution_count": null,
      "outputs": []
    },
    {
      "cell_type": "code",
      "metadata": {
        "id": "uV0npvV3QX0_"
      },
      "source": [
        "# 작성자 뽑아오기\r\n",
        "tag_writer=[]\r\n",
        "for page in range(1,85):\r\n",
        "    driver.get('https://www.inje.ac.kr/kor/Template/Bsub_page.asp?Ltype=5&Ltype2=0&Ltype3=0&Tname=S_News&Ldir=board/S_News&SearchText=&SearchKey=&d1n=5&d2n=1&d3n=3&d4n=0&div=8&Lpage=Tboard_L&page={0}&category=#'.format(page))\r\n",
        "    writer=driver.find_elements_by_class_name('writer')\r\n",
        "    for tag in writer:\r\n",
        "        name = []\r\n",
        "        name.append(tag.text)\r\n",
        "        tag_writer.append(tag.text)\r\n",
        "print(tag_writer)\r\n",
        "print(len(tag_writer))"
      ],
      "execution_count": null,
      "outputs": []
    },
    {
      "cell_type": "code",
      "metadata": {
        "id": "SmOO-UPaQX39"
      },
      "source": [
        "w=[]\r\n",
        "for i in range(len(tag_writer)):\r\n",
        "    tag_writer[i] = tag_writer[i].replace(\"\\n\", \",\")\r\n",
        "    w.append(tag_writer[i])\r\n",
        "print(w)\r\n",
        "print(len(w))"
      ],
      "execution_count": null,
      "outputs": []
    },
    {
      "cell_type": "code",
      "metadata": {
        "id": "n2ofajJFQX6s"
      },
      "source": [
        "# 작성일 뽑아오기\r\n",
        "tag_date=[]\r\n",
        "for page in range(1,85):\r\n",
        "    driver.get('https://www.inje.ac.kr/kor/Template/Bsub_page.asp?Ltype=5&Ltype2=0&Ltype3=0&Tname=S_News&Ldir=board/S_News&SearchText=&SearchKey=&d1n=5&d2n=1&d3n=3&d4n=0&div=8&Lpage=Tboard_L&page={0}&category=#'.format(page))\r\n",
        "    date=driver.find_elements_by_class_name('date')\r\n",
        "    for tag in date:\r\n",
        "        name = []\r\n",
        "        name.append(tag.text)\r\n",
        "        tag_date.append(tag.text)\r\n",
        "print(tag_date)\r\n",
        "print(len(tag_date))"
      ],
      "execution_count": null,
      "outputs": []
    },
    {
      "cell_type": "code",
      "metadata": {
        "id": "-kh_Oo7KRMWW"
      },
      "source": [
        "d=[]\r\n",
        "for i in range(len(tag_date)):\r\n",
        "    tag_date[i] = tag_date[i].replace(\"\\n\", \",\")\r\n",
        "    d.append(tag_date[i])\r\n",
        "print(d)\r\n",
        "print(len(d))"
      ],
      "execution_count": null,
      "outputs": []
    },
    {
      "cell_type": "code",
      "metadata": {
        "id": "4hpXLJI-QX9Q"
      },
      "source": [
        "import pandas as pd\r\n",
        "제목=pd.DataFrame(b)\r\n",
        "작성자=pd.DataFrame(w)\r\n",
        "작성일=pd.DataFrame(d)\r\n",
        "제목['제목']=제목\r\n",
        "제목['작성자']=작성자\r\n",
        "제목['작성일']=작성일"
      ],
      "execution_count": null,
      "outputs": []
    },
    {
      "cell_type": "code",
      "metadata": {
        "id": "k82t5U9eXqEw"
      },
      "source": [
        "제목"
      ],
      "execution_count": null,
      "outputs": []
    },
    {
      "cell_type": "code",
      "metadata": {
        "id": "mc-MzPwSRdrc"
      },
      "source": [
        "\r\n",
        "mask = 제목['제목'].isin(['제목']) \r\n",
        "제목= 제목[~mask]"
      ],
      "execution_count": null,
      "outputs": []
    },
    {
      "cell_type": "code",
      "metadata": {
        "id": "vNcPBjegYson"
      },
      "source": [
        "inje = pd.DataFrame(제목)\r\n",
        "inje"
      ],
      "execution_count": null,
      "outputs": []
    },
    {
      "cell_type": "code",
      "metadata": {
        "id": "kz-2cy7VY3Hx"
      },
      "source": [
        "inje.to_excel('inje.xlsx')"
      ],
      "execution_count": null,
      "outputs": []
    },
    {
      "cell_type": "code",
      "metadata": {
        "id": "iJCQ31EvZZD3"
      },
      "source": [
        ""
      ],
      "execution_count": null,
      "outputs": []
    }
  ]
}