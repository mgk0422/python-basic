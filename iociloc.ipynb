{
  "nbformat": 4,
  "nbformat_minor": 0,
  "metadata": {
    "colab": {
      "name": "iociloc",
      "private_outputs": true,
      "provenance": [],
      "toc_visible": true,
      "authorship_tag": "ABX9TyNKJMS2EWh55WqEVMLnTA/S",
      "include_colab_link": true
    },
    "kernelspec": {
      "name": "python3",
      "display_name": "Python 3"
    }
  },
  "cells": [
    {
      "cell_type": "markdown",
      "metadata": {
        "id": "view-in-github",
        "colab_type": "text"
      },
      "source": [
        "<a href=\"https://colab.research.google.com/github/mgk0422/python-basic/blob/master/iociloc.ipynb\" target=\"_parent\"><img src=\"https://colab.research.google.com/assets/colab-badge.svg\" alt=\"Open In Colab\"/></a>"
      ]
    },
    {
      "cell_type": "code",
      "metadata": {
        "id": "Qsm10evd05m4"
      },
      "source": [
        "import pandas as pd\r\n",
        "\r\n",
        "iociloc=pd.read_excel('/content/sample_data/iociloc.xlsx')\r\n",
        "iociloc.head()"
      ],
      "execution_count": null,
      "outputs": []
    },
    {
      "cell_type": "code",
      "metadata": {
        "id": "Z7R2FcvG17Vk"
      },
      "source": [
        "iociloc.columns=['이름','성별','나이','직업','취미']\r\n",
        "iociloc"
      ],
      "execution_count": null,
      "outputs": []
    },
    {
      "cell_type": "code",
      "metadata": {
        "id": "B2XPs9Qw2KiP"
      },
      "source": [
        "#df[리스트]\r\n",
        "iociloc[[\"이름\", \"성별\"]]"
      ],
      "execution_count": null,
      "outputs": []
    },
    {
      "cell_type": "code",
      "metadata": {
        "id": "kuHbEJtm2gBC"
      },
      "source": [
        "#df[리스트]\r\n",
        "#iociloc[\"이름\", \"성별\"] # 이때는 row를 리스트 슬라이싱해야함 #오류\r\n",
        "#iociloc.set_index('이름',inplace=True)\r\n",
        "iociloc['토니 스타크':'토르']"
      ],
      "execution_count": null,
      "outputs": []
    },
    {
      "cell_type": "code",
      "metadata": {
        "id": "29p9t3rc5RGN"
      },
      "source": [
        "iociloc.loc[:,['성별','나이']]"
      ],
      "execution_count": null,
      "outputs": []
    },
    {
      "cell_type": "code",
      "metadata": {
        "id": "86KI0Wcz5ix0"
      },
      "source": [
        "iociloc.loc[['김민경'],['성별','나이']]"
      ],
      "execution_count": null,
      "outputs": []
    },
    {
      "cell_type": "code",
      "metadata": {
        "id": "Hv0MF-gE5uBD"
      },
      "source": [
        "iociloc.iloc[:,[0,1,2]]"
      ],
      "execution_count": null,
      "outputs": []
    },
    {
      "cell_type": "code",
      "metadata": {
        "id": "CTTCl1XO6QKT"
      },
      "source": [
        "iociloc.iloc[0:2,[2,3]]"
      ],
      "execution_count": null,
      "outputs": []
    },
    {
      "cell_type": "code",
      "metadata": {
        "id": "Dd9Zg8VE6aHm"
      },
      "source": [
        "iociloc.loc[['토니 스타크','스티브 로저스'],['직업','취미']]"
      ],
      "execution_count": null,
      "outputs": []
    },
    {
      "cell_type": "code",
      "metadata": {
        "id": "fmHTc8Ao8ALR"
      },
      "source": [
        "iociloc.iloc[:2,[1,2]]"
      ],
      "execution_count": null,
      "outputs": []
    },
    {
      "cell_type": "code",
      "metadata": {
        "id": "hh_XMjTh8sf1"
      },
      "source": [
        "iociloc.iloc[[2,3],[0,1,2]]"
      ],
      "execution_count": null,
      "outputs": []
    },
    {
      "cell_type": "code",
      "metadata": {
        "id": "pmbwxgTD9TMw"
      },
      "source": [
        "iociloc"
      ],
      "execution_count": null,
      "outputs": []
    },
    {
      "cell_type": "code",
      "metadata": {
        "id": "idQX58Ie98pg"
      },
      "source": [
        "iociloc.loc[['김민경'],['직업','나이']]"
      ],
      "execution_count": null,
      "outputs": []
    },
    {
      "cell_type": "code",
      "metadata": {
        "id": "RGTSTujG-J4r"
      },
      "source": [
        "iociloc.iloc[:-1,[0,2]]"
      ],
      "execution_count": null,
      "outputs": []
    },
    {
      "cell_type": "code",
      "metadata": {
        "id": "HuKziHfc_Vzc"
      },
      "source": [
        ""
      ],
      "execution_count": null,
      "outputs": []
    }
  ]
}