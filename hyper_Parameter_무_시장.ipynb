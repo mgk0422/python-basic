{
  "nbformat": 4,
  "nbformat_minor": 0,
  "metadata": {
    "colab": {
      "name": "hyper_Parameter_무_시장",
      "private_outputs": true,
      "provenance": [],
      "collapsed_sections": [],
      "authorship_tag": "ABX9TyO7EOqIr2mjwuAFC+5A/jmv",
      "include_colab_link": true
    },
    "kernelspec": {
      "name": "python3",
      "display_name": "Python 3"
    }
  },
  "cells": [
    {
      "cell_type": "markdown",
      "metadata": {
        "id": "view-in-github",
        "colab_type": "text"
      },
      "source": [
        "<a href=\"https://colab.research.google.com/github/mgk0422/python-basic/blob/master/hyper_Parameter_%EB%AC%B4_%EC%8B%9C%EC%9E%A5.ipynb\" target=\"_parent\"><img src=\"https://colab.research.google.com/assets/colab-badge.svg\" alt=\"Open In Colab\"/></a>"
      ]
    },
    {
      "cell_type": "code",
      "metadata": {
        "id": "0k8DZfe7mEan"
      },
      "source": [
        ""
      ],
      "execution_count": null,
      "outputs": []
    },
    {
      "cell_type": "code",
      "metadata": {
        "id": "Ght0hmsAgAED"
      },
      "source": [
        "from sklearn.model_selection import cross_val_score, train_test_split, KFold\n",
        "from sklearn.metrics import mean_squared_error\n",
        "import matplotlib.pyplot as plt\n",
        "\n",
        "\n",
        "from sklearn.linear_model import LinearRegression\n",
        "from sklearn.tree import DecisionTreeRegressor\n",
        "from sklearn.ensemble import RandomForestRegressor\n",
        "from sklearn.ensemble import GradientBoostingRegressor\n",
        "from sklearn.model_selection import GridSearchCV\n",
        "from lightgbm import LGBMRegressor\n",
        "\n",
        "from xgboost import XGBRegressor\n",
        "\n",
        "\n",
        "import pandas as pd\n",
        "import numpy as np\n",
        "import seaborn as sns\n"
      ],
      "execution_count": null,
      "outputs": []
    },
    {
      "cell_type": "code",
      "metadata": {
        "id": "MoW04t0emmi-"
      },
      "source": [
        "# 코랩 한글깨짐 설정\r\n",
        "import matplotlib as mpl\r\n",
        "import matplotlib.pyplot as plt\r\n",
        " \r\n",
        "%config InlineBackend.figure_format = 'retina'\r\n",
        " \r\n",
        "!apt -qq -y install fonts-nanum\r\n",
        " \r\n",
        "import matplotlib.font_manager as fm\r\n",
        "fontpath = '/usr/share/fonts/truetype/nanum/NanumBarunGothic.ttf'\r\n",
        "font = fm.FontProperties(fname=fontpath, size=9)\r\n",
        "plt.rc('font', family='NanumBarunGothic') \r\n",
        "mpl.font_manager._rebuild()"
      ],
      "execution_count": null,
      "outputs": []
    },
    {
      "cell_type": "code",
      "metadata": {
        "id": "1vFiMMJwgnsy"
      },
      "source": [
        "!sudo apt-get install -y fonts-nanum\r\n",
        "!sudo fc-cache -fv\r\n",
        "!rm ~/.cache/matplotlib -rf"
      ],
      "execution_count": null,
      "outputs": []
    },
    {
      "cell_type": "code",
      "metadata": {
        "id": "N9N9rCt0gqYj"
      },
      "source": [
        "import matplotlib.pyplot as plt\r\n",
        "\r\n",
        "plt.rc('font', family='NanumBarunGothic')"
      ],
      "execution_count": null,
      "outputs": []
    },
    {
      "cell_type": "code",
      "metadata": {
        "id": "kppA_WKAr_Tm"
      },
      "source": [
        "from google.colab import files\n",
        "uploaded = files.upload()"
      ],
      "execution_count": null,
      "outputs": []
    },
    {
      "cell_type": "markdown",
      "metadata": {
        "id": "lwuipB0vIkg1"
      },
      "source": [
        "무"
      ]
    },
    {
      "cell_type": "code",
      "metadata": {
        "id": "8V3Mgndss9iT"
      },
      "source": [
        "dataset= pd.read_excel('/content/무_시장.xlsx')\n",
        "#배추= pd.read_excel('/content/배추_시장.xlsx')\n",
        "# dataset = pd.merge(dataset, wholesale, how='left', on='일자' )\n",
        "# dataset.head()\n",
        "# dataset = pd.read_excel('/content/무_특_반입_경락_시장_날씨_Holy_유가.xlsx')\n",
        "# dataset = dataset.drop(['일자','품목명','품목코드','유무','평균 5cm 지중온도(°C)','평균 지면온도(°C)','최고기온(°C)','합계 일조시간(hr)','최저기온(°C)'], axis=1)\n",
        "# dataset = dataset.drop(['일자', '최대 풍속(m/s)',\t'평균 풍속(m/s)',\t'평균 상대습도(%)',\t'합계 일조시간(hr)',\t'평균 지면온도(°C)',\t'평균 5cm 지중온도(°C)', '여부'], axis=1)\n",
        "# dataset = dataset[['도매가격', '100g가격', '유가 전국평균가격', '평균 풍속(m/s)', '여부', '최고기온(°C)', '평균 지면온도(°C)', '평균 5cm 지중온도(°C)', '일강수량(mm)', '반입량']]\n",
        "# dataset = dataset.drop(['일자','Unnamed: 0'], axis=1)\n",
        "#dataset = dataset.drop(['일자'], axis=1)\n",
        "dataset = dataset.dropna()\n",
        "dataset.info()\n",
        "# dataset.corr()"
      ],
      "execution_count": null,
      "outputs": []
    },
    {
      "cell_type": "code",
      "metadata": {
        "id": "ny2pPnGG2_do"
      },
      "source": [
        "# 타겟변수"
      ],
      "execution_count": null,
      "outputs": []
    },
    {
      "cell_type": "code",
      "metadata": {
        "id": "V8bEyqIKwzf_"
      },
      "source": [
        "from scipy import stats\r\n",
        "from scipy.stats import norm\r\n",
        "sns.distplot(dataset['가격'],fit=norm, color=\"green\")"
      ],
      "execution_count": null,
      "outputs": []
    },
    {
      "cell_type": "code",
      "metadata": {
        "id": "kXqP2IW23SSq"
      },
      "source": [
        "stats.probplot(dataset['가격'],plot=plt)"
      ],
      "execution_count": null,
      "outputs": []
    },
    {
      "cell_type": "code",
      "metadata": {
        "id": "gytd0vAa4IiF"
      },
      "source": [
        "dataset['가격'] = np.log1p(dataset['가격'])\r\n",
        "sns.distplot(dataset['가격'],fit=norm,color=\"green\")"
      ],
      "execution_count": null,
      "outputs": []
    },
    {
      "cell_type": "code",
      "metadata": {
        "id": "Iir4ElsQIMOy"
      },
      "source": [
        "stats.probplot(dataset['가격'],plot=plt)"
      ],
      "execution_count": null,
      "outputs": []
    },
    {
      "cell_type": "code",
      "metadata": {
        "id": "m5bJwFjLMIq4"
      },
      "source": [
        "sns.distplot(dataset['경락가평균가격'],fit=norm, color=\"green\")"
      ],
      "execution_count": null,
      "outputs": []
    },
    {
      "cell_type": "code",
      "metadata": {
        "id": "sJpp5vsMNsZx"
      },
      "source": [
        ""
      ],
      "execution_count": null,
      "outputs": []
    },
    {
      "cell_type": "code",
      "metadata": {
        "id": "VuF2TDeZMP5u"
      },
      "source": [
        "stats.probplot(dataset['경락가평균가격'],plot=plt)"
      ],
      "execution_count": null,
      "outputs": []
    },
    {
      "cell_type": "code",
      "metadata": {
        "id": "KMbA5FJqM5SQ"
      },
      "source": [
        "dataset['경락가평균가격'] = np.log1p(dataset['경락가평균가격'])\r\n",
        "sns.distplot(dataset['경락가평균가격'],fit=norm,color=\"green\")"
      ],
      "execution_count": null,
      "outputs": []
    },
    {
      "cell_type": "code",
      "metadata": {
        "id": "1-tgnWOUNMRh"
      },
      "source": [
        "stats.probplot(dataset['경락가평균가격'],plot=plt)"
      ],
      "execution_count": null,
      "outputs": []
    },
    {
      "cell_type": "code",
      "metadata": {
        "id": "RsD3NMCKNuq4"
      },
      "source": [
        "sns.distplot(dataset['반입량'],fit=norm, color=\"green\")"
      ],
      "execution_count": null,
      "outputs": []
    },
    {
      "cell_type": "code",
      "metadata": {
        "id": "qzrZPXueOA8D"
      },
      "source": [
        "stats.probplot(dataset['반입량'],plot=plt)"
      ],
      "execution_count": null,
      "outputs": []
    },
    {
      "cell_type": "code",
      "metadata": {
        "id": "2xB9lanAOO2G"
      },
      "source": [
        "dataset['반입량'] = np.log1p(dataset['반입량'])\r\n",
        "sns.distplot(dataset['반입량'],fit=norm,color=\"green\")"
      ],
      "execution_count": null,
      "outputs": []
    },
    {
      "cell_type": "code",
      "metadata": {
        "id": "ZZpnnhpEOcfk"
      },
      "source": [
        "stats.probplot(dataset['반입량'],plot=plt)"
      ],
      "execution_count": null,
      "outputs": []
    },
    {
      "cell_type": "code",
      "metadata": {
        "id": "zUmkHD-rOqvp"
      },
      "source": [
        "sns.distplot(dataset['도매가격'],fit=norm, color=\"green\")"
      ],
      "execution_count": null,
      "outputs": []
    },
    {
      "cell_type": "code",
      "metadata": {
        "id": "WOdaa4lNO5XY"
      },
      "source": [
        "stats.probplot(dataset['도매가격'],plot=plt)"
      ],
      "execution_count": null,
      "outputs": []
    },
    {
      "cell_type": "code",
      "metadata": {
        "id": "BuQqSlLaPG10"
      },
      "source": [
        "dataset['도매가격']= np.log1p(dataset['도매가격'])\r\n",
        "sns.distplot(dataset['도매가격'],fit=norm,color=\"green\")"
      ],
      "execution_count": null,
      "outputs": []
    },
    {
      "cell_type": "code",
      "metadata": {
        "id": "b0ZwYWxsPWH3"
      },
      "source": [
        "stats.probplot(dataset['도매가격'],plot=plt)"
      ],
      "execution_count": null,
      "outputs": []
    },
    {
      "cell_type": "code",
      "metadata": {
        "id": "eBTotC9nZkp5"
      },
      "source": [
        "#Box-Cox변환은 y가 0이거나 0보다 작은 경우는 적용할 수 없다는 한계가 있다."
      ],
      "execution_count": null,
      "outputs": []
    },
    {
      "cell_type": "code",
      "metadata": {
        "id": "bi4323J_MPJM"
      },
      "source": [
        ""
      ],
      "execution_count": null,
      "outputs": []
    },
    {
      "cell_type": "code",
      "metadata": {
        "id": "zw4AABkdK8qO"
      },
      "source": [
        "datasetbox=dataset[['가격','경락가평균가격','반입량','유가 전국평균가격','도매가격']]"
      ],
      "execution_count": null,
      "outputs": []
    },
    {
      "cell_type": "code",
      "metadata": {
        "id": "Q9Yp6P3tle8r"
      },
      "source": [
        "from scipy.stats import skew \r\n",
        "numeric_features = datasetbox.dtypes[datasetbox.dtypes != \"object\"].index\r\n",
        "skewed_feats = datasetbox[numeric_features].apply(lambda x: skew(x.dropna())).sort_values(ascending=False)\r\n",
        "print(\"\\nSkew in numerical features: \\n\")\r\n",
        "skewness= pd.DataFrame({'Skew':skewed_feats})\r\n",
        "skewness"
      ],
      "execution_count": null,
      "outputs": []
    },
    {
      "cell_type": "code",
      "metadata": {
        "id": "Zx-ln0PLljkx"
      },
      "source": [
        "skewness = skewness[abs(skewness) > 0.75]\r\n",
        "print(skewness)"
      ],
      "execution_count": null,
      "outputs": []
    },
    {
      "cell_type": "code",
      "metadata": {
        "id": "WUW6vx5w1v3R"
      },
      "source": [
        "print(\"박스-콕스 변환이 필요한 수치형 변수의 개수는 {}으로 확인된다. \".format(skewness.shape[0]))"
      ],
      "execution_count": null,
      "outputs": []
    },
    {
      "cell_type": "code",
      "metadata": {
        "id": "u586zRAmlmrg"
      },
      "source": [
        "from scipy.special import boxcox\r\n",
        "skewed_features = skewness.index\r\n",
        "lam = 0.15\r\n",
        "for feat in skewed_features:\r\n",
        "    datasetbox[feat]=boxcox(datasetbox[feat],lam)"
      ],
      "execution_count": null,
      "outputs": []
    },
    {
      "cell_type": "code",
      "metadata": {
        "id": "rj2-LCYIsZT-"
      },
      "source": [
        "datasetbox.head()"
      ],
      "execution_count": null,
      "outputs": []
    },
    {
      "cell_type": "code",
      "metadata": {
        "id": "NxSrB9viV_26"
      },
      "source": [
        "sns.distplot(datasetbox['가격'])\r\n",
        "plt.show()"
      ],
      "execution_count": null,
      "outputs": []
    },
    {
      "cell_type": "code",
      "metadata": {
        "id": "VHuVdSiPeRRK"
      },
      "source": [
        "datasetlog=dataset[['유무','최저기온(°C)','최고기온(°C)','일강수량(mm)']]"
      ],
      "execution_count": null,
      "outputs": []
    },
    {
      "cell_type": "code",
      "metadata": {
        "id": "jX6DqT_Wo15Q"
      },
      "source": [
        "datasetlog.head()"
      ],
      "execution_count": null,
      "outputs": []
    },
    {
      "cell_type": "code",
      "metadata": {
        "id": "plPMu25tA--L"
      },
      "source": [
        "sns.distplot(datasetlog['일강수량(mm)'])"
      ],
      "execution_count": null,
      "outputs": []
    },
    {
      "cell_type": "code",
      "metadata": {
        "id": "XTjvcJEupppG"
      },
      "source": [
        "# 정규화\r\n",
        "from sklearn.preprocessing import MinMaxScaler\r\n",
        "\r\n",
        "scaler = MinMaxScaler() \r\n",
        "scaler.fit(datasetlog)\r\n",
        "datasetlog1 = scaler.transform(datasetlog)\r\n",
        "\r\n",
        "datasetlog1 = pd.DataFrame(data=datasetlog1, columns=['유무','최저기온(°C)','최고기온(°C)','일강수량(mm)'])\r\n",
        "print('feature들의 최소 값')\r\n",
        "print(datasetlog1.min())\r\n",
        "print('\\nfeature들의 최대 값')\r\n",
        "print(datasetlog1.max())"
      ],
      "execution_count": null,
      "outputs": []
    },
    {
      "cell_type": "code",
      "metadata": {
        "id": "rWPrk_vPr7xN"
      },
      "source": [
        "datasetlog1.head()"
      ],
      "execution_count": null,
      "outputs": []
    },
    {
      "cell_type": "code",
      "metadata": {
        "id": "VMMgl0jtsM34"
      },
      "source": [
        "dataset=pd.concat([datasetbox,datasetlog1], axis=1)"
      ],
      "execution_count": null,
      "outputs": []
    },
    {
      "cell_type": "code",
      "metadata": {
        "id": "dHRQ3ceJs4bn"
      },
      "source": [
        "dataset.head()"
      ],
      "execution_count": null,
      "outputs": []
    },
    {
      "cell_type": "code",
      "metadata": {
        "id": "OhMA4ta6wZ-o"
      },
      "source": [
        "f, axes = plt.subplots(3, 3, figsize=(15, 15), sharex=True)\r\n",
        "sns.distplot(datasetbox[\"가격\"], hist=True,kde=True,color=\"blue\",ax=axes[0, 0])\r\n",
        "sns.distplot(datasetbox[\"경락가평균가격\"], hist=True,kde=True,color=\"green\",ax=axes[0, 1])\r\n",
        "sns.distplot(datasetbox[\"반입량\"], hist=True,kde=True,color=\"yellow\",ax=axes[0, 2])\r\n",
        "sns.distplot(datasetbox[\"유가 전국평균가격\"], hist=True,kde=True,color=\"green\",ax=axes[1, 0])\r\n",
        "sns.distplot(datasetbox[\"도매가격\"], hist=True,kde=True,color=\"yellow\",ax=axes[1, 1])\r\n",
        "sns.distplot(datasetlog1[\"유무\"], hist=True,kde=True,color=\"blue\",ax=axes[1,2])\r\n",
        "sns.distplot(datasetlog1[\"최저기온(°C)\"], hist=True,kde=True,color=\"blue\",ax=axes[2,0])\r\n",
        "sns.distplot(datasetlog1[\"최고기온(°C)\"], hist=True,kde=True,color=\"green\",ax=axes[2, 1])\r\n",
        "sns.distplot(datasetlog1[\"일강수량(mm)\"], hist=True,kde=True,color=\"yellow\",ax=axes[2, 2])\r\n",
        "plt.show()"
      ],
      "execution_count": null,
      "outputs": []
    },
    {
      "cell_type": "code",
      "metadata": {
        "id": "O4nHYIIv3qyt"
      },
      "source": [
        "f, axes = plt.subplots(3, 3, figsize=(20, 20), sharex=True)\r\n",
        "sns.distplot(dataset[\"가격\"], hist=True,kde=True,bins=10,color=\"blue\",ax=axes[0, 0])\r\n",
        "sns.distplot(dataset[\"경락가평균가격\"], hist=True,kde=True,bins=10,color=\"green\",ax=axes[0, 1])\r\n",
        "sns.distplot(dataset[\"반입량\"], hist=True,kde=True,bins=10,color=\"yellow\",ax=axes[0, 2])\r\n",
        "sns.distplot(dataset[\"유가 전국평균가격\"], hist=True,kde=True,bins=10,color=\"green\",ax=axes[1, 0])\r\n",
        "sns.distplot(dataset[\"도매가격\"], hist=True,kde=True,bins=10,color=\"yellow\",ax=axes[1, 1])\r\n",
        "sns.distplot(dataset[\"유무\"], hist=True,kde=True,bins=10,color=\"blue\",ax=axes[1,2])\r\n",
        "sns.distplot(dataset[\"최저기온(°C)\"], hist=True,kde=True,bins=10,color=\"blue\",ax=axes[2,0])\r\n",
        "sns.distplot(dataset[\"최고기온(°C)\"], hist=True,kde=True,bins=10,color=\"yellow\",ax=axes[2, 1])\r\n",
        "sns.distplot(dataset[\"일강수량(mm)\"], hist=True,kde=True,bins=10,color=\"yellow\",ax=axes[2, 2])\r\n",
        "#sns.distplot(dataset[\"유가 전국평균가격\"], color=\"green\", ax=axes[1, 0])\r\n",
        "#sns.distplot(dataset[\"도매가격\"], color=\"green\", ax=axes[1, 1])\r\n",
        "#sns.distplot(dataset[\"유무\"], color=\"green\", ax=axes[1, 2])\r\n",
        "#sns.distplot(dataset[\"최저기온(°C)\"], color=\"green\", ax=axes[2, 0])\r\n",
        "#sns.distplot(dataset[\"최고기온(°C)\"], color=\"green\", ax=axes[2, 1])\r\n",
        "#sns.distplot(dataset[\"일강수량(mm)\"], color=\"green\", ax=axes[2, 2])\r\n",
        "plt.show()"
      ],
      "execution_count": null,
      "outputs": []
    },
    {
      "cell_type": "code",
      "metadata": {
        "id": "9y0JoIkdzJcs"
      },
      "source": [
        "sns.distplot(dataset)"
      ],
      "execution_count": null,
      "outputs": []
    },
    {
      "cell_type": "code",
      "metadata": {
        "id": "DQd26Spx8kjj"
      },
      "source": [
        "무_더미 = pd.read_excel('/content/무_더미데이터.xlsx')\r\n",
        "무_더미.info()"
      ],
      "execution_count": null,
      "outputs": []
    },
    {
      "cell_type": "code",
      "metadata": {
        "id": "Kn1kdU459qn0"
      },
      "source": [
        "무_더미.drop(['일자'], axis=1, inplace=True)"
      ],
      "execution_count": null,
      "outputs": []
    },
    {
      "cell_type": "code",
      "metadata": {
        "id": "djg7orjB95tE"
      },
      "source": [
        "무_더미.head()"
      ],
      "execution_count": null,
      "outputs": []
    },
    {
      "cell_type": "code",
      "metadata": {
        "id": "dCvv_BRjtGan"
      },
      "source": [
        "y_target = dataset['가격']\n",
        "X_data = dataset.drop(['가격'], axis=1, inplace=False)"
      ],
      "execution_count": null,
      "outputs": []
    },
    {
      "cell_type": "code",
      "metadata": {
        "id": "CAC42YEnQ88P"
      },
      "source": [
        "X_data"
      ],
      "execution_count": null,
      "outputs": []
    },
    {
      "cell_type": "code",
      "metadata": {
        "id": "KBjstcdBVSws"
      },
      "source": [
        "dataset"
      ],
      "execution_count": null,
      "outputs": []
    },
    {
      "cell_type": "code",
      "metadata": {
        "id": "zx4Sf8rVBsdr"
      },
      "source": [
        "# 변수변 왜도 확인"
      ],
      "execution_count": null,
      "outputs": []
    },
    {
      "cell_type": "code",
      "metadata": {
        "id": "e57lfxEoCsnz"
      },
      "source": [
        "#y_target"
      ],
      "execution_count": null,
      "outputs": []
    },
    {
      "cell_type": "code",
      "metadata": {
        "id": "QyeZE--HtHWl"
      },
      "source": [
        "X_train, X_test, y_train, y_test = train_test_split(X_data, y_target, test_size=0.15, random_state=140)\n",
        "print(X_train.shape, X_test.shape)"
      ],
      "execution_count": null,
      "outputs": []
    },
    {
      "cell_type": "code",
      "metadata": {
        "id": "Wh77Y8bXtNQW"
      },
      "source": [
        "# 검증해주는 함수\n",
        "def get_model_cv_prediction(model, X_data, y_target):\n",
        "  neg_mse_scores=cross_val_score(model, X_data, y_target, scoring=\"neg_mean_squared_error\", cv = 3)\n",
        "  rmse_scores = np.sqrt(-1 * neg_mse_scores)\n",
        "  avg_rmse = np.mean(rmse_scores)\n",
        "  model.fit(X_data, y_target)\n",
        "  score = model.score(X_data, y_target)\n",
        "  kf_cv_scores = cross_val_score(model, X_data, y_target)\n",
        "  print('#### ', model.__class__.__name__, ' ####')\n",
        "  print(' 5 교차 검증의 평균 RMSE : {0:.3f} '.format(avg_rmse))\n",
        "  print('score : ', score)\n",
        "  print(\"K-fold CV scores : {}\" .format(kf_cv_scores))\n",
        "  print(\"K-fold CV average score: %.2f\" % kf_cv_scores.mean())"
      ],
      "execution_count": null,
      "outputs": []
    },
    {
      "cell_type": "markdown",
      "metadata": {
        "id": "ital2WhZgAh0"
      },
      "source": [
        "## XGBoost Regressor 하이퍼파라미터\n"
      ]
    },
    {
      "cell_type": "code",
      "metadata": {
        "id": "Ql8ToBz_gP3i"
      },
      "source": [
        "# XGBoost Hypter Parameter Tuning\n",
        "def XGBhyperParameterTuning(X_train, y_train):\n",
        "    param_tuning = {\n",
        "        'learning_rate': [0.01, 0.03, 0.1],\n",
        "        'max_depth': [3, 5, 7, 10],\n",
        "        'min_child_weight': [1, 3, 5],\n",
        "        'subsample': [0.5, 0.7],\n",
        "        'colsample_bytree': [0.5, 0.7],\n",
        "        'n_estimators' : [100, 200, 500],\n",
        "        'objective': ['reg:squarederror'],\n",
        "        'gamma' : [0.1, 0.2, 0.3, 0.4],\n",
        "\n",
        "    }\n",
        "\n",
        "    xgb_model = XGBRegressor()\n",
        "\n",
        "    gsearch = GridSearchCV(estimator = xgb_model,\n",
        "                           param_grid = param_tuning,                        \n",
        "                           #scoring = 'neg_mean_absolute_error', #MAE\n",
        "                           #scoring = 'neg_mean_squared_error',  #MSE\n",
        "                           cv = 3,\n",
        "                           n_jobs = -1,\n",
        "                           verbose = 1)\n",
        "\n",
        "    gsearch.fit(X_train,y_train)\n",
        "\n",
        "    return gsearch.best_params_\n",
        "\n",
        "def RFRhyperParameterTuning(X_train, y_train):\n",
        "    param_tuning = {\n",
        "    'bootstrap': [True],\n",
        "    'max_depth': [3, 5, 7, 10],\n",
        "    'max_features': [2, 3],\n",
        "    'min_samples_leaf': [3, 4, 5],\n",
        "    'min_samples_split': [8, 10, 12],\n",
        "    'n_estimators': [100, 200, 300, 1000],\n",
        "    \n",
        "    }\n",
        "\n",
        "    rf_model = RandomForestRegressor()\n",
        "\n",
        "    gsearch = GridSearchCV(estimator = rf_model,\n",
        "                           param_grid = param_tuning,                        \n",
        "                           #scoring = 'neg_mean_absolute_error', #MAE\n",
        "                           #scoring = 'neg_mean_squared_error',  #MSE\n",
        "                           cv = 3,\n",
        "                           n_jobs = -1,\n",
        "                           verbose = 1)\n",
        "\n",
        "    gsearch.fit(X_train,y_train)\n",
        "\n",
        "    return gsearch.best_params_\n",
        "\n",
        "def LGBMhyperParameterTuning(X_train, y_train):\n",
        "    param_tuning = {\n",
        "        'learning_rate': [0.01, 0.03, 0.1],\n",
        "        'max_depth': [3, 5, 7, 10],\n",
        "        'min_child_samples' : [10, 20, 30],\n",
        "        'subsample' : [0.5, 0.7],\n",
        "        'colsample_bytree': [0.5, 0.7],\n",
        "        'n_estimators' : [100, 200, 500],\n",
        "        'objective': ['regression'],\n",
        "        'gamma' : [0.1, 0.2, 0.3],\n",
        "        'num_leaves' : [6, 8, 10]\n",
        "\n",
        "    }\n",
        "\n",
        "    lgbm = LGBMRegressor()\n",
        "\n",
        "    gsearch = GridSearchCV(estimator = lgbm,\n",
        "                           param_grid = param_tuning,                        \n",
        "                           #scoring = 'neg_mean_absolute_error', #MAE\n",
        "                           #scoring = 'neg_mean_squared_error',  #MSE\n",
        "                           cv = 3,\n",
        "                           n_jobs = -1,\n",
        "                           verbose = 1)\n",
        "\n",
        "    gsearch.fit(X_train,y_train)\n",
        "\n",
        "    return gsearch.best_params_\n",
        "\n",
        "def GBRhyperParameterTuning(X_train, y_train):\n",
        "    \n",
        "    param_tuning = {\n",
        "        'learning_rate': [0.01, 0.05, 0.1],\n",
        "        'max_depth': [3, 5, 7, 10],\n",
        "        'subsample': [0.5, 0.7],\n",
        "        'n_estimators' : [100, 200, 500]\n",
        "\n",
        "    }\n",
        "\n",
        "    gb_model = GradientBoostingRegressor()\n",
        "\n",
        "    gsearch = GridSearchCV(estimator = gb_model,\n",
        "                           param_grid = param_tuning,                        \n",
        "                           #scoring = 'neg_mean_absolute_error', #MAE\n",
        "                           #scoring = 'neg_mean_squared_error',  #MSE\n",
        "                           cv = 3,\n",
        "                           n_jobs = -1,\n",
        "                           verbose = 1)\n",
        "\n",
        "    gsearch.fit(X_train,y_train)\n",
        "\n",
        "    return gsearch.best_params_"
      ],
      "execution_count": null,
      "outputs": []
    },
    {
      "cell_type": "code",
      "metadata": {
        "id": "9S11ES3a40jX"
      },
      "source": [
        "#xgb_parameter = XGBhyperParameterTuning(X_train, y_train)\n",
        "#xgb_parameter"
      ],
      "execution_count": null,
      "outputs": []
    },
    {
      "cell_type": "code",
      "metadata": {
        "id": "4S0k-S5B40sa"
      },
      "source": [
        "#rf_parameter = RFRhyperParameterTuning(X_train, y_train)\n",
        "#rf_parameter"
      ],
      "execution_count": null,
      "outputs": []
    },
    {
      "cell_type": "code",
      "metadata": {
        "id": "AN4Gz1kf40y9"
      },
      "source": [
        "#lgbm_parameter = LGBMhyperParameterTuning(X_train, y_train)\n",
        "#lgbm_parameter"
      ],
      "execution_count": null,
      "outputs": []
    },
    {
      "cell_type": "code",
      "metadata": {
        "id": "_0yX6PRhq8Vg"
      },
      "source": [
        "\n",
        "#rf_parameter = RFRhyperParameterTuning(X_train, y_train)\n",
        "#rf_parameter\n",
        "\n",
        "#gbr_parameter= GBRhyperParameterTuning(X_train, y_train)\n",
        "#gbr_parameter\n"
      ],
      "execution_count": null,
      "outputs": []
    },
    {
      "cell_type": "code",
      "metadata": {
        "id": "aTFOYkPFuH-n"
      },
      "source": [
        "# 모델 생성 및 예측\n",
        "xgb_reg = XGBRegressor(colsample_bytree = 0.7, \n",
        "                       gamma = 0.1,\n",
        "                       learning_rate = 0.03,\n",
        "                       max_depth = 3,\n",
        "                       min_child_weight = 5,\n",
        "                       n_estimators = 200,\n",
        "                       objective = 'reg:squarederror',\n",
        "                       subsample = 0.7)\n",
        "\n",
        "rf_reg = RandomForestRegressor(random_state=0, \n",
        "                               bootstrap = [True],\n",
        "                               max_depth = 7,\n",
        "                               max_features = 3,\n",
        "                               min_samples_leaf = 3,\n",
        "                               min_samples_split = 8,\n",
        "                               n_estimators = 100\n",
        "                               )\n",
        "\n",
        "lgb_reg = LGBMRegressor(colsample_bytree = 0.7,\n",
        "                        gamma = 0.1,\n",
        "                        learning_rate = 0.1,\n",
        "                        max_depth = 7,\n",
        "                        min_child_samples = 20,\n",
        "                        n_estimators = 100,\n",
        "                        num_leaves =8,\n",
        "                        objective = 'regression',\n",
        "                        subsample = 0.5)\n",
        "\n",
        "gb_reg = GradientBoostingRegressor(random_state=0, \n",
        "                                   learning_rate=0.1,\n",
        "                                   max_depth=7,\n",
        "                                   n_estimators=100,\n",
        "                                   subsample=0.7\n",
        "                                   )\n",
        "\n",
        "models = [lgb_reg, rf_reg, gb_reg, xgb_reg]\n",
        "\n",
        "for model in models:\n",
        "  get_model_cv_prediction(model, X_train, y_train)"
      ],
      "execution_count": null,
      "outputs": []
    },
    {
      "cell_type": "code",
      "metadata": {
        "id": "yhLW2a98u9xU"
      },
      "source": [
        "xgb_reg = XGBRegressor(colsample_bytree = 0.7, \r\n",
        "                       gamma = 0.1,\r\n",
        "                       learning_rate = 0.03,\r\n",
        "                       max_depth = 3,\r\n",
        "                       min_child_weight = 5,\r\n",
        "                       n_estimators = 200,\r\n",
        "                       objective = 'reg:squarederror',\r\n",
        "                       subsample = 0.7)"
      ],
      "execution_count": null,
      "outputs": []
    },
    {
      "cell_type": "code",
      "metadata": {
        "id": "u2GAHHKpuIA-"
      },
      "source": [
        "ypred = rf_reg.predict(X_test)\n",
        "mse = mean_squared_error(y_test, ypred)"
      ],
      "execution_count": null,
      "outputs": []
    },
    {
      "cell_type": "code",
      "metadata": {
        "id": "cTja4A6yuIDD"
      },
      "source": [
        "x_ax = range(len(y_test))\n",
        "plt.plot(x_ax, y_test, label=\"Original Price\")\n",
        "plt.plot(x_ax, ypred, label=\"Predicted Price\")\n",
        "plt.title(\"Price Prediction\")\n",
        "plt.legend()\n",
        "plt.show()"
      ],
      "execution_count": null,
      "outputs": []
    },
    {
      "cell_type": "code",
      "metadata": {
        "id": "jLwaHJIyuIE9"
      },
      "source": [
        "from sklearn.ensemble import VotingRegressor\r\n",
        "\r\n",
        "er = VotingRegressor([('xgb_reg', xgb_reg), ('gb_reg', gb_reg),('lgb_reg',lgb_reg)])\r\n",
        "print(er.fit(X_train, y_train).predict(X_test))\r\n",
        "y_pred = er.fit(X_train, y_train).predict(X_test)\r\n",
        "er.fit(X_train, y_train).score(X_test, y_test)"
      ],
      "execution_count": null,
      "outputs": []
    },
    {
      "cell_type": "code",
      "metadata": {
        "id": "gaxrslxBuRcV"
      },
      "source": [
        "x_ax = range(len(y_test))\r\n",
        "plt.plot(x_ax, y_test, label=\"Original Price\")\r\n",
        "plt.plot(x_ax, y_pred, label=\"Predicted Price\")\r\n",
        "plt.title(\"Price Prediction\")\r\n",
        "plt.legend()\r\n",
        "plt.show()"
      ],
      "execution_count": null,
      "outputs": []
    },
    {
      "cell_type": "code",
      "metadata": {
        "id": "UtpJ8UqyuRej"
      },
      "source": [
        "from sklearn.datasets import load_diabetes\r\n",
        "from sklearn.linear_model import RidgeCV\r\n",
        "from sklearn.svm import LinearSVR\r\n",
        "from sklearn.ensemble import RandomForestRegressor\r\n",
        "from sklearn.ensemble import StackingRegressor\r\n",
        "y_target = dataset['가격']\r\n",
        "X_data = dataset.drop(['가격'], axis=1, inplace=False)\r\n",
        "X_train, X_test, y_train, y_test = train_test_split(X_data, y_target, test_size=0.15, random_state=140)\r\n",
        "estimators= ([('xgb_reg', xgb_reg), ('rf_reg', rf_reg), ('lgb_reg', lgb_reg), ('gb_reg', gb_reg)])\r\n",
        "reg = StackingRegressor(estimators=estimators,final_estimator=RandomForestRegressor(n_estimators=10,random_state=42))\r\n",
        "reg.fit(X_train, y_train).score(X_test, y_test)"
      ],
      "execution_count": null,
      "outputs": []
    },
    {
      "cell_type": "code",
      "metadata": {
        "id": "KkoskiPhuRg0"
      },
      "source": [
        "##########예측"
      ],
      "execution_count": null,
      "outputs": []
    },
    {
      "cell_type": "code",
      "metadata": {
        "id": "klCNf-j9AEU3"
      },
      "source": [
        "ypred = xgb_reg.predict(무_더미)\r\n",
        "ypred\r\n",
        "#mse = mean_squared_error(y_test, ypred)"
      ],
      "execution_count": null,
      "outputs": []
    },
    {
      "cell_type": "code",
      "metadata": {
        "id": "GIY5S02MAZyX"
      },
      "source": [
        "무_더미['예측가격'] = ypred"
      ],
      "execution_count": null,
      "outputs": []
    },
    {
      "cell_type": "code",
      "metadata": {
        "id": "ZL_OYS_sL-W1"
      },
      "source": [
        "무_더미.to_excel('무_더미(예측).xlsx')"
      ],
      "execution_count": null,
      "outputs": []
    },
    {
      "cell_type": "code",
      "metadata": {
        "id": "Cn6e2EQEdJQV"
      },
      "source": [
        "from xgboost import plot_importance\r\n",
        "import matplotlib.pyplot as plt\r\n",
        "plot_importance(xgb_reg)\r\n",
        "plt.show()"
      ],
      "execution_count": null,
      "outputs": []
    },
    {
      "cell_type": "code",
      "metadata": {
        "id": "l0IYl-i6dL5j"
      },
      "source": [
        "dataset.head()"
      ],
      "execution_count": null,
      "outputs": []
    },
    {
      "cell_type": "code",
      "metadata": {
        "id": "18RcTDCQaIQq"
      },
      "source": [
        "y = dataset['가격']\r\n",
        "x = dataset.drop(['가격','유무','최고기온(°C)','일강수량(mm)'], axis=1, inplace=False)"
      ],
      "execution_count": null,
      "outputs": []
    },
    {
      "cell_type": "code",
      "metadata": {
        "id": "hzqu_UUBalv-"
      },
      "source": [
        "x_train, x_test, y_train, y_test = train_test_split(x, y, test_size=0.15, random_state=140)\r\n",
        "print(x_train.shape, x_test.shape)"
      ],
      "execution_count": null,
      "outputs": []
    },
    {
      "cell_type": "code",
      "metadata": {
        "id": "fkxALjr6aqDD"
      },
      "source": [
        "from sklearn.linear_model import LinearRegression\r\n",
        "mlr = LinearRegression()\r\n",
        "mlr.fit(x_train, y_train) "
      ],
      "execution_count": null,
      "outputs": []
    },
    {
      "cell_type": "code",
      "metadata": {
        "id": "KSJiD3RJatRH"
      },
      "source": [
        "y_predict = mlr.predict(x_test)"
      ],
      "execution_count": null,
      "outputs": []
    },
    {
      "cell_type": "code",
      "metadata": {
        "id": "8hCkwdbKa6RQ"
      },
      "source": [
        "import matplotlib.pyplot as plt\r\n",
        "plt.scatter(y_test, y_predict, alpha=0.4)\r\n",
        "plt.xlabel(\"Actual Rent\")\r\n",
        "plt.ylabel(\"Predicted Rent\")\r\n",
        "plt.title(\"MULTIPLE LINEAR REGRESSION\")\r\n"
      ],
      "execution_count": null,
      "outputs": []
    },
    {
      "cell_type": "code",
      "metadata": {
        "id": "4fGkK0fXa95O"
      },
      "source": [
        "print(mlr.coef_)"
      ],
      "execution_count": null,
      "outputs": []
    },
    {
      "cell_type": "code",
      "metadata": {
        "id": "H-BYpSUybFBa"
      },
      "source": [
        "print(mlr.score(x_train, y_train))"
      ],
      "execution_count": null,
      "outputs": []
    },
    {
      "cell_type": "code",
      "metadata": {
        "id": "4wgPpSqCbKOY"
      },
      "source": [
        "from statsmodels.formula.api import ols"
      ],
      "execution_count": null,
      "outputs": []
    },
    {
      "cell_type": "code",
      "metadata": {
        "id": "Asury5CPc7f1"
      },
      "source": [
        "res = ols('y~x', data=dataset).fit()"
      ],
      "execution_count": null,
      "outputs": []
    },
    {
      "cell_type": "markdown",
      "metadata": {
        "id": "kSV4yjSODi64"
      },
      "source": [
        ""
      ]
    },
    {
      "cell_type": "code",
      "metadata": {
        "id": "6D22YbL1dXfy"
      },
      "source": [
        "res.summary()"
      ],
      "execution_count": null,
      "outputs": []
    },
    {
      "cell_type": "code",
      "metadata": {
        "id": "mX4rj887dcNg"
      },
      "source": [
        "x"
      ],
      "execution_count": null,
      "outputs": []
    },
    {
      "cell_type": "code",
      "metadata": {
        "id": "G7HSfFi_d_Jj"
      },
      "source": [
        "abc = []\r\n",
        "for alg in er.named_estimators:\r\n",
        "    clf = er.named_estimators[alg]\r\n",
        "    a = clf.__class__.__name__\r\n",
        "    b = [pd.DataFrame(sorted(zip(clf.feature_importances_,X_train.columns)), columns=['Value','Feature'])]\r\n",
        "    abc.append({a:b})\r\n",
        "\r\n",
        "abc"
      ],
      "execution_count": null,
      "outputs": []
    },
    {
      "cell_type": "code",
      "metadata": {
        "id": "--JWUk372Epm"
      },
      "source": [
        ""
      ],
      "execution_count": null,
      "outputs": []
    },
    {
      "cell_type": "code",
      "metadata": {
        "id": "L53TWOWO5zSq"
      },
      "source": [
        "무.corr()"
      ],
      "execution_count": null,
      "outputs": []
    },
    {
      "cell_type": "code",
      "metadata": {
        "id": "biyrwTb9500m"
      },
      "source": [
        "배추.head()"
      ],
      "execution_count": null,
      "outputs": []
    },
    {
      "cell_type": "code",
      "metadata": {
        "id": "rzbRw-7B53aa"
      },
      "source": [
        "df = 무.corr()\r\n",
        "# 그림 사이즈 지정\r\n",
        "fig, ax = plt.subplots( figsize=(7,7) )\r\n",
        "\r\n",
        "# 삼각형 마스크를 만든다(위 쪽 삼각형에 True, 아래 삼각형에 False)\r\n",
        "mask = np.zeros_like(df, dtype=np.bool)\r\n",
        "mask[np.triu_indices_from(mask)] = True\r\n",
        "\r\n",
        "# 히트맵을 그린다\r\n",
        "sns.heatmap(df, \r\n",
        "            cmap = 'RdYlBu_r', \r\n",
        "            annot = True,   # 실제 값을 표시한다\r\n",
        "            mask=mask,      # 표시하지 않을 마스크 부분을 지정한다\r\n",
        "            linewidths=.5,  # 경계면 실선으로 구분하기\r\n",
        "            cbar_kws={\"shrink\": .5},# 컬러바 크기 절반으로 줄이기\r\n",
        "            vmin = -1,vmax = 1   # 컬러바 범위 -1 ~ 1\r\n",
        "           )  \r\n",
        "plt.show()"
      ],
      "execution_count": null,
      "outputs": []
    },
    {
      "cell_type": "code",
      "metadata": {
        "id": "XNGSc-bo7fxb"
      },
      "source": [
        "df = 배추.corr()\r\n",
        "# 그림 사이즈 지정\r\n",
        "fig, ax = plt.subplots( figsize=(7,7) )\r\n",
        "\r\n",
        "# 삼각형 마스크를 만든다(위 쪽 삼각형에 True, 아래 삼각형에 False)\r\n",
        "mask = np.zeros_like(df, dtype=np.bool)\r\n",
        "mask[np.triu_indices_from(mask)] = True\r\n",
        "\r\n",
        "# 히트맵을 그린다\r\n",
        "sns.heatmap(df, \r\n",
        "            cmap = 'RdYlBu_r', \r\n",
        "            annot = True,   # 실제 값을 표시한다\r\n",
        "            mask=mask,      # 표시하지 않을 마스크 부분을 지정한다\r\n",
        "            linewidths=.5,  # 경계면 실선으로 구분하기\r\n",
        "            cbar_kws={\"shrink\": .5},# 컬러바 크기 절반으로 줄이기\r\n",
        "            vmin = -1,vmax = 1   # 컬러바 범위 -1 ~ 1\r\n",
        "           )  \r\n",
        "plt.show()"
      ],
      "execution_count": null,
      "outputs": []
    },
    {
      "cell_type": "code",
      "metadata": {
        "id": "7kxyG03-6PvT"
      },
      "source": [
        "from google.colab import files\r\n",
        "uploaded = files.upload()"
      ],
      "execution_count": null,
      "outputs": []
    },
    {
      "cell_type": "code",
      "metadata": {
        "id": "QOVCM8O__0AQ"
      },
      "source": [
        "무특= pd.read_excel('/content/무_특.xlsx')\r\n",
        "#배추특= pd.read_excel('/content/배추_특.xlsx')"
      ],
      "execution_count": null,
      "outputs": []
    },
    {
      "cell_type": "code",
      "metadata": {
        "id": "KjG-cTP3cZU_"
      },
      "source": [
        ""
      ],
      "execution_count": null,
      "outputs": []
    },
    {
      "cell_type": "code",
      "metadata": {
        "id": "40HTmWqQB5BL"
      },
      "source": [
        "무특.head()"
      ],
      "execution_count": null,
      "outputs": []
    },
    {
      "cell_type": "code",
      "metadata": {
        "id": "i9-c8nxiBh6U"
      },
      "source": [
        "배추특.head()"
      ],
      "execution_count": null,
      "outputs": []
    },
    {
      "cell_type": "code",
      "metadata": {
        "id": "nKP0SFc9AUjU"
      },
      "source": [
        "무특.drop(['요일','요일(1)','Unnamed: 14'], axis=1, inplace=True)"
      ],
      "execution_count": null,
      "outputs": []
    },
    {
      "cell_type": "code",
      "metadata": {
        "id": "JekgR1QqC74A"
      },
      "source": [
        "배추특.drop(['합계 일조시간(hr)','평균 5cm 지중온도(°C)'], axis=1, inplace=True)\r\n",
        "배추특['일교차']=배추특['최고기온(°C)']-배추특['최저기온(°C)']"
      ],
      "execution_count": null,
      "outputs": []
    },
    {
      "cell_type": "code",
      "metadata": {
        "id": "KVDyIl53ACUV"
      },
      "source": [
        "df = 무특.corr()\r\n",
        "# 그림 사이즈 지정\r\n",
        "fig, ax = plt.subplots( figsize=(10,10) )\r\n",
        "\r\n",
        "# 삼각형 마스크를 만든다(위 쪽 삼각형에 True, 아래 삼각형에 False)\r\n",
        "mask = np.zeros_like(df, dtype=np.bool)\r\n",
        "mask[np.triu_indices_from(mask)] = True\r\n",
        "\r\n",
        "# 히트맵을 그린다\r\n",
        "sns.heatmap(df, \r\n",
        "            cmap = 'RdYlBu_r', \r\n",
        "            annot = True,   # 실제 값을 표시한다\r\n",
        "            mask=mask,      # 표시하지 않을 마스크 부분을 지정한다\r\n",
        "            linewidths=.5,  # 경계면 실선으로 구분하기\r\n",
        "            cbar_kws={\"shrink\": .5},# 컬러바 크기 절반으로 줄이기\r\n",
        "            vmin = -1,vmax = 1   # 컬러바 범위 -1 ~ 1\r\n",
        "           )  \r\n",
        "plt.show()"
      ],
      "execution_count": null,
      "outputs": []
    },
    {
      "cell_type": "code",
      "metadata": {
        "id": "zFhqz8K0AKqI"
      },
      "source": [
        "df = 배추특.corr()\r\n",
        "# 그림 사이즈 지정\r\n",
        "fig, ax = plt.subplots( figsize=(10,10) )\r\n",
        "\r\n",
        "# 삼각형 마스크를 만든다(위 쪽 삼각형에 True, 아래 삼각형에 False)\r\n",
        "mask = np.zeros_like(df, dtype=np.bool)\r\n",
        "mask[np.triu_indices_from(mask)] = True\r\n",
        "\r\n",
        "# 히트맵을 그린다\r\n",
        "sns.heatmap(df, \r\n",
        "            cmap = 'RdYlBu_r', \r\n",
        "            annot = True,   # 실제 값을 표시한다\r\n",
        "            mask=mask,      # 표시하지 않을 마스크 부분을 지정한다\r\n",
        "            linewidths=.5,  # 경계면 실선으로 구분하기\r\n",
        "            cbar_kws={\"shrink\": .5},# 컬러바 크기 절반으로 줄이기\r\n",
        "            vmin = -1,vmax = 1   # 컬러바 범위 -1 ~ 1\r\n",
        "           )  \r\n",
        "plt.show()"
      ],
      "execution_count": null,
      "outputs": []
    },
    {
      "cell_type": "code",
      "metadata": {
        "id": "qeC5yYlHbkMV"
      },
      "source": [
        "무특.set_index('일자',inplace=True)\r\n",
        "무특.head()"
      ],
      "execution_count": null,
      "outputs": []
    },
    {
      "cell_type": "code",
      "metadata": {
        "id": "OCoQjlPNBoNZ"
      },
      "source": [
        "무특=무특[['평균가격','반입량']].resample('MS').mean()"
      ],
      "execution_count": null,
      "outputs": []
    },
    {
      "cell_type": "code",
      "metadata": {
        "id": "EnRXDGiDci40"
      },
      "source": [
        "무특=pd.DataFrame(무특)"
      ],
      "execution_count": null,
      "outputs": []
    },
    {
      "cell_type": "code",
      "metadata": {
        "id": "ZVKeh9iecyHN"
      },
      "source": [
        "무특.reset_index('일자',inplace=True)"
      ],
      "execution_count": null,
      "outputs": []
    },
    {
      "cell_type": "code",
      "metadata": {
        "id": "varzuv3Fc-Cb"
      },
      "source": [
        "무특.head()"
      ],
      "execution_count": null,
      "outputs": []
    },
    {
      "cell_type": "code",
      "metadata": {
        "id": "YziNA5vzqgwu"
      },
      "source": [
        "import matplotlib.pyplot as plt\r\n",
        "\r\n",
        "plt.rc('font', family='NanumBarunGothic') "
      ],
      "execution_count": null,
      "outputs": []
    },
    {
      "cell_type": "code",
      "metadata": {
        "id": "fPosFINnEUYM"
      },
      "source": [
        "import matplotlib.pyplot as plt\r\n",
        "import numpy as np\r\n",
        "\r\n",
        "plt.style.use('default')\r\n",
        "plt.rcParams['figure.figsize'] = (7, 5)\r\n",
        "plt.rcParams['font.size'] = 10\r\n",
        "\r\n",
        "x = 무특['일자']\r\n",
        "y1 =무특['반입량']\r\n",
        "y2 =무특['평균가격']\r\n",
        "\r\n",
        "fig, ax1 = plt.subplots()\r\n",
        "ax1.set_xlabel('일자')\r\n",
        "ax1.set_ylabel('반입량')\r\n",
        "line1 = ax1.plot(x, y1, color='green', label='반입량')\r\n",
        "\r\n",
        "ax2 = ax1.twinx()\r\n",
        "ax2.set_ylabel('평균가격')\r\n",
        "line2 = ax2.plot(x, y2, color='deeppink', label='평균가격')\r\n",
        "\r\n",
        "lines = line1 + line2\r\n",
        "labels = [l.get_label() for l in lines]\r\n",
        "ax1.legend(lines, labels, loc='upper left')\r\n",
        "plt.show()"
      ],
      "execution_count": null,
      "outputs": []
    },
    {
      "cell_type": "code",
      "metadata": {
        "id": "1K8Ye0AWF2gO"
      },
      "source": [
        ""
      ],
      "execution_count": null,
      "outputs": []
    }
  ]
}